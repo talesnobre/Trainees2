{
  "cells": [
    {
      "cell_type": "markdown",
      "metadata": {
        "id": "BKqhC3rjKn5f"
      },
      "source": [
        "<a href=\"TAIL\"><img src=\"https://i.imgur.com/GRTE0OG.png\" width=\"150\" title=\"Tail Logo\" />\n",
        " </a>\n",
        "\n",
        "# <font color =\"#00b8ff\">Aula 1 - Trainees 2</font>"
      ]
    },
    {
      "cell_type": "markdown",
      "metadata": {
        "id": "gCw7FqlRWxts"
      },
      "source": [
        "Nome:"
      ]
    },
    {
      "cell_type": "markdown",
      "metadata": {},
      "source": [
        "### Notebook Criado por Rodrigo Veríssimo"
      ]
    },
    {
      "cell_type": "markdown",
      "metadata": {
        "id": "AIrg1xVuD7Vx"
      },
      "source": [
        "## Introdução"
      ]
    },
    {
      "cell_type": "markdown",
      "metadata": {
        "id": "E9x_PYe2Kx0H"
      },
      "source": [
        "O Pandas é uma biblioteca do Python que facilita (e muito) a manipulação de CSVs, arquivos separados por vírgula, que podem ser interpretados como tabelas. Exitem outras duas formas para analisar arquivos CSVs, com métodos nativos e com a biblioteca CSV, mas ambas são poucos práticas para esse intuito."
      ]
    },
    {
      "cell_type": "markdown",
      "metadata": {
        "id": "Rw8GkmSnMiwh"
      },
      "source": [
        "O código importa a biblioteca pandas e \"apelida\" ela de \"pd\", essa é uma convenção amplamente utilizada."
      ]
    },
    {
      "cell_type": "markdown",
      "metadata": {
        "id": "wLlN4_vgB8VK"
      },
      "source": [
        "Vamos então iniciar umas manipulações básicas sobre o análise de dados e o que vimos em aula."
      ]
    },
    {
      "cell_type": "markdown",
      "metadata": {
        "id": "l2MtF1b4z8E3"
      },
      "source": [
        "Quando passar na ala de código basta apertar o play para rodar"
      ]
    },
    {
      "cell_type": "code",
      "execution_count": null,
      "metadata": {
        "id": "bjCH-_JZLlPh"
      },
      "outputs": [],
      "source": [
        "import pandas as pd\n",
        "import numpy as np\n",
        "import matplotlib.pyplot as plt"
      ]
    },
    {
      "cell_type": "code",
      "execution_count": null,
      "metadata": {},
      "outputs": [],
      "source": [
        "students = pd.read_csv(\"data/q1_estudantes.csv\")\n",
        "climate = pd.read_csv(\"data/q2_clima.csv\")\n",
        "spotify = pd.read_csv(\"data/q3_spotify.csv\")\n",
        "\n",
        "df = \"Escolha um dataset, Entre: students, climate, spotify. Ex: df = students\""
      ]
    },
    {
      "cell_type": "markdown",
      "metadata": {},
      "source": [
        "A função `read_csv()` é chamada e recebe como argumento o endereço de um arquivo CSV, essa função pega esse CSV e transforma ele em um DataFrame (Tabela do Pandas) e atribui à variável data."
      ]
    },
    {
      "cell_type": "code",
      "execution_count": null,
      "metadata": {
        "id": "2Zel7lR8N0kd"
      },
      "outputs": [],
      "source": [
        "df.head(5)"
      ]
    },
    {
      "cell_type": "markdown",
      "metadata": {
        "id": "E3nlakB_Zld1"
      },
      "source": [
        "A função `.head()` e `.tail()` são responsaveis por verem o inicio (head) ou o final (tail) de uma planilha sem precisar ver toda a tabela de uma vez, alem de pode escolher quantas linhas você deseja ver, no caso do exemplo, 5 linhas. <br>\n",
        "\n",
        "> Essa função pode ser usada para dividir a tabela em partes menores"
      ]
    },
    {
      "cell_type": "markdown",
      "metadata": {
        "id": "-4HPVNHROH-1"
      },
      "source": [
        "Sem nenhum mistério, esse é o grande intuito do Pandas, mexer com tabelas. Lembre-se que uma das grandes aplicações do Python é a ciência de dados, então entender o Pandas vai te tornar um(a) grande programador(a) em Python.\n",
        "E a partir desses dados tratados você pode realizar alguns métodos para inteligência artificial.\n"
      ]
    },
    {
      "cell_type": "markdown",
      "metadata": {
        "id": "87DEEpelGtWr"
      },
      "source": [
        "Vamos testar a função `.tail()` ? mostre as 10 ultimas colunas do dataset."
      ]
    },
    {
      "cell_type": "code",
      "execution_count": null,
      "metadata": {
        "id": "Y8E04p9oG_q2"
      },
      "outputs": [],
      "source": [
        "#Seu código aqui"
      ]
    },
    {
      "cell_type": "markdown",
      "metadata": {
        "id": "jMxzLpWhOr0x"
      },
      "source": [
        "## Analisando o DataSet"
      ]
    },
    {
      "cell_type": "markdown",
      "metadata": {
        "id": "F9IA2a7gOuar"
      },
      "source": [
        "Teoria pode ser muito cansativo, então vamos colocar um pouco de prática aqui, você vai fazer um interessante trabalho de estatístico(a).\n",
        "Explore os dados e tire suas conclusões sobre as colunas, relevância que elas têm, pra que podem ser usadas, etc."
      ]
    },
    {
      "cell_type": "markdown",
      "metadata": {
        "id": "93X6Xbn7PZ_L"
      },
      "source": [
        "### Dimensionando a tabela"
      ]
    },
    {
      "cell_type": "markdown",
      "metadata": {
        "id": "QABTquWOPgpa"
      },
      "source": [
        "Ok, temos a tabela na variável data mas não sabemos algumas de suas características fundamentais, como tamanho, colunas etc.\n",
        "\n",
        "Comece dimensionando o DataFrame, diga quantas linhas e colunas ele têm, recomendo a utilização do método `.shape`.\n",
        "\n",
        "utilize as variáveis linhas e colunas."
      ]
    },
    {
      "cell_type": "code",
      "execution_count": null,
      "metadata": {
        "id": "LC-uBCAIQ7Xt"
      },
      "outputs": [],
      "source": [
        "#Seu código aqui"
      ]
    },
    {
      "cell_type": "markdown",
      "metadata": {
        "id": "AO75VLg8Q-hS"
      },
      "source": [
        "Saber o tamanho do DataFrame é um passo importante, mas também é fundamental entender que tipo de informação ele carrega, que está armazenado nas colunas. Encontre o nome das colunas com o atributo `.columns`"
      ]
    },
    {
      "cell_type": "code",
      "execution_count": null,
      "metadata": {
        "id": "_Ar660PYRdZ2"
      },
      "outputs": [],
      "source": [
        "#Seu código aqu"
      ]
    },
    {
      "cell_type": "markdown",
      "metadata": {
        "id": "ZBmXhQdtRhxQ"
      },
      "source": [
        "Bom! Isso já dá uma boa visão sobre a tabela com a qual você está lidando"
      ]
    },
    {
      "cell_type": "markdown",
      "metadata": {
        "id": "KerA7VYVMnuO"
      },
      "source": [
        "# Criar e apagar coluna"
      ]
    },
    {
      "cell_type": "markdown",
      "metadata": {
        "id": "indlrrdJMtaG"
      },
      "source": [
        "Bom, agora nós sabemos exatamente o tamanho e as colunas de nossa tabela. Mas você percebeu que tem colunas extra que as descritas na \"descrição das colunas\". Sabemos que, se os dados não tem descrição ele pode acabar alterando o sentido e o modo de fazer pesquisa, logo precisamos apagar essas colunas \"inúteis\" para que não ocasione isso."
      ]
    },
    {
      "cell_type": "markdown",
      "metadata": {
        "id": "w2x1FsB9TS2W"
      },
      "source": [
        "Tire uma coluna que considere inútil com o `.drop()`"
      ]
    },
    {
      "cell_type": "code",
      "execution_count": null,
      "metadata": {
        "id": "0bbtcuijToGQ"
      },
      "outputs": [],
      "source": [
        "df = df.drop(columns=[\"coluna\"])\n",
        "df"
      ]
    },
    {
      "cell_type": "code",
      "execution_count": null,
      "metadata": {
        "id": "blW3g_SiOOmv"
      },
      "outputs": [],
      "source": [
        "#Seu código aqui"
      ]
    },
    {
      "cell_type": "markdown",
      "metadata": {
        "id": "yVaze4P1SxYt"
      },
      "source": [
        "Você pode também acrescentar uma coluna que seja necessária para os dados, como no exemplo abaixo:"
      ]
    },
    {
      "cell_type": "code",
      "execution_count": null,
      "metadata": {
        "id": "dtBwt6PVTJs7"
      },
      "outputs": [],
      "source": [
        "df['Teste'] = list(range(len(df)))\n",
        "df"
      ]
    },
    {
      "cell_type": "markdown",
      "metadata": {
        "id": "Dk8Y73bFPE0E"
      },
      "source": [
        "O código procura a existência da coluna Teste no método `list()`, caso ela não exista ele cria gerando números que representam a posição da coluna. o `range()` significa o faça e o `len()` pega o tamanho do seu dataset"
      ]
    },
    {
      "cell_type": "markdown",
      "metadata": {
        "id": "n9MvLfoYPjgR"
      },
      "source": [
        "Agora é sua vez, apague a coluna Teste criada e crie uma nova que possa colaborar com o dataset que estamos utilizando"
      ]
    },
    {
      "cell_type": "code",
      "execution_count": null,
      "metadata": {
        "id": "cNh3GCX3Puk3"
      },
      "outputs": [],
      "source": [
        "#Seu código aqui"
      ]
    },
    {
      "cell_type": "markdown",
      "metadata": {
        "id": "VeK_VNKNRwpZ"
      },
      "source": [
        "### Descrição estatística"
      ]
    },
    {
      "cell_type": "markdown",
      "metadata": {
        "id": "h46j-Ei1R3Id"
      },
      "source": [
        "Ok, dimensionamos a tabela e vimos o nome das colunas, mas isso ainda é o começo, precisamos saber como manipular essa tabela. Uma forma interessante de acessar os dados da tabela é com a seguinte sintaxe:"
      ]
    },
    {
      "cell_type": "code",
      "execution_count": null,
      "metadata": {
        "id": "nGLFr6YFSWgQ"
      },
      "outputs": [],
      "source": [
        "variável_coluna = df['coluna']\n",
        "variável_coluna"
      ]
    },
    {
      "cell_type": "markdown",
      "metadata": {
        "id": "RM46zrbnSec-"
      },
      "source": [
        "O que isso quer dizer? Bem, a sintaxe `df['coluna']` acessa a coluna nomeada do DataFrame df, essa coluna foi armazenada na variável_coluna e apresentada."
      ]
    },
    {
      "cell_type": "markdown",
      "metadata": {
        "id": "N_wKbEm_UM4i"
      },
      "source": [
        "Ok, temos acesso às colunas do DataFrame, isso é bom, isso quer dizer que podemos tirar algumas conclusões"
      ]
    },
    {
      "cell_type": "code",
      "execution_count": null,
      "metadata": {
        "id": "poo3Sf4uVXfq"
      },
      "outputs": [],
      "source": [
        "v = df[\"outra_coluna\"].mean()\n",
        "v"
      ]
    },
    {
      "cell_type": "markdown",
      "metadata": {
        "id": "8RuyAEGGVi_4"
      },
      "source": [
        "O método `.mean()` calcula médias em listas rapidamente, não precisamos fazer nenhuma conta, isso é no mínimo excelente.\n",
        "\n",
        "Agora é sua vez: Calcule a média de alguma coluna numérica, se não houver, deixe-a numérica."
      ]
    },
    {
      "cell_type": "code",
      "execution_count": null,
      "metadata": {
        "id": "A3osbe8kV_nD"
      },
      "outputs": [],
      "source": [
        "#Seu código aqui"
      ]
    },
    {
      "cell_type": "markdown",
      "metadata": {
        "id": "OnVkMGSgWGwK"
      },
      "source": [
        "Excelente, fizemos uma análise interessante sobre os dados do DataFrame, porém fazer isso para todas colunas é extremamente chato. Entretanto, existe uma forma fantástica de descrever os valores em um DataFrame, teste abaixo o método `.describe()`"
      ]
    },
    {
      "cell_type": "code",
      "execution_count": null,
      "metadata": {
        "id": "YGdr_DAWWlC-"
      },
      "outputs": [],
      "source": [
        "df.describe()"
      ]
    },
    {
      "cell_type": "markdown",
      "metadata": {
        "id": "vENnDxPwWxWl"
      },
      "source": [
        "Note que o resultado mostra apenas as colunas com dados númericos, o que já ajuda bastante, mas seria bastante interessante analisarmos uma coluna que parece importante, pois ela pode trazer algumas informações interessantes. Vamos fazer o seguinte: Vamos pegar a coluna e aplicar a função `.value_counts()` para ver quais valores essa coluna possui. Obs: Procure colunas com poucos valores únicos, Ex: Gêneros"
      ]
    },
    {
      "cell_type": "code",
      "execution_count": null,
      "metadata": {
        "id": "JDW-FrToX0N5"
      },
      "outputs": [],
      "source": [
        "#Seu código aqui"
      ]
    },
    {
      "cell_type": "markdown",
      "metadata": {
        "id": "EWPEpH4qX_hc"
      },
      "source": [
        "Essa é uma forma bem legal de analisar colunas de dados categóricos, mas tem um detalhe interessante: Se você somar todas quantidades acima, o resultado vai ser menor que o número de linhas.\n",
        "Para isto usamos a função `.sum()`"
      ]
    },
    {
      "cell_type": "code",
      "execution_count": null,
      "metadata": {
        "id": "mUAzf3MqYMEA"
      },
      "outputs": [],
      "source": [
        "df[\"coluna\"].value_counts().sum()"
      ]
    },
    {
      "cell_type": "markdown",
      "metadata": {
        "id": "sj-RHyG2YUGw"
      },
      "source": [
        "Se o número de linhas originais for menor que o número de linhas na soma, isso quer dizer que existem valores nulos na coluna. Para verificar se existem valores nulos em uma coluna, podemos usar o método `.isnull().sum()`"
      ]
    },
    {
      "cell_type": "markdown",
      "metadata": {
        "id": "L9qmI4GwY-xt"
      },
      "source": [
        "### Limpeza de dados"
      ]
    },
    {
      "cell_type": "markdown",
      "metadata": {
        "id": "e2aczmitZDAJ"
      },
      "source": [
        "Esses valores NaN são uma pedra no sapato para os programadores, mas são facilmente tratados. Mas antes de tratarmos, vamos ver se realmente existem NaN no DataFrame."
      ]
    },
    {
      "cell_type": "code",
      "execution_count": null,
      "metadata": {
        "id": "QYHZGfB_ZTGd"
      },
      "outputs": [],
      "source": [
        "df.isna().values.any()"
      ]
    },
    {
      "cell_type": "code",
      "execution_count": null,
      "metadata": {},
      "outputs": [],
      "source": [
        "df[\"coluna\"].isnull().sum()"
      ]
    },
    {
      "cell_type": "markdown",
      "metadata": {
        "id": "zXjfB1QoZfwD"
      },
      "source": [
        "A sequência acima faz a seguinte ação: Primeiro, aplica-se a função `.isna()`, que converte os valores do DataFrame para True caso sejam NaN e False caso não o sejam, depois o atributo `.values` retorna um array com todos esses Trues e Falses, a função `.any()` é aplicada sobre esse array e caso haja algum True (significando que existe um NaN) ele retorna True, caso contrário False.\n",
        "\n",
        "Resumo: Retorna True se tiver pelo menos um NaN"
      ]
    },
    {
      "cell_type": "markdown",
      "metadata": {
        "id": "5ZUoAHCAafUh"
      },
      "source": [
        "Se existem NaNs dentro do DataFrame, vamos então tratar esse problema, vamos aplicar a função `.fillna()`."
      ]
    },
    {
      "cell_type": "code",
      "execution_count": null,
      "metadata": {
        "id": "D8G7Kf9Ha2aF"
      },
      "outputs": [],
      "source": [
        "df[\"coluna\"].isna().values.any()"
      ]
    },
    {
      "cell_type": "markdown",
      "metadata": {
        "id": "Ok0Eu-3NTU5S"
      },
      "source": [
        "Agora nós podemos utilizar o `.fillna() `para colocar atributo nas células vazias no caso."
      ]
    },
    {
      "cell_type": "code",
      "execution_count": null,
      "metadata": {
        "id": "r4cahyUqa_DG"
      },
      "outputs": [],
      "source": [
        "df[\"coluna\"] = df[\"coluna\"].fillna(\"item da coluna\")"
      ]
    },
    {
      "cell_type": "markdown",
      "metadata": {
        "id": "Z4xDXg6IUFHa"
      },
      "source": [
        "Vamos testar agora se ainda existem NaN na nossa coluna."
      ]
    },
    {
      "cell_type": "code",
      "execution_count": null,
      "metadata": {
        "id": "rk0b4-0nbHgL"
      },
      "outputs": [],
      "source": [
        "df[\"coluna\"].isna().values.any()"
      ]
    },
    {
      "cell_type": "markdown",
      "metadata": {
        "id": "QZ-aF0K-bQIZ"
      },
      "source": [
        "Ok, antes existiam NaNs dentro da coluna \"coluna\", e com a função `.fillna() `inserimos o valor \"valor\" dentro desses NaNs e agora não existem mais NaNs na coluna. Lembrando que eu coloquei \"valor\" para preencher só por fins didáticos, quando preencher os valores NaNs tome cuidado com o valor que está inserindo."
      ]
    },
    {
      "cell_type": "markdown",
      "metadata": {
        "id": "jCi-tgWeb0YQ"
      },
      "source": [
        "Agora, se chamarmos o `.value_counts().sum()` vamos ver o que acontece:"
      ]
    },
    {
      "cell_type": "code",
      "execution_count": null,
      "metadata": {
        "id": "x4EP2_N-b7G9"
      },
      "outputs": [],
      "source": [
        "df[\"coluna\"].value_counts().sum()"
      ]
    },
    {
      "cell_type": "markdown",
      "metadata": {
        "id": "gO0jpYLkb8Fc"
      },
      "source": [
        "Vamos aplicar apenas o `.value_counts()` novamente."
      ]
    },
    {
      "cell_type": "code",
      "execution_count": null,
      "metadata": {
        "id": "G2WJI0tLcFTs"
      },
      "outputs": [],
      "source": [
        "df[\"coluna\"].value_counts()"
      ]
    },
    {
      "cell_type": "markdown",
      "metadata": {
        "id": "rI8YHexicHtT"
      },
      "source": [
        "Percebeu que agora \"valor\" aparece mais vezes que antes, interessante não?"
      ]
    },
    {
      "cell_type": "markdown",
      "metadata": {
        "id": "1oCoR3kIVCrG"
      },
      "source": [
        "Bom, agora é sua vez de testar. Veja se a somatória da coluna **\"coluna\"** é igual ao número de linhas, após veja se possui NaN e, se possuir, coloque um valor qualquer **\"valor\"** como código. Depois de fazer isso, teste a somatória e veja se tem NaN para conferir se deu certo."
      ]
    },
    {
      "cell_type": "code",
      "execution_count": null,
      "metadata": {
        "id": "ABD3WPDicbAZ"
      },
      "outputs": [],
      "source": [
        "#Seu código aqui - somatória"
      ]
    },
    {
      "cell_type": "code",
      "execution_count": null,
      "metadata": {
        "id": "MRHCL5iyV13N"
      },
      "outputs": [],
      "source": [
        "#Seu código aqui - NaN"
      ]
    },
    {
      "cell_type": "code",
      "execution_count": null,
      "metadata": {
        "id": "sVza-wjBV3mc"
      },
      "outputs": [],
      "source": [
        "#Seu código aqui - id"
      ]
    },
    {
      "cell_type": "code",
      "execution_count": null,
      "metadata": {
        "id": "WyjtoijKV6Ix"
      },
      "outputs": [],
      "source": [
        "#Seu código aqui - teste de somatória"
      ]
    },
    {
      "cell_type": "code",
      "execution_count": null,
      "metadata": {
        "id": "pGoYpmq_V6W-"
      },
      "outputs": [],
      "source": [
        "#Seu código aqui - teste de NaN"
      ]
    },
    {
      "cell_type": "markdown",
      "metadata": {
        "id": "0STW2u97cjCJ"
      },
      "source": [
        "### Checando duplicadas"
      ]
    },
    {
      "cell_type": "markdown",
      "metadata": {
        "id": "Cxk2_0djcn4H"
      },
      "source": [
        "Não é muito importante verificar dados repetidos nesse DataFrame em específico porque é um DataFrame em que duas linhas iguais sinceramente não importam: Dois esquilos iguais podiam estar no mesmo lugar. Entretanto, em alguns DataFrames, ter linhas repetidas pode ser algo errado, nesse caso, pode ser interessante verificar as seguintes funções:"
      ]
    },
    {
      "cell_type": "code",
      "execution_count": null,
      "metadata": {
        "id": "5r_cJr5ZdK5l"
      },
      "outputs": [],
      "source": [
        "df.duplicated().any()"
      ]
    },
    {
      "cell_type": "markdown",
      "metadata": {
        "id": "gKz27ZhmdSpK"
      },
      "source": [
        "Ok, nesse DataFrame não existem duplicatas, mas caso houvesse, seria interessante aplicar a seguinte função:"
      ]
    },
    {
      "cell_type": "code",
      "execution_count": null,
      "metadata": {
        "id": "hiaAB9QXdcVZ"
      },
      "outputs": [],
      "source": [
        "df = df.drop_duplicates()\n",
        "df"
      ]
    },
    {
      "cell_type": "markdown",
      "metadata": {
        "id": "Pnpb2RB1dfGY"
      },
      "source": [
        "`.drop_duplicates()` remove duplicatas e retorna um DataFrame com essas duplicatas removidas, é bem interessante considerando que alguns DataFrames podem ter informações repetidas por erro humano."
      ]
    },
    {
      "cell_type": "markdown",
      "metadata": {
        "id": "oKiz2u8ejSJ2"
      },
      "source": [
        "###  Renomeando Colunas"
      ]
    },
    {
      "cell_type": "markdown",
      "metadata": {
        "id": "TDkoPQ1UjYdP"
      },
      "source": [
        "Renomear colunas em um DataFrame melhora a clareza e organização dos dados, transformando informações complexas em rótulos compreensíveis, facilitando assim a interpretação dos resultados. A biblioteca pandas do Python oferece uma função robusta para renomear colunas, permitindo personalização dos nomes para se alinhar melhor à natureza dos dados. Essa prática promove maior legibilidade, colaboração e precisão na análise dos dados.\n",
        "A função do pandas que permite renomear colunas em um DataFrame é chamada `.rename()`."
      ]
    },
    {
      "cell_type": "code",
      "execution_count": null,
      "metadata": {
        "id": "sb8LouySjRpF"
      },
      "outputs": [],
      "source": [
        "df = df.rename(columns= {'nome': 'antigo_nome'})"
      ]
    },
    {
      "cell_type": "code",
      "execution_count": null,
      "metadata": {
        "id": "SvqZfqzVkHOh"
      },
      "outputs": [],
      "source": [
        "df.head(5)"
      ]
    },
    {
      "cell_type": "markdown",
      "metadata": {
        "id": "PKNMBhAKkL4z"
      },
      "source": [
        "Agora é sua vez, renomeie as colunas que você julgar necessário para a compreensão.\n",
        "\n",
        "dica: utilize a descrição das colunas"
      ]
    },
    {
      "cell_type": "code",
      "execution_count": null,
      "metadata": {
        "id": "I2OZT7KdkHvG"
      },
      "outputs": [],
      "source": [
        "#Seu código aqui"
      ]
    },
    {
      "cell_type": "markdown",
      "metadata": {
        "id": "4WeIbxn5CFi-"
      },
      "source": [
        "Visto o dataset, quais os dados numéricos e dados categóricos? cite 2 exemplos de cada."
      ]
    },
    {
      "cell_type": "markdown",
      "metadata": {
        "id": "nd305mplCQcq"
      },
      "source": [
        "//Sua resposta aqui"
      ]
    },
    {
      "cell_type": "markdown",
      "metadata": {
        "id": "VuYLGd2I4ybz"
      },
      "source": [
        "Percebeu se o dataset tinha algum enviezamento e/ou erro? Justifique"
      ]
    },
    {
      "cell_type": "markdown",
      "metadata": {
        "id": "ZtjG6SIQ472k"
      },
      "source": [
        "//Sua resposta aqui"
      ]
    }
  ],
  "metadata": {
    "colab": {
      "provenance": []
    },
    "kernelspec": {
      "display_name": "Python 3",
      "name": "python3"
    },
    "language_info": {
      "name": "python"
    }
  },
  "nbformat": 4,
  "nbformat_minor": 0
}
