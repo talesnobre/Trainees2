{
  "cells": [
    {
      "cell_type": "markdown",
      "metadata": {
        "id": "bhRj3mZjtrKe"
      },
      "source": [
        "<a href=\"TAIL\"><img src=\"https://i.imgur.com/GRTE0OG.png\" width=\"150\" title=\"Tail Logo\" /></a>\n",
        "\n",
        "# <font color =\"#00b8ff\">Exercícios de Análise Exploratória de Dados</font>"
      ]
    },
    {
      "cell_type": "markdown",
      "metadata": {
        "id": "Inzl1VqG2oqC"
      },
      "source": [
        " Essa lista de exercícios foi criada para que vocês possam aplicar os conhecimentos que vocês adquiriram na aula que assistiram.\n",
        "\n",
        "Podem tirar dúvidas com **Tales Nobre** e **Felipe Duarte** quando quiserem!\n",
        "**O prazo de envio do notebook é até a reunião da próxima semana, até 1 hora antes da reunião, podem enviar colocar o conteúdo na branch de vocês do repositório**\n"
      ]
    },
    {
      "cell_type": "markdown",
      "metadata": {
        "id": "ahOuHhFSAQpx"
      },
      "source": [
        "\n",
        "🌍 [Link do drive com todos os Datasets](https://drive.google.com/drive/folders/1LBZH7Zcch-f1tSmFgezIz7Z2QlWmNieP?usp=sharing)\n"
      ]
    },
    {
      "cell_type": "markdown",
      "metadata": {
        "id": "l2Cd0nSn60g-"
      },
      "source": [
        "###**Objetivos**"
      ]
    },
    {
      "cell_type": "markdown",
      "metadata": {
        "id": "C5BveViG63G6"
      },
      "source": [
        "\n",
        "*   Entender o nível de conhecimento individual de vocês\n",
        "*   Estimular vocês a praticarem os conceitos básicos de EDA\n"
      ]
    },
    {
      "cell_type": "markdown",
      "metadata": {
        "id": "N3EBzvz672i1"
      },
      "source": [
        "##**Observações**"
      ]
    },
    {
      "cell_type": "markdown",
      "metadata": {
        "id": "cTGz2NpI75IP"
      },
      "source": [
        "\n",
        "\n",
        "*   Façam uma cópia desse notebook e realizem as questões.\n",
        "*   Foquem no espaço de *Conclusões*, que aparece no final de cada questão, para explicar as conclusões que vocês chegaram a partir da análise de dados.\n",
        "*   É permitido que vocês usem outras bibliotecas que acharem interessantes para realizar a EDA, mas tentem usar pelo menos em uma das questões as bibliotecas de *Pandas, Numpy e Plotly*.\n",
        "*   É recomendável que vocês acessem os materiais de apoio que serão disponibilizados em seguida.\n",
        "*   Prezem pela organização, é muito importante explicar cada etapa de execução, principalmente no contexto de análise de dados.\n",
        "*   Claro que vocês não vão precisam importar várias vezes as bibliotecas dentro de um mesmo notebook, mas por fins educativos é recomendável que vocês façam isso nessa lista de exercícios!\n",
        "*   As questões são progressivas, ou seja, a quantidade de instruções e o nível de dificuldade mudarão ao longo da lista. **Lembre-se de manter o mesmo padrão em todas as questões.**\n",
        "*  Divida em quantas células e caixas de texto quiser, afim de deixar a legibilidade do código a melhor possível.\n",
        "\n"
      ]
    },
    {
      "cell_type": "markdown",
      "metadata": {
        "id": "VS8cCdvE8i7I"
      },
      "source": [
        "🐼 Material de apoio:\n",
        "\n",
        "\n",
        "*   [Tutorial EDA Medium](https://medium.com/rumpydas/beginners-guide-to-eda-exploratory-data-analysis-on-a-real-data-set-using-numpy-pandas-in-python-c0cb4f63d50d)\n",
        "*   [Tutorial EDA kaggle](https://www.kaggle.com/code/imoore/intro-to-exploratory-data-analysis-eda-in-python)\n",
        "*   [Tutorial de EDA de forma aplicada](https://www.youtube.com/watch?v=-o3AxdVcUtQ)"
      ]
    },
    {
      "cell_type": "markdown",
      "metadata": {
        "id": "x5k_FwID9qCs"
      },
      "source": [
        "📚Documentação das bibliotecas:\n",
        "*   [Pandas](https://pandas.pydata.org/pandas-docs/stable/user_guide/10min.html)\n",
        "*   [Numpy](https://numpy.org/doc/stable/user/absolute_beginners.html)\n",
        "*   [Plotly](https://plotly.com/python/basic-charts/)\n",
        "*   [Matplotlib](https://matplotlib.org/stable/tutorials/pyplot.html#sphx-glr-tutorials-pyplot-py)\n",
        "*   [Seaborn](https://seaborn.pydata.org/tutorial/introduction.html#a-high-level-api-for-statistical-graphics)"
      ]
    },
    {
      "cell_type": "markdown",
      "metadata": {
        "id": "5vyNVu3k7O8F"
      },
      "source": [
        "Lembrem-se, a prática leva à perfeição!🧠"
      ]
    },
    {
      "cell_type": "markdown",
      "metadata": {
        "id": "TcKhozZC3MY0"
      },
      "source": [
        "##**Questão 1:** *Desempenho dos Estudantes em Provas*"
      ]
    },
    {
      "cell_type": "markdown",
      "metadata": {
        "id": "cwSJI63--tAG"
      },
      "source": [
        "Analisando o desempenho dos estudantes em matemática, leitura e escrita no arquivo 'q1_estudantes.csv', investigue se há diferenças significativas nas pontuações com base no gênero dos estudantes e no nível de educação dos pais. Além disso, examine se a participação em cursos de preparação para testes está associada a pontuações mais altas nas avaliações."
      ]
    },
    {
      "cell_type": "markdown",
      "metadata": {
        "id": "DwHNOIXu-uRF"
      },
      "source": [
        "###*1.1 Imports*"
      ]
    },
    {
      "cell_type": "code",
      "execution_count": 117,
      "metadata": {
        "id": "D52GuHoC-6QZ"
      },
      "outputs": [],
      "source": [
        "#Coloque nesse bloco de texto todos os imports que você vai usar na questão.\n",
        "import pandas as pd\n",
        "import numpy as np\n",
        "import matplotlib.pyplot as plt\n",
        "import plotly.express as px\n",
        "import seaborn as sns\n"
      ]
    },
    {
      "cell_type": "markdown",
      "metadata": {
        "id": "Q_rZeqiEBBIl"
      },
      "source": [
        "###*1.2 Dataset*"
      ]
    },
    {
      "cell_type": "code",
      "execution_count": 118,
      "metadata": {
        "id": "MpRdJM5uBLpQ"
      },
      "outputs": [],
      "source": [
        "#Armazene o Dataset em uma variável para que você consiga utilizá-lo.\n",
        "dataset1 = 'C:\\\\Users\\\\Meu Computador\\\\Trainees2\\\\Notebook 2\\\\Trainees 2 - EDA\\\\q1_estudantes.csv'\n",
        "df = pd.read_csv(dataset1)"
      ]
    },
    {
      "cell_type": "code",
      "execution_count": 76,
      "metadata": {
        "id": "ODW1spdMBVwX"
      },
      "outputs": [
        {
          "data": {
            "text/html": [
              "<div>\n",
              "<style scoped>\n",
              "    .dataframe tbody tr th:only-of-type {\n",
              "        vertical-align: middle;\n",
              "    }\n",
              "\n",
              "    .dataframe tbody tr th {\n",
              "        vertical-align: top;\n",
              "    }\n",
              "\n",
              "    .dataframe thead th {\n",
              "        text-align: right;\n",
              "    }\n",
              "</style>\n",
              "<table border=\"1\" class=\"dataframe\">\n",
              "  <thead>\n",
              "    <tr style=\"text-align: right;\">\n",
              "      <th></th>\n",
              "      <th>gender</th>\n",
              "      <th>race/ethnicity</th>\n",
              "      <th>parental level of education</th>\n",
              "      <th>lunch</th>\n",
              "      <th>test preparation course</th>\n",
              "      <th>math score</th>\n",
              "      <th>reading score</th>\n",
              "      <th>writing score</th>\n",
              "    </tr>\n",
              "  </thead>\n",
              "  <tbody>\n",
              "    <tr>\n",
              "      <th>0</th>\n",
              "      <td>female</td>\n",
              "      <td>group B</td>\n",
              "      <td>bachelor's degree</td>\n",
              "      <td>standard</td>\n",
              "      <td>none</td>\n",
              "      <td>72</td>\n",
              "      <td>72</td>\n",
              "      <td>74</td>\n",
              "    </tr>\n",
              "    <tr>\n",
              "      <th>1</th>\n",
              "      <td>female</td>\n",
              "      <td>group C</td>\n",
              "      <td>some college</td>\n",
              "      <td>standard</td>\n",
              "      <td>completed</td>\n",
              "      <td>69</td>\n",
              "      <td>90</td>\n",
              "      <td>88</td>\n",
              "    </tr>\n",
              "    <tr>\n",
              "      <th>2</th>\n",
              "      <td>female</td>\n",
              "      <td>group B</td>\n",
              "      <td>master's degree</td>\n",
              "      <td>standard</td>\n",
              "      <td>none</td>\n",
              "      <td>90</td>\n",
              "      <td>95</td>\n",
              "      <td>93</td>\n",
              "    </tr>\n",
              "    <tr>\n",
              "      <th>3</th>\n",
              "      <td>male</td>\n",
              "      <td>group A</td>\n",
              "      <td>associate's degree</td>\n",
              "      <td>free/reduced</td>\n",
              "      <td>none</td>\n",
              "      <td>47</td>\n",
              "      <td>57</td>\n",
              "      <td>44</td>\n",
              "    </tr>\n",
              "    <tr>\n",
              "      <th>4</th>\n",
              "      <td>male</td>\n",
              "      <td>group C</td>\n",
              "      <td>some college</td>\n",
              "      <td>standard</td>\n",
              "      <td>none</td>\n",
              "      <td>76</td>\n",
              "      <td>78</td>\n",
              "      <td>75</td>\n",
              "    </tr>\n",
              "    <tr>\n",
              "      <th>5</th>\n",
              "      <td>female</td>\n",
              "      <td>group B</td>\n",
              "      <td>associate's degree</td>\n",
              "      <td>standard</td>\n",
              "      <td>none</td>\n",
              "      <td>71</td>\n",
              "      <td>83</td>\n",
              "      <td>78</td>\n",
              "    </tr>\n",
              "    <tr>\n",
              "      <th>6</th>\n",
              "      <td>female</td>\n",
              "      <td>group B</td>\n",
              "      <td>some college</td>\n",
              "      <td>standard</td>\n",
              "      <td>completed</td>\n",
              "      <td>88</td>\n",
              "      <td>95</td>\n",
              "      <td>92</td>\n",
              "    </tr>\n",
              "    <tr>\n",
              "      <th>7</th>\n",
              "      <td>male</td>\n",
              "      <td>group B</td>\n",
              "      <td>some college</td>\n",
              "      <td>free/reduced</td>\n",
              "      <td>none</td>\n",
              "      <td>40</td>\n",
              "      <td>43</td>\n",
              "      <td>39</td>\n",
              "    </tr>\n",
              "    <tr>\n",
              "      <th>8</th>\n",
              "      <td>male</td>\n",
              "      <td>group D</td>\n",
              "      <td>high school</td>\n",
              "      <td>free/reduced</td>\n",
              "      <td>completed</td>\n",
              "      <td>64</td>\n",
              "      <td>64</td>\n",
              "      <td>67</td>\n",
              "    </tr>\n",
              "    <tr>\n",
              "      <th>9</th>\n",
              "      <td>female</td>\n",
              "      <td>group B</td>\n",
              "      <td>high school</td>\n",
              "      <td>free/reduced</td>\n",
              "      <td>none</td>\n",
              "      <td>38</td>\n",
              "      <td>60</td>\n",
              "      <td>50</td>\n",
              "    </tr>\n",
              "    <tr>\n",
              "      <th>10</th>\n",
              "      <td>male</td>\n",
              "      <td>group C</td>\n",
              "      <td>associate's degree</td>\n",
              "      <td>standard</td>\n",
              "      <td>none</td>\n",
              "      <td>58</td>\n",
              "      <td>54</td>\n",
              "      <td>52</td>\n",
              "    </tr>\n",
              "    <tr>\n",
              "      <th>11</th>\n",
              "      <td>male</td>\n",
              "      <td>group D</td>\n",
              "      <td>associate's degree</td>\n",
              "      <td>standard</td>\n",
              "      <td>none</td>\n",
              "      <td>40</td>\n",
              "      <td>52</td>\n",
              "      <td>43</td>\n",
              "    </tr>\n",
              "    <tr>\n",
              "      <th>12</th>\n",
              "      <td>female</td>\n",
              "      <td>group B</td>\n",
              "      <td>high school</td>\n",
              "      <td>standard</td>\n",
              "      <td>none</td>\n",
              "      <td>65</td>\n",
              "      <td>81</td>\n",
              "      <td>73</td>\n",
              "    </tr>\n",
              "    <tr>\n",
              "      <th>13</th>\n",
              "      <td>male</td>\n",
              "      <td>group A</td>\n",
              "      <td>some college</td>\n",
              "      <td>standard</td>\n",
              "      <td>completed</td>\n",
              "      <td>78</td>\n",
              "      <td>72</td>\n",
              "      <td>70</td>\n",
              "    </tr>\n",
              "    <tr>\n",
              "      <th>14</th>\n",
              "      <td>female</td>\n",
              "      <td>group A</td>\n",
              "      <td>master's degree</td>\n",
              "      <td>standard</td>\n",
              "      <td>none</td>\n",
              "      <td>50</td>\n",
              "      <td>53</td>\n",
              "      <td>58</td>\n",
              "    </tr>\n",
              "    <tr>\n",
              "      <th>15</th>\n",
              "      <td>female</td>\n",
              "      <td>group C</td>\n",
              "      <td>some high school</td>\n",
              "      <td>standard</td>\n",
              "      <td>none</td>\n",
              "      <td>69</td>\n",
              "      <td>75</td>\n",
              "      <td>78</td>\n",
              "    </tr>\n",
              "    <tr>\n",
              "      <th>16</th>\n",
              "      <td>male</td>\n",
              "      <td>group C</td>\n",
              "      <td>high school</td>\n",
              "      <td>standard</td>\n",
              "      <td>none</td>\n",
              "      <td>88</td>\n",
              "      <td>89</td>\n",
              "      <td>86</td>\n",
              "    </tr>\n",
              "    <tr>\n",
              "      <th>17</th>\n",
              "      <td>female</td>\n",
              "      <td>group B</td>\n",
              "      <td>some high school</td>\n",
              "      <td>free/reduced</td>\n",
              "      <td>none</td>\n",
              "      <td>18</td>\n",
              "      <td>32</td>\n",
              "      <td>28</td>\n",
              "    </tr>\n",
              "    <tr>\n",
              "      <th>18</th>\n",
              "      <td>male</td>\n",
              "      <td>group C</td>\n",
              "      <td>master's degree</td>\n",
              "      <td>free/reduced</td>\n",
              "      <td>completed</td>\n",
              "      <td>46</td>\n",
              "      <td>42</td>\n",
              "      <td>46</td>\n",
              "    </tr>\n",
              "    <tr>\n",
              "      <th>19</th>\n",
              "      <td>female</td>\n",
              "      <td>group C</td>\n",
              "      <td>associate's degree</td>\n",
              "      <td>free/reduced</td>\n",
              "      <td>none</td>\n",
              "      <td>54</td>\n",
              "      <td>58</td>\n",
              "      <td>61</td>\n",
              "    </tr>\n",
              "    <tr>\n",
              "      <th>20</th>\n",
              "      <td>male</td>\n",
              "      <td>group D</td>\n",
              "      <td>high school</td>\n",
              "      <td>standard</td>\n",
              "      <td>none</td>\n",
              "      <td>66</td>\n",
              "      <td>69</td>\n",
              "      <td>63</td>\n",
              "    </tr>\n",
              "    <tr>\n",
              "      <th>21</th>\n",
              "      <td>female</td>\n",
              "      <td>group B</td>\n",
              "      <td>some college</td>\n",
              "      <td>free/reduced</td>\n",
              "      <td>completed</td>\n",
              "      <td>65</td>\n",
              "      <td>75</td>\n",
              "      <td>70</td>\n",
              "    </tr>\n",
              "    <tr>\n",
              "      <th>22</th>\n",
              "      <td>male</td>\n",
              "      <td>group D</td>\n",
              "      <td>some college</td>\n",
              "      <td>standard</td>\n",
              "      <td>none</td>\n",
              "      <td>44</td>\n",
              "      <td>54</td>\n",
              "      <td>53</td>\n",
              "    </tr>\n",
              "    <tr>\n",
              "      <th>23</th>\n",
              "      <td>female</td>\n",
              "      <td>group C</td>\n",
              "      <td>some high school</td>\n",
              "      <td>standard</td>\n",
              "      <td>none</td>\n",
              "      <td>69</td>\n",
              "      <td>73</td>\n",
              "      <td>73</td>\n",
              "    </tr>\n",
              "    <tr>\n",
              "      <th>24</th>\n",
              "      <td>male</td>\n",
              "      <td>group D</td>\n",
              "      <td>bachelor's degree</td>\n",
              "      <td>free/reduced</td>\n",
              "      <td>completed</td>\n",
              "      <td>74</td>\n",
              "      <td>71</td>\n",
              "      <td>80</td>\n",
              "    </tr>\n",
              "    <tr>\n",
              "      <th>25</th>\n",
              "      <td>male</td>\n",
              "      <td>group A</td>\n",
              "      <td>master's degree</td>\n",
              "      <td>free/reduced</td>\n",
              "      <td>none</td>\n",
              "      <td>73</td>\n",
              "      <td>74</td>\n",
              "      <td>72</td>\n",
              "    </tr>\n",
              "    <tr>\n",
              "      <th>26</th>\n",
              "      <td>male</td>\n",
              "      <td>group B</td>\n",
              "      <td>some college</td>\n",
              "      <td>standard</td>\n",
              "      <td>none</td>\n",
              "      <td>69</td>\n",
              "      <td>54</td>\n",
              "      <td>55</td>\n",
              "    </tr>\n",
              "    <tr>\n",
              "      <th>27</th>\n",
              "      <td>female</td>\n",
              "      <td>group C</td>\n",
              "      <td>bachelor's degree</td>\n",
              "      <td>standard</td>\n",
              "      <td>none</td>\n",
              "      <td>67</td>\n",
              "      <td>69</td>\n",
              "      <td>75</td>\n",
              "    </tr>\n",
              "    <tr>\n",
              "      <th>28</th>\n",
              "      <td>male</td>\n",
              "      <td>group C</td>\n",
              "      <td>high school</td>\n",
              "      <td>standard</td>\n",
              "      <td>none</td>\n",
              "      <td>70</td>\n",
              "      <td>70</td>\n",
              "      <td>65</td>\n",
              "    </tr>\n",
              "    <tr>\n",
              "      <th>29</th>\n",
              "      <td>female</td>\n",
              "      <td>group D</td>\n",
              "      <td>master's degree</td>\n",
              "      <td>standard</td>\n",
              "      <td>none</td>\n",
              "      <td>62</td>\n",
              "      <td>70</td>\n",
              "      <td>75</td>\n",
              "    </tr>\n",
              "  </tbody>\n",
              "</table>\n",
              "</div>"
            ],
            "text/plain": [
              "    gender race/ethnicity parental level of education         lunch  \\\n",
              "0   female        group B           bachelor's degree      standard   \n",
              "1   female        group C                some college      standard   \n",
              "2   female        group B             master's degree      standard   \n",
              "3     male        group A          associate's degree  free/reduced   \n",
              "4     male        group C                some college      standard   \n",
              "5   female        group B          associate's degree      standard   \n",
              "6   female        group B                some college      standard   \n",
              "7     male        group B                some college  free/reduced   \n",
              "8     male        group D                 high school  free/reduced   \n",
              "9   female        group B                 high school  free/reduced   \n",
              "10    male        group C          associate's degree      standard   \n",
              "11    male        group D          associate's degree      standard   \n",
              "12  female        group B                 high school      standard   \n",
              "13    male        group A                some college      standard   \n",
              "14  female        group A             master's degree      standard   \n",
              "15  female        group C            some high school      standard   \n",
              "16    male        group C                 high school      standard   \n",
              "17  female        group B            some high school  free/reduced   \n",
              "18    male        group C             master's degree  free/reduced   \n",
              "19  female        group C          associate's degree  free/reduced   \n",
              "20    male        group D                 high school      standard   \n",
              "21  female        group B                some college  free/reduced   \n",
              "22    male        group D                some college      standard   \n",
              "23  female        group C            some high school      standard   \n",
              "24    male        group D           bachelor's degree  free/reduced   \n",
              "25    male        group A             master's degree  free/reduced   \n",
              "26    male        group B                some college      standard   \n",
              "27  female        group C           bachelor's degree      standard   \n",
              "28    male        group C                 high school      standard   \n",
              "29  female        group D             master's degree      standard   \n",
              "\n",
              "   test preparation course  math score  reading score  writing score  \n",
              "0                     none          72             72             74  \n",
              "1                completed          69             90             88  \n",
              "2                     none          90             95             93  \n",
              "3                     none          47             57             44  \n",
              "4                     none          76             78             75  \n",
              "5                     none          71             83             78  \n",
              "6                completed          88             95             92  \n",
              "7                     none          40             43             39  \n",
              "8                completed          64             64             67  \n",
              "9                     none          38             60             50  \n",
              "10                    none          58             54             52  \n",
              "11                    none          40             52             43  \n",
              "12                    none          65             81             73  \n",
              "13               completed          78             72             70  \n",
              "14                    none          50             53             58  \n",
              "15                    none          69             75             78  \n",
              "16                    none          88             89             86  \n",
              "17                    none          18             32             28  \n",
              "18               completed          46             42             46  \n",
              "19                    none          54             58             61  \n",
              "20                    none          66             69             63  \n",
              "21               completed          65             75             70  \n",
              "22                    none          44             54             53  \n",
              "23                    none          69             73             73  \n",
              "24               completed          74             71             80  \n",
              "25                    none          73             74             72  \n",
              "26                    none          69             54             55  \n",
              "27                    none          67             69             75  \n",
              "28                    none          70             70             65  \n",
              "29                    none          62             70             75  "
            ]
          },
          "execution_count": 76,
          "metadata": {},
          "output_type": "execute_result"
        }
      ],
      "source": [
        "#Tire suas impressões iniciais vizualizando o head e tail desse dataset.\n",
        "df.head(30)"
      ]
    },
    {
      "cell_type": "code",
      "execution_count": 119,
      "metadata": {
        "id": "_IndwL24BfDd"
      },
      "outputs": [
        {
          "data": {
            "text/html": [
              "<div>\n",
              "<style scoped>\n",
              "    .dataframe tbody tr th:only-of-type {\n",
              "        vertical-align: middle;\n",
              "    }\n",
              "\n",
              "    .dataframe tbody tr th {\n",
              "        vertical-align: top;\n",
              "    }\n",
              "\n",
              "    .dataframe thead th {\n",
              "        text-align: right;\n",
              "    }\n",
              "</style>\n",
              "<table border=\"1\" class=\"dataframe\">\n",
              "  <thead>\n",
              "    <tr style=\"text-align: right;\">\n",
              "      <th></th>\n",
              "      <th>gender</th>\n",
              "      <th>race/ethnicity</th>\n",
              "      <th>parental level of education</th>\n",
              "      <th>lunch</th>\n",
              "      <th>test preparation course</th>\n",
              "      <th>math score</th>\n",
              "      <th>reading score</th>\n",
              "      <th>writing score</th>\n",
              "    </tr>\n",
              "  </thead>\n",
              "  <tbody>\n",
              "    <tr>\n",
              "      <th>0</th>\n",
              "      <td>female</td>\n",
              "      <td>group B</td>\n",
              "      <td>bachelor's degree</td>\n",
              "      <td>standard</td>\n",
              "      <td>False</td>\n",
              "      <td>72</td>\n",
              "      <td>72</td>\n",
              "      <td>74</td>\n",
              "    </tr>\n",
              "    <tr>\n",
              "      <th>1</th>\n",
              "      <td>female</td>\n",
              "      <td>group C</td>\n",
              "      <td>some college</td>\n",
              "      <td>standard</td>\n",
              "      <td>True</td>\n",
              "      <td>69</td>\n",
              "      <td>90</td>\n",
              "      <td>88</td>\n",
              "    </tr>\n",
              "    <tr>\n",
              "      <th>2</th>\n",
              "      <td>female</td>\n",
              "      <td>group B</td>\n",
              "      <td>master's degree</td>\n",
              "      <td>standard</td>\n",
              "      <td>False</td>\n",
              "      <td>90</td>\n",
              "      <td>95</td>\n",
              "      <td>93</td>\n",
              "    </tr>\n",
              "    <tr>\n",
              "      <th>3</th>\n",
              "      <td>male</td>\n",
              "      <td>group A</td>\n",
              "      <td>associate's degree</td>\n",
              "      <td>free/reduced</td>\n",
              "      <td>False</td>\n",
              "      <td>47</td>\n",
              "      <td>57</td>\n",
              "      <td>44</td>\n",
              "    </tr>\n",
              "    <tr>\n",
              "      <th>4</th>\n",
              "      <td>male</td>\n",
              "      <td>group C</td>\n",
              "      <td>some college</td>\n",
              "      <td>standard</td>\n",
              "      <td>False</td>\n",
              "      <td>76</td>\n",
              "      <td>78</td>\n",
              "      <td>75</td>\n",
              "    </tr>\n",
              "    <tr>\n",
              "      <th>5</th>\n",
              "      <td>female</td>\n",
              "      <td>group B</td>\n",
              "      <td>associate's degree</td>\n",
              "      <td>standard</td>\n",
              "      <td>False</td>\n",
              "      <td>71</td>\n",
              "      <td>83</td>\n",
              "      <td>78</td>\n",
              "    </tr>\n",
              "    <tr>\n",
              "      <th>6</th>\n",
              "      <td>female</td>\n",
              "      <td>group B</td>\n",
              "      <td>some college</td>\n",
              "      <td>standard</td>\n",
              "      <td>True</td>\n",
              "      <td>88</td>\n",
              "      <td>95</td>\n",
              "      <td>92</td>\n",
              "    </tr>\n",
              "    <tr>\n",
              "      <th>7</th>\n",
              "      <td>male</td>\n",
              "      <td>group B</td>\n",
              "      <td>some college</td>\n",
              "      <td>free/reduced</td>\n",
              "      <td>False</td>\n",
              "      <td>40</td>\n",
              "      <td>43</td>\n",
              "      <td>39</td>\n",
              "    </tr>\n",
              "    <tr>\n",
              "      <th>8</th>\n",
              "      <td>male</td>\n",
              "      <td>group D</td>\n",
              "      <td>high school</td>\n",
              "      <td>free/reduced</td>\n",
              "      <td>True</td>\n",
              "      <td>64</td>\n",
              "      <td>64</td>\n",
              "      <td>67</td>\n",
              "    </tr>\n",
              "    <tr>\n",
              "      <th>9</th>\n",
              "      <td>female</td>\n",
              "      <td>group B</td>\n",
              "      <td>high school</td>\n",
              "      <td>free/reduced</td>\n",
              "      <td>False</td>\n",
              "      <td>38</td>\n",
              "      <td>60</td>\n",
              "      <td>50</td>\n",
              "    </tr>\n",
              "    <tr>\n",
              "      <th>10</th>\n",
              "      <td>male</td>\n",
              "      <td>group C</td>\n",
              "      <td>associate's degree</td>\n",
              "      <td>standard</td>\n",
              "      <td>False</td>\n",
              "      <td>58</td>\n",
              "      <td>54</td>\n",
              "      <td>52</td>\n",
              "    </tr>\n",
              "    <tr>\n",
              "      <th>11</th>\n",
              "      <td>male</td>\n",
              "      <td>group D</td>\n",
              "      <td>associate's degree</td>\n",
              "      <td>standard</td>\n",
              "      <td>False</td>\n",
              "      <td>40</td>\n",
              "      <td>52</td>\n",
              "      <td>43</td>\n",
              "    </tr>\n",
              "    <tr>\n",
              "      <th>12</th>\n",
              "      <td>female</td>\n",
              "      <td>group B</td>\n",
              "      <td>high school</td>\n",
              "      <td>standard</td>\n",
              "      <td>False</td>\n",
              "      <td>65</td>\n",
              "      <td>81</td>\n",
              "      <td>73</td>\n",
              "    </tr>\n",
              "    <tr>\n",
              "      <th>13</th>\n",
              "      <td>male</td>\n",
              "      <td>group A</td>\n",
              "      <td>some college</td>\n",
              "      <td>standard</td>\n",
              "      <td>True</td>\n",
              "      <td>78</td>\n",
              "      <td>72</td>\n",
              "      <td>70</td>\n",
              "    </tr>\n",
              "    <tr>\n",
              "      <th>14</th>\n",
              "      <td>female</td>\n",
              "      <td>group A</td>\n",
              "      <td>master's degree</td>\n",
              "      <td>standard</td>\n",
              "      <td>False</td>\n",
              "      <td>50</td>\n",
              "      <td>53</td>\n",
              "      <td>58</td>\n",
              "    </tr>\n",
              "    <tr>\n",
              "      <th>15</th>\n",
              "      <td>female</td>\n",
              "      <td>group C</td>\n",
              "      <td>some high school</td>\n",
              "      <td>standard</td>\n",
              "      <td>False</td>\n",
              "      <td>69</td>\n",
              "      <td>75</td>\n",
              "      <td>78</td>\n",
              "    </tr>\n",
              "    <tr>\n",
              "      <th>16</th>\n",
              "      <td>male</td>\n",
              "      <td>group C</td>\n",
              "      <td>high school</td>\n",
              "      <td>standard</td>\n",
              "      <td>False</td>\n",
              "      <td>88</td>\n",
              "      <td>89</td>\n",
              "      <td>86</td>\n",
              "    </tr>\n",
              "    <tr>\n",
              "      <th>17</th>\n",
              "      <td>female</td>\n",
              "      <td>group B</td>\n",
              "      <td>some high school</td>\n",
              "      <td>free/reduced</td>\n",
              "      <td>False</td>\n",
              "      <td>18</td>\n",
              "      <td>32</td>\n",
              "      <td>28</td>\n",
              "    </tr>\n",
              "    <tr>\n",
              "      <th>18</th>\n",
              "      <td>male</td>\n",
              "      <td>group C</td>\n",
              "      <td>master's degree</td>\n",
              "      <td>free/reduced</td>\n",
              "      <td>True</td>\n",
              "      <td>46</td>\n",
              "      <td>42</td>\n",
              "      <td>46</td>\n",
              "    </tr>\n",
              "    <tr>\n",
              "      <th>19</th>\n",
              "      <td>female</td>\n",
              "      <td>group C</td>\n",
              "      <td>associate's degree</td>\n",
              "      <td>free/reduced</td>\n",
              "      <td>False</td>\n",
              "      <td>54</td>\n",
              "      <td>58</td>\n",
              "      <td>61</td>\n",
              "    </tr>\n",
              "  </tbody>\n",
              "</table>\n",
              "</div>"
            ],
            "text/plain": [
              "    gender race/ethnicity parental level of education         lunch  \\\n",
              "0   female        group B           bachelor's degree      standard   \n",
              "1   female        group C                some college      standard   \n",
              "2   female        group B             master's degree      standard   \n",
              "3     male        group A          associate's degree  free/reduced   \n",
              "4     male        group C                some college      standard   \n",
              "5   female        group B          associate's degree      standard   \n",
              "6   female        group B                some college      standard   \n",
              "7     male        group B                some college  free/reduced   \n",
              "8     male        group D                 high school  free/reduced   \n",
              "9   female        group B                 high school  free/reduced   \n",
              "10    male        group C          associate's degree      standard   \n",
              "11    male        group D          associate's degree      standard   \n",
              "12  female        group B                 high school      standard   \n",
              "13    male        group A                some college      standard   \n",
              "14  female        group A             master's degree      standard   \n",
              "15  female        group C            some high school      standard   \n",
              "16    male        group C                 high school      standard   \n",
              "17  female        group B            some high school  free/reduced   \n",
              "18    male        group C             master's degree  free/reduced   \n",
              "19  female        group C          associate's degree  free/reduced   \n",
              "\n",
              "    test preparation course  math score  reading score  writing score  \n",
              "0                     False          72             72             74  \n",
              "1                      True          69             90             88  \n",
              "2                     False          90             95             93  \n",
              "3                     False          47             57             44  \n",
              "4                     False          76             78             75  \n",
              "5                     False          71             83             78  \n",
              "6                      True          88             95             92  \n",
              "7                     False          40             43             39  \n",
              "8                      True          64             64             67  \n",
              "9                     False          38             60             50  \n",
              "10                    False          58             54             52  \n",
              "11                    False          40             52             43  \n",
              "12                    False          65             81             73  \n",
              "13                     True          78             72             70  \n",
              "14                    False          50             53             58  \n",
              "15                    False          69             75             78  \n",
              "16                    False          88             89             86  \n",
              "17                    False          18             32             28  \n",
              "18                     True          46             42             46  \n",
              "19                    False          54             58             61  "
            ]
          },
          "execution_count": 119,
          "metadata": {},
          "output_type": "execute_result"
        }
      ],
      "source": [
        "#Realize a limpeza dos dados, focando em tratar valores vazios e/ou incorretos.\n",
        "df['test preparation course'] = df['test preparation course'].map(lambda x: x == 'completed')\n",
        "# usando map, eu pego cada elemento da coluna do dataframe, e aplico a funcao lambda, em que se lamba encontrar 'completed', retorna True,\n",
        "# e em caso contrario, retorna False. Transformar essa coluna em bool vai ajudar na construcao dos seguines graficos.\n",
        "df.head(20)\n"
      ]
    },
    {
      "cell_type": "markdown",
      "metadata": {
        "id": "PFGsjVcKCCSE"
      },
      "source": [
        "### *1.3 Vizualização*"
      ]
    },
    {
      "cell_type": "code",
      "execution_count": 120,
      "metadata": {
        "id": "I5I--DuVCEV8"
      },
      "outputs": [
        {
          "data": {
            "image/png": "[encoded data removed]",
            "text/plain": [
              "<Figure size 1200x800 with 1 Axes>"
            ]
          },
          "metadata": {},
          "output_type": "display_data"
        },
        {
          "data": {
            "image/png": "[encoded data removed]",
            "text/plain": [
              "<Figure size 1000x600 with 1 Axes>"
            ]
          },
          "metadata": {},
          "output_type": "display_data"
        }
      ],
      "source": [
        "#Crie Gráficos para que você possa observar a relação entre as variáveis e o comportamento delas de forma mais clara.\n",
        "#Crio um novo dataframe a partir do anterior, onde agrupo as medias de cada disciplina por nivel de educacao dos pais.\n",
        "media_notas = df.groupby('parental level of education').agg({'math score': 'mean', 'reading score': 'mean', 'writing score': 'mean'})\n",
        "\n",
        "# Crio uma nova coluna no dataframe, onde, usando .mean, eu faco a media das medias anteriores, criando uma serie contendo as medias para cada nivel de educacao.\n",
        "media_notas['Mean'] = media_notas.mean(axis=1)\n",
        "\n",
        "# Usando .sort_values, eu faco o dataframe ficar na ordem de cada media das notas, e usando a coluna 'mean' anterior como parametro.\n",
        "media_notas_sorted = media_notas.sort_values(by='Mean')\n",
        "\n",
        "# Crio o gráfico de barras ordenado em ordem crescente\n",
        "ax = media_notas_sorted.plot(kind='barh', figsize=(12, 8), color=['blue', 'green', 'red', 'gray'])\n",
        "\n",
        "# um loop para adicionar os valores na frente barra\n",
        "for i in ax.patches:\n",
        "    ax.text(i.get_width() + 0.1, i.get_y() + 0.1, str(round(i.get_width(), 2)), fontsize=10)\n",
        "\n",
        "plt.title('Média das Notas por Nível de Educação dos Pais')\n",
        "plt.xlabel('Média das Notas')\n",
        "plt.ylabel('Nível de Educação dos Pais')\n",
        "plt.tight_layout()\n",
        "plt.show()\n",
        "\n",
        "media_notas_gender = df.groupby('gender').agg({'math score': 'mean', 'reading score': 'mean', 'writing score': 'mean'})\n",
        "media_notas_gender['Mean by gender'] = media_notas_gender.mean(axis=1)\n",
        "# basicamente a mesma logica que o anterior \n",
        "\n",
        "ax = media_notas_gender.plot(kind='bar', figsize=(10, 6))\n",
        "\n",
        "for i in ax.patches:\n",
        "    ax.text(i.get_x() + i.get_width() / 2, i.get_height() + 0.05, str(round(i.get_height(), 2)), ha='center', fontsize=10)\n",
        "\n",
        "plt.title('Média das Notas por Gênero')\n",
        "plt.xlabel('Gênero')\n",
        "plt.ylabel('Média das Notas')\n",
        "plt.xticks(rotation=0)  \n",
        "plt.legend(title='Notas')  \n",
        "\n",
        "plt.tight_layout()\n",
        "plt.show()\n",
        "\n",
        "\n"
      ]
    },
    {
      "cell_type": "markdown",
      "metadata": {
        "id": "vr00cjbUC5ph"
      },
      "source": [
        "### *1.4 Conclusões*"
      ]
    },
    {
      "cell_type": "code",
      "execution_count": 121,
      "metadata": {
        "id": "h7tI2_-TCOPp"
      },
      "outputs": [
        {
          "name": "stdout",
          "output_type": "stream",
          "text": [
            " \n",
            "    Com o primeiro gráfico, é possível notar um crescimento \"literal\" com o nível de escolaridade, dos pais, em que, em todos os sentidos, havia aumento\n",
            "de um para outro, o que nos leva a pensar que normalmente uma pessoa que nasce em uma família com um bom histórico acadêmico, também terá mais\n",
            "chances de obter notas maiores.\n",
            "\n",
            "    No 2° gráfico, fazendo uma análise por gênero, é possível observar que em média, pessoas do genêro feminimo tiram notas mais altas em provas\n",
            "de escrita e leitura, mas tiram uma nota mais baixa em notas de matemática, se comparado ao gênero masculino. É bem difícil tirar uma conclusão a \n",
            "partir desse dado, mas é interessante de se observar.\n",
            "\n"
          ]
        }
      ],
      "source": [
        "#Insira aqui as conclusões que você conseguiu absorver a partir desse Dataset.\n",
        "Conclusoes = \"\"\" \n",
        "    Com o primeiro gráfico, é possível notar um crescimento \"literal\" com o nível de escolaridade, dos pais, em que, em todos os sentidos, havia aumento\n",
        "de um para outro, o que nos leva a pensar que normalmente uma pessoa que nasce em uma família com um bom histórico acadêmico, também terá mais\n",
        "chances de obter notas maiores.\n",
        "\n",
        "    No 2° gráfico, fazendo uma análise por gênero, é possível observar que em média, pessoas do genêro feminimo tiram notas mais altas em provas\n",
        "de escrita e leitura, mas tiram uma nota mais baixa em notas de matemática, se comparado ao gênero masculino. É bem difícil tirar uma conclusão a \n",
        "partir desse dado, mas é interessante de se observar.\n",
        "\"\"\"\n",
        "print(Conclusoes)"
      ]
    },
    {
      "cell_type": "markdown",
      "metadata": {
        "id": "1f-X95LL4xZ-"
      },
      "source": [
        "##**Questão 2:** *Indicadores de Mudança de Clima*\n"
      ]
    },
    {
      "cell_type": "markdown",
      "metadata": {
        "id": "X7fuSFjIChjP"
      },
      "source": [
        "Examine as tendências de mudança de temperatura ao longo dos anos, conforme apresentado no arquivo 'q2_clima.csv'. Analise como diferentes países e regiões têm experimentado variações na temperatura média ao longo do tempo. Além disso, explore possíveis correlações entre o grau de variação de temperatura e fatores geográficos ou econômicos dos países."
      ]
    },
    {
      "cell_type": "markdown",
      "metadata": {
        "id": "doEXHvxLChjP"
      },
      "source": [
        "###*2.1 Imports*"
      ]
    },
    {
      "cell_type": "code",
      "execution_count": 1,
      "metadata": {
        "id": "debd52UrDMhZ"
      },
      "outputs": [],
      "source": [
        "#Insira seu código aqui\n",
        "import pandas as pd\n",
        "import numpy as np\n",
        "import matplotlib.pyplot as plt\n",
        "import plotly.express as px\n",
        "import seaborn as sns\n"
      ]
    },
    {
      "cell_type": "markdown",
      "metadata": {
        "id": "gqUfDU3cChjP"
      },
      "source": [
        "###*2.2 Dataset*"
      ]
    },
    {
      "cell_type": "code",
      "execution_count": 133,
      "metadata": {
        "id": "OYa4uJvxDNF_"
      },
      "outputs": [
        {
          "data": {
            "text/html": [
              "<div>\n",
              "<style scoped>\n",
              "    .dataframe tbody tr th:only-of-type {\n",
              "        vertical-align: middle;\n",
              "    }\n",
              "\n",
              "    .dataframe tbody tr th {\n",
              "        vertical-align: top;\n",
              "    }\n",
              "\n",
              "    .dataframe thead th {\n",
              "        text-align: right;\n",
              "    }\n",
              "</style>\n",
              "<table border=\"1\" class=\"dataframe\">\n",
              "  <thead>\n",
              "    <tr style=\"text-align: right;\">\n",
              "      <th></th>\n",
              "      <th>id</th>\n",
              "      <th>Gender</th>\n",
              "      <th>Age</th>\n",
              "      <th>Height</th>\n",
              "      <th>Weight</th>\n",
              "      <th>family_history_with_overweight</th>\n",
              "      <th>FAVC</th>\n",
              "      <th>FCVC</th>\n",
              "      <th>NCP</th>\n",
              "      <th>CAEC</th>\n",
              "      <th>SMOKE</th>\n",
              "      <th>CH2O</th>\n",
              "      <th>SCC</th>\n",
              "      <th>FAF</th>\n",
              "      <th>TUE</th>\n",
              "      <th>CALC</th>\n",
              "      <th>MTRANS</th>\n",
              "      <th>0be1dad</th>\n",
              "    </tr>\n",
              "  </thead>\n",
              "  <tbody>\n",
              "    <tr>\n",
              "      <th>0</th>\n",
              "      <td>0</td>\n",
              "      <td>Male</td>\n",
              "      <td>24.443011</td>\n",
              "      <td>1.699998</td>\n",
              "      <td>81.669950</td>\n",
              "      <td>1</td>\n",
              "      <td>1</td>\n",
              "      <td>2.000000</td>\n",
              "      <td>2.983297</td>\n",
              "      <td>Sometimes</td>\n",
              "      <td>0</td>\n",
              "      <td>2.763573</td>\n",
              "      <td>0</td>\n",
              "      <td>0.000000</td>\n",
              "      <td>0.976473</td>\n",
              "      <td>Sometimes</td>\n",
              "      <td>Public_Transportation</td>\n",
              "      <td>Overweight_Level_II</td>\n",
              "    </tr>\n",
              "    <tr>\n",
              "      <th>1</th>\n",
              "      <td>1</td>\n",
              "      <td>Female</td>\n",
              "      <td>18.000000</td>\n",
              "      <td>1.560000</td>\n",
              "      <td>57.000000</td>\n",
              "      <td>1</td>\n",
              "      <td>1</td>\n",
              "      <td>2.000000</td>\n",
              "      <td>3.000000</td>\n",
              "      <td>Frequently</td>\n",
              "      <td>0</td>\n",
              "      <td>2.000000</td>\n",
              "      <td>0</td>\n",
              "      <td>1.000000</td>\n",
              "      <td>1.000000</td>\n",
              "      <td>0</td>\n",
              "      <td>Automobile</td>\n",
              "      <td>0rmal_Weight</td>\n",
              "    </tr>\n",
              "    <tr>\n",
              "      <th>2</th>\n",
              "      <td>2</td>\n",
              "      <td>Female</td>\n",
              "      <td>18.000000</td>\n",
              "      <td>1.711460</td>\n",
              "      <td>50.165754</td>\n",
              "      <td>1</td>\n",
              "      <td>1</td>\n",
              "      <td>1.880534</td>\n",
              "      <td>1.411685</td>\n",
              "      <td>Sometimes</td>\n",
              "      <td>0</td>\n",
              "      <td>1.910378</td>\n",
              "      <td>0</td>\n",
              "      <td>0.866045</td>\n",
              "      <td>1.673584</td>\n",
              "      <td>0</td>\n",
              "      <td>Public_Transportation</td>\n",
              "      <td>Insufficient_Weight</td>\n",
              "    </tr>\n",
              "    <tr>\n",
              "      <th>3</th>\n",
              "      <td>3</td>\n",
              "      <td>Female</td>\n",
              "      <td>20.952737</td>\n",
              "      <td>1.710730</td>\n",
              "      <td>131.274851</td>\n",
              "      <td>1</td>\n",
              "      <td>1</td>\n",
              "      <td>3.000000</td>\n",
              "      <td>3.000000</td>\n",
              "      <td>Sometimes</td>\n",
              "      <td>0</td>\n",
              "      <td>1.674061</td>\n",
              "      <td>0</td>\n",
              "      <td>1.467863</td>\n",
              "      <td>0.780199</td>\n",
              "      <td>Sometimes</td>\n",
              "      <td>Public_Transportation</td>\n",
              "      <td>Obesity_Type_III</td>\n",
              "    </tr>\n",
              "    <tr>\n",
              "      <th>4</th>\n",
              "      <td>4</td>\n",
              "      <td>Male</td>\n",
              "      <td>31.641081</td>\n",
              "      <td>1.914186</td>\n",
              "      <td>93.798055</td>\n",
              "      <td>1</td>\n",
              "      <td>1</td>\n",
              "      <td>2.679664</td>\n",
              "      <td>1.971472</td>\n",
              "      <td>Sometimes</td>\n",
              "      <td>0</td>\n",
              "      <td>1.979848</td>\n",
              "      <td>0</td>\n",
              "      <td>1.967973</td>\n",
              "      <td>0.931721</td>\n",
              "      <td>Sometimes</td>\n",
              "      <td>Public_Transportation</td>\n",
              "      <td>Overweight_Level_II</td>\n",
              "    </tr>\n",
              "    <tr>\n",
              "      <th>5</th>\n",
              "      <td>5</td>\n",
              "      <td>Male</td>\n",
              "      <td>18.128249</td>\n",
              "      <td>1.748524</td>\n",
              "      <td>51.552595</td>\n",
              "      <td>1</td>\n",
              "      <td>1</td>\n",
              "      <td>2.919751</td>\n",
              "      <td>3.000000</td>\n",
              "      <td>Sometimes</td>\n",
              "      <td>0</td>\n",
              "      <td>2.137550</td>\n",
              "      <td>0</td>\n",
              "      <td>1.930033</td>\n",
              "      <td>1.000000</td>\n",
              "      <td>Sometimes</td>\n",
              "      <td>Public_Transportation</td>\n",
              "      <td>Insufficient_Weight</td>\n",
              "    </tr>\n",
              "    <tr>\n",
              "      <th>6</th>\n",
              "      <td>6</td>\n",
              "      <td>Male</td>\n",
              "      <td>29.883021</td>\n",
              "      <td>1.754711</td>\n",
              "      <td>112.725005</td>\n",
              "      <td>1</td>\n",
              "      <td>1</td>\n",
              "      <td>1.991240</td>\n",
              "      <td>3.000000</td>\n",
              "      <td>Sometimes</td>\n",
              "      <td>0</td>\n",
              "      <td>2.000000</td>\n",
              "      <td>0</td>\n",
              "      <td>0.000000</td>\n",
              "      <td>0.696948</td>\n",
              "      <td>Sometimes</td>\n",
              "      <td>Automobile</td>\n",
              "      <td>Obesity_Type_II</td>\n",
              "    </tr>\n",
              "    <tr>\n",
              "      <th>7</th>\n",
              "      <td>7</td>\n",
              "      <td>Male</td>\n",
              "      <td>29.891473</td>\n",
              "      <td>1.750150</td>\n",
              "      <td>118.206565</td>\n",
              "      <td>1</td>\n",
              "      <td>1</td>\n",
              "      <td>1.397468</td>\n",
              "      <td>3.000000</td>\n",
              "      <td>Sometimes</td>\n",
              "      <td>0</td>\n",
              "      <td>2.000000</td>\n",
              "      <td>0</td>\n",
              "      <td>0.598655</td>\n",
              "      <td>0.000000</td>\n",
              "      <td>Sometimes</td>\n",
              "      <td>Automobile</td>\n",
              "      <td>Obesity_Type_II</td>\n",
              "    </tr>\n",
              "    <tr>\n",
              "      <th>8</th>\n",
              "      <td>8</td>\n",
              "      <td>Male</td>\n",
              "      <td>17.000000</td>\n",
              "      <td>1.700000</td>\n",
              "      <td>70.000000</td>\n",
              "      <td>0</td>\n",
              "      <td>1</td>\n",
              "      <td>2.000000</td>\n",
              "      <td>3.000000</td>\n",
              "      <td>Sometimes</td>\n",
              "      <td>0</td>\n",
              "      <td>3.000000</td>\n",
              "      <td>1</td>\n",
              "      <td>1.000000</td>\n",
              "      <td>1.000000</td>\n",
              "      <td>0</td>\n",
              "      <td>Public_Transportation</td>\n",
              "      <td>Overweight_Level_I</td>\n",
              "    </tr>\n",
              "    <tr>\n",
              "      <th>9</th>\n",
              "      <td>9</td>\n",
              "      <td>Female</td>\n",
              "      <td>26.000000</td>\n",
              "      <td>1.638836</td>\n",
              "      <td>111.275646</td>\n",
              "      <td>1</td>\n",
              "      <td>1</td>\n",
              "      <td>3.000000</td>\n",
              "      <td>3.000000</td>\n",
              "      <td>Sometimes</td>\n",
              "      <td>0</td>\n",
              "      <td>2.632253</td>\n",
              "      <td>0</td>\n",
              "      <td>0.000000</td>\n",
              "      <td>0.218645</td>\n",
              "      <td>Sometimes</td>\n",
              "      <td>Public_Transportation</td>\n",
              "      <td>Obesity_Type_III</td>\n",
              "    </tr>\n",
              "  </tbody>\n",
              "</table>\n",
              "</div>"
            ],
            "text/plain": [
              "   id  Gender        Age    Height      Weight  \\\n",
              "0   0    Male  24.443011  1.699998   81.669950   \n",
              "1   1  Female  18.000000  1.560000   57.000000   \n",
              "2   2  Female  18.000000  1.711460   50.165754   \n",
              "3   3  Female  20.952737  1.710730  131.274851   \n",
              "4   4    Male  31.641081  1.914186   93.798055   \n",
              "5   5    Male  18.128249  1.748524   51.552595   \n",
              "6   6    Male  29.883021  1.754711  112.725005   \n",
              "7   7    Male  29.891473  1.750150  118.206565   \n",
              "8   8    Male  17.000000  1.700000   70.000000   \n",
              "9   9  Female  26.000000  1.638836  111.275646   \n",
              "\n",
              "   family_history_with_overweight  FAVC      FCVC       NCP        CAEC  \\\n",
              "0                               1     1  2.000000  2.983297   Sometimes   \n",
              "1                               1     1  2.000000  3.000000  Frequently   \n",
              "2                               1     1  1.880534  1.411685   Sometimes   \n",
              "3                               1     1  3.000000  3.000000   Sometimes   \n",
              "4                               1     1  2.679664  1.971472   Sometimes   \n",
              "5                               1     1  2.919751  3.000000   Sometimes   \n",
              "6                               1     1  1.991240  3.000000   Sometimes   \n",
              "7                               1     1  1.397468  3.000000   Sometimes   \n",
              "8                               0     1  2.000000  3.000000   Sometimes   \n",
              "9                               1     1  3.000000  3.000000   Sometimes   \n",
              "\n",
              "   SMOKE      CH2O  SCC       FAF       TUE       CALC                 MTRANS  \\\n",
              "0      0  2.763573    0  0.000000  0.976473  Sometimes  Public_Transportation   \n",
              "1      0  2.000000    0  1.000000  1.000000          0             Automobile   \n",
              "2      0  1.910378    0  0.866045  1.673584          0  Public_Transportation   \n",
              "3      0  1.674061    0  1.467863  0.780199  Sometimes  Public_Transportation   \n",
              "4      0  1.979848    0  1.967973  0.931721  Sometimes  Public_Transportation   \n",
              "5      0  2.137550    0  1.930033  1.000000  Sometimes  Public_Transportation   \n",
              "6      0  2.000000    0  0.000000  0.696948  Sometimes             Automobile   \n",
              "7      0  2.000000    0  0.598655  0.000000  Sometimes             Automobile   \n",
              "8      0  3.000000    1  1.000000  1.000000          0  Public_Transportation   \n",
              "9      0  2.632253    0  0.000000  0.218645  Sometimes  Public_Transportation   \n",
              "\n",
              "               0be1dad  \n",
              "0  Overweight_Level_II  \n",
              "1         0rmal_Weight  \n",
              "2  Insufficient_Weight  \n",
              "3     Obesity_Type_III  \n",
              "4  Overweight_Level_II  \n",
              "5  Insufficient_Weight  \n",
              "6      Obesity_Type_II  \n",
              "7      Obesity_Type_II  \n",
              "8   Overweight_Level_I  \n",
              "9     Obesity_Type_III  "
            ]
          },
          "execution_count": 133,
          "metadata": {},
          "output_type": "execute_result"
        }
      ],
      "source": [
        "#Insira seu código aqui\n",
        "dataset1 = 'C:\\\\Users\\\\Meu Computador\\\\Trainees2\\\\Notebook 2\\\\Trainees 2 - EDA\\\\obesity_level.csv'\n",
        "df = pd.read_csv(dataset1)\n",
        "df.head(10)"
      ]
    },
    {
      "cell_type": "markdown",
      "metadata": {
        "id": "7X_13EwcChjQ"
      },
      "source": [
        "### *2.3 Vizualização*"
      ]
    },
    {
      "cell_type": "code",
      "execution_count": 136,
      "metadata": {},
      "outputs": [],
      "source": [
        "#Insira seu código aqui\n",
        "# Código para criação de um novo dataframe, usando as colunas que eu quero analisar\n",
        "# df.head(30) tinha usado para verificar o tamanho, tipo, etc do dataset.\n",
        "#FAVC = Frequent consumption of high-caloric food\n",
        "#FCVC = Frequency of consumption of vegetables\n",
        "#NCP = Number of main meals\n",
        "#FAF = Physical activity frequency\n",
        "#TUE = time spent using technological devices\n",
        "# As siglas acima foram para me guiar na analise à posteriori.\n",
        "df = df.rename(columns={'0be1dad': 'nivel_obesidade'}) # Como o nome original do dataset estava estranho, renomeei para um mais legível\n",
        "obesidade_nivels1 = {\n",
        "                    'Insufficient_Weight': 0,\n",
        "                    '0rmal_Weight': 1,\n",
        "                    'Overweight_Level_I': 2,\n",
        "                    'Overweight_Level_II': 3,\n",
        "                    'Obesity_Type_I': 4,\n",
        "                    'Obesity_Type_II': 5,\n",
        "                    'Obesity_Type_III': 6\n",
        "} # transferir o tipo de IMC por valores numericos, de maneira crescente\n",
        "df['nivel_obesidade'] = df['nivel_obesidade'].replace(obesidade_nivels1) # fazer a troca do dicionario anterior no dataframe\n",
        "\n",
        "obesidade_nivel = df.groupby('nivel_obesidade').agg({'Weight': 'mean', 'Age': 'mean', 'FAVC': 'mean', 'FCVC': 'mean'}) # Agrupar as colunas que quero comparar a partir de nivel de obesidade, calculando a média.\n",
        "\n",
        "obesidade_nivel_sorted = obesidade_nivel.sort_values(by='nivel_obesidade') # organizar o novo dataframe pelo value de peso (diretamente proporcional ao nível de obesidade)"
      ]
    },
    {
      "cell_type": "code",
      "execution_count": 137,
      "metadata": {
        "id": "4f8KkXRAChjQ"
      },
      "outputs": [
        {
          "data": {
            "image/png": "[encoded data removed]",
            "text/plain": [
              "<Figure size 1000x600 with 1 Axes>"
            ]
          },
          "metadata": {},
          "output_type": "display_data"
        }
      ],
      "source": [
        "# Código com o plot do gráfico\n",
        "# obesidade_nivel_sorted.head(10) testar o df com sorted.\n",
        "\n",
        "ax = obesidade_nivel_sorted.plot(kind='bar', figsize=(10, 6)) # plotar o gráfico\n",
        "new_labels = {\n",
        "    0: 'Peso Insuficiente',\n",
        "    1: 'Peso Normal',\n",
        "    2: 'Sobrepeso Nivel 1',\n",
        "    3: 'Sobrepeso Nivel 2',\n",
        "    4: 'Obesidade Tipo 1',\n",
        "    5: 'Obesidade Tipo 2',\n",
        "    6: 'Obesidade Tipo 3',\n",
        "\n",
        "} # Como eu havia feito a alteração de nome para númerico no dataframe, para ficar mais legível no gráfico, coloquei em texto.\n",
        "ax.set_xticklabels([new_labels.get(int(label.get_text()), label.get_text()) for label in ax.get_xticklabels()])\n",
        "\n",
        "for i in ax.patches:\n",
        "    ax.text(i.get_x() + i.get_width() / 2, i.get_height() + 0.05, str(round(i.get_height(), 2)), ha='center', fontsize=10)\n",
        "\n",
        "plt.title('Obesidade e suas relacoes')\n",
        "plt.xlabel('Tipo de obesidade')\n",
        "plt.ylabel('Nível')\n",
        "plt.xticks(rotation=0)  \n",
        "plt.legend(title='Peso, Idade, e Refeições')  \n",
        "\n",
        "plt.tight_layout()\n",
        "plt.show()"
      ]
    },
    {
      "cell_type": "code",
      "execution_count": 94,
      "metadata": {},
      "outputs": [],
      "source": [
        "#FAVC = Frequent consumption of high-caloric food\n",
        "#FCVC = Frequency of consumption of vegetables\n",
        "#NCP = Number of main meals\n",
        "#FAF = Physical activity frequency\n",
        "#TUE = time spent using technological devices\n",
        "\n",
        "obesidade_nivels2 = {\n",
        "                    'Insufficient_Weight': 0,\n",
        "                    '0rmal_Weight': 1,\n",
        "                    'Overweight_Level_I': 2,\n",
        "                    'Overweight_Level_II': 3,\n",
        "                    'Obesity_Type_I': 4,\n",
        "                    'Obesity_Type_II': 5,\n",
        "                    'Obesity_Type_III': 6\n",
        "} # transferir o tipo de IMC por valores numericos, de maneira crescente\n",
        "df['nivel_obesidade'] = df['nivel_obesidade'].replace(obesidade_nivels2) # fazer a troca do dicionario anterior no dataframe\n",
        "\n",
        "obesidade_nivel2 = df.groupby('nivel_obesidade').agg({'NCP': 'mean', 'FAF': 'mean', 'TUE': 'mean'}) # organizar novas colunas ao novo df, para a conclusão posteriormente.\n",
        "\n",
        "obesidade_nivel_sorted2 = obesidade_nivel2.sort_values(by='nivel_obesidade') # Organizar por nível de valor também."
      ]
    },
    {
      "cell_type": "code",
      "execution_count": 95,
      "metadata": {},
      "outputs": [
        {
          "data": {
            "image/png": "[encoded data removed]",
            "text/plain": [
              "<Figure size 1400x800 with 1 Axes>"
            ]
          },
          "metadata": {},
          "output_type": "display_data"
        }
      ],
      "source": [
        "ax = obesidade_nivel_sorted2.plot(kind='bar', figsize=(14, 8))\n",
        "new_labels = {\n",
        "    0: 'Peso Insuficiente',\n",
        "    1: 'Peso Normal',\n",
        "    2: 'Sobrepeso Nivel 1',\n",
        "    3: 'Sobrepeso Nivel 2',\n",
        "    4: 'Obesidade Tipo 1',\n",
        "    5: 'Obesidade Tipo 2',\n",
        "    6: 'Obesidade Tipo 3',\n",
        "\n",
        "} # Como eu havia feito a alteração de nome para númerico no dataframe, para ficar mais legível no gráfico, coloquei em texto.\n",
        "ax.set_xticklabels([new_labels.get(int(label.get_text()), label.get_text()) for label in ax.get_xticklabels()])\n",
        "\n",
        "\n",
        "for i in ax.patches:\n",
        "    ax.text(i.get_x() + i.get_width() / 2, i.get_height() + 0.05, str(round(i.get_height(), 2)), ha='center', fontsize=10)\n",
        "\n",
        "plt.title('Obesidade e suas relacoes')\n",
        "plt.xlabel('Nivel de obesidades')\n",
        "plt.ylabel('Nivel')\n",
        "plt.xticks(rotation=0)  \n",
        "plt.legend(title='Relacoes com a comida')\n",
        "\n",
        "plt.tight_layout()\n",
        "plt.show()"
      ]
    },
    {
      "cell_type": "code",
      "execution_count": 142,
      "metadata": {},
      "outputs": [
        {
          "data": {
            "text/plain": [
              "<Axes: >"
            ]
          },
          "execution_count": 142,
          "metadata": {},
          "output_type": "execute_result"
        },
        {
          "data": {
            "image/png": "[encoded data removed]",
            "text/plain": [
              "<Figure size 1000x700 with 2 Axes>"
            ]
          },
          "metadata": {},
          "output_type": "display_data"
        }
      ],
      "source": [
        "colunas_requeridas = ['Weight', 'NCP', 'FAF', 'TUE','Age', 'FAVC', 'FCVC', 'nivel_obesidade']\n",
        "novo_df = df[colunas_requeridas]\n",
        "correlacao = novo_df.corr()\n",
        "\n",
        "plt.figure(figsize=(10, 7))\n",
        "sns.heatmap(correlacao, annot = True)"
      ]
    },
    {
      "cell_type": "markdown",
      "metadata": {
        "id": "is4FAzGUC78O"
      },
      "source": [
        "###*2.4 Conclusões*"
      ]
    },
    {
      "cell_type": "code",
      "execution_count": null,
      "metadata": {
        "id": "8kFm7P9hChjQ"
      },
      "outputs": [],
      "source": [
        "#Insira aqui as conclusões que você conseguiu absorver a partir desse Dataset.\n",
        "Conclusoes = \"\"\"\n",
        "Nessa questão, como o dataset era bem maior se comparado à anterior, decidi fazer uma análise usando o nível de peso/sobrepeso/obesidade aplicada \n",
        "a 2 conjuntos distintos de colunas numericas, e usando o \"dicionário\" das células assima, separei a questão em:\n",
        "- Gráfico 1:\n",
        "FAVC = Frequent consumption of high-caloric food - Frequência de Consumo de comidas com muitas calorias\n",
        "FCVC = Frequency of consumption of vegetables - Frequência de Consumo de Vegetais\n",
        "Idade\n",
        "Peso.\n",
        "\n",
        "1)  Nesse gráfico, Normalmente o pressuposto é assumir que pessoas com níveis de obesidade mais baixos consomem mais vegetais frequentemente, porém,\n",
        "esse número é maior entre obesos. Assim, demonstra uma realação em que provavelmente mesmo tendo mais frequência de consumo de alimentos \"saudáveis\",\n",
        "há a questão da quantidade e/ou pré-disposição a ganhar peso.\n",
        "    Já na frequência consumo de comidas altamente calóricas, entre as primeiras faixas etárias fica numa média, mas aumenta entre os 3 tipos de obesidade,\n",
        "aumentando a cada tipo também. Logo, podemos relacionar um consumo maior de comidas altamente calóricas com altos níveis de obesidade.\n",
        "\n",
        "2) Na idade, apens podemos fazer uma relação em que as pessoas mais novas, entre 19 a 20 anos, estão em faixa etárias de menor peso, mas após essa faixa,\n",
        "não é possível estabelecer uma relação baseada apenas entre peso e idade.\n",
        "\n",
        "3) No Peso, obtivemos um resultado que provavelmente seria uma tese prévia, em que o peso aumenta a cada tipo de nova faixa de obesidade.\n",
        "\n",
        "- Gráfico 2:\n",
        "#NCP = Number of main meals - Número de refeições principais\n",
        "#FAF = Physical activity frequency - Frequência de atividades físicas\n",
        "#TUE = time spent using technological devices - Tempo usando aparelhos tecnológicos\n",
        "\n",
        "1)  Nesse gráfico, podemos perceber que não há uma relação bem definida entre os 3 parâmetros com o nível de obesidade, pois são observados\n",
        "apenas algumas variâncias / desvios padrões entre cada faixa de peso, mas se formos pontuar, temos que:\n",
        "    - Os 2 primeiros níveis de peso, em média, consomem um bom número de refeições principais e fazem atividades físicas com frequência maior\n",
        "    - O uso de aparelhos tecnológicos não estabelece nenhuma relação muito discrepante, em relação ao nível de peso.\n",
        "    - Os 2 últimos níveis de peso, (mais obesos) fazem menos refeições principais que os 2 primeiros, (mais magros). Podemos interpretar de 3 formas:\n",
        "        1) Quando os mais obesos fazem as refeições, alimentam-se com maiores quantidades;\n",
        "        2) Entre as refeições principais, os obesos podem consumir mais calorias;\n",
        "        3) Como o desvio não é muito alto, pode ser uma pré-disposição genética.\n",
        "\n",
        "        \n",
        "    Portanto, também fiz um 3° gráfico, dessa vez, de calor, onde junto as informações dos gráficos anteriores para analisar de forma mais ampla.\n",
        "    Assim, podemos ver que a relação que mais apresenta diferença às demais é o peso. Apesar de outras relações influenciarem, para cada tipo de\n",
        "    obesidade, a do peso consegue ser a de maior destaque, e a causa, fora as do gráfico, podem ser:\n",
        "    1) Pré-disposição genética;\n",
        "    2) Rotinas Variadas;\n",
        "    3) Ambiente familiar;\n",
        "    4) Salário;\n",
        "    5) Qualidade alimentar.\n",
        "    \n",
        "    Logo, como são parâmetros mais sociológicos, fica mais difícil de avaliar, necessitando de uma análise mais profunda. Contudo, ainda usando\n",
        "    apenas números, acho que consegui obter um bom resultado.\n",
        "\n",
        "\"\"\"\n",
        "print(Conclusoes)"
      ]
    },
    {
      "cell_type": "markdown",
      "metadata": {
        "id": "72VUlIEb8jFD"
      },
      "source": [
        "##**Questão 3:** *Saúde Mental*\n"
      ]
    },
    {
      "cell_type": "markdown",
      "metadata": {
        "id": "AmlPdQPf8jFE"
      },
      "source": [
        "Examine as variações e tendências em questões de saúde mental em diferentes países e regiões, utilizando os dados apresentados no arquivo \"q3_saude_mental.csv\". Foque na análise da incidência de condições de saúde mental, uso de serviços de saúde mental, e atitudes gerais em relação a esses problemas ao longo do tempo. Procure estabelecer correlações entre os padrões de saúde mental e fatores socioeconômicos, políticas de saúde pública e características culturais dos países envolvidos. Esta investigação aprofundada permitirá uma compreensão mais rica das dinâmicas globais da saúde mental, destacando tendências significativas e identificando áreas específicas de preocupação em diferentes contextos regionais. Explore essas dimensões para elaborar estratégias efetivas de conscientização e intervenção em saúde mental globalmente.\n",
        "\n",
        "\n",
        "\n",
        "\n",
        "\n"
      ]
    },
    {
      "cell_type": "markdown",
      "metadata": {
        "id": "9_p_Ubna8jFE"
      },
      "source": [
        "###*3.1 Imports*"
      ]
    },
    {
      "cell_type": "code",
      "execution_count": null,
      "metadata": {
        "id": "Hcwbv5XG8jFE"
      },
      "outputs": [],
      "source": [
        "#Insira seu código aqui"
      ]
    },
    {
      "cell_type": "markdown",
      "metadata": {
        "id": "d192e2WM8jFF"
      },
      "source": [
        "###*3.2 Dataset*"
      ]
    },
    {
      "cell_type": "code",
      "execution_count": null,
      "metadata": {
        "id": "dmwefsYJ8jFF"
      },
      "outputs": [],
      "source": [
        "#Insira seu código aqui"
      ]
    },
    {
      "cell_type": "markdown",
      "metadata": {
        "id": "eaaazYx88jFF"
      },
      "source": [
        "### *3.3 Vizualização*"
      ]
    },
    {
      "cell_type": "code",
      "execution_count": null,
      "metadata": {
        "id": "6XeEMis68jFF"
      },
      "outputs": [],
      "source": [
        "#Insira seu código aqui"
      ]
    },
    {
      "cell_type": "markdown",
      "metadata": {
        "id": "IHRNOPSC8jFF"
      },
      "source": [
        "###*3.4 Conclusões*"
      ]
    },
    {
      "cell_type": "code",
      "execution_count": null,
      "metadata": {
        "id": "K6kMj9yT8jFG"
      },
      "outputs": [],
      "source": [
        "#Insira aqui as conclusões que você conseguiu absorver a partir desse Dataset.\n",
        "Conclusoes = \"\"\n",
        "\n",
        "\n",
        "\n",
        "\n",
        "\n",
        "\n",
        "print(Conclusoes)"
      ]
    },
    {
      "cell_type": "markdown",
      "metadata": {
        "id": "NJbZD3vi5sEP"
      },
      "source": [
        "##**Questão 4:** *Top Músicas do Spotify*"
      ]
    },
    {
      "cell_type": "markdown",
      "metadata": {
        "id": "GrMkV3trEa6h"
      },
      "source": [
        "Investigue as características das músicas mais populares no Spotify, conforme listadas no arquivo 'q4_spotify.csv'. Analise se há correlações entre características como dançabilidade, energia e valência com o sucesso da música, medido pelo número de streams e presença em playlists. Além disso, examine como essas características variam entre diferentes gêneros musicais e ao longo dos anos."
      ]
    },
    {
      "cell_type": "markdown",
      "metadata": {
        "id": "n_mYl7-BEde3"
      },
      "source": [
        "### *Código*"
      ]
    },
    {
      "cell_type": "code",
      "execution_count": null,
      "metadata": {
        "id": "PV0EeopiC_vD"
      },
      "outputs": [],
      "source": [
        "#Insira seu código aqui, lembre-se de dividir as diferentes etapas de realização da questão para manter a organização!"
      ]
    },
    {
      "cell_type": "markdown",
      "metadata": {
        "id": "QeBMm8y6C-re"
      },
      "source": [
        "###*Conclusões*"
      ]
    },
    {
      "cell_type": "code",
      "execution_count": null,
      "metadata": {
        "id": "JpwBhXB8C-rf"
      },
      "outputs": [],
      "source": [
        "#Insira aqui as conclusões que você conseguiu absorver a partir desse Dataset.\n",
        "Conclusoes = \"\"\n",
        "\n",
        "\n",
        "\n",
        "\n",
        "\n",
        "\n",
        "print(Conclusoes)"
      ]
    }
  ],
  "metadata": {
    "colab": {
      "provenance": []
    },
    "kernelspec": {
      "display_name": "Python 3",
      "name": "python3"
    },
    "language_info": {
      "codemirror_mode": {
        "name": "ipython",
        "version": 3
      },
      "file_extension": ".py",
      "mimetype": "text/x-python",
      "name": "python",
      "nbconvert_exporter": "python",
      "pygments_lexer": "ipython3",
      "version": "3.11.7"
    }
  },
  "nbformat": 4,
  "nbformat_minor": 0
}
