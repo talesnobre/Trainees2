{
 "cells": [
  {
   "cell_type": "markdown",
   "metadata": {
    "id": "bhRj3mZjtrKe"
   },
   "source": [
    "<a href=\"TAIL\"><img src=\"https://i.imgur.com/GRTE0OG.png\" width=\"150\" title=\"Tail Logo\" /></a>\n",
    "\n",
    "# <font color =\"#00b8ff\">Exercícios de Análise Exploratória de Dados</font>"
   ]
  },
  {
   "cell_type": "markdown",
   "metadata": {
    "id": "Inzl1VqG2oqC"
   },
   "source": [
    " Essa lista de exercícios foi criada para que vocês possam aplicar os conhecimentos que vocês adquiriram na aula que assistiram.\n",
    "\n",
    "Podem tirar dúvidas com **Tales Nobre** e **Felipe Duarte** quando quiserem!\n",
    "**O prazo de envio do notebook é até a reunião da próxima semana, até 1 hora antes da reunião, podem enviar colocar o conteúdo na branch de vocês do repositório**\n"
   ]
  },
  {
   "cell_type": "markdown",
   "metadata": {
    "id": "ahOuHhFSAQpx"
   },
   "source": [
    "\n",
    "🌍 [Link do drive com todos os Datasets](https://drive.google.com/drive/folders/1LBZH7Zcch-f1tSmFgezIz7Z2QlWmNieP?usp=sharing)\n"
   ]
  },
  {
   "cell_type": "markdown",
   "metadata": {
    "id": "l2Cd0nSn60g-"
   },
   "source": [
    "### **Objetivos**"
   ]
  },
  {
   "cell_type": "markdown",
   "metadata": {
    "id": "C5BveViG63G6"
   },
   "source": [
    "\n",
    "*   Entender o nível de conhecimento individual de vocês\n",
    "*   Estimular vocês a praticarem os conceitos básicos de EDA\n"
   ]
  },
  {
   "cell_type": "markdown",
   "metadata": {
    "id": "N3EBzvz672i1"
   },
   "source": [
    "### **Observações**"
   ]
  },
  {
   "cell_type": "markdown",
   "metadata": {
    "id": "cTGz2NpI75IP"
   },
   "source": [
    "\n",
    "\n",
    "*   Façam uma cópia desse notebook e realizem as questões.\n",
    "*   Foquem no espaço de *Conclusões*, que aparece no final de cada questão, para explicar as conclusões que vocês chegaram a partir da análise de dados.\n",
    "*   É permitido que vocês usem outras bibliotecas que acharem interessantes para realizar a EDA, mas tentem usar pelo menos em uma das questões as bibliotecas de *Pandas, Numpy e Plotly*.\n",
    "*   É recomendável que vocês acessem os materiais de apoio que serão disponibilizados em seguida.\n",
    "*   Prezem pela organização, é muito importante explicar cada etapa de execução, principalmente no contexto de análise de dados.\n",
    "*   Claro que vocês não vão precisam importar várias vezes as bibliotecas dentro de um mesmo notebook, mas por fins educativos é recomendável que vocês façam isso nessa lista de exercícios!\n",
    "*   As questões são progressivas, ou seja, a quantidade de instruções e o nível de dificuldade mudarão ao longo da lista. **Lembre-se de manter o mesmo padrão em todas as questões.**\n",
    "*  Divida em quantas células e caixas de texto quiser, afim de deixar a legibilidade do código a melhor possível.\n",
    "\n"
   ]
  },
  {
   "cell_type": "markdown",
   "metadata": {
    "id": "VS8cCdvE8i7I"
   },
   "source": [
    "🐼 Material de apoio:\n",
    "\n",
    "\n",
    "*   [Tutorial EDA Medium](https://medium.com/rumpydas/beginners-guide-to-eda-exploratory-data-analysis-on-a-real-data-set-using-numpy-pandas-in-python-c0cb4f63d50d)\n",
    "*   [Tutorial EDA kaggle](https://www.kaggle.com/code/imoore/intro-to-exploratory-data-analysis-eda-in-python)\n",
    "*   [Tutorial de EDA de forma aplicada](https://www.youtube.com/watch?v=-o3AxdVcUtQ)"
   ]
  },
  {
   "cell_type": "markdown",
   "metadata": {
    "id": "x5k_FwID9qCs"
   },
   "source": [
    "📚Documentação das bibliotecas:\n",
    "*   [Pandas](https://pandas.pydata.org/pandas-docs/stable/user_guide/10min.html)\n",
    "*   [Numpy](https://numpy.org/doc/stable/user/absolute_beginners.html)\n",
    "*   [Plotly](https://plotly.com/python/basic-charts/)\n",
    "*   [Matplotlib](https://matplotlib.org/stable/tutorials/pyplot.html#sphx-glr-tutorials-pyplot-py)\n",
    "*   [Seaborn](https://seaborn.pydata.org/tutorial/introduction.html#a-high-level-api-for-statistical-graphics)"
   ]
  },
  {
   "cell_type": "markdown",
   "metadata": {
    "id": "5vyNVu3k7O8F"
   },
   "source": [
    "Lembrem-se, a prática leva à perfeição!🧠"
   ]
  },
  {
   "cell_type": "markdown",
   "metadata": {
    "id": "TcKhozZC3MY0"
   },
   "source": [
    "##**Questão 1:** *Desempenho dos Estudantes em Provas*"
   ]
  },
  {
   "cell_type": "markdown",
   "metadata": {
    "id": "cwSJI63--tAG"
   },
   "source": [
    "Analisando o desempenho dos estudantes em matemática, leitura e escrita no arquivo 'q1_estudantes.csv', investigue se há diferenças significativas nas pontuações com base no gênero dos estudantes e no nível de educação dos pais. Além disso, examine se a participação em cursos de preparação para testes está associada a pontuações mais altas nas avaliações."
   ]
  },
  {
   "cell_type": "markdown",
   "metadata": {
    "id": "DwHNOIXu-uRF"
   },
   "source": [
    "### *1.1 Imports* "
   ]
  },
  {
   "cell_type": "code",
   "execution_count": 2,
   "metadata": {
    "id": "D52GuHoC-6QZ"
   },
   "outputs": [],
   "source": [
    "import pandas as pd\n",
    "import numpy as np\n",
    "import matplotlib.pyplot as plt\n",
    "import seaborn as sns"
   ]
  },
  {
   "cell_type": "markdown",
   "metadata": {
    "id": "Q_rZeqiEBBIl"
   },
   "source": [
    "### *1.2 Dataset*"
   ]
  },
  {
   "cell_type": "markdown",
   "metadata": {},
   "source": [
    "1. Defining the DataFrame and displaying it"
   ]
  },
  {
   "cell_type": "code",
   "execution_count": 3,
   "metadata": {
    "id": "MpRdJM5uBLpQ"
   },
   "outputs": [],
   "source": [
    "df = pd.read_csv('q1_estudantes.csv')"
   ]
  },
  {
   "cell_type": "code",
   "execution_count": 4,
   "metadata": {
    "id": "ODW1spdMBVwX"
   },
   "outputs": [
    {
     "data": {
      "text/html": [
       "<div>\n",
       "<style scoped>\n",
       "    .dataframe tbody tr th:only-of-type {\n",
       "        vertical-align: middle;\n",
       "    }\n",
       "\n",
       "    .dataframe tbody tr th {\n",
       "        vertical-align: top;\n",
       "    }\n",
       "\n",
       "    .dataframe thead th {\n",
       "        text-align: right;\n",
       "    }\n",
       "</style>\n",
       "<table border=\"1\" class=\"dataframe\">\n",
       "  <thead>\n",
       "    <tr style=\"text-align: right;\">\n",
       "      <th></th>\n",
       "      <th>gender</th>\n",
       "      <th>race/ethnicity</th>\n",
       "      <th>parental level of education</th>\n",
       "      <th>lunch</th>\n",
       "      <th>test preparation course</th>\n",
       "      <th>math score</th>\n",
       "      <th>reading score</th>\n",
       "      <th>writing score</th>\n",
       "    </tr>\n",
       "  </thead>\n",
       "  <tbody>\n",
       "    <tr>\n",
       "      <th>0</th>\n",
       "      <td>female</td>\n",
       "      <td>group B</td>\n",
       "      <td>bachelor's degree</td>\n",
       "      <td>standard</td>\n",
       "      <td>none</td>\n",
       "      <td>72</td>\n",
       "      <td>72</td>\n",
       "      <td>74</td>\n",
       "    </tr>\n",
       "    <tr>\n",
       "      <th>1</th>\n",
       "      <td>female</td>\n",
       "      <td>group C</td>\n",
       "      <td>some college</td>\n",
       "      <td>standard</td>\n",
       "      <td>completed</td>\n",
       "      <td>69</td>\n",
       "      <td>90</td>\n",
       "      <td>88</td>\n",
       "    </tr>\n",
       "    <tr>\n",
       "      <th>2</th>\n",
       "      <td>female</td>\n",
       "      <td>group B</td>\n",
       "      <td>master's degree</td>\n",
       "      <td>standard</td>\n",
       "      <td>none</td>\n",
       "      <td>90</td>\n",
       "      <td>95</td>\n",
       "      <td>93</td>\n",
       "    </tr>\n",
       "    <tr>\n",
       "      <th>3</th>\n",
       "      <td>male</td>\n",
       "      <td>group A</td>\n",
       "      <td>associate's degree</td>\n",
       "      <td>free/reduced</td>\n",
       "      <td>none</td>\n",
       "      <td>47</td>\n",
       "      <td>57</td>\n",
       "      <td>44</td>\n",
       "    </tr>\n",
       "    <tr>\n",
       "      <th>4</th>\n",
       "      <td>male</td>\n",
       "      <td>group C</td>\n",
       "      <td>some college</td>\n",
       "      <td>standard</td>\n",
       "      <td>none</td>\n",
       "      <td>76</td>\n",
       "      <td>78</td>\n",
       "      <td>75</td>\n",
       "    </tr>\n",
       "    <tr>\n",
       "      <th>...</th>\n",
       "      <td>...</td>\n",
       "      <td>...</td>\n",
       "      <td>...</td>\n",
       "      <td>...</td>\n",
       "      <td>...</td>\n",
       "      <td>...</td>\n",
       "      <td>...</td>\n",
       "      <td>...</td>\n",
       "    </tr>\n",
       "    <tr>\n",
       "      <th>995</th>\n",
       "      <td>female</td>\n",
       "      <td>group E</td>\n",
       "      <td>master's degree</td>\n",
       "      <td>standard</td>\n",
       "      <td>completed</td>\n",
       "      <td>88</td>\n",
       "      <td>99</td>\n",
       "      <td>95</td>\n",
       "    </tr>\n",
       "    <tr>\n",
       "      <th>996</th>\n",
       "      <td>male</td>\n",
       "      <td>group C</td>\n",
       "      <td>high school</td>\n",
       "      <td>free/reduced</td>\n",
       "      <td>none</td>\n",
       "      <td>62</td>\n",
       "      <td>55</td>\n",
       "      <td>55</td>\n",
       "    </tr>\n",
       "    <tr>\n",
       "      <th>997</th>\n",
       "      <td>female</td>\n",
       "      <td>group C</td>\n",
       "      <td>high school</td>\n",
       "      <td>free/reduced</td>\n",
       "      <td>completed</td>\n",
       "      <td>59</td>\n",
       "      <td>71</td>\n",
       "      <td>65</td>\n",
       "    </tr>\n",
       "    <tr>\n",
       "      <th>998</th>\n",
       "      <td>female</td>\n",
       "      <td>group D</td>\n",
       "      <td>some college</td>\n",
       "      <td>standard</td>\n",
       "      <td>completed</td>\n",
       "      <td>68</td>\n",
       "      <td>78</td>\n",
       "      <td>77</td>\n",
       "    </tr>\n",
       "    <tr>\n",
       "      <th>999</th>\n",
       "      <td>female</td>\n",
       "      <td>group D</td>\n",
       "      <td>some college</td>\n",
       "      <td>free/reduced</td>\n",
       "      <td>none</td>\n",
       "      <td>77</td>\n",
       "      <td>86</td>\n",
       "      <td>86</td>\n",
       "    </tr>\n",
       "  </tbody>\n",
       "</table>\n",
       "<p>1000 rows × 8 columns</p>\n",
       "</div>"
      ],
      "text/plain": [
       "     gender race/ethnicity parental level of education         lunch  \\\n",
       "0    female        group B           bachelor's degree      standard   \n",
       "1    female        group C                some college      standard   \n",
       "2    female        group B             master's degree      standard   \n",
       "3      male        group A          associate's degree  free/reduced   \n",
       "4      male        group C                some college      standard   \n",
       "..      ...            ...                         ...           ...   \n",
       "995  female        group E             master's degree      standard   \n",
       "996    male        group C                 high school  free/reduced   \n",
       "997  female        group C                 high school  free/reduced   \n",
       "998  female        group D                some college      standard   \n",
       "999  female        group D                some college  free/reduced   \n",
       "\n",
       "    test preparation course  math score  reading score  writing score  \n",
       "0                      none          72             72             74  \n",
       "1                 completed          69             90             88  \n",
       "2                      none          90             95             93  \n",
       "3                      none          47             57             44  \n",
       "4                      none          76             78             75  \n",
       "..                      ...         ...            ...            ...  \n",
       "995               completed          88             99             95  \n",
       "996                    none          62             55             55  \n",
       "997               completed          59             71             65  \n",
       "998               completed          68             78             77  \n",
       "999                    none          77             86             86  \n",
       "\n",
       "[1000 rows x 8 columns]"
      ]
     },
     "execution_count": 4,
     "metadata": {},
     "output_type": "execute_result"
    }
   ],
   "source": [
    "df # Isso irá me mostrar a head(5) e a tail(5)"
   ]
  },
  {
   "cell_type": "markdown",
   "metadata": {},
   "source": [
    "2. Cleaning data"
   ]
  },
  {
   "cell_type": "code",
   "execution_count": 5,
   "metadata": {
    "id": "_IndwL24BfDd"
   },
   "outputs": [
    {
     "name": "stdout",
     "output_type": "stream",
     "text": [
      "<class 'pandas.core.frame.DataFrame'>\n",
      "RangeIndex: 1000 entries, 0 to 999\n",
      "Data columns (total 8 columns):\n",
      " #   Column                       Non-Null Count  Dtype \n",
      "---  ------                       --------------  ----- \n",
      " 0   gender                       1000 non-null   object\n",
      " 1   race/ethnicity               1000 non-null   object\n",
      " 2   parental level of education  1000 non-null   object\n",
      " 3   lunch                        1000 non-null   object\n",
      " 4   test preparation course      1000 non-null   object\n",
      " 5   math score                   1000 non-null   int64 \n",
      " 6   reading score                1000 non-null   int64 \n",
      " 7   writing score                1000 non-null   int64 \n",
      "dtypes: int64(3), object(5)\n",
      "memory usage: 62.6+ KB\n"
     ]
    },
    {
     "data": {
      "text/plain": [
       "gender                         0\n",
       "race/ethnicity                 0\n",
       "parental level of education    0\n",
       "lunch                          0\n",
       "test preparation course        0\n",
       "math score                     0\n",
       "reading score                  0\n",
       "writing score                  0\n",
       "dtype: int64"
      ]
     },
     "execution_count": 5,
     "metadata": {},
     "output_type": "execute_result"
    }
   ],
   "source": [
    "df.info() # É legal dar info() para ver os tipos de valor que estamos tratando\n",
    "df.isnull().sum() # Aparentemente o dataset não possui valores nulos"
   ]
  },
  {
   "cell_type": "code",
   "execution_count": 6,
   "metadata": {},
   "outputs": [
    {
     "data": {
      "text/html": [
       "<div>\n",
       "<style scoped>\n",
       "    .dataframe tbody tr th:only-of-type {\n",
       "        vertical-align: middle;\n",
       "    }\n",
       "\n",
       "    .dataframe tbody tr th {\n",
       "        vertical-align: top;\n",
       "    }\n",
       "\n",
       "    .dataframe thead th {\n",
       "        text-align: right;\n",
       "    }\n",
       "</style>\n",
       "<table border=\"1\" class=\"dataframe\">\n",
       "  <thead>\n",
       "    <tr style=\"text-align: right;\">\n",
       "      <th></th>\n",
       "      <th>gender</th>\n",
       "      <th>race/ethnicity</th>\n",
       "      <th>parental level of education</th>\n",
       "      <th>lunch</th>\n",
       "      <th>test preparation course</th>\n",
       "      <th>math score</th>\n",
       "      <th>reading score</th>\n",
       "      <th>writing score</th>\n",
       "    </tr>\n",
       "  </thead>\n",
       "  <tbody>\n",
       "    <tr>\n",
       "      <th>0</th>\n",
       "      <td>female</td>\n",
       "      <td>group B</td>\n",
       "      <td>bachelor's degree</td>\n",
       "      <td>standard</td>\n",
       "      <td>False</td>\n",
       "      <td>72</td>\n",
       "      <td>72</td>\n",
       "      <td>74</td>\n",
       "    </tr>\n",
       "    <tr>\n",
       "      <th>1</th>\n",
       "      <td>female</td>\n",
       "      <td>group C</td>\n",
       "      <td>some college</td>\n",
       "      <td>standard</td>\n",
       "      <td>True</td>\n",
       "      <td>69</td>\n",
       "      <td>90</td>\n",
       "      <td>88</td>\n",
       "    </tr>\n",
       "    <tr>\n",
       "      <th>2</th>\n",
       "      <td>female</td>\n",
       "      <td>group B</td>\n",
       "      <td>master's degree</td>\n",
       "      <td>standard</td>\n",
       "      <td>False</td>\n",
       "      <td>90</td>\n",
       "      <td>95</td>\n",
       "      <td>93</td>\n",
       "    </tr>\n",
       "    <tr>\n",
       "      <th>3</th>\n",
       "      <td>male</td>\n",
       "      <td>group A</td>\n",
       "      <td>associate's degree</td>\n",
       "      <td>free/reduced</td>\n",
       "      <td>False</td>\n",
       "      <td>47</td>\n",
       "      <td>57</td>\n",
       "      <td>44</td>\n",
       "    </tr>\n",
       "    <tr>\n",
       "      <th>4</th>\n",
       "      <td>male</td>\n",
       "      <td>group C</td>\n",
       "      <td>some college</td>\n",
       "      <td>standard</td>\n",
       "      <td>False</td>\n",
       "      <td>76</td>\n",
       "      <td>78</td>\n",
       "      <td>75</td>\n",
       "    </tr>\n",
       "    <tr>\n",
       "      <th>...</th>\n",
       "      <td>...</td>\n",
       "      <td>...</td>\n",
       "      <td>...</td>\n",
       "      <td>...</td>\n",
       "      <td>...</td>\n",
       "      <td>...</td>\n",
       "      <td>...</td>\n",
       "      <td>...</td>\n",
       "    </tr>\n",
       "    <tr>\n",
       "      <th>995</th>\n",
       "      <td>female</td>\n",
       "      <td>group E</td>\n",
       "      <td>master's degree</td>\n",
       "      <td>standard</td>\n",
       "      <td>True</td>\n",
       "      <td>88</td>\n",
       "      <td>99</td>\n",
       "      <td>95</td>\n",
       "    </tr>\n",
       "    <tr>\n",
       "      <th>996</th>\n",
       "      <td>male</td>\n",
       "      <td>group C</td>\n",
       "      <td>high school</td>\n",
       "      <td>free/reduced</td>\n",
       "      <td>False</td>\n",
       "      <td>62</td>\n",
       "      <td>55</td>\n",
       "      <td>55</td>\n",
       "    </tr>\n",
       "    <tr>\n",
       "      <th>997</th>\n",
       "      <td>female</td>\n",
       "      <td>group C</td>\n",
       "      <td>high school</td>\n",
       "      <td>free/reduced</td>\n",
       "      <td>True</td>\n",
       "      <td>59</td>\n",
       "      <td>71</td>\n",
       "      <td>65</td>\n",
       "    </tr>\n",
       "    <tr>\n",
       "      <th>998</th>\n",
       "      <td>female</td>\n",
       "      <td>group D</td>\n",
       "      <td>some college</td>\n",
       "      <td>standard</td>\n",
       "      <td>True</td>\n",
       "      <td>68</td>\n",
       "      <td>78</td>\n",
       "      <td>77</td>\n",
       "    </tr>\n",
       "    <tr>\n",
       "      <th>999</th>\n",
       "      <td>female</td>\n",
       "      <td>group D</td>\n",
       "      <td>some college</td>\n",
       "      <td>free/reduced</td>\n",
       "      <td>False</td>\n",
       "      <td>77</td>\n",
       "      <td>86</td>\n",
       "      <td>86</td>\n",
       "    </tr>\n",
       "  </tbody>\n",
       "</table>\n",
       "<p>1000 rows × 8 columns</p>\n",
       "</div>"
      ],
      "text/plain": [
       "     gender race/ethnicity parental level of education         lunch  \\\n",
       "0    female        group B           bachelor's degree      standard   \n",
       "1    female        group C                some college      standard   \n",
       "2    female        group B             master's degree      standard   \n",
       "3      male        group A          associate's degree  free/reduced   \n",
       "4      male        group C                some college      standard   \n",
       "..      ...            ...                         ...           ...   \n",
       "995  female        group E             master's degree      standard   \n",
       "996    male        group C                 high school  free/reduced   \n",
       "997  female        group C                 high school  free/reduced   \n",
       "998  female        group D                some college      standard   \n",
       "999  female        group D                some college  free/reduced   \n",
       "\n",
       "     test preparation course  math score  reading score  writing score  \n",
       "0                      False          72             72             74  \n",
       "1                       True          69             90             88  \n",
       "2                      False          90             95             93  \n",
       "3                      False          47             57             44  \n",
       "4                      False          76             78             75  \n",
       "..                       ...         ...            ...            ...  \n",
       "995                     True          88             99             95  \n",
       "996                    False          62             55             55  \n",
       "997                     True          59             71             65  \n",
       "998                     True          68             78             77  \n",
       "999                    False          77             86             86  \n",
       "\n",
       "[1000 rows x 8 columns]"
      ]
     },
     "execution_count": 6,
     "metadata": {},
     "output_type": "execute_result"
    }
   ],
   "source": [
    "# Apesar disso existe uma coluna que é interessante mudarmos os valores a fim não causar futuros conflitos, a coluna 'test preparation course' tem valores \"none\" e podemos trocá-los...\n",
    "df['test preparation course'] = df['test preparation course'].replace({'completed': True, 'none': False})\n",
    "df"
   ]
  },
  {
   "cell_type": "code",
   "execution_count": 7,
   "metadata": {},
   "outputs": [
    {
     "data": {
      "text/plain": [
       "<Axes: xlabel='math score'>"
      ]
     },
     "execution_count": 7,
     "metadata": {},
     "output_type": "execute_result"
    },
    {
     "data": {
      "image/png": "[encoded data removed]",
      "text/plain": [
       "<Figure size 640x480 with 1 Axes>"
      ]
     },
     "metadata": {},
     "output_type": "display_data"
    }
   ],
   "source": [
    "# Aqui nós também podemos identificar Outliers e poderíamos tratá-los, como, por exemplo, os valores MUITO baixos para as notas dos alunos... Falo mais sobre na conclusão.\n",
    "sns.boxplot(x=df['math score']) # Fiquei trocando entre as colunas de score para analisar os outliers em cada uma."
   ]
  },
  {
   "cell_type": "markdown",
   "metadata": {
    "id": "PFGsjVcKCCSE"
   },
   "source": [
    "### *1.3 Vizualização*"
   ]
  },
  {
   "cell_type": "markdown",
   "metadata": {
    "id": "I5I--DuVCEV8"
   },
   "source": [
    "1. Relationship Analysis"
   ]
  },
  {
   "cell_type": "code",
   "execution_count": 18,
   "metadata": {},
   "outputs": [
    {
     "data": {
      "image/png": "[encoded data removed]",
      "text/plain": [
       "<Figure size 1100x600 with 1 Axes>"
      ]
     },
     "metadata": {},
     "output_type": "display_data"
    }
   ],
   "source": [
    "# Aqui eu calculei a média das notas dos alunos para cada nível de educação dos pais\n",
    "mean_scores_by_parental_education = df.groupby('parental level of education').mean(numeric_only=True) # Sempre lembrar de dar numeric_only nessa versão\n",
    "\n",
    "# Ordenando os dados pelo índice para manter a ordem dos níveis de educação (Precisei do ChatGPT para isso, fica legal assim)\n",
    "mean_scores_by_parental_education = mean_scores_by_parental_education.reindex(['some high school', 'high school', \n",
    "                                                                              'some college', \"associate's degree\",\n",
    "                                                                              \"bachelor's degree\", \"master's degree\"])\n",
    "# Pronto, agora plotei o gráfico de barras\n",
    "mean_scores_by_parental_education[['math score', 'reading score', 'writing score']].plot(\n",
    "    kind='bar',\n",
    "    figsize=(11, 6)\n",
    ")\n",
    "plt.title('Average Grades by Parental Level of Education', fontsize=14, fontweight='bold')\n",
    "plt.xlabel('Parental Level of Education', fontsize=12, fontweight='bold')\n",
    "plt.ylabel('Mean score', fontsize=12, fontweight='bold')\n",
    "plt.xticks(fontsize=11, rotation=0, ha='center')\n",
    "plt.legend(['Mathmatics', 'Reading', 'Writing'])\n",
    "plt.tight_layout(h_pad=1.0)\n",
    "plt.show()"
   ]
  },
  {
   "cell_type": "markdown",
   "metadata": {},
   "source": [
    "2. Gender comparative Analysis"
   ]
  },
  {
   "cell_type": "code",
   "execution_count": 26,
   "metadata": {},
   "outputs": [
    {
     "data": {
      "image/png": "[encoded data removed]",
      "text/plain": [
       "<Figure size 1000x500 with 1 Axes>"
      ]
     },
     "metadata": {},
     "output_type": "display_data"
    },
    {
     "data": {
      "image/png": "[encoded data removed]",
      "text/plain": [
       "<Figure size 1000x500 with 1 Axes>"
      ]
     },
     "metadata": {},
     "output_type": "display_data"
    }
   ],
   "source": [
    "# Primeiro eu resolvi criar uma coluna para armazenar a média da nota dos alunos nas 3 matérias:\n",
    "df[\"mean score\"] = round((df[\"math score\"] + df[\"reading score\"] + df[\"writing score\"]) / 3, 1) \n",
    "\n",
    "# Depois eu quis pegar a média por gênero em cada uma das 3 matérias:\n",
    "female_mean = df[df['gender'] == 'female'][['math score', 'reading score', 'writing score', 'mean score']].mean()\n",
    "male_mean = df[df['gender'] == 'male'][['math score', 'reading score', 'writing score', 'mean score']].mean()\n",
    "\n",
    "# Agora eu vou plotar o gráfico para as médias femininas\n",
    "plt.figure(figsize=(10, 5))\n",
    "female_mean.plot(kind='bar', color='pink')\n",
    "plt.title('Female mean in each subject', fontsize=14, fontweight='bold')\n",
    "plt.xlabel('Subject', fontweight='bold')\n",
    "plt.ylabel('Mean', fontweight='bold')\n",
    "plt.xticks(rotation=0)\n",
    "# Adicionei os valores das médias nas barras\n",
    "for i, valor in enumerate(female_mean):\n",
    "    plt.annotate(round(valor, 2), xy=(i, valor), ha='center', va='bottom')\n",
    "plt.show()\n",
    "\n",
    "# E agora o gráfico para as médias masculinas\n",
    "plt.figure(figsize=(10, 5))\n",
    "male_mean.plot(kind='bar', color='blue')\n",
    "plt.title('Male mean in each subject', fontsize=14, fontweight='bold')\n",
    "plt.xlabel('Subject', fontweight='bold')\n",
    "plt.ylabel('Mean', fontweight='bold')\n",
    "plt.xticks(rotation=0)\n",
    "# Adicionei os valores das médias\n",
    "for i, valor in enumerate(male_mean):\n",
    "    plt.annotate(round(valor, 2), xy=(i, valor), ha='center', va='bottom')\n",
    "plt.show()"
   ]
  },
  {
   "cell_type": "markdown",
   "metadata": {
    "id": "vr00cjbUC5ph"
   },
   "source": [
    "### *1.4 Conclusões*"
   ]
  },
  {
   "cell_type": "code",
   "execution_count": 105,
   "metadata": {
    "id": "h7tI2_-TCOPp"
   },
   "outputs": [
    {
     "name": "stdout",
     "output_type": "stream",
     "text": [
      "\n",
      "1) Outliers: podemos ver que existem outliers nas notas dos alunos, entretanto, conversando com Felipe, resolvi não tratá-los por hora, pois iremos aprender isso quando formos lidar com ML de fato.\n",
      "\n",
      "2) Valores das notas pela educação parental: aqui vemos uma triste realidade, na qual o nível de escolaridade dos pais influencia diretamente os filhos, os filhos de pais que tem apenas ensino médio completo tendem a ter notas mais baixas que a média - provavelmente devido a problemas financeiros ou por falta de ajuda nos deveres de casa...\n",
      "\n",
      "3) Valores das notas por gênero: podemos concluir que em geral as notas femininas são melhores que as masculinas, porém podemos ver também que as masculinas são mais altas que as femininas em Matemática - inferindo, a apartir dos dados, que os homens tem mais afinidade pela área. Enquanto as mulheres tem mais afinidade pela leitura e pela escrita.\n",
      "\n"
     ]
    }
   ],
   "source": [
    "#Insira aqui as conclusões que você conseguiu absorver a partir desse Dataset.\n",
    "print(\n",
    "\"\"\"\n",
    "1) Outliers: podemos ver que existem outliers nas notas dos alunos, entretanto, conversando com Felipe, resolvi não tratá-los por hora, pois iremos aprender isso quando formos lidar com ML de fato.\n",
    "\n",
    "2) Valores das notas pela educação parental: aqui vemos uma triste realidade, na qual o nível de escolaridade dos pais influencia diretamente os filhos, os filhos de pais que tem apenas ensino médio completo tendem a ter notas mais baixas que a média - provavelmente devido a problemas financeiros ou por falta de ajuda nos deveres de casa...\n",
    "\n",
    "3) Valores das notas por gênero: podemos concluir que em geral as notas femininas são melhores que as masculinas, porém podemos ver também que as masculinas são mais altas que as femininas em Matemática - inferindo, a apartir dos dados, que os homens tem mais afinidade pela área. Enquanto as mulheres tem mais afinidade pela leitura e pela escrita.\n",
    "\"\"\"\n",
    ")"
   ]
  },
  {
   "cell_type": "markdown",
   "metadata": {
    "id": "1f-X95LL4xZ-"
   },
   "source": [
    "### **Questão 2:** *Indicadores de Mudança de Clima*\n"
   ]
  },
  {
   "cell_type": "markdown",
   "metadata": {
    "id": "X7fuSFjIChjP"
   },
   "source": [
    "Examine as tendências de mudança de temperatura ao longo dos anos, conforme apresentado no arquivo 'q2_clima.csv'. Analise como diferentes países e regiões têm experimentado variações na temperatura média ao longo do tempo. Além disso, explore possíveis correlações entre o grau de variação de temperatura e fatores geográficos ou econômicos dos países."
   ]
  },
  {
   "cell_type": "markdown",
   "metadata": {
    "id": "doEXHvxLChjP"
   },
   "source": [
    "### *2.1 Imports*"
   ]
  },
  {
   "cell_type": "code",
   "execution_count": 34,
   "metadata": {
    "id": "debd52UrDMhZ"
   },
   "outputs": [],
   "source": [
    "import pandas as pd\n",
    "import numpy as np\n",
    "import matplotlib.pyplot as plt\n",
    "import seaborn as sns"
   ]
  },
  {
   "cell_type": "markdown",
   "metadata": {
    "id": "gqUfDU3cChjP"
   },
   "source": [
    "### *2.2 Dataset*"
   ]
  },
  {
   "cell_type": "markdown",
   "metadata": {},
   "source": [
    "1. Defining the DataFrame and displaying it"
   ]
  },
  {
   "cell_type": "code",
   "execution_count": 35,
   "metadata": {
    "id": "OYa4uJvxDNF_"
   },
   "outputs": [
    {
     "data": {
      "text/html": [
       "<div>\n",
       "<style scoped>\n",
       "    .dataframe tbody tr th:only-of-type {\n",
       "        vertical-align: middle;\n",
       "    }\n",
       "\n",
       "    .dataframe tbody tr th {\n",
       "        vertical-align: top;\n",
       "    }\n",
       "\n",
       "    .dataframe thead th {\n",
       "        text-align: right;\n",
       "    }\n",
       "</style>\n",
       "<table border=\"1\" class=\"dataframe\">\n",
       "  <thead>\n",
       "    <tr style=\"text-align: right;\">\n",
       "      <th></th>\n",
       "      <th>ObjectId</th>\n",
       "      <th>Country</th>\n",
       "      <th>ISO2</th>\n",
       "      <th>ISO3</th>\n",
       "      <th>Indicator</th>\n",
       "      <th>Unit</th>\n",
       "      <th>Source</th>\n",
       "      <th>CTS_Code</th>\n",
       "      <th>CTS_Name</th>\n",
       "      <th>CTS_Full_Descriptor</th>\n",
       "      <th>...</th>\n",
       "      <th>F2013</th>\n",
       "      <th>F2014</th>\n",
       "      <th>F2015</th>\n",
       "      <th>F2016</th>\n",
       "      <th>F2017</th>\n",
       "      <th>F2018</th>\n",
       "      <th>F2019</th>\n",
       "      <th>F2020</th>\n",
       "      <th>F2021</th>\n",
       "      <th>F2022</th>\n",
       "    </tr>\n",
       "  </thead>\n",
       "  <tbody>\n",
       "    <tr>\n",
       "      <th>0</th>\n",
       "      <td>1</td>\n",
       "      <td>Afghanistan, Islamic Rep. of</td>\n",
       "      <td>AF</td>\n",
       "      <td>AFG</td>\n",
       "      <td>Temperature change with respect to a baseline ...</td>\n",
       "      <td>Degree Celsius</td>\n",
       "      <td>Food and Agriculture Organization of the Unite...</td>\n",
       "      <td>ECCS</td>\n",
       "      <td>Surface Temperature Change</td>\n",
       "      <td>Environment, Climate Change, Climate Indicator...</td>\n",
       "      <td>...</td>\n",
       "      <td>1.281</td>\n",
       "      <td>0.456</td>\n",
       "      <td>1.093</td>\n",
       "      <td>1.555</td>\n",
       "      <td>1.540</td>\n",
       "      <td>1.544</td>\n",
       "      <td>0.910</td>\n",
       "      <td>0.498</td>\n",
       "      <td>1.327</td>\n",
       "      <td>2.012</td>\n",
       "    </tr>\n",
       "    <tr>\n",
       "      <th>1</th>\n",
       "      <td>2</td>\n",
       "      <td>Albania</td>\n",
       "      <td>AL</td>\n",
       "      <td>ALB</td>\n",
       "      <td>Temperature change with respect to a baseline ...</td>\n",
       "      <td>Degree Celsius</td>\n",
       "      <td>Food and Agriculture Organization of the Unite...</td>\n",
       "      <td>ECCS</td>\n",
       "      <td>Surface Temperature Change</td>\n",
       "      <td>Environment, Climate Change, Climate Indicator...</td>\n",
       "      <td>...</td>\n",
       "      <td>1.333</td>\n",
       "      <td>1.198</td>\n",
       "      <td>1.569</td>\n",
       "      <td>1.464</td>\n",
       "      <td>1.121</td>\n",
       "      <td>2.028</td>\n",
       "      <td>1.675</td>\n",
       "      <td>1.498</td>\n",
       "      <td>1.536</td>\n",
       "      <td>1.518</td>\n",
       "    </tr>\n",
       "    <tr>\n",
       "      <th>2</th>\n",
       "      <td>3</td>\n",
       "      <td>Algeria</td>\n",
       "      <td>DZ</td>\n",
       "      <td>DZA</td>\n",
       "      <td>Temperature change with respect to a baseline ...</td>\n",
       "      <td>Degree Celsius</td>\n",
       "      <td>Food and Agriculture Organization of the Unite...</td>\n",
       "      <td>ECCS</td>\n",
       "      <td>Surface Temperature Change</td>\n",
       "      <td>Environment, Climate Change, Climate Indicator...</td>\n",
       "      <td>...</td>\n",
       "      <td>1.192</td>\n",
       "      <td>1.690</td>\n",
       "      <td>1.121</td>\n",
       "      <td>1.757</td>\n",
       "      <td>1.512</td>\n",
       "      <td>1.210</td>\n",
       "      <td>1.115</td>\n",
       "      <td>1.926</td>\n",
       "      <td>2.330</td>\n",
       "      <td>1.688</td>\n",
       "    </tr>\n",
       "    <tr>\n",
       "      <th>3</th>\n",
       "      <td>4</td>\n",
       "      <td>American Samoa</td>\n",
       "      <td>AS</td>\n",
       "      <td>ASM</td>\n",
       "      <td>Temperature change with respect to a baseline ...</td>\n",
       "      <td>Degree Celsius</td>\n",
       "      <td>Food and Agriculture Organization of the Unite...</td>\n",
       "      <td>ECCS</td>\n",
       "      <td>Surface Temperature Change</td>\n",
       "      <td>Environment, Climate Change, Climate Indicator...</td>\n",
       "      <td>...</td>\n",
       "      <td>1.257</td>\n",
       "      <td>1.170</td>\n",
       "      <td>1.009</td>\n",
       "      <td>1.539</td>\n",
       "      <td>1.435</td>\n",
       "      <td>1.189</td>\n",
       "      <td>1.539</td>\n",
       "      <td>1.430</td>\n",
       "      <td>1.268</td>\n",
       "      <td>1.256</td>\n",
       "    </tr>\n",
       "    <tr>\n",
       "      <th>4</th>\n",
       "      <td>5</td>\n",
       "      <td>Andorra, Principality of</td>\n",
       "      <td>AD</td>\n",
       "      <td>AND</td>\n",
       "      <td>Temperature change with respect to a baseline ...</td>\n",
       "      <td>Degree Celsius</td>\n",
       "      <td>Food and Agriculture Organization of the Unite...</td>\n",
       "      <td>ECCS</td>\n",
       "      <td>Surface Temperature Change</td>\n",
       "      <td>Environment, Climate Change, Climate Indicator...</td>\n",
       "      <td>...</td>\n",
       "      <td>0.831</td>\n",
       "      <td>1.946</td>\n",
       "      <td>1.690</td>\n",
       "      <td>1.990</td>\n",
       "      <td>1.925</td>\n",
       "      <td>1.919</td>\n",
       "      <td>1.964</td>\n",
       "      <td>2.562</td>\n",
       "      <td>1.533</td>\n",
       "      <td>3.243</td>\n",
       "    </tr>\n",
       "    <tr>\n",
       "      <th>...</th>\n",
       "      <td>...</td>\n",
       "      <td>...</td>\n",
       "      <td>...</td>\n",
       "      <td>...</td>\n",
       "      <td>...</td>\n",
       "      <td>...</td>\n",
       "      <td>...</td>\n",
       "      <td>...</td>\n",
       "      <td>...</td>\n",
       "      <td>...</td>\n",
       "      <td>...</td>\n",
       "      <td>...</td>\n",
       "      <td>...</td>\n",
       "      <td>...</td>\n",
       "      <td>...</td>\n",
       "      <td>...</td>\n",
       "      <td>...</td>\n",
       "      <td>...</td>\n",
       "      <td>...</td>\n",
       "      <td>...</td>\n",
       "      <td>...</td>\n",
       "    </tr>\n",
       "    <tr>\n",
       "      <th>220</th>\n",
       "      <td>221</td>\n",
       "      <td>Western Sahara</td>\n",
       "      <td>EH</td>\n",
       "      <td>ESH</td>\n",
       "      <td>Temperature change with respect to a baseline ...</td>\n",
       "      <td>Degree Celsius</td>\n",
       "      <td>Food and Agriculture Organization of the Unite...</td>\n",
       "      <td>ECCS</td>\n",
       "      <td>Surface Temperature Change</td>\n",
       "      <td>Environment, Climate Change, Climate Indicator...</td>\n",
       "      <td>...</td>\n",
       "      <td>1.423</td>\n",
       "      <td>1.401</td>\n",
       "      <td>1.510</td>\n",
       "      <td>1.732</td>\n",
       "      <td>2.204</td>\n",
       "      <td>0.942</td>\n",
       "      <td>1.477</td>\n",
       "      <td>2.069</td>\n",
       "      <td>1.593</td>\n",
       "      <td>1.970</td>\n",
       "    </tr>\n",
       "    <tr>\n",
       "      <th>221</th>\n",
       "      <td>222</td>\n",
       "      <td>World</td>\n",
       "      <td>NaN</td>\n",
       "      <td>WLD</td>\n",
       "      <td>Temperature change with respect to a baseline ...</td>\n",
       "      <td>Degree Celsius</td>\n",
       "      <td>Food and Agriculture Organization of the Unite...</td>\n",
       "      <td>ECCS</td>\n",
       "      <td>Surface Temperature Change</td>\n",
       "      <td>Environment, Climate Change, Climate Indicator...</td>\n",
       "      <td>...</td>\n",
       "      <td>1.016</td>\n",
       "      <td>1.053</td>\n",
       "      <td>1.412</td>\n",
       "      <td>1.660</td>\n",
       "      <td>1.429</td>\n",
       "      <td>1.290</td>\n",
       "      <td>1.444</td>\n",
       "      <td>1.711</td>\n",
       "      <td>1.447</td>\n",
       "      <td>1.394</td>\n",
       "    </tr>\n",
       "    <tr>\n",
       "      <th>222</th>\n",
       "      <td>223</td>\n",
       "      <td>Yemen, Rep. of</td>\n",
       "      <td>YE</td>\n",
       "      <td>YEM</td>\n",
       "      <td>Temperature change with respect to a baseline ...</td>\n",
       "      <td>Degree Celsius</td>\n",
       "      <td>Food and Agriculture Organization of the Unite...</td>\n",
       "      <td>ECCS</td>\n",
       "      <td>Surface Temperature Change</td>\n",
       "      <td>Environment, Climate Change, Climate Indicator...</td>\n",
       "      <td>...</td>\n",
       "      <td>NaN</td>\n",
       "      <td>NaN</td>\n",
       "      <td>NaN</td>\n",
       "      <td>NaN</td>\n",
       "      <td>NaN</td>\n",
       "      <td>NaN</td>\n",
       "      <td>NaN</td>\n",
       "      <td>NaN</td>\n",
       "      <td>NaN</td>\n",
       "      <td>NaN</td>\n",
       "    </tr>\n",
       "    <tr>\n",
       "      <th>223</th>\n",
       "      <td>224</td>\n",
       "      <td>Zambia</td>\n",
       "      <td>ZM</td>\n",
       "      <td>ZMB</td>\n",
       "      <td>Temperature change with respect to a baseline ...</td>\n",
       "      <td>Degree Celsius</td>\n",
       "      <td>Food and Agriculture Organization of the Unite...</td>\n",
       "      <td>ECCS</td>\n",
       "      <td>Surface Temperature Change</td>\n",
       "      <td>Environment, Climate Change, Climate Indicator...</td>\n",
       "      <td>...</td>\n",
       "      <td>0.790</td>\n",
       "      <td>0.917</td>\n",
       "      <td>1.450</td>\n",
       "      <td>1.401</td>\n",
       "      <td>0.105</td>\n",
       "      <td>0.648</td>\n",
       "      <td>0.855</td>\n",
       "      <td>0.891</td>\n",
       "      <td>0.822</td>\n",
       "      <td>0.686</td>\n",
       "    </tr>\n",
       "    <tr>\n",
       "      <th>224</th>\n",
       "      <td>225</td>\n",
       "      <td>Zimbabwe</td>\n",
       "      <td>ZW</td>\n",
       "      <td>ZWE</td>\n",
       "      <td>Temperature change with respect to a baseline ...</td>\n",
       "      <td>Degree Celsius</td>\n",
       "      <td>Food and Agriculture Organization of the Unite...</td>\n",
       "      <td>ECCS</td>\n",
       "      <td>Surface Temperature Change</td>\n",
       "      <td>Environment, Climate Change, Climate Indicator...</td>\n",
       "      <td>...</td>\n",
       "      <td>0.118</td>\n",
       "      <td>0.025</td>\n",
       "      <td>0.970</td>\n",
       "      <td>1.270</td>\n",
       "      <td>0.088</td>\n",
       "      <td>0.453</td>\n",
       "      <td>0.925</td>\n",
       "      <td>0.389</td>\n",
       "      <td>-0.125</td>\n",
       "      <td>-0.490</td>\n",
       "    </tr>\n",
       "  </tbody>\n",
       "</table>\n",
       "<p>225 rows × 72 columns</p>\n",
       "</div>"
      ],
      "text/plain": [
       "     ObjectId                       Country ISO2 ISO3  \\\n",
       "0           1  Afghanistan, Islamic Rep. of   AF  AFG   \n",
       "1           2                       Albania   AL  ALB   \n",
       "2           3                       Algeria   DZ  DZA   \n",
       "3           4                American Samoa   AS  ASM   \n",
       "4           5      Andorra, Principality of   AD  AND   \n",
       "..        ...                           ...  ...  ...   \n",
       "220       221                Western Sahara   EH  ESH   \n",
       "221       222                         World  NaN  WLD   \n",
       "222       223                Yemen, Rep. of   YE  YEM   \n",
       "223       224                        Zambia   ZM  ZMB   \n",
       "224       225                      Zimbabwe   ZW  ZWE   \n",
       "\n",
       "                                             Indicator            Unit  \\\n",
       "0    Temperature change with respect to a baseline ...  Degree Celsius   \n",
       "1    Temperature change with respect to a baseline ...  Degree Celsius   \n",
       "2    Temperature change with respect to a baseline ...  Degree Celsius   \n",
       "3    Temperature change with respect to a baseline ...  Degree Celsius   \n",
       "4    Temperature change with respect to a baseline ...  Degree Celsius   \n",
       "..                                                 ...             ...   \n",
       "220  Temperature change with respect to a baseline ...  Degree Celsius   \n",
       "221  Temperature change with respect to a baseline ...  Degree Celsius   \n",
       "222  Temperature change with respect to a baseline ...  Degree Celsius   \n",
       "223  Temperature change with respect to a baseline ...  Degree Celsius   \n",
       "224  Temperature change with respect to a baseline ...  Degree Celsius   \n",
       "\n",
       "                                                Source CTS_Code  \\\n",
       "0    Food and Agriculture Organization of the Unite...     ECCS   \n",
       "1    Food and Agriculture Organization of the Unite...     ECCS   \n",
       "2    Food and Agriculture Organization of the Unite...     ECCS   \n",
       "3    Food and Agriculture Organization of the Unite...     ECCS   \n",
       "4    Food and Agriculture Organization of the Unite...     ECCS   \n",
       "..                                                 ...      ...   \n",
       "220  Food and Agriculture Organization of the Unite...     ECCS   \n",
       "221  Food and Agriculture Organization of the Unite...     ECCS   \n",
       "222  Food and Agriculture Organization of the Unite...     ECCS   \n",
       "223  Food and Agriculture Organization of the Unite...     ECCS   \n",
       "224  Food and Agriculture Organization of the Unite...     ECCS   \n",
       "\n",
       "                       CTS_Name  \\\n",
       "0    Surface Temperature Change   \n",
       "1    Surface Temperature Change   \n",
       "2    Surface Temperature Change   \n",
       "3    Surface Temperature Change   \n",
       "4    Surface Temperature Change   \n",
       "..                          ...   \n",
       "220  Surface Temperature Change   \n",
       "221  Surface Temperature Change   \n",
       "222  Surface Temperature Change   \n",
       "223  Surface Temperature Change   \n",
       "224  Surface Temperature Change   \n",
       "\n",
       "                                   CTS_Full_Descriptor  ...  F2013  F2014  \\\n",
       "0    Environment, Climate Change, Climate Indicator...  ...  1.281  0.456   \n",
       "1    Environment, Climate Change, Climate Indicator...  ...  1.333  1.198   \n",
       "2    Environment, Climate Change, Climate Indicator...  ...  1.192  1.690   \n",
       "3    Environment, Climate Change, Climate Indicator...  ...  1.257  1.170   \n",
       "4    Environment, Climate Change, Climate Indicator...  ...  0.831  1.946   \n",
       "..                                                 ...  ...    ...    ...   \n",
       "220  Environment, Climate Change, Climate Indicator...  ...  1.423  1.401   \n",
       "221  Environment, Climate Change, Climate Indicator...  ...  1.016  1.053   \n",
       "222  Environment, Climate Change, Climate Indicator...  ...    NaN    NaN   \n",
       "223  Environment, Climate Change, Climate Indicator...  ...  0.790  0.917   \n",
       "224  Environment, Climate Change, Climate Indicator...  ...  0.118  0.025   \n",
       "\n",
       "     F2015  F2016  F2017  F2018  F2019  F2020  F2021  F2022  \n",
       "0    1.093  1.555  1.540  1.544  0.910  0.498  1.327  2.012  \n",
       "1    1.569  1.464  1.121  2.028  1.675  1.498  1.536  1.518  \n",
       "2    1.121  1.757  1.512  1.210  1.115  1.926  2.330  1.688  \n",
       "3    1.009  1.539  1.435  1.189  1.539  1.430  1.268  1.256  \n",
       "4    1.690  1.990  1.925  1.919  1.964  2.562  1.533  3.243  \n",
       "..     ...    ...    ...    ...    ...    ...    ...    ...  \n",
       "220  1.510  1.732  2.204  0.942  1.477  2.069  1.593  1.970  \n",
       "221  1.412  1.660  1.429  1.290  1.444  1.711  1.447  1.394  \n",
       "222    NaN    NaN    NaN    NaN    NaN    NaN    NaN    NaN  \n",
       "223  1.450  1.401  0.105  0.648  0.855  0.891  0.822  0.686  \n",
       "224  0.970  1.270  0.088  0.453  0.925  0.389 -0.125 -0.490  \n",
       "\n",
       "[225 rows x 72 columns]"
      ]
     },
     "execution_count": 35,
     "metadata": {},
     "output_type": "execute_result"
    }
   ],
   "source": [
    "df = pd.read_csv('q2_clima.csv')\n",
    "df"
   ]
  },
  {
   "cell_type": "markdown",
   "metadata": {},
   "source": [
    "2. Cleaning Data"
   ]
  },
  {
   "cell_type": "code",
   "execution_count": 36,
   "metadata": {},
   "outputs": [
    {
     "name": "stdout",
     "output_type": "stream",
     "text": [
      "<class 'pandas.core.frame.DataFrame'>\n",
      "RangeIndex: 225 entries, 0 to 224\n",
      "Data columns (total 72 columns):\n",
      " #   Column               Non-Null Count  Dtype  \n",
      "---  ------               --------------  -----  \n",
      " 0   ObjectId             225 non-null    int64  \n",
      " 1   Country              225 non-null    object \n",
      " 2   ISO2                 223 non-null    object \n",
      " 3   ISO3                 225 non-null    object \n",
      " 4   Indicator            225 non-null    object \n",
      " 5   Unit                 225 non-null    object \n",
      " 6   Source               225 non-null    object \n",
      " 7   CTS_Code             225 non-null    object \n",
      " 8   CTS_Name             225 non-null    object \n",
      " 9   CTS_Full_Descriptor  225 non-null    object \n",
      " 10  F1961                188 non-null    float64\n",
      " 11  F1962                189 non-null    float64\n",
      " 12  F1963                188 non-null    float64\n",
      " 13  F1964                188 non-null    float64\n",
      " 14  F1965                188 non-null    float64\n",
      " 15  F1966                192 non-null    float64\n",
      " 16  F1967                191 non-null    float64\n",
      " 17  F1968                191 non-null    float64\n",
      " 18  F1969                190 non-null    float64\n",
      " 19  F1970                189 non-null    float64\n",
      " 20  F1971                191 non-null    float64\n",
      " 21  F1972                192 non-null    float64\n",
      " 22  F1973                193 non-null    float64\n",
      " 23  F1974                192 non-null    float64\n",
      " 24  F1975                188 non-null    float64\n",
      " 25  F1976                189 non-null    float64\n",
      " 26  F1977                185 non-null    float64\n",
      " 27  F1978                189 non-null    float64\n",
      " 28  F1979                189 non-null    float64\n",
      " 29  F1980                191 non-null    float64\n",
      " 30  F1981                191 non-null    float64\n",
      " 31  F1982                192 non-null    float64\n",
      " 32  F1983                190 non-null    float64\n",
      " 33  F1984                188 non-null    float64\n",
      " 34  F1985                188 non-null    float64\n",
      " 35  F1986                190 non-null    float64\n",
      " 36  F1987                190 non-null    float64\n",
      " 37  F1988                190 non-null    float64\n",
      " 38  F1989                190 non-null    float64\n",
      " 39  F1990                189 non-null    float64\n",
      " 40  F1991                188 non-null    float64\n",
      " 41  F1992                208 non-null    float64\n",
      " 42  F1993                209 non-null    float64\n",
      " 43  F1994                208 non-null    float64\n",
      " 44  F1995                210 non-null    float64\n",
      " 45  F1996                210 non-null    float64\n",
      " 46  F1997                207 non-null    float64\n",
      " 47  F1998                210 non-null    float64\n",
      " 48  F1999                209 non-null    float64\n",
      " 49  F2000                209 non-null    float64\n",
      " 50  F2001                208 non-null    float64\n",
      " 51  F2002                212 non-null    float64\n",
      " 52  F2003                214 non-null    float64\n",
      " 53  F2004                213 non-null    float64\n",
      " 54  F2005                212 non-null    float64\n",
      " 55  F2006                215 non-null    float64\n",
      " 56  F2007                217 non-null    float64\n",
      " 57  F2008                212 non-null    float64\n",
      " 58  F2009                212 non-null    float64\n",
      " 59  F2010                215 non-null    float64\n",
      " 60  F2011                217 non-null    float64\n",
      " 61  F2012                215 non-null    float64\n",
      " 62  F2013                216 non-null    float64\n",
      " 63  F2014                216 non-null    float64\n",
      " 64  F2015                216 non-null    float64\n",
      " 65  F2016                213 non-null    float64\n",
      " 66  F2017                214 non-null    float64\n",
      " 67  F2018                213 non-null    float64\n",
      " 68  F2019                213 non-null    float64\n",
      " 69  F2020                212 non-null    float64\n",
      " 70  F2021                213 non-null    float64\n",
      " 71  F2022                213 non-null    float64\n",
      "dtypes: float64(62), int64(1), object(9)\n",
      "memory usage: 126.7+ KB\n"
     ]
    }
   ],
   "source": [
    "df.info() # Aprendi com João Paulo a importância de sempre dar info() no começo"
   ]
  },
  {
   "cell_type": "code",
   "execution_count": 37,
   "metadata": {
    "scrolled": true
   },
   "outputs": [
    {
     "data": {
      "text/html": [
       "<div>\n",
       "<style scoped>\n",
       "    .dataframe tbody tr th:only-of-type {\n",
       "        vertical-align: middle;\n",
       "    }\n",
       "\n",
       "    .dataframe tbody tr th {\n",
       "        vertical-align: top;\n",
       "    }\n",
       "\n",
       "    .dataframe thead th {\n",
       "        text-align: right;\n",
       "    }\n",
       "</style>\n",
       "<table border=\"1\" class=\"dataframe\">\n",
       "  <thead>\n",
       "    <tr style=\"text-align: right;\">\n",
       "      <th></th>\n",
       "      <th>Country</th>\n",
       "      <th>ISO3</th>\n",
       "      <th>Unit</th>\n",
       "      <th>CTS_Name</th>\n",
       "      <th>F1961</th>\n",
       "      <th>F1962</th>\n",
       "      <th>F1963</th>\n",
       "      <th>F1964</th>\n",
       "      <th>F1965</th>\n",
       "      <th>F1966</th>\n",
       "      <th>...</th>\n",
       "      <th>F2013</th>\n",
       "      <th>F2014</th>\n",
       "      <th>F2015</th>\n",
       "      <th>F2016</th>\n",
       "      <th>F2017</th>\n",
       "      <th>F2018</th>\n",
       "      <th>F2019</th>\n",
       "      <th>F2020</th>\n",
       "      <th>F2021</th>\n",
       "      <th>F2022</th>\n",
       "    </tr>\n",
       "  </thead>\n",
       "  <tbody>\n",
       "    <tr>\n",
       "      <th>0</th>\n",
       "      <td>Afghanistan, Islamic Rep. of</td>\n",
       "      <td>AFG</td>\n",
       "      <td>Degree Celsius</td>\n",
       "      <td>Surface Temperature Change</td>\n",
       "      <td>-0.113</td>\n",
       "      <td>-0.164</td>\n",
       "      <td>0.847</td>\n",
       "      <td>-0.764</td>\n",
       "      <td>-0.244</td>\n",
       "      <td>0.226</td>\n",
       "      <td>...</td>\n",
       "      <td>1.281</td>\n",
       "      <td>0.456</td>\n",
       "      <td>1.093</td>\n",
       "      <td>1.555</td>\n",
       "      <td>1.540</td>\n",
       "      <td>1.544</td>\n",
       "      <td>0.910</td>\n",
       "      <td>0.498</td>\n",
       "      <td>1.327</td>\n",
       "      <td>2.012</td>\n",
       "    </tr>\n",
       "    <tr>\n",
       "      <th>1</th>\n",
       "      <td>Albania</td>\n",
       "      <td>ALB</td>\n",
       "      <td>Degree Celsius</td>\n",
       "      <td>Surface Temperature Change</td>\n",
       "      <td>0.627</td>\n",
       "      <td>0.326</td>\n",
       "      <td>0.075</td>\n",
       "      <td>-0.166</td>\n",
       "      <td>-0.388</td>\n",
       "      <td>0.559</td>\n",
       "      <td>...</td>\n",
       "      <td>1.333</td>\n",
       "      <td>1.198</td>\n",
       "      <td>1.569</td>\n",
       "      <td>1.464</td>\n",
       "      <td>1.121</td>\n",
       "      <td>2.028</td>\n",
       "      <td>1.675</td>\n",
       "      <td>1.498</td>\n",
       "      <td>1.536</td>\n",
       "      <td>1.518</td>\n",
       "    </tr>\n",
       "    <tr>\n",
       "      <th>2</th>\n",
       "      <td>Algeria</td>\n",
       "      <td>DZA</td>\n",
       "      <td>Degree Celsius</td>\n",
       "      <td>Surface Temperature Change</td>\n",
       "      <td>0.164</td>\n",
       "      <td>0.114</td>\n",
       "      <td>0.077</td>\n",
       "      <td>0.250</td>\n",
       "      <td>-0.100</td>\n",
       "      <td>0.433</td>\n",
       "      <td>...</td>\n",
       "      <td>1.192</td>\n",
       "      <td>1.690</td>\n",
       "      <td>1.121</td>\n",
       "      <td>1.757</td>\n",
       "      <td>1.512</td>\n",
       "      <td>1.210</td>\n",
       "      <td>1.115</td>\n",
       "      <td>1.926</td>\n",
       "      <td>2.330</td>\n",
       "      <td>1.688</td>\n",
       "    </tr>\n",
       "    <tr>\n",
       "      <th>3</th>\n",
       "      <td>American Samoa</td>\n",
       "      <td>ASM</td>\n",
       "      <td>Degree Celsius</td>\n",
       "      <td>Surface Temperature Change</td>\n",
       "      <td>0.079</td>\n",
       "      <td>-0.042</td>\n",
       "      <td>0.169</td>\n",
       "      <td>-0.140</td>\n",
       "      <td>-0.562</td>\n",
       "      <td>0.181</td>\n",
       "      <td>...</td>\n",
       "      <td>1.257</td>\n",
       "      <td>1.170</td>\n",
       "      <td>1.009</td>\n",
       "      <td>1.539</td>\n",
       "      <td>1.435</td>\n",
       "      <td>1.189</td>\n",
       "      <td>1.539</td>\n",
       "      <td>1.430</td>\n",
       "      <td>1.268</td>\n",
       "      <td>1.256</td>\n",
       "    </tr>\n",
       "    <tr>\n",
       "      <th>4</th>\n",
       "      <td>Andorra, Principality of</td>\n",
       "      <td>AND</td>\n",
       "      <td>Degree Celsius</td>\n",
       "      <td>Surface Temperature Change</td>\n",
       "      <td>0.736</td>\n",
       "      <td>0.112</td>\n",
       "      <td>-0.752</td>\n",
       "      <td>0.308</td>\n",
       "      <td>-0.490</td>\n",
       "      <td>0.415</td>\n",
       "      <td>...</td>\n",
       "      <td>0.831</td>\n",
       "      <td>1.946</td>\n",
       "      <td>1.690</td>\n",
       "      <td>1.990</td>\n",
       "      <td>1.925</td>\n",
       "      <td>1.919</td>\n",
       "      <td>1.964</td>\n",
       "      <td>2.562</td>\n",
       "      <td>1.533</td>\n",
       "      <td>3.243</td>\n",
       "    </tr>\n",
       "  </tbody>\n",
       "</table>\n",
       "<p>5 rows × 66 columns</p>\n",
       "</div>"
      ],
      "text/plain": [
       "                        Country ISO3            Unit  \\\n",
       "0  Afghanistan, Islamic Rep. of  AFG  Degree Celsius   \n",
       "1                       Albania  ALB  Degree Celsius   \n",
       "2                       Algeria  DZA  Degree Celsius   \n",
       "3                American Samoa  ASM  Degree Celsius   \n",
       "4      Andorra, Principality of  AND  Degree Celsius   \n",
       "\n",
       "                     CTS_Name  F1961  F1962  F1963  F1964  F1965  F1966  ...  \\\n",
       "0  Surface Temperature Change -0.113 -0.164  0.847 -0.764 -0.244  0.226  ...   \n",
       "1  Surface Temperature Change  0.627  0.326  0.075 -0.166 -0.388  0.559  ...   \n",
       "2  Surface Temperature Change  0.164  0.114  0.077  0.250 -0.100  0.433  ...   \n",
       "3  Surface Temperature Change  0.079 -0.042  0.169 -0.140 -0.562  0.181  ...   \n",
       "4  Surface Temperature Change  0.736  0.112 -0.752  0.308 -0.490  0.415  ...   \n",
       "\n",
       "   F2013  F2014  F2015  F2016  F2017  F2018  F2019  F2020  F2021  F2022  \n",
       "0  1.281  0.456  1.093  1.555  1.540  1.544  0.910  0.498  1.327  2.012  \n",
       "1  1.333  1.198  1.569  1.464  1.121  2.028  1.675  1.498  1.536  1.518  \n",
       "2  1.192  1.690  1.121  1.757  1.512  1.210  1.115  1.926  2.330  1.688  \n",
       "3  1.257  1.170  1.009  1.539  1.435  1.189  1.539  1.430  1.268  1.256  \n",
       "4  0.831  1.946  1.690  1.990  1.925  1.919  1.964  2.562  1.533  3.243  \n",
       "\n",
       "[5 rows x 66 columns]"
      ]
     },
     "execution_count": 37,
     "metadata": {},
     "output_type": "execute_result"
    }
   ],
   "source": [
    "# Logo de cara, só de olhar o dataframe acima, podemos ver várias colunas com valores repetidos e irrelevantes para a nossa análise, então vamos apagar elas...\n",
    "df.drop('Indicator', axis=1, inplace=True)\n",
    "df.drop('CTS_Code', axis=1, inplace=True)\n",
    "df.drop('CTS_Full_Descriptor', axis=1, inplace=True)\n",
    "df.drop('Source', axis=1, inplace=True)\n",
    "df.drop('ISO2', axis=1, inplace=True) # Também vou apagar essa porque a ISO3 é mais importante para identificarmos qual país estamos tratando.\n",
    "df.drop('ObjectId', axis=1, inplace=True) # Essa coluna também é meio inútil, ela conta os objetos, mas o próprio pandas já faz isso, então vou apagar.\n",
    "df.head(5) # Agora sim, está bem mais bonito o nosso Dataframe :)"
   ]
  },
  {
   "cell_type": "code",
   "execution_count": 23,
   "metadata": {},
   "outputs": [
    {
     "data": {
      "text/plain": [
       "Country      0\n",
       "ISO3         0\n",
       "Unit         0\n",
       "CTS_Name     0\n",
       "F1961       37\n",
       "            ..\n",
       "F2018       12\n",
       "F2019       12\n",
       "F2020       13\n",
       "F2021       12\n",
       "F2022       12\n",
       "Length: 66, dtype: int64"
      ]
     },
     "execution_count": 23,
     "metadata": {},
     "output_type": "execute_result"
    }
   ],
   "source": [
    "df.isnull().sum() # Aqui vemos que há valores nulos e precisamos tratá-los.\n",
    "# Analisando mais a fundo esses valores nulos, percebi que tem muitos países que até certo ano não tinham dados de temperatura nenhum, então é bom trocá-los por 0."
   ]
  },
  {
   "cell_type": "code",
   "execution_count": 44,
   "metadata": {},
   "outputs": [],
   "source": [
    "# Selecionando apenas as colunas numéricas\n",
    "colunas_numericas = df.select_dtypes(include='number').columns\n",
    "\n",
    "# Substituindo os valores nulos nas colunas numéricas pela média de cada linha\n",
    "df[colunas_numericas] = df[colunas_numericas].fillna(df[colunas_numericas].mean(axis=1), axis=0)"
   ]
  },
  {
   "cell_type": "code",
   "execution_count": 45,
   "metadata": {},
   "outputs": [
    {
     "data": {
      "text/plain": [
       "Country     0\n",
       "ISO3        0\n",
       "Unit        0\n",
       "CTS_Name    0\n",
       "F1961       0\n",
       "           ..\n",
       "F2018       0\n",
       "F2019       0\n",
       "F2020       0\n",
       "F2021       0\n",
       "F2022       0\n",
       "Length: 66, dtype: int64"
      ]
     },
     "execution_count": 45,
     "metadata": {},
     "output_type": "execute_result"
    }
   ],
   "source": [
    "# Verificando novamente o nosso Dataframe para ver se ainda há valores nulos:\n",
    "df.isnull().sum()"
   ]
  },
  {
   "cell_type": "markdown",
   "metadata": {
    "id": "7X_13EwcChjQ"
   },
   "source": [
    "### *2.3 Vizualização*"
   ]
  },
  {
   "cell_type": "markdown",
   "metadata": {},
   "source": [
    "1. Aumento da temperatura no Brasil"
   ]
  },
  {
   "cell_type": "code",
   "execution_count": 46,
   "metadata": {
    "id": "4f8KkXRAChjQ"
   },
   "outputs": [
    {
     "data": {
      "image/png": "[encoded data removed]",
      "text/plain": [
       "<Figure size 1200x600 with 1 Axes>"
      ]
     },
     "metadata": {},
     "output_type": "display_data"
    }
   ],
   "source": [
    "# Dados de temperatura para o Brasil (deve ter outra forma de fazer isso, mas eu copiei do Drive do csv)\n",
    "temperaturas_brasil = [0.167, -0.184, 0.158, -0.213, -0.075, 0.044, 0.073, -0.409, 0.331, 0.13, -0.134, 0.114, 0.443, -0.179, -0.14, -0.185, 0.252, 0.03, 0.017, 0.313, 0.191, 0.277, 0.471, 0.294, 0.092, 0.285, 0.722, 0.461, 0.13, 0.435, 0.468, 0.403, 0.495, 0.608, 0.799, 0.504, 0.671, 1.234, 0.523, 0.495, 0.746, 1.052, 0.927, 0.768, 1.085, 0.77, 0.969, 0.731, 0.969, 1.112, 0.814, 1.023, 0.922, 1.153, 1.516, 1.457, 1.363, 1.148, 1.517, 1.477, 1.154, 0.926]\n",
    "\n",
    "# Anos correspondentes\n",
    "anos = range(1961, 2023)\n",
    "\n",
    "# Criando o gráfico\n",
    "plt.figure(figsize=(12, 6))\n",
    "plt.plot(anos, temperaturas_brasil, marker='o', linestyle='-', color='g') # Cor do Brasil :D\n",
    "\n",
    "# Adicionando título e rótulos dos eixos\n",
    "plt.title('Aumento anual da temperatura no Brasil (1961-2022)', fontweight='bold', fontsize=14)\n",
    "plt.xlabel('Ano', fontweight='bold', fontsize=12)\n",
    "plt.ylabel('Mudança de temperatura (°C)', fontweight='bold', fontsize=12)\n",
    "\n",
    "# Exibindo o gráfico\n",
    "plt.grid(True) # fazer as linhas\n",
    "plt.tight_layout()\n",
    "plt.show()"
   ]
  },
  {
   "cell_type": "markdown",
   "metadata": {},
   "source": [
    "2. Aumento da temperatura Global"
   ]
  },
  {
   "cell_type": "code",
   "execution_count": 47,
   "metadata": {},
   "outputs": [],
   "source": [
    "nomes_das_colunas = ['F1961', 'F1962', 'F1963',\n",
    "       'F1964', 'F1965', 'F1966', 'F1967', 'F1968', 'F1969', 'F1970', 'F1971',\n",
    "       'F1972', 'F1973', 'F1974', 'F1975', 'F1976', 'F1977', 'F1978', 'F1979',\n",
    "       'F1980', 'F1981', 'F1982', 'F1983', 'F1984', 'F1985', 'F1986', 'F1987',\n",
    "       'F1988', 'F1989', 'F1990', 'F1991', 'F1992', 'F1993', 'F1994', 'F1995',\n",
    "       'F1996', 'F1997', 'F1998', 'F1999', 'F2000', 'F2001', 'F2002', 'F2003',\n",
    "       'F2004', 'F2005', 'F2006', 'F2007', 'F2008', 'F2009', 'F2010', 'F2011',\n",
    "       'F2012', 'F2013', 'F2014', 'F2015', 'F2016', 'F2017', 'F2018', 'F2019',\n",
    "       'F2020', 'F2021', 'F2022']"
   ]
  },
  {
   "cell_type": "code",
   "execution_count": 50,
   "metadata": {},
   "outputs": [
    {
     "data": {
      "image/png": "[encoded data removed]",
      "text/plain": [
       "<Figure size 1000x600 with 1 Axes>"
      ]
     },
     "metadata": {},
     "output_type": "display_data"
    }
   ],
   "source": [
    "# Calcular a média da temperatura para cada ano\n",
    "anos = df.columns[4:]  # Selecionar as colunas correspondentes aos anos\n",
    "aumento_medio_por_ano = []\n",
    "\n",
    "for ano in anos:\n",
    "    aumento_medio_por_ano.append(df[ano].mean())\n",
    "\n",
    "# Plotar o gráfico\n",
    "plt.figure(figsize=(10, 6))\n",
    "plt.plot(anos, aumento_medio_por_ano, marker='o', linestyle='-')\n",
    "plt.title('Aumento Médio Global da Temperatura (1961-2022)')\n",
    "plt.xlabel('Ano')\n",
    "plt.ylabel('Aumento Médio Global da Temperatura (°C)')\n",
    "plt.grid(True)\n",
    "plt.tight_layout()\n",
    "plt.xticks(rotation=45)  # Rotacionar os rótulos do eixo x para melhor legibilidade\n",
    "plt.show()"
   ]
  },
  {
   "cell_type": "markdown",
   "metadata": {
    "id": "is4FAzGUC78O"
   },
   "source": [
    "### *2.4 Conclusões*"
   ]
  },
  {
   "cell_type": "code",
   "execution_count": 1,
   "metadata": {
    "id": "8kFm7P9hChjQ"
   },
   "outputs": [
    {
     "name": "stdout",
     "output_type": "stream",
     "text": [
      "\n",
      "1) Gráfico do Brasil: No gráfico do Brasil podemos ver o aumento da temperatura ao decorrer dos anos de (1961-2022) e como a temperatura anual tem aumentado, à medida que os anos se passam, reflexo da itensificação do efeito estufa e de diversos fatores antrópicos.\n",
      "\n",
      "2) Gráfico Global:\n",
      "\n"
     ]
    }
   ],
   "source": [
    "#Insira aqui as conclusões que você conseguiu absorver a partir desse Dataset.\n",
    "print(\n",
    "\"\"\"\n",
    "1) Gráfico do Brasil: No gráfico do Brasil podemos ver o aumento da temperatura ao decorrer dos anos de (1961-2022) e como a temperatura anual tem aumentado, à medida que os anos se passam, reflexo da itensificação do efeito estufa e de diversos fatores antrópicos.\n",
    "\n",
    "2) Gráfico Global:\n",
    "\"\"\"\n",
    ")"
   ]
  },
  {
   "cell_type": "markdown",
   "metadata": {
    "id": "72VUlIEb8jFD"
   },
   "source": [
    "### **Questão 3:** *Saúde Mental*\n"
   ]
  },
  {
   "cell_type": "markdown",
   "metadata": {
    "id": "AmlPdQPf8jFE"
   },
   "source": [
    "Examine as variações e tendências em questões de saúde mental em diferentes países e regiões, utilizando os dados apresentados no arquivo \"q3_saude_mental.csv\". Foque na análise da incidência de condições de saúde mental, uso de serviços de saúde mental, e atitudes gerais em relação a esses problemas ao longo do tempo. Procure estabelecer correlações entre os padrões de saúde mental e fatores socioeconômicos, políticas de saúde pública e características culturais dos países envolvidos. Esta investigação aprofundada permitirá uma compreensão mais rica das dinâmicas globais da saúde mental, destacando tendências significativas e identificando áreas específicas de preocupação em diferentes contextos regionais. Explore essas dimensões para elaborar estratégias efetivas de conscientização e intervenção em saúde mental globalmente.\n",
    "\n",
    "\n",
    "\n",
    "\n",
    "\n"
   ]
  },
  {
   "cell_type": "markdown",
   "metadata": {
    "id": "9_p_Ubna8jFE"
   },
   "source": [
    "###*3.1 Imports*"
   ]
  },
  {
   "cell_type": "code",
   "execution_count": 2,
   "metadata": {
    "id": "Hcwbv5XG8jFE"
   },
   "outputs": [],
   "source": [
    "#Insira seu código aqui"
   ]
  },
  {
   "cell_type": "markdown",
   "metadata": {
    "id": "d192e2WM8jFF"
   },
   "source": [
    "###*3.2 Dataset*"
   ]
  },
  {
   "cell_type": "code",
   "execution_count": null,
   "metadata": {
    "id": "dmwefsYJ8jFF"
   },
   "outputs": [],
   "source": [
    "#Insira seu código aqui"
   ]
  },
  {
   "cell_type": "markdown",
   "metadata": {
    "id": "eaaazYx88jFF"
   },
   "source": [
    "### *3.3 Vizualização*"
   ]
  },
  {
   "cell_type": "code",
   "execution_count": null,
   "metadata": {
    "id": "6XeEMis68jFF"
   },
   "outputs": [],
   "source": [
    "#Insira seu código aqui"
   ]
  },
  {
   "cell_type": "markdown",
   "metadata": {
    "id": "IHRNOPSC8jFF"
   },
   "source": [
    "###*3.4 Conclusões*"
   ]
  },
  {
   "cell_type": "code",
   "execution_count": null,
   "metadata": {
    "id": "K6kMj9yT8jFG"
   },
   "outputs": [],
   "source": [
    "#Insira aqui as conclusões que você conseguiu absorver a partir desse Dataset.\n",
    "Conclusoes = \"\"\n",
    "\n",
    "\n",
    "\n",
    "\n",
    "\n",
    "\n",
    "print(Conclusoes)"
   ]
  },
  {
   "cell_type": "markdown",
   "metadata": {
    "id": "NJbZD3vi5sEP"
   },
   "source": [
    "### **Questão 4:** *Top Músicas do Spotify*"
   ]
  },
  {
   "cell_type": "markdown",
   "metadata": {
    "id": "GrMkV3trEa6h"
   },
   "source": [
    "Investigue as características das músicas mais populares no Spotify, conforme listadas no arquivo 'q4_spotify.csv'. Analise se há correlações entre características como dançabilidade, energia e valência com o sucesso da música, medido pelo número de streams e presença em playlists. Além disso, examine como essas características variam entre diferentes gêneros musicais e ao longo dos anos."
   ]
  },
  {
   "cell_type": "markdown",
   "metadata": {
    "id": "n_mYl7-BEde3"
   },
   "source": [
    "### *Código*"
   ]
  },
  {
   "cell_type": "code",
   "execution_count": null,
   "metadata": {
    "id": "PV0EeopiC_vD"
   },
   "outputs": [],
   "source": [
    "#Insira seu código aqui, lembre-se de dividir as diferentes etapas de realização da questão para manter a organização!"
   ]
  },
  {
   "cell_type": "markdown",
   "metadata": {
    "id": "QeBMm8y6C-re"
   },
   "source": [
    "###*Conclusões*"
   ]
  },
  {
   "cell_type": "code",
   "execution_count": null,
   "metadata": {
    "id": "JpwBhXB8C-rf"
   },
   "outputs": [],
   "source": [
    "#Insira aqui as conclusões que você conseguiu absorver a partir desse Dataset.\n",
    "Conclusoes = \"\"\n",
    "\n",
    "\n",
    "\n",
    "\n",
    "\n",
    "\n",
    "print(Conclusoes)"
   ]
  }
 ],
 "metadata": {
  "colab": {
   "provenance": []
  },
  "kernelspec": {
   "display_name": "Python 3 (ipykernel)",
   "language": "python",
   "name": "python3"
  },
  "language_info": {
   "codemirror_mode": {
    "name": "ipython",
    "version": 3
   },
   "file_extension": ".py",
   "mimetype": "text/x-python",
   "name": "python",
   "nbconvert_exporter": "python",
   "pygments_lexer": "ipython3",
   "version": "3.11.7"
  }
 },
 "nbformat": 4,
 "nbformat_minor": 4
}
