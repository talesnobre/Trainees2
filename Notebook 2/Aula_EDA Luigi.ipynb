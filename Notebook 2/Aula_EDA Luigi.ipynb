{
 "cells": [
  {
   "cell_type": "markdown",
   "metadata": {
    "id": "bhRj3mZjtrKe"
   },
   "source": [
    "<a href=\"TAIL\"><img src=\"https://i.imgur.com/GRTE0OG.png\" width=\"150\" title=\"Tail Logo\" /></a>\n",
    "\n",
    "# <font color =\"#00b8ff\">Exercícios de Análise Exploratória de Dados</font>"
   ]
  },
  {
   "cell_type": "markdown",
   "metadata": {
    "id": "Inzl1VqG2oqC"
   },
   "source": [
    " Essa lista de exercícios foi criada para que vocês possam aplicar os conhecimentos que vocês adquiriram na aula que assistiram.\n",
    "\n",
    "Podem tirar dúvidas com **Tales Nobre** e **Felipe Duarte** quando quiserem!\n",
    "**O prazo de envio do notebook é até a reunião da próxima semana, até 1 hora antes da reunião, podem enviar colocar o conteúdo na branch de vocês do repositório**\n"
   ]
  },
  {
   "cell_type": "markdown",
   "metadata": {
    "id": "ahOuHhFSAQpx"
   },
   "source": [
    "\n",
    "🌍 [Link do drive com todos os Datasets](https://drive.google.com/drive/folders/1LBZH7Zcch-f1tSmFgezIz7Z2QlWmNieP?usp=sharing)\n"
   ]
  },
  {
   "cell_type": "markdown",
   "metadata": {
    "id": "l2Cd0nSn60g-"
   },
   "source": [
    "###**Objetivos**"
   ]
  },
  {
   "cell_type": "markdown",
   "metadata": {
    "id": "C5BveViG63G6"
   },
   "source": [
    "\n",
    "*   Entender o nível de conhecimento individual de vocês\n",
    "*   Estimular vocês a praticarem os conceitos básicos de EDA\n"
   ]
  },
  {
   "cell_type": "markdown",
   "metadata": {
    "id": "N3EBzvz672i1"
   },
   "source": [
    "##**Observações**"
   ]
  },
  {
   "cell_type": "markdown",
   "metadata": {
    "id": "cTGz2NpI75IP"
   },
   "source": [
    "\n",
    "\n",
    "*   Façam uma cópia desse notebook e realizem as questões.\n",
    "*   Foquem no espaço de *Conclusões*, que aparece no final de cada questão, para explicar as conclusões que vocês chegaram a partir da análise de dados.\n",
    "*   É permitido que vocês usem outras bibliotecas que acharem interessantes para realizar a EDA, mas tentem usar pelo menos em uma das questões as bibliotecas de *Pandas, Numpy e Plotly*.\n",
    "*   É recomendável que vocês acessem os materiais de apoio que serão disponibilizados em seguida.\n",
    "*   Prezem pela organização, é muito importante explicar cada etapa de execução, principalmente no contexto de análise de dados.\n",
    "*   Claro que vocês não vão precisam importar várias vezes as bibliotecas dentro de um mesmo notebook, mas por fins educativos é recomendável que vocês façam isso nessa lista de exercícios!\n",
    "*   As questões são progressivas, ou seja, a quantidade de instruções e o nível de dificuldade mudarão ao longo da lista. **Lembre-se de manter o mesmo padrão em todas as questões.**\n",
    "*  Divida em quantas células e caixas de texto quiser, afim de deixar a legibilidade do código a melhor possível.\n",
    "\n"
   ]
  },
  {
   "cell_type": "markdown",
   "metadata": {
    "id": "VS8cCdvE8i7I"
   },
   "source": [
    "🐼 Material de apoio:\n",
    "\n",
    "\n",
    "*   [Tutorial EDA Medium](https://medium.com/rumpydas/beginners-guide-to-eda-exploratory-data-analysis-on-a-real-data-set-using-numpy-pandas-in-python-c0cb4f63d50d)\n",
    "*   [Tutorial EDA kaggle](https://www.kaggle.com/code/imoore/intro-to-exploratory-data-analysis-eda-in-python)\n",
    "*   [Tutorial de EDA de forma aplicada](https://www.youtube.com/watch?v=-o3AxdVcUtQ)"
   ]
  },
  {
   "cell_type": "markdown",
   "metadata": {
    "id": "x5k_FwID9qCs"
   },
   "source": [
    "📚Documentação das bibliotecas:\n",
    "*   [Pandas](https://pandas.pydata.org/pandas-docs/stable/user_guide/10min.html)\n",
    "*   [Numpy](https://numpy.org/doc/stable/user/absolute_beginners.html)\n",
    "*   [Plotly](https://plotly.com/python/basic-charts/)\n",
    "*   [Matplotlib](https://matplotlib.org/stable/tutorials/pyplot.html#sphx-glr-tutorials-pyplot-py)\n",
    "*   [Seaborn](https://seaborn.pydata.org/tutorial/introduction.html#a-high-level-api-for-statistical-graphics)"
   ]
  },
  {
   "cell_type": "markdown",
   "metadata": {
    "id": "5vyNVu3k7O8F"
   },
   "source": [
    "Lembrem-se, a prática leva à perfeição!🧠"
   ]
  },
  {
   "cell_type": "markdown",
   "metadata": {
    "id": "TcKhozZC3MY0"
   },
   "source": [
    "##**Questão 1:** *Desempenho dos Estudantes em Provas*"
   ]
  },
  {
   "cell_type": "markdown",
   "metadata": {
    "id": "cwSJI63--tAG"
   },
   "source": [
    "Analisando o desempenho dos estudantes em matemática, leitura e escrita no arquivo 'q1_estudantes.csv', investigue se há diferenças significativas nas pontuações com base no gênero dos estudantes e no nível de educação dos pais. Além disso, examine se a participação em cursos de preparação para testes está associada a pontuações mais altas nas avaliações."
   ]
  },
  {
   "cell_type": "markdown",
   "metadata": {
    "id": "DwHNOIXu-uRF"
   },
   "source": [
    "### *1.1 Imports* "
   ]
  },
  {
   "cell_type": "code",
   "execution_count": 1,
   "metadata": {
    "id": "D52GuHoC-6QZ"
   },
   "outputs": [],
   "source": [
    "import pandas as pd\n",
    "import numpy as np\n",
    "import matplotlib.pyplot as plt\n",
    "import seaborn as sns"
   ]
  },
  {
   "cell_type": "markdown",
   "metadata": {
    "id": "Q_rZeqiEBBIl"
   },
   "source": [
    "### *1.2 Dataset*"
   ]
  },
  {
   "cell_type": "markdown",
   "metadata": {},
   "source": [
    "1. Defining the DataFrame and displaying it"
   ]
  },
  {
   "cell_type": "code",
   "execution_count": 58,
   "metadata": {
    "id": "MpRdJM5uBLpQ"
   },
   "outputs": [],
   "source": [
    "df = pd.read_csv('q1_estudantes.csv')"
   ]
  },
  {
   "cell_type": "code",
   "execution_count": 59,
   "metadata": {
    "id": "ODW1spdMBVwX"
   },
   "outputs": [
    {
     "data": {
      "text/html": [
       "<div>\n",
       "<style scoped>\n",
       "    .dataframe tbody tr th:only-of-type {\n",
       "        vertical-align: middle;\n",
       "    }\n",
       "\n",
       "    .dataframe tbody tr th {\n",
       "        vertical-align: top;\n",
       "    }\n",
       "\n",
       "    .dataframe thead th {\n",
       "        text-align: right;\n",
       "    }\n",
       "</style>\n",
       "<table border=\"1\" class=\"dataframe\">\n",
       "  <thead>\n",
       "    <tr style=\"text-align: right;\">\n",
       "      <th></th>\n",
       "      <th>gender</th>\n",
       "      <th>race/ethnicity</th>\n",
       "      <th>parental level of education</th>\n",
       "      <th>lunch</th>\n",
       "      <th>test preparation course</th>\n",
       "      <th>math score</th>\n",
       "      <th>reading score</th>\n",
       "      <th>writing score</th>\n",
       "    </tr>\n",
       "  </thead>\n",
       "  <tbody>\n",
       "    <tr>\n",
       "      <th>0</th>\n",
       "      <td>female</td>\n",
       "      <td>group B</td>\n",
       "      <td>bachelor's degree</td>\n",
       "      <td>standard</td>\n",
       "      <td>none</td>\n",
       "      <td>72</td>\n",
       "      <td>72</td>\n",
       "      <td>74</td>\n",
       "    </tr>\n",
       "    <tr>\n",
       "      <th>1</th>\n",
       "      <td>female</td>\n",
       "      <td>group C</td>\n",
       "      <td>some college</td>\n",
       "      <td>standard</td>\n",
       "      <td>completed</td>\n",
       "      <td>69</td>\n",
       "      <td>90</td>\n",
       "      <td>88</td>\n",
       "    </tr>\n",
       "    <tr>\n",
       "      <th>2</th>\n",
       "      <td>female</td>\n",
       "      <td>group B</td>\n",
       "      <td>master's degree</td>\n",
       "      <td>standard</td>\n",
       "      <td>none</td>\n",
       "      <td>90</td>\n",
       "      <td>95</td>\n",
       "      <td>93</td>\n",
       "    </tr>\n",
       "    <tr>\n",
       "      <th>3</th>\n",
       "      <td>male</td>\n",
       "      <td>group A</td>\n",
       "      <td>associate's degree</td>\n",
       "      <td>free/reduced</td>\n",
       "      <td>none</td>\n",
       "      <td>47</td>\n",
       "      <td>57</td>\n",
       "      <td>44</td>\n",
       "    </tr>\n",
       "    <tr>\n",
       "      <th>4</th>\n",
       "      <td>male</td>\n",
       "      <td>group C</td>\n",
       "      <td>some college</td>\n",
       "      <td>standard</td>\n",
       "      <td>none</td>\n",
       "      <td>76</td>\n",
       "      <td>78</td>\n",
       "      <td>75</td>\n",
       "    </tr>\n",
       "    <tr>\n",
       "      <th>...</th>\n",
       "      <td>...</td>\n",
       "      <td>...</td>\n",
       "      <td>...</td>\n",
       "      <td>...</td>\n",
       "      <td>...</td>\n",
       "      <td>...</td>\n",
       "      <td>...</td>\n",
       "      <td>...</td>\n",
       "    </tr>\n",
       "    <tr>\n",
       "      <th>995</th>\n",
       "      <td>female</td>\n",
       "      <td>group E</td>\n",
       "      <td>master's degree</td>\n",
       "      <td>standard</td>\n",
       "      <td>completed</td>\n",
       "      <td>88</td>\n",
       "      <td>99</td>\n",
       "      <td>95</td>\n",
       "    </tr>\n",
       "    <tr>\n",
       "      <th>996</th>\n",
       "      <td>male</td>\n",
       "      <td>group C</td>\n",
       "      <td>high school</td>\n",
       "      <td>free/reduced</td>\n",
       "      <td>none</td>\n",
       "      <td>62</td>\n",
       "      <td>55</td>\n",
       "      <td>55</td>\n",
       "    </tr>\n",
       "    <tr>\n",
       "      <th>997</th>\n",
       "      <td>female</td>\n",
       "      <td>group C</td>\n",
       "      <td>high school</td>\n",
       "      <td>free/reduced</td>\n",
       "      <td>completed</td>\n",
       "      <td>59</td>\n",
       "      <td>71</td>\n",
       "      <td>65</td>\n",
       "    </tr>\n",
       "    <tr>\n",
       "      <th>998</th>\n",
       "      <td>female</td>\n",
       "      <td>group D</td>\n",
       "      <td>some college</td>\n",
       "      <td>standard</td>\n",
       "      <td>completed</td>\n",
       "      <td>68</td>\n",
       "      <td>78</td>\n",
       "      <td>77</td>\n",
       "    </tr>\n",
       "    <tr>\n",
       "      <th>999</th>\n",
       "      <td>female</td>\n",
       "      <td>group D</td>\n",
       "      <td>some college</td>\n",
       "      <td>free/reduced</td>\n",
       "      <td>none</td>\n",
       "      <td>77</td>\n",
       "      <td>86</td>\n",
       "      <td>86</td>\n",
       "    </tr>\n",
       "  </tbody>\n",
       "</table>\n",
       "<p>1000 rows × 8 columns</p>\n",
       "</div>"
      ],
      "text/plain": [
       "     gender race/ethnicity parental level of education         lunch  \\\n",
       "0    female        group B           bachelor's degree      standard   \n",
       "1    female        group C                some college      standard   \n",
       "2    female        group B             master's degree      standard   \n",
       "3      male        group A          associate's degree  free/reduced   \n",
       "4      male        group C                some college      standard   \n",
       "..      ...            ...                         ...           ...   \n",
       "995  female        group E             master's degree      standard   \n",
       "996    male        group C                 high school  free/reduced   \n",
       "997  female        group C                 high school  free/reduced   \n",
       "998  female        group D                some college      standard   \n",
       "999  female        group D                some college  free/reduced   \n",
       "\n",
       "    test preparation course  math score  reading score  writing score  \n",
       "0                      none          72             72             74  \n",
       "1                 completed          69             90             88  \n",
       "2                      none          90             95             93  \n",
       "3                      none          47             57             44  \n",
       "4                      none          76             78             75  \n",
       "..                      ...         ...            ...            ...  \n",
       "995               completed          88             99             95  \n",
       "996                    none          62             55             55  \n",
       "997               completed          59             71             65  \n",
       "998               completed          68             78             77  \n",
       "999                    none          77             86             86  \n",
       "\n",
       "[1000 rows x 8 columns]"
      ]
     },
     "execution_count": 59,
     "metadata": {},
     "output_type": "execute_result"
    }
   ],
   "source": [
    "df # Isso irá me mostrar a head(5) e a tail(5)"
   ]
  },
  {
   "cell_type": "markdown",
   "metadata": {},
   "source": [
    "2. Cleaning data"
   ]
  },
  {
   "cell_type": "code",
   "execution_count": 60,
   "metadata": {
    "id": "_IndwL24BfDd"
   },
   "outputs": [
    {
     "name": "stdout",
     "output_type": "stream",
     "text": [
      "<class 'pandas.core.frame.DataFrame'>\n",
      "RangeIndex: 1000 entries, 0 to 999\n",
      "Data columns (total 8 columns):\n",
      " #   Column                       Non-Null Count  Dtype \n",
      "---  ------                       --------------  ----- \n",
      " 0   gender                       1000 non-null   object\n",
      " 1   race/ethnicity               1000 non-null   object\n",
      " 2   parental level of education  1000 non-null   object\n",
      " 3   lunch                        1000 non-null   object\n",
      " 4   test preparation course      1000 non-null   object\n",
      " 5   math score                   1000 non-null   int64 \n",
      " 6   reading score                1000 non-null   int64 \n",
      " 7   writing score                1000 non-null   int64 \n",
      "dtypes: int64(3), object(5)\n",
      "memory usage: 62.6+ KB\n"
     ]
    },
    {
     "data": {
      "text/plain": [
       "gender                         0\n",
       "race/ethnicity                 0\n",
       "parental level of education    0\n",
       "lunch                          0\n",
       "test preparation course        0\n",
       "math score                     0\n",
       "reading score                  0\n",
       "writing score                  0\n",
       "dtype: int64"
      ]
     },
     "execution_count": 60,
     "metadata": {},
     "output_type": "execute_result"
    }
   ],
   "source": [
    "df.info() # É legal dar info() para ver os tipos de valor que estamos tratando\n",
    "df.isnull().sum() # Aparentemente o dataset não possui valores nulos"
   ]
  },
  {
   "cell_type": "code",
   "execution_count": 61,
   "metadata": {},
   "outputs": [
    {
     "data": {
      "text/html": [
       "<div>\n",
       "<style scoped>\n",
       "    .dataframe tbody tr th:only-of-type {\n",
       "        vertical-align: middle;\n",
       "    }\n",
       "\n",
       "    .dataframe tbody tr th {\n",
       "        vertical-align: top;\n",
       "    }\n",
       "\n",
       "    .dataframe thead th {\n",
       "        text-align: right;\n",
       "    }\n",
       "</style>\n",
       "<table border=\"1\" class=\"dataframe\">\n",
       "  <thead>\n",
       "    <tr style=\"text-align: right;\">\n",
       "      <th></th>\n",
       "      <th>gender</th>\n",
       "      <th>race/ethnicity</th>\n",
       "      <th>parental level of education</th>\n",
       "      <th>lunch</th>\n",
       "      <th>test preparation course</th>\n",
       "      <th>math score</th>\n",
       "      <th>reading score</th>\n",
       "      <th>writing score</th>\n",
       "    </tr>\n",
       "  </thead>\n",
       "  <tbody>\n",
       "    <tr>\n",
       "      <th>0</th>\n",
       "      <td>female</td>\n",
       "      <td>group B</td>\n",
       "      <td>bachelor's degree</td>\n",
       "      <td>standard</td>\n",
       "      <td>False</td>\n",
       "      <td>72</td>\n",
       "      <td>72</td>\n",
       "      <td>74</td>\n",
       "    </tr>\n",
       "    <tr>\n",
       "      <th>1</th>\n",
       "      <td>female</td>\n",
       "      <td>group C</td>\n",
       "      <td>some college</td>\n",
       "      <td>standard</td>\n",
       "      <td>True</td>\n",
       "      <td>69</td>\n",
       "      <td>90</td>\n",
       "      <td>88</td>\n",
       "    </tr>\n",
       "    <tr>\n",
       "      <th>2</th>\n",
       "      <td>female</td>\n",
       "      <td>group B</td>\n",
       "      <td>master's degree</td>\n",
       "      <td>standard</td>\n",
       "      <td>False</td>\n",
       "      <td>90</td>\n",
       "      <td>95</td>\n",
       "      <td>93</td>\n",
       "    </tr>\n",
       "    <tr>\n",
       "      <th>3</th>\n",
       "      <td>male</td>\n",
       "      <td>group A</td>\n",
       "      <td>associate's degree</td>\n",
       "      <td>free/reduced</td>\n",
       "      <td>False</td>\n",
       "      <td>47</td>\n",
       "      <td>57</td>\n",
       "      <td>44</td>\n",
       "    </tr>\n",
       "    <tr>\n",
       "      <th>4</th>\n",
       "      <td>male</td>\n",
       "      <td>group C</td>\n",
       "      <td>some college</td>\n",
       "      <td>standard</td>\n",
       "      <td>False</td>\n",
       "      <td>76</td>\n",
       "      <td>78</td>\n",
       "      <td>75</td>\n",
       "    </tr>\n",
       "    <tr>\n",
       "      <th>...</th>\n",
       "      <td>...</td>\n",
       "      <td>...</td>\n",
       "      <td>...</td>\n",
       "      <td>...</td>\n",
       "      <td>...</td>\n",
       "      <td>...</td>\n",
       "      <td>...</td>\n",
       "      <td>...</td>\n",
       "    </tr>\n",
       "    <tr>\n",
       "      <th>995</th>\n",
       "      <td>female</td>\n",
       "      <td>group E</td>\n",
       "      <td>master's degree</td>\n",
       "      <td>standard</td>\n",
       "      <td>True</td>\n",
       "      <td>88</td>\n",
       "      <td>99</td>\n",
       "      <td>95</td>\n",
       "    </tr>\n",
       "    <tr>\n",
       "      <th>996</th>\n",
       "      <td>male</td>\n",
       "      <td>group C</td>\n",
       "      <td>high school</td>\n",
       "      <td>free/reduced</td>\n",
       "      <td>False</td>\n",
       "      <td>62</td>\n",
       "      <td>55</td>\n",
       "      <td>55</td>\n",
       "    </tr>\n",
       "    <tr>\n",
       "      <th>997</th>\n",
       "      <td>female</td>\n",
       "      <td>group C</td>\n",
       "      <td>high school</td>\n",
       "      <td>free/reduced</td>\n",
       "      <td>True</td>\n",
       "      <td>59</td>\n",
       "      <td>71</td>\n",
       "      <td>65</td>\n",
       "    </tr>\n",
       "    <tr>\n",
       "      <th>998</th>\n",
       "      <td>female</td>\n",
       "      <td>group D</td>\n",
       "      <td>some college</td>\n",
       "      <td>standard</td>\n",
       "      <td>True</td>\n",
       "      <td>68</td>\n",
       "      <td>78</td>\n",
       "      <td>77</td>\n",
       "    </tr>\n",
       "    <tr>\n",
       "      <th>999</th>\n",
       "      <td>female</td>\n",
       "      <td>group D</td>\n",
       "      <td>some college</td>\n",
       "      <td>free/reduced</td>\n",
       "      <td>False</td>\n",
       "      <td>77</td>\n",
       "      <td>86</td>\n",
       "      <td>86</td>\n",
       "    </tr>\n",
       "  </tbody>\n",
       "</table>\n",
       "<p>1000 rows × 8 columns</p>\n",
       "</div>"
      ],
      "text/plain": [
       "     gender race/ethnicity parental level of education         lunch  \\\n",
       "0    female        group B           bachelor's degree      standard   \n",
       "1    female        group C                some college      standard   \n",
       "2    female        group B             master's degree      standard   \n",
       "3      male        group A          associate's degree  free/reduced   \n",
       "4      male        group C                some college      standard   \n",
       "..      ...            ...                         ...           ...   \n",
       "995  female        group E             master's degree      standard   \n",
       "996    male        group C                 high school  free/reduced   \n",
       "997  female        group C                 high school  free/reduced   \n",
       "998  female        group D                some college      standard   \n",
       "999  female        group D                some college  free/reduced   \n",
       "\n",
       "     test preparation course  math score  reading score  writing score  \n",
       "0                      False          72             72             74  \n",
       "1                       True          69             90             88  \n",
       "2                      False          90             95             93  \n",
       "3                      False          47             57             44  \n",
       "4                      False          76             78             75  \n",
       "..                       ...         ...            ...            ...  \n",
       "995                     True          88             99             95  \n",
       "996                    False          62             55             55  \n",
       "997                     True          59             71             65  \n",
       "998                     True          68             78             77  \n",
       "999                    False          77             86             86  \n",
       "\n",
       "[1000 rows x 8 columns]"
      ]
     },
     "execution_count": 61,
     "metadata": {},
     "output_type": "execute_result"
    }
   ],
   "source": [
    "# Apesar disso existe uma coluna que é interessante mudarmos os valores a fim não causar futuros conflitos, a coluna 'test preparation course' tem valores \"none\" e podemos trocá-los...\n",
    "df['test preparation course'] = df['test preparation course'].replace({'completed': True, 'none': False})\n",
    "df"
   ]
  },
  {
   "cell_type": "code",
   "execution_count": 7,
   "metadata": {},
   "outputs": [
    {
     "data": {
      "text/plain": [
       "<Axes: xlabel='math score'>"
      ]
     },
     "execution_count": 7,
     "metadata": {},
     "output_type": "execute_result"
    },
    {
     "data": {
      "image/png": "[encoded data removed]",
      "text/plain": [
       "<Figure size 640x480 with 1 Axes>"
      ]
     },
     "metadata": {},
     "output_type": "display_data"
    }
   ],
   "source": [
    "# Aqui nós também podemos identificar Outliers e poderíamos tratá-los, como, por exemplo, os valores MUITO baixos para as notas dos alunos... Falo mais sobre na conclusão.\n",
    "sns.boxplot(x=df['math score']) # Fiquei trocando entre as colunas de score para analisar os outliers em cada uma."
   ]
  },
  {
   "cell_type": "markdown",
   "metadata": {
    "id": "PFGsjVcKCCSE"
   },
   "source": [
    "### *1.3 Vizualização*"
   ]
  },
  {
   "cell_type": "markdown",
   "metadata": {
    "id": "I5I--DuVCEV8"
   },
   "source": [
    "1. Relationship Analysis"
   ]
  },
  {
   "cell_type": "code",
   "execution_count": 103,
   "metadata": {},
   "outputs": [
    {
     "data": {
      "image/png": "[encoded data removed]",
      "text/plain": [
       "<Figure size 1100x600 with 1 Axes>"
      ]
     },
     "metadata": {},
     "output_type": "display_data"
    }
   ],
   "source": [
    "# Aqui eu calculei a média das notas dos alunos para cada nível de educação dos pais\n",
    "mean_scores_by_parental_education = df.groupby('parental level of education').mean(numeric_only=True) # Sempre lembrar de dar numeric_only nessa versão\n",
    "\n",
    "# Ordenando os dados pelo índice para manter a ordem dos níveis de educação (Precisei do ChatGPT para isso, fica legal assim)\n",
    "mean_scores_by_parental_education = mean_scores_by_parental_education.reindex(['some high school', 'high school', \n",
    "                                                                              'some college', \"associate's degree\",\n",
    "                                                                              \"bachelor's degree\", \"master's degree\"])\n",
    "# Pronto, agora plotei o gráfico de barras\n",
    "mean_scores_by_parental_education[['math score', 'reading score', 'writing score']].plot(\n",
    "    kind='bar',\n",
    "    figsize=(11, 6)\n",
    ")\n",
    "plt.title('Average Grades by Parental Level of Education', fontsize=14, fontweight='bold')\n",
    "plt.xlabel('Parental Level of Education', fontsize=12, fontweight='bold')\n",
    "plt.ylabel('Mean score', fontsize=12, fontweight='bold')\n",
    "plt.xticks(fontsize=11, rotation=0, ha='center')\n",
    "plt.legend(['Mathmatics', 'Reading', 'Writing'])\n",
    "plt.tight_layout(h_pad=1.5)\n",
    "plt.show()"
   ]
  },
  {
   "cell_type": "markdown",
   "metadata": {},
   "source": [
    "2. Gender comparative analysisAnalysis"
   ]
  },
  {
   "cell_type": "code",
   "execution_count": 26,
   "metadata": {},
   "outputs": [
    {
     "data": {
      "image/png": "[encoded data removed]",
      "text/plain": [
       "<Figure size 1000x500 with 1 Axes>"
      ]
     },
     "metadata": {},
     "output_type": "display_data"
    },
    {
     "data": {
      "image/png": "[encoded data removed]",
      "text/plain": [
       "<Figure size 1000x500 with 1 Axes>"
      ]
     },
     "metadata": {},
     "output_type": "display_data"
    }
   ],
   "source": [
    "# Primeiro eu resolvi criar uma coluna para armazenar a média da nota dos alunos nas 3 matérias:\n",
    "df[\"mean score\"] = round((df[\"math score\"] + df[\"reading score\"] + df[\"writing score\"]) / 3, 1) \n",
    "\n",
    "# Depois eu quis pegar a média por gênero em cada uma das 3 matérias:\n",
    "female_mean = df[df['gender'] == 'female'][['math score', 'reading score', 'writing score', 'mean score']].mean()\n",
    "male_mean = df[df['gender'] == 'male'][['math score', 'reading score', 'writing score', 'mean score']].mean()\n",
    "\n",
    "# Agora eu vou plotar o gráfico para as médias femininas\n",
    "plt.figure(figsize=(10, 5))\n",
    "female_mean.plot(kind='bar', color='pink')\n",
    "plt.title('Female mean in each subject', fontsize=14, fontweight='bold')\n",
    "plt.xlabel('Subject', fontweight='bold')\n",
    "plt.ylabel('Mean', fontweight='bold')\n",
    "plt.xticks(rotation=0)\n",
    "# Adicionei os valores das médias nas barras\n",
    "for i, valor in enumerate(female_mean):\n",
    "    plt.annotate(round(valor, 2), xy=(i, valor), ha='center', va='bottom')\n",
    "plt.show()\n",
    "\n",
    "# E agora o gráfico para as médias masculinas\n",
    "plt.figure(figsize=(10, 5))\n",
    "male_mean.plot(kind='bar', color='blue')\n",
    "plt.title('Male mean in each subject', fontsize=14, fontweight='bold')\n",
    "plt.xlabel('Subject', fontweight='bold')\n",
    "plt.ylabel('Mean', fontweight='bold')\n",
    "plt.xticks(rotation=0)\n",
    "# Adicionei os valores das médias\n",
    "for i, valor in enumerate(male_mean):\n",
    "    plt.annotate(round(valor, 2), xy=(i, valor), ha='center', va='bottom')\n",
    "plt.show()"
   ]
  },
  {
   "cell_type": "markdown",
   "metadata": {
    "id": "vr00cjbUC5ph"
   },
   "source": [
    "### *1.4 Conclusões*"
   ]
  },
  {
   "cell_type": "code",
   "execution_count": 55,
   "metadata": {
    "id": "h7tI2_-TCOPp"
   },
   "outputs": [
    {
     "name": "stdout",
     "output_type": "stream",
     "text": [
      "\n",
      "1) Outliers: podemos ver que existem outliers nas notas dos alunos, entretanto, conversando com Felipe, resolvi não tratá-los por hora, pois iremos aprender isso quando formos lidar com ML de fato.\n",
      "\n",
      "2) Valores das notas pela educação parental: aqui vemos uma triste realidade, na qual os filhos que tem pais com apenas ensino médio completo tendem a ter notas mais baixas que a média - provavelmente devido a problemas financeiros ou por falta de ajuda nos deveres de casa...\n",
      "\n",
      "3) Valores das notas por gênero: podemos concluir que em geral as notas femininas são melhores que as masculinas, porém podemos ver também que as masculinas são mais altas que as femininas em Matemática - inferindo, a apartir dos dados, que os homens tem mais afinidade pela área. Enquanto as mulheres tem mais afinidade pela leitura e pela escrita.\n",
      "\n"
     ]
    }
   ],
   "source": [
    "#Insira aqui as conclusões que você conseguiu absorver a partir desse Dataset.\n",
    "print(\n",
    "\"\"\"\n",
    "1) Outliers: podemos ver que existem outliers nas notas dos alunos, entretanto, conversando com Felipe, resolvi não tratá-los por hora, pois iremos aprender isso quando formos lidar com ML de fato.\n",
    "\n",
    "2) Valores das notas pela educação parental: aqui vemos uma triste realidade, na qual os filhos que tem pais com apenas ensino médio completo tendem a ter notas mais baixas que a média - provavelmente devido a problemas financeiros ou por falta de ajuda nos deveres de casa...\n",
    "\n",
    "3) Valores das notas por gênero: podemos concluir que em geral as notas femininas são melhores que as masculinas, porém podemos ver também que as masculinas são mais altas que as femininas em Matemática - inferindo, a apartir dos dados, que os homens tem mais afinidade pela área. Enquanto as mulheres tem mais afinidade pela leitura e pela escrita.\n",
    "\"\"\"\n",
    ")"
   ]
  },
  {
   "cell_type": "markdown",
   "metadata": {
    "id": "1f-X95LL4xZ-"
   },
   "source": [
    "### **Questão 2:** *Indicadores de Mudança de Clima*\n"
   ]
  },
  {
   "cell_type": "markdown",
   "metadata": {
    "id": "X7fuSFjIChjP"
   },
   "source": [
    "Examine as tendências de mudança de temperatura ao longo dos anos, conforme apresentado no arquivo 'q2_clima.csv'. Analise como diferentes países e regiões têm experimentado variações na temperatura média ao longo do tempo. Além disso, explore possíveis correlações entre o grau de variação de temperatura e fatores geográficos ou econômicos dos países."
   ]
  },
  {
   "cell_type": "markdown",
   "metadata": {
    "id": "doEXHvxLChjP"
   },
   "source": [
    "###*2.1 Imports*"
   ]
  },
  {
   "cell_type": "code",
   "execution_count": null,
   "metadata": {
    "id": "debd52UrDMhZ"
   },
   "outputs": [],
   "source": [
    "#Insira seu código aqui"
   ]
  },
  {
   "cell_type": "markdown",
   "metadata": {
    "id": "gqUfDU3cChjP"
   },
   "source": [
    "###*2.2 Dataset*"
   ]
  },
  {
   "cell_type": "code",
   "execution_count": null,
   "metadata": {
    "id": "OYa4uJvxDNF_"
   },
   "outputs": [],
   "source": [
    "#Insira seu código aqui"
   ]
  },
  {
   "cell_type": "markdown",
   "metadata": {
    "id": "7X_13EwcChjQ"
   },
   "source": [
    "### *2.3 Vizualização*"
   ]
  },
  {
   "cell_type": "code",
   "execution_count": null,
   "metadata": {
    "id": "4f8KkXRAChjQ"
   },
   "outputs": [],
   "source": [
    "#Insira seu código aqui"
   ]
  },
  {
   "cell_type": "markdown",
   "metadata": {
    "id": "is4FAzGUC78O"
   },
   "source": [
    "###*2.4 Conclusões*"
   ]
  },
  {
   "cell_type": "code",
   "execution_count": null,
   "metadata": {
    "id": "8kFm7P9hChjQ"
   },
   "outputs": [],
   "source": [
    "#Insira aqui as conclusões que você conseguiu absorver a partir desse Dataset.\n",
    "Conclusoes = \"\"\n",
    "\n",
    "\n",
    "\n",
    "\n",
    "\n",
    "\n",
    "print(Conclusoes)"
   ]
  },
  {
   "cell_type": "markdown",
   "metadata": {
    "id": "72VUlIEb8jFD"
   },
   "source": [
    "### **Questão 3:** *Saúde Mental*\n"
   ]
  },
  {
   "cell_type": "markdown",
   "metadata": {
    "id": "AmlPdQPf8jFE"
   },
   "source": [
    "Examine as variações e tendências em questões de saúde mental em diferentes países e regiões, utilizando os dados apresentados no arquivo \"q3_saude_mental.csv\". Foque na análise da incidência de condições de saúde mental, uso de serviços de saúde mental, e atitudes gerais em relação a esses problemas ao longo do tempo. Procure estabelecer correlações entre os padrões de saúde mental e fatores socioeconômicos, políticas de saúde pública e características culturais dos países envolvidos. Esta investigação aprofundada permitirá uma compreensão mais rica das dinâmicas globais da saúde mental, destacando tendências significativas e identificando áreas específicas de preocupação em diferentes contextos regionais. Explore essas dimensões para elaborar estratégias efetivas de conscientização e intervenção em saúde mental globalmente.\n",
    "\n",
    "\n",
    "\n",
    "\n",
    "\n"
   ]
  },
  {
   "cell_type": "markdown",
   "metadata": {
    "id": "9_p_Ubna8jFE"
   },
   "source": [
    "###*3.1 Imports*"
   ]
  },
  {
   "cell_type": "code",
   "execution_count": null,
   "metadata": {
    "id": "Hcwbv5XG8jFE"
   },
   "outputs": [],
   "source": [
    "#Insira seu código aqui"
   ]
  },
  {
   "cell_type": "markdown",
   "metadata": {
    "id": "d192e2WM8jFF"
   },
   "source": [
    "###*3.2 Dataset*"
   ]
  },
  {
   "cell_type": "code",
   "execution_count": null,
   "metadata": {
    "id": "dmwefsYJ8jFF"
   },
   "outputs": [],
   "source": [
    "#Insira seu código aqui"
   ]
  },
  {
   "cell_type": "markdown",
   "metadata": {
    "id": "eaaazYx88jFF"
   },
   "source": [
    "### *3.3 Vizualização*"
   ]
  },
  {
   "cell_type": "code",
   "execution_count": null,
   "metadata": {
    "id": "6XeEMis68jFF"
   },
   "outputs": [],
   "source": [
    "#Insira seu código aqui"
   ]
  },
  {
   "cell_type": "markdown",
   "metadata": {
    "id": "IHRNOPSC8jFF"
   },
   "source": [
    "###*3.4 Conclusões*"
   ]
  },
  {
   "cell_type": "code",
   "execution_count": null,
   "metadata": {
    "id": "K6kMj9yT8jFG"
   },
   "outputs": [],
   "source": [
    "#Insira aqui as conclusões que você conseguiu absorver a partir desse Dataset.\n",
    "Conclusoes = \"\"\n",
    "\n",
    "\n",
    "\n",
    "\n",
    "\n",
    "\n",
    "print(Conclusoes)"
   ]
  },
  {
   "cell_type": "markdown",
   "metadata": {
    "id": "NJbZD3vi5sEP"
   },
   "source": [
    "### **Questão 4:** *Top Músicas do Spotify*"
   ]
  },
  {
   "cell_type": "markdown",
   "metadata": {
    "id": "GrMkV3trEa6h"
   },
   "source": [
    "Investigue as características das músicas mais populares no Spotify, conforme listadas no arquivo 'q4_spotify.csv'. Analise se há correlações entre características como dançabilidade, energia e valência com o sucesso da música, medido pelo número de streams e presença em playlists. Além disso, examine como essas características variam entre diferentes gêneros musicais e ao longo dos anos."
   ]
  },
  {
   "cell_type": "markdown",
   "metadata": {
    "id": "n_mYl7-BEde3"
   },
   "source": [
    "### *Código*"
   ]
  },
  {
   "cell_type": "code",
   "execution_count": null,
   "metadata": {
    "id": "PV0EeopiC_vD"
   },
   "outputs": [],
   "source": [
    "#Insira seu código aqui, lembre-se de dividir as diferentes etapas de realização da questão para manter a organização!"
   ]
  },
  {
   "cell_type": "markdown",
   "metadata": {
    "id": "QeBMm8y6C-re"
   },
   "source": [
    "###*Conclusões*"
   ]
  },
  {
   "cell_type": "code",
   "execution_count": null,
   "metadata": {
    "id": "JpwBhXB8C-rf"
   },
   "outputs": [],
   "source": [
    "#Insira aqui as conclusões que você conseguiu absorver a partir desse Dataset.\n",
    "Conclusoes = \"\"\n",
    "\n",
    "\n",
    "\n",
    "\n",
    "\n",
    "\n",
    "print(Conclusoes)"
   ]
  }
 ],
 "metadata": {
  "colab": {
   "provenance": []
  },
  "kernelspec": {
   "display_name": "Python 3 (ipykernel)",
   "language": "python",
   "name": "python3"
  },
  "language_info": {
   "codemirror_mode": {
    "name": "ipython",
    "version": 3
   },
   "file_extension": ".py",
   "mimetype": "text/x-python",
   "name": "python",
   "nbconvert_exporter": "python",
   "pygments_lexer": "ipython3",
   "version": "3.11.7"
  }
 },
 "nbformat": 4,
 "nbformat_minor": 4
}
