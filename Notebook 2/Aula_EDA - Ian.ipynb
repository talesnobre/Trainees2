{
  "nbformat": 4,
  "nbformat_minor": 0,
  "metadata": {
    "colab": {
      "provenance": []
    },
    "kernelspec": {
      "name": "python3",
      "display_name": "Python 3"
    },
    "language_info": {
      "name": "python"
    }
  },
  "cells": [
    {
      "cell_type": "markdown",
      "metadata": {
        "id": "bhRj3mZjtrKe"
      },
      "source": [
        "<a href=\"TAIL\"><img src=\"https://i.imgur.com/GRTE0OG.png\" width=\"150\" title=\"Tail Logo\" /></a>\n",
        "\n",
        "# <font color =\"#00b8ff\">Exercícios de Análise Exploratória de Dados</font>"
      ]
    },
    {
      "cell_type": "markdown",
      "source": [
        " Essa lista de exercícios foi criada para que vocês possam aplicar os conhecimentos que vocês adquiriram na aula que assistiram.\n",
        "\n",
        "Podem tirar dúvidas com **Tales Nobre** e **Felipe Duarte** quando quiserem!\n",
        "**O prazo de envio do notebook é até a reunião da próxima semana, até 1 hora antes da reunião, podem enviar colocar o conteúdo na branch de vocês do repositório**\n"
      ],
      "metadata": {
        "id": "Inzl1VqG2oqC"
      }
    },
    {
      "cell_type": "markdown",
      "source": [
        "\n",
        "🌍 [Link do drive com todos os Datasets](https://drive.google.com/drive/folders/1LBZH7Zcch-f1tSmFgezIz7Z2QlWmNieP?usp=sharing)\n"
      ],
      "metadata": {
        "id": "ahOuHhFSAQpx"
      }
    },
    {
      "cell_type": "markdown",
      "source": [
        "###**Objetivos**"
      ],
      "metadata": {
        "id": "l2Cd0nSn60g-"
      }
    },
    {
      "cell_type": "markdown",
      "source": [
        "\n",
        "*   Entender o nível de conhecimento individual de vocês\n",
        "*   Estimular vocês a praticarem os conceitos básicos de EDA\n"
      ],
      "metadata": {
        "id": "C5BveViG63G6"
      }
    },
    {
      "cell_type": "markdown",
      "source": [
        "##**Observações**"
      ],
      "metadata": {
        "id": "N3EBzvz672i1"
      }
    },
    {
      "cell_type": "markdown",
      "source": [
        "\n",
        "\n",
        "*   Façam uma cópia desse notebook e realizem as questões.\n",
        "*   Foquem no espaço de *Conclusões*, que aparece no final de cada questão, para explicar as conclusões que vocês chegaram a partir da análise de dados.\n",
        "*   É permitido que vocês usem outras bibliotecas que acharem interessantes para realizar a EDA, mas tentem usar pelo menos em uma das questões as bibliotecas de *Pandas, Numpy e Plotly*.\n",
        "*   É recomendável que vocês acessem os materiais de apoio que serão disponibilizados em seguida.\n",
        "*   Prezem pela organização, é muito importante explicar cada etapa de execução, principalmente no contexto de análise de dados.\n",
        "*   Claro que vocês não vão precisam importar várias vezes as bibliotecas dentro de um mesmo notebook, mas por fins educativos é recomendável que vocês façam isso nessa lista de exercícios!\n",
        "*   As questões são progressivas, ou seja, a quantidade de instruções e o nível de dificuldade mudarão ao longo da lista. **Lembre-se de manter o mesmo padrão em todas as questões.**\n",
        "*  Divida em quantas células e caixas de texto quiser, afim de deixar a legibilidade do código a melhor possível.\n",
        "\n"
      ],
      "metadata": {
        "id": "cTGz2NpI75IP"
      }
    },
    {
      "cell_type": "markdown",
      "source": [
        "🐼 Material de apoio:\n",
        "\n",
        "\n",
        "*   [Tutorial EDA Medium](https://medium.com/rumpydas/beginners-guide-to-eda-exploratory-data-analysis-on-a-real-data-set-using-numpy-pandas-in-python-c0cb4f63d50d)\n",
        "*   [Tutorial EDA kaggle](https://www.kaggle.com/code/imoore/intro-to-exploratory-data-analysis-eda-in-python)\n",
        "*   [Tutorial de EDA de forma aplicada](https://www.youtube.com/watch?v=-o3AxdVcUtQ)"
      ],
      "metadata": {
        "id": "VS8cCdvE8i7I"
      }
    },
    {
      "cell_type": "markdown",
      "source": [
        "📚Documentação das bibliotecas:\n",
        "*   [Pandas](https://pandas.pydata.org/pandas-docs/stable/user_guide/10min.html)\n",
        "*   [Numpy](https://numpy.org/doc/stable/user/absolute_beginners.html)\n",
        "*   [Plotly](https://plotly.com/python/basic-charts/)\n",
        "*   [Matplotlib](https://matplotlib.org/stable/tutorials/pyplot.html#sphx-glr-tutorials-pyplot-py)\n",
        "*   [Seaborn](https://seaborn.pydata.org/tutorial/introduction.html#a-high-level-api-for-statistical-graphics)"
      ],
      "metadata": {
        "id": "x5k_FwID9qCs"
      }
    },
    {
      "cell_type": "markdown",
      "source": [
        "Lembrem-se, a prática leva à perfeição!🧠"
      ],
      "metadata": {
        "id": "5vyNVu3k7O8F"
      }
    },
    {
      "cell_type": "markdown",
      "source": [
        "##**Questão 1:** *Desempenho dos Estudantes em Provas*"
      ],
      "metadata": {
        "id": "TcKhozZC3MY0"
      }
    },
    {
      "cell_type": "markdown",
      "source": [
        "Analisando o desempenho dos estudantes em matemática, leitura e escrita no arquivo 'q1_estudantes.csv', investigue se há diferenças significativas nas pontuações com base no gênero dos estudantes e no nível de educação dos pais. Além disso, examine se a participação em cursos de preparação para testes está associada a pontuações mais altas nas avaliações."
      ],
      "metadata": {
        "id": "cwSJI63--tAG"
      }
    },
    {
      "cell_type": "markdown",
      "source": [
        "###*1.1 Imports*"
      ],
      "metadata": {
        "id": "DwHNOIXu-uRF"
      }
    },
    {
      "cell_type": "code",
      "source": [
        "#Coloque nesse bloco de texto todos os imports que você vai usar na questão.\n"
      ],
      "metadata": {
        "id": "D52GuHoC-6QZ"
      },
      "execution_count": null,
      "outputs": []
    },
    {
      "cell_type": "markdown",
      "source": [
        "###*1.2 Dataset*"
      ],
      "metadata": {
        "id": "Q_rZeqiEBBIl"
      }
    },
    {
      "cell_type": "code",
      "source": [
        "#Armazene o Dataset em uma variável para que você consiga utilizá-lo."
      ],
      "metadata": {
        "id": "MpRdJM5uBLpQ"
      },
      "execution_count": null,
      "outputs": []
    },
    {
      "cell_type": "code",
      "source": [
        "#Tire suas impressões iniciais vizualizando o head e tail desse dataset."
      ],
      "metadata": {
        "id": "ODW1spdMBVwX"
      },
      "execution_count": null,
      "outputs": []
    },
    {
      "cell_type": "code",
      "source": [
        "#Realize a limpeza dos dados, focando em tratar valores vazios e/ou incorretos."
      ],
      "metadata": {
        "id": "_IndwL24BfDd"
      },
      "execution_count": null,
      "outputs": []
    },
    {
      "cell_type": "markdown",
      "source": [
        "### *1.3 Vizualização*"
      ],
      "metadata": {
        "id": "PFGsjVcKCCSE"
      }
    },
    {
      "cell_type": "code",
      "source": [
        "#Crie Gráficos para que você possa observar a relação entre as variáveis e o comportamento delas de forma mais clara."
      ],
      "metadata": {
        "id": "I5I--DuVCEV8"
      },
      "execution_count": null,
      "outputs": []
    },
    {
      "cell_type": "markdown",
      "source": [
        "### *1.4 Conclusões*"
      ],
      "metadata": {
        "id": "vr00cjbUC5ph"
      }
    },
    {
      "cell_type": "code",
      "source": [
        "#Insira aqui as conclusões que você conseguiu absorver a partir desse Dataset.\n",
        "Conclusoes = \"\"\n",
        "\n",
        "\n",
        "\n",
        "\n",
        "\n",
        "\n",
        "print(Conclusoes)"
      ],
      "metadata": {
        "id": "h7tI2_-TCOPp"
      },
      "execution_count": null,
      "outputs": []
    },
    {
      "cell_type": "markdown",
      "source": [
        "##**Questão 2:** *Indicadores de Mudança de Clima*\n"
      ],
      "metadata": {
        "id": "1f-X95LL4xZ-"
      }
    },
    {
      "cell_type": "markdown",
      "source": [
        "Examine as tendências de mudança de temperatura ao longo dos anos, conforme apresentado no arquivo 'q2_clima.csv'. Analise como diferentes países e regiões têm experimentado variações na temperatura média ao longo do tempo. Além disso, explore possíveis correlações entre o grau de variação de temperatura e fatores geográficos ou econômicos dos países."
      ],
      "metadata": {
        "id": "X7fuSFjIChjP"
      }
    },
    {
      "cell_type": "markdown",
      "source": [
        "###*2.1 Imports*"
      ],
      "metadata": {
        "id": "doEXHvxLChjP"
      }
    },
    {
      "cell_type": "code",
      "source": [
        "#Insira seu código aqui"
      ],
      "metadata": {
        "id": "debd52UrDMhZ"
      },
      "execution_count": null,
      "outputs": []
    },
    {
      "cell_type": "markdown",
      "source": [
        "###*2.2 Dataset*"
      ],
      "metadata": {
        "id": "gqUfDU3cChjP"
      }
    },
    {
      "cell_type": "code",
      "source": [
        "#Insira seu código aqui"
      ],
      "metadata": {
        "id": "OYa4uJvxDNF_"
      },
      "execution_count": null,
      "outputs": []
    },
    {
      "cell_type": "markdown",
      "source": [
        "### *2.3 Vizualização*"
      ],
      "metadata": {
        "id": "7X_13EwcChjQ"
      }
    },
    {
      "cell_type": "code",
      "source": [
        "#Insira seu código aqui"
      ],
      "metadata": {
        "id": "4f8KkXRAChjQ"
      },
      "execution_count": null,
      "outputs": []
    },
    {
      "cell_type": "markdown",
      "source": [
        "###*2.4 Conclusões*"
      ],
      "metadata": {
        "id": "is4FAzGUC78O"
      }
    },
    {
      "cell_type": "code",
      "source": [
        "#Insira aqui as conclusões que você conseguiu absorver a partir desse Dataset.\n",
        "Conclusoes = \"\"\n",
        "\n",
        "\n",
        "\n",
        "\n",
        "\n",
        "\n",
        "print(Conclusoes)"
      ],
      "metadata": {
        "id": "8kFm7P9hChjQ"
      },
      "execution_count": null,
      "outputs": []
    },
    {
      "cell_type": "markdown",
      "source": [
        "##**Questão 3:** *Saúde Mental*\n"
      ],
      "metadata": {
        "id": "72VUlIEb8jFD"
      }
    },
    {
      "cell_type": "markdown",
      "source": [
        "Examine as variações e tendências em questões de saúde mental em diferentes países e regiões, utilizando os dados apresentados no arquivo \"q3_saude_mental.csv\". Foque na análise da incidência de condições de saúde mental, uso de serviços de saúde mental, e atitudes gerais em relação a esses problemas ao longo do tempo. Procure estabelecer correlações entre os padrões de saúde mental e fatores socioeconômicos, políticas de saúde pública e características culturais dos países envolvidos. Esta investigação aprofundada permitirá uma compreensão mais rica das dinâmicas globais da saúde mental, destacando tendências significativas e identificando áreas específicas de preocupação em diferentes contextos regionais. Explore essas dimensões para elaborar estratégias efetivas de conscientização e intervenção em saúde mental globalmente.\n",
        "\n",
        "\n",
        "\n",
        "\n",
        "\n"
      ],
      "metadata": {
        "id": "AmlPdQPf8jFE"
      }
    },
    {
      "cell_type": "markdown",
      "source": [
        "###*3.1 Imports*"
      ],
      "metadata": {
        "id": "9_p_Ubna8jFE"
      }
    },
    {
      "cell_type": "code",
      "source": [
        "#Insira seu código aqui"
      ],
      "metadata": {
        "id": "Hcwbv5XG8jFE"
      },
      "execution_count": null,
      "outputs": []
    },
    {
      "cell_type": "markdown",
      "source": [
        "###*3.2 Dataset*"
      ],
      "metadata": {
        "id": "d192e2WM8jFF"
      }
    },
    {
      "cell_type": "code",
      "source": [
        "#Insira seu código aqui"
      ],
      "metadata": {
        "id": "dmwefsYJ8jFF"
      },
      "execution_count": null,
      "outputs": []
    },
    {
      "cell_type": "markdown",
      "source": [
        "### *3.3 Vizualização*"
      ],
      "metadata": {
        "id": "eaaazYx88jFF"
      }
    },
    {
      "cell_type": "code",
      "source": [
        "#Insira seu código aqui"
      ],
      "metadata": {
        "id": "6XeEMis68jFF"
      },
      "execution_count": null,
      "outputs": []
    },
    {
      "cell_type": "markdown",
      "source": [
        "###*3.4 Conclusões*"
      ],
      "metadata": {
        "id": "IHRNOPSC8jFF"
      }
    },
    {
      "cell_type": "code",
      "source": [
        "#Insira aqui as conclusões que você conseguiu absorver a partir desse Dataset.\n",
        "Conclusoes = \"\"\n",
        "\n",
        "\n",
        "\n",
        "\n",
        "\n",
        "\n",
        "print(Conclusoes)"
      ],
      "metadata": {
        "id": "K6kMj9yT8jFG"
      },
      "execution_count": null,
      "outputs": []
    },
    {
      "cell_type": "markdown",
      "source": [
        "##**Questão 4:** *Top Músicas do Spotify*"
      ],
      "metadata": {
        "id": "NJbZD3vi5sEP"
      }
    },
    {
      "cell_type": "markdown",
      "source": [
        "Investigue as características das músicas mais populares no Spotify, conforme listadas no arquivo 'q4_spotify.csv'. Analise se há correlações entre características como dançabilidade, energia e valência com o sucesso da música, medido pelo número de streams e presença em playlists. Além disso, examine como essas características variam entre diferentes gêneros musicais e ao longo dos anos."
      ],
      "metadata": {
        "id": "GrMkV3trEa6h"
      }
    },
    {
      "cell_type": "markdown",
      "source": [
        "### *Código*"
      ],
      "metadata": {
        "id": "n_mYl7-BEde3"
      }
    },
    {
      "cell_type": "code",
      "source": [
        "#Insira seu código aqui, lembre-se de dividir as diferentes etapas de realização da questão para manter a organização!"
      ],
      "metadata": {
        "id": "PV0EeopiC_vD"
      },
      "execution_count": null,
      "outputs": []
    },
    {
      "cell_type": "markdown",
      "source": [
        "###*Conclusões*"
      ],
      "metadata": {
        "id": "QeBMm8y6C-re"
      }
    },
    {
      "cell_type": "code",
      "source": [
        "#Insira aqui as conclusões que você conseguiu absorver a partir desse Dataset.\n",
        "Conclusoes = \"\"\n",
        "\n",
        "\n",
        "\n",
        "\n",
        "\n",
        "\n",
        "print(Conclusoes)"
      ],
      "metadata": {
        "id": "JpwBhXB8C-rf"
      },
      "execution_count": null,
      "outputs": []
    }
  ]
}