{
 "cells": [
  {
   "cell_type": "markdown",
   "metadata": {},
   "source": [
    "# Análise Exploratória de Dados"
   ]
  },
  {
   "cell_type": "code",
   "execution_count": 1,
   "metadata": {
    "id": "W-e3km502CDE"
   },
   "outputs": [],
   "source": [
    "import pandas as pd\n",
    "import numpy as np\n",
    "from numpy import mean\n",
    "from numpy import std\n",
    "import matplotlib.pyplot as plt\n",
    "import seaborn as sns\n",
    "import plotly.express as px\n",
    "from sklearn.model_selection import train_test_split, cross_val_score, GridSearchCV, RandomizedSearchCV, RepeatedStratifiedKFold\n",
    "from sklearn.preprocessing import label_binarize, LabelEncoder, MinMaxScaler\n",
    "from sklearn.metrics import confusion_matrix, accuracy_score, roc_curve, auc, classification_report, ConfusionMatrixDisplay\n",
    "from sklearn.multiclass import OneVsRestClassifier\n",
    "from sklearn.linear_model import LinearRegression, LogisticRegression\n",
    "from sklearn.ensemble import RandomForestRegressor\n",
    "import torch\n",
    "import torch.nn as nn\n",
    "import torch.optim as optim\n",
    "from torch.utils.data import DataLoader\n",
    "import joblib\n",
    "from tqdm import tqdm\n",
    "import warnings\n",
    "warnings.filterwarnings('ignore')"
   ]
  },
  {
   "cell_type": "code",
   "execution_count": 8,
   "metadata": {},
   "outputs": [
    {
     "data": {
      "text/html": [
       "<div>\n",
       "<style scoped>\n",
       "    .dataframe tbody tr th:only-of-type {\n",
       "        vertical-align: middle;\n",
       "    }\n",
       "\n",
       "    .dataframe tbody tr th {\n",
       "        vertical-align: top;\n",
       "    }\n",
       "\n",
       "    .dataframe thead th {\n",
       "        text-align: right;\n",
       "    }\n",
       "</style>\n",
       "<table border=\"1\" class=\"dataframe\">\n",
       "  <thead>\n",
       "    <tr style=\"text-align: right;\">\n",
       "      <th></th>\n",
       "      <th>ID da Resposta</th>\n",
       "      <th>VocÃª regularmente faz novos amigos</th>\n",
       "      <th>VocÃª passa muito do seu tempo livre explorando vÃ¡rios tÃ³picos aleatÃ³rios que despertam seu interesse</th>\n",
       "      <th>Ver outras pessoas chorando pode facilmente fazer vocÃª sentir vontade de chorar tambÃ©m</th>\n",
       "      <th>VocÃª frequentemente faz um plano de backup para um plano de backup</th>\n",
       "      <th>VocÃª geralmente permanece calmo, mesmo sob muita pressÃ£o</th>\n",
       "      <th>Em eventos sociais, vocÃª raramente tenta se apresentar a novas pessoas e geralmente fala com aquelas que jÃ¡ conhece</th>\n",
       "      <th>VocÃª prefere terminar completamente um projeto antes de comeÃ§ar outro</th>\n",
       "      <th>VocÃª Ã© muito sentimental</th>\n",
       "      <th>VocÃª gosta de usar ferramentas de organizaÃ§Ã£o como horÃ¡rios e listas</th>\n",
       "      <th>...</th>\n",
       "      <th>VocÃª acredita que ponderar sobre questÃµes filosÃ³ficas abstratas Ã© uma perda de tempo</th>\n",
       "      <th>VocÃª se sente mais atraÃ­do por lugares com atmosferas movimentadas e agitadas do que por lugares quietos e Ã­ntimos</th>\n",
       "      <th>VocÃª sabe Ã  primeira vista como alguÃ©m estÃ¡ se sentindo</th>\n",
       "      <th>VocÃª frequentemente se sente sobrecarregado</th>\n",
       "      <th>VocÃª completa as coisas metodicamente sem pular nenhuma etapa</th>\n",
       "      <th>VocÃª Ã© muito intrigado por coisas rotuladas como controversas</th>\n",
       "      <th>VocÃª passaria uma boa oportunidade adiante se achasse que outra pessoa precisava mais dela</th>\n",
       "      <th>VocÃª tem dificuldades com prazos</th>\n",
       "      <th>VocÃª se sente confiante de que as coisas vÃ£o dar certo para vocÃª</th>\n",
       "      <th>Personalidade</th>\n",
       "    </tr>\n",
       "  </thead>\n",
       "  <tbody>\n",
       "    <tr>\n",
       "      <th>0</th>\n",
       "      <td>0</td>\n",
       "      <td>0</td>\n",
       "      <td>0</td>\n",
       "      <td>0</td>\n",
       "      <td>0</td>\n",
       "      <td>0</td>\n",
       "      <td>1</td>\n",
       "      <td>1</td>\n",
       "      <td>0</td>\n",
       "      <td>0</td>\n",
       "      <td>...</td>\n",
       "      <td>0</td>\n",
       "      <td>0</td>\n",
       "      <td>0</td>\n",
       "      <td>-1</td>\n",
       "      <td>0</td>\n",
       "      <td>0</td>\n",
       "      <td>0</td>\n",
       "      <td>0</td>\n",
       "      <td>0</td>\n",
       "      <td>ENFP</td>\n",
       "    </tr>\n",
       "    <tr>\n",
       "      <th>1</th>\n",
       "      <td>1</td>\n",
       "      <td>0</td>\n",
       "      <td>0</td>\n",
       "      <td>-2</td>\n",
       "      <td>-3</td>\n",
       "      <td>-1</td>\n",
       "      <td>2</td>\n",
       "      <td>-2</td>\n",
       "      <td>0</td>\n",
       "      <td>3</td>\n",
       "      <td>...</td>\n",
       "      <td>0</td>\n",
       "      <td>-2</td>\n",
       "      <td>0</td>\n",
       "      <td>2</td>\n",
       "      <td>0</td>\n",
       "      <td>-1</td>\n",
       "      <td>-1</td>\n",
       "      <td>-1</td>\n",
       "      <td>3</td>\n",
       "      <td>ISFP</td>\n",
       "    </tr>\n",
       "    <tr>\n",
       "      <th>2</th>\n",
       "      <td>2</td>\n",
       "      <td>0</td>\n",
       "      <td>0</td>\n",
       "      <td>2</td>\n",
       "      <td>0</td>\n",
       "      <td>-1</td>\n",
       "      <td>2</td>\n",
       "      <td>0</td>\n",
       "      <td>0</td>\n",
       "      <td>1</td>\n",
       "      <td>...</td>\n",
       "      <td>0</td>\n",
       "      <td>2</td>\n",
       "      <td>0</td>\n",
       "      <td>2</td>\n",
       "      <td>-1</td>\n",
       "      <td>0</td>\n",
       "      <td>1</td>\n",
       "      <td>2</td>\n",
       "      <td>1</td>\n",
       "      <td>INFJ</td>\n",
       "    </tr>\n",
       "    <tr>\n",
       "      <th>3</th>\n",
       "      <td>3</td>\n",
       "      <td>0</td>\n",
       "      <td>-1</td>\n",
       "      <td>3</td>\n",
       "      <td>-1</td>\n",
       "      <td>0</td>\n",
       "      <td>0</td>\n",
       "      <td>-2</td>\n",
       "      <td>0</td>\n",
       "      <td>-2</td>\n",
       "      <td>...</td>\n",
       "      <td>0</td>\n",
       "      <td>0</td>\n",
       "      <td>-1</td>\n",
       "      <td>-1</td>\n",
       "      <td>0</td>\n",
       "      <td>1</td>\n",
       "      <td>0</td>\n",
       "      <td>-2</td>\n",
       "      <td>-1</td>\n",
       "      <td>ISTP</td>\n",
       "    </tr>\n",
       "    <tr>\n",
       "      <th>4</th>\n",
       "      <td>4</td>\n",
       "      <td>0</td>\n",
       "      <td>0</td>\n",
       "      <td>-1</td>\n",
       "      <td>0</td>\n",
       "      <td>2</td>\n",
       "      <td>-1</td>\n",
       "      <td>-2</td>\n",
       "      <td>0</td>\n",
       "      <td>1</td>\n",
       "      <td>...</td>\n",
       "      <td>0</td>\n",
       "      <td>1</td>\n",
       "      <td>0</td>\n",
       "      <td>2</td>\n",
       "      <td>0</td>\n",
       "      <td>1</td>\n",
       "      <td>-1</td>\n",
       "      <td>2</td>\n",
       "      <td>-1</td>\n",
       "      <td>ENFJ</td>\n",
       "    </tr>\n",
       "    <tr>\n",
       "      <th>...</th>\n",
       "      <td>...</td>\n",
       "      <td>...</td>\n",
       "      <td>...</td>\n",
       "      <td>...</td>\n",
       "      <td>...</td>\n",
       "      <td>...</td>\n",
       "      <td>...</td>\n",
       "      <td>...</td>\n",
       "      <td>...</td>\n",
       "      <td>...</td>\n",
       "      <td>...</td>\n",
       "      <td>...</td>\n",
       "      <td>...</td>\n",
       "      <td>...</td>\n",
       "      <td>...</td>\n",
       "      <td>...</td>\n",
       "      <td>...</td>\n",
       "      <td>...</td>\n",
       "      <td>...</td>\n",
       "      <td>...</td>\n",
       "      <td>...</td>\n",
       "    </tr>\n",
       "    <tr>\n",
       "      <th>59994</th>\n",
       "      <td>59994</td>\n",
       "      <td>0</td>\n",
       "      <td>-1</td>\n",
       "      <td>0</td>\n",
       "      <td>-3</td>\n",
       "      <td>-2</td>\n",
       "      <td>2</td>\n",
       "      <td>1</td>\n",
       "      <td>0</td>\n",
       "      <td>1</td>\n",
       "      <td>...</td>\n",
       "      <td>0</td>\n",
       "      <td>2</td>\n",
       "      <td>0</td>\n",
       "      <td>1</td>\n",
       "      <td>0</td>\n",
       "      <td>0</td>\n",
       "      <td>2</td>\n",
       "      <td>3</td>\n",
       "      <td>3</td>\n",
       "      <td>INFJ</td>\n",
       "    </tr>\n",
       "    <tr>\n",
       "      <th>59995</th>\n",
       "      <td>59995</td>\n",
       "      <td>0</td>\n",
       "      <td>0</td>\n",
       "      <td>-2</td>\n",
       "      <td>1</td>\n",
       "      <td>3</td>\n",
       "      <td>0</td>\n",
       "      <td>-3</td>\n",
       "      <td>0</td>\n",
       "      <td>2</td>\n",
       "      <td>...</td>\n",
       "      <td>0</td>\n",
       "      <td>1</td>\n",
       "      <td>0</td>\n",
       "      <td>0</td>\n",
       "      <td>0</td>\n",
       "      <td>0</td>\n",
       "      <td>2</td>\n",
       "      <td>0</td>\n",
       "      <td>-2</td>\n",
       "      <td>ESTP</td>\n",
       "    </tr>\n",
       "    <tr>\n",
       "      <th>59996</th>\n",
       "      <td>59996</td>\n",
       "      <td>0</td>\n",
       "      <td>0</td>\n",
       "      <td>1</td>\n",
       "      <td>0</td>\n",
       "      <td>-2</td>\n",
       "      <td>-2</td>\n",
       "      <td>0</td>\n",
       "      <td>0</td>\n",
       "      <td>-1</td>\n",
       "      <td>...</td>\n",
       "      <td>-1</td>\n",
       "      <td>2</td>\n",
       "      <td>0</td>\n",
       "      <td>-3</td>\n",
       "      <td>0</td>\n",
       "      <td>1</td>\n",
       "      <td>-1</td>\n",
       "      <td>0</td>\n",
       "      <td>-1</td>\n",
       "      <td>ISTP</td>\n",
       "    </tr>\n",
       "    <tr>\n",
       "      <th>59997</th>\n",
       "      <td>59997</td>\n",
       "      <td>0</td>\n",
       "      <td>0</td>\n",
       "      <td>1</td>\n",
       "      <td>-1</td>\n",
       "      <td>-2</td>\n",
       "      <td>-1</td>\n",
       "      <td>2</td>\n",
       "      <td>0</td>\n",
       "      <td>1</td>\n",
       "      <td>...</td>\n",
       "      <td>0</td>\n",
       "      <td>2</td>\n",
       "      <td>0</td>\n",
       "      <td>2</td>\n",
       "      <td>0</td>\n",
       "      <td>0</td>\n",
       "      <td>0</td>\n",
       "      <td>1</td>\n",
       "      <td>0</td>\n",
       "      <td>ISTJ</td>\n",
       "    </tr>\n",
       "    <tr>\n",
       "      <th>59998</th>\n",
       "      <td>59998</td>\n",
       "      <td>0</td>\n",
       "      <td>0</td>\n",
       "      <td>2</td>\n",
       "      <td>0</td>\n",
       "      <td>-1</td>\n",
       "      <td>0</td>\n",
       "      <td>0</td>\n",
       "      <td>0</td>\n",
       "      <td>2</td>\n",
       "      <td>...</td>\n",
       "      <td>0</td>\n",
       "      <td>-1</td>\n",
       "      <td>0</td>\n",
       "      <td>3</td>\n",
       "      <td>1</td>\n",
       "      <td>0</td>\n",
       "      <td>1</td>\n",
       "      <td>0</td>\n",
       "      <td>-1</td>\n",
       "      <td>INFJ</td>\n",
       "    </tr>\n",
       "  </tbody>\n",
       "</table>\n",
       "<p>59999 rows × 62 columns</p>\n",
       "</div>"
      ],
      "text/plain": [
       "       ID da Resposta  VocÃª regularmente faz novos amigos  \\\n",
       "0                   0                                    0   \n",
       "1                   1                                    0   \n",
       "2                   2                                    0   \n",
       "3                   3                                    0   \n",
       "4                   4                                    0   \n",
       "...               ...                                  ...   \n",
       "59994           59994                                    0   \n",
       "59995           59995                                    0   \n",
       "59996           59996                                    0   \n",
       "59997           59997                                    0   \n",
       "59998           59998                                    0   \n",
       "\n",
       "       VocÃª passa muito do seu tempo livre explorando vÃ¡rios tÃ³picos aleatÃ³rios que despertam seu interesse  \\\n",
       "0                                                      0                                                          \n",
       "1                                                      0                                                          \n",
       "2                                                      0                                                          \n",
       "3                                                     -1                                                          \n",
       "4                                                      0                                                          \n",
       "...                                                  ...                                                          \n",
       "59994                                                 -1                                                          \n",
       "59995                                                  0                                                          \n",
       "59996                                                  0                                                          \n",
       "59997                                                  0                                                          \n",
       "59998                                                  0                                                          \n",
       "\n",
       "       Ver outras pessoas chorando pode facilmente fazer vocÃª sentir vontade de chorar tambÃ©m  \\\n",
       "0                                                      0                                          \n",
       "1                                                     -2                                          \n",
       "2                                                      2                                          \n",
       "3                                                      3                                          \n",
       "4                                                     -1                                          \n",
       "...                                                  ...                                          \n",
       "59994                                                  0                                          \n",
       "59995                                                 -2                                          \n",
       "59996                                                  1                                          \n",
       "59997                                                  1                                          \n",
       "59998                                                  2                                          \n",
       "\n",
       "       VocÃª frequentemente faz um plano de backup para um plano de backup  \\\n",
       "0                                                      0                     \n",
       "1                                                     -3                     \n",
       "2                                                      0                     \n",
       "3                                                     -1                     \n",
       "4                                                      0                     \n",
       "...                                                  ...                     \n",
       "59994                                                 -3                     \n",
       "59995                                                  1                     \n",
       "59996                                                  0                     \n",
       "59997                                                 -1                     \n",
       "59998                                                  0                     \n",
       "\n",
       "       VocÃª geralmente permanece calmo, mesmo sob muita pressÃ£o  \\\n",
       "0                                                      0            \n",
       "1                                                     -1            \n",
       "2                                                     -1            \n",
       "3                                                      0            \n",
       "4                                                      2            \n",
       "...                                                  ...            \n",
       "59994                                                 -2            \n",
       "59995                                                  3            \n",
       "59996                                                 -2            \n",
       "59997                                                 -2            \n",
       "59998                                                 -1            \n",
       "\n",
       "       Em eventos sociais, vocÃª raramente tenta se apresentar a novas pessoas e geralmente fala com aquelas que jÃ¡ conhece  \\\n",
       "0                                                      1                                                                       \n",
       "1                                                      2                                                                       \n",
       "2                                                      2                                                                       \n",
       "3                                                      0                                                                       \n",
       "4                                                     -1                                                                       \n",
       "...                                                  ...                                                                       \n",
       "59994                                                  2                                                                       \n",
       "59995                                                  0                                                                       \n",
       "59996                                                 -2                                                                       \n",
       "59997                                                 -1                                                                       \n",
       "59998                                                  0                                                                       \n",
       "\n",
       "       VocÃª prefere terminar completamente um projeto antes de comeÃ§ar outro  \\\n",
       "0                                                      1                         \n",
       "1                                                     -2                         \n",
       "2                                                      0                         \n",
       "3                                                     -2                         \n",
       "4                                                     -2                         \n",
       "...                                                  ...                         \n",
       "59994                                                  1                         \n",
       "59995                                                 -3                         \n",
       "59996                                                  0                         \n",
       "59997                                                  2                         \n",
       "59998                                                  0                         \n",
       "\n",
       "       VocÃª Ã© muito sentimental  \\\n",
       "0                               0   \n",
       "1                               0   \n",
       "2                               0   \n",
       "3                               0   \n",
       "4                               0   \n",
       "...                           ...   \n",
       "59994                           0   \n",
       "59995                           0   \n",
       "59996                           0   \n",
       "59997                           0   \n",
       "59998                           0   \n",
       "\n",
       "       VocÃª gosta de usar ferramentas de organizaÃ§Ã£o como horÃ¡rios e listas  \\\n",
       "0                                                      0                          \n",
       "1                                                      3                          \n",
       "2                                                      1                          \n",
       "3                                                     -2                          \n",
       "4                                                      1                          \n",
       "...                                                  ...                          \n",
       "59994                                                  1                          \n",
       "59995                                                  2                          \n",
       "59996                                                 -1                          \n",
       "59997                                                  1                          \n",
       "59998                                                  2                          \n",
       "\n",
       "       ...  \\\n",
       "0      ...   \n",
       "1      ...   \n",
       "2      ...   \n",
       "3      ...   \n",
       "4      ...   \n",
       "...    ...   \n",
       "59994  ...   \n",
       "59995  ...   \n",
       "59996  ...   \n",
       "59997  ...   \n",
       "59998  ...   \n",
       "\n",
       "       VocÃª acredita que ponderar sobre questÃµes filosÃ³ficas abstratas Ã© uma perda de tempo  \\\n",
       "0                                                      0                                          \n",
       "1                                                      0                                          \n",
       "2                                                      0                                          \n",
       "3                                                      0                                          \n",
       "4                                                      0                                          \n",
       "...                                                  ...                                          \n",
       "59994                                                  0                                          \n",
       "59995                                                  0                                          \n",
       "59996                                                 -1                                          \n",
       "59997                                                  0                                          \n",
       "59998                                                  0                                          \n",
       "\n",
       "       VocÃª se sente mais atraÃ­do por lugares com atmosferas movimentadas e agitadas do que por lugares quietos e Ã­ntimos  \\\n",
       "0                                                      0                                                                       \n",
       "1                                                     -2                                                                       \n",
       "2                                                      2                                                                       \n",
       "3                                                      0                                                                       \n",
       "4                                                      1                                                                       \n",
       "...                                                  ...                                                                       \n",
       "59994                                                  2                                                                       \n",
       "59995                                                  1                                                                       \n",
       "59996                                                  2                                                                       \n",
       "59997                                                  2                                                                       \n",
       "59998                                                 -1                                                                       \n",
       "\n",
       "       VocÃª sabe Ã  primeira vista como alguÃ©m estÃ¡ se sentindo  \\\n",
       "0                                                      0             \n",
       "1                                                      0             \n",
       "2                                                      0             \n",
       "3                                                     -1             \n",
       "4                                                      0             \n",
       "...                                                  ...             \n",
       "59994                                                  0             \n",
       "59995                                                  0             \n",
       "59996                                                  0             \n",
       "59997                                                  0             \n",
       "59998                                                  0             \n",
       "\n",
       "       VocÃª frequentemente se sente sobrecarregado  \\\n",
       "0                                                -1   \n",
       "1                                                 2   \n",
       "2                                                 2   \n",
       "3                                                -1   \n",
       "4                                                 2   \n",
       "...                                             ...   \n",
       "59994                                             1   \n",
       "59995                                             0   \n",
       "59996                                            -3   \n",
       "59997                                             2   \n",
       "59998                                             3   \n",
       "\n",
       "       VocÃª completa as coisas metodicamente sem pular nenhuma etapa  \\\n",
       "0                                                      0                \n",
       "1                                                      0                \n",
       "2                                                     -1                \n",
       "3                                                      0                \n",
       "4                                                      0                \n",
       "...                                                  ...                \n",
       "59994                                                  0                \n",
       "59995                                                  0                \n",
       "59996                                                  0                \n",
       "59997                                                  0                \n",
       "59998                                                  1                \n",
       "\n",
       "       VocÃª Ã© muito intrigado por coisas rotuladas como controversas  \\\n",
       "0                                                      0                 \n",
       "1                                                     -1                 \n",
       "2                                                      0                 \n",
       "3                                                      1                 \n",
       "4                                                      1                 \n",
       "...                                                  ...                 \n",
       "59994                                                  0                 \n",
       "59995                                                  0                 \n",
       "59996                                                  1                 \n",
       "59997                                                  0                 \n",
       "59998                                                  0                 \n",
       "\n",
       "       VocÃª passaria uma boa oportunidade adiante se achasse que outra pessoa precisava mais dela  \\\n",
       "0                                                      0                                             \n",
       "1                                                     -1                                             \n",
       "2                                                      1                                             \n",
       "3                                                      0                                             \n",
       "4                                                     -1                                             \n",
       "...                                                  ...                                             \n",
       "59994                                                  2                                             \n",
       "59995                                                  2                                             \n",
       "59996                                                 -1                                             \n",
       "59997                                                  0                                             \n",
       "59998                                                  1                                             \n",
       "\n",
       "       VocÃª tem dificuldades com prazos  \\\n",
       "0                                      0   \n",
       "1                                     -1   \n",
       "2                                      2   \n",
       "3                                     -2   \n",
       "4                                      2   \n",
       "...                                  ...   \n",
       "59994                                  3   \n",
       "59995                                  0   \n",
       "59996                                  0   \n",
       "59997                                  1   \n",
       "59998                                  0   \n",
       "\n",
       "       VocÃª se sente confiante de que as coisas vÃ£o dar certo para vocÃª  \\\n",
       "0                                                      0                     \n",
       "1                                                      3                     \n",
       "2                                                      1                     \n",
       "3                                                     -1                     \n",
       "4                                                     -1                     \n",
       "...                                                  ...                     \n",
       "59994                                                  3                     \n",
       "59995                                                 -2                     \n",
       "59996                                                 -1                     \n",
       "59997                                                  0                     \n",
       "59998                                                 -1                     \n",
       "\n",
       "       Personalidade  \n",
       "0               ENFP  \n",
       "1               ISFP  \n",
       "2               INFJ  \n",
       "3               ISTP  \n",
       "4               ENFJ  \n",
       "...              ...  \n",
       "59994           INFJ  \n",
       "59995           ESTP  \n",
       "59996           ISTP  \n",
       "59997           ISTJ  \n",
       "59998           INFJ  \n",
       "\n",
       "[59999 rows x 62 columns]"
      ]
     },
     "execution_count": 8,
     "metadata": {},
     "output_type": "execute_result"
    }
   ],
   "source": [
    "df = pd.read_csv(\"PT_16P - 16P.csv\", encoding='ISO-8859-1')\n",
    "df"
   ]
  },
  {
   "cell_type": "code",
   "execution_count": 13,
   "metadata": {},
   "outputs": [],
   "source": [
    "\n",
    "mapa = {'ESFJ': 0, 'ESFP': 1, 'ESTJ': 2, 'ESTP': 3, 'ENFJ': 4, 'ENFP': 5,\n",
    "         'ENTJ': 6, 'ENTP': 7, 'ISFJ': 8, 'ISFP': 9, 'ISTJ': 10, 'ISTP': 11,\n",
    "           'INFJ': 12, 'INFP': 13, 'INTJ': 14, 'INTP': 15}\n",
    "df['Personalidade'] = df['Personalidade'].replace(mapa)\n",
    "colunas_por_indice = df.drop(df.columns[[27, 55, 23, 51, 56, 9, 45, 1, 7, 31, 47, 22, 50, 33, 49, 0, 52, 20]], axis=1)\n",
    "\n",
    "colunas_por_indice.to_csv('quest.csv', index=False)"
   ]
  },
  {
   "cell_type": "code",
   "execution_count": 1,
   "metadata": {
    "id": "daqXwKw12CDQ"
   },
   "outputs": [
    {
     "ename": "NameError",
     "evalue": "name 'pd' is not defined",
     "output_type": "error",
     "traceback": [
      "\u001b[1;31m---------------------------------------------------------------------------\u001b[0m",
      "\u001b[1;31mNameError\u001b[0m                                 Traceback (most recent call last)",
      "Cell \u001b[1;32mIn[1], line 2\u001b[0m\n\u001b[0;32m      1\u001b[0m \u001b[38;5;66;03m# Fazer leitura do .csv\u001b[39;00m\n\u001b[1;32m----> 2\u001b[0m df \u001b[38;5;241m=\u001b[39m \u001b[43mpd\u001b[49m\u001b[38;5;241m.\u001b[39mread_csv(\u001b[38;5;124m\"\u001b[39m\u001b[38;5;124mdata/16P.csv\u001b[39m\u001b[38;5;124m\"\u001b[39m, encoding\u001b[38;5;241m=\u001b[39m\u001b[38;5;124m'\u001b[39m\u001b[38;5;124mISO-8859-1\u001b[39m\u001b[38;5;124m'\u001b[39m)\n",
      "\u001b[1;31mNameError\u001b[0m: name 'pd' is not defined"
     ]
    }
   ],
   "source": [
    "# Fazer leitura do .csv\n",
    "df = pd.read_csv(\"data/16P.csv\", encoding='ISO-8859-1')"
   ]
  },
  {
   "cell_type": "code",
   "execution_count": 8,
   "metadata": {},
   "outputs": [],
   "source": [
    "df = pd.read_csv(\"quest.csv\", encoding='ISO-8859-1')\n",
    "df.columns = range(df.shape[1])\n",
    "\n",
    "# Save the DataFrame to a CSV file\n",
    "df.to_csv('quest_new.csv', index=False)"
   ]
  },
  {
   "cell_type": "code",
   "execution_count": null,
   "metadata": {
    "colab": {
     "base_uri": "https://localhost:8080/"
    },
    "id": "kiP0ghCXGkqd",
    "outputId": "e3acbde1-7f72-4a3e-9e5a-c6a0d0d528a5"
   },
   "outputs": [],
   "source": [
    "df.info()"
   ]
  },
  {
   "cell_type": "markdown",
   "metadata": {
    "id": "OBx6GsxN2CDV"
   },
   "source": [
    "Após fazer uma verificação inicial, as colunas do dataframe estão todas no formato int64. Exceto a coluna dos tipos das personalidades."
   ]
  },
  {
   "cell_type": "code",
   "execution_count": null,
   "metadata": {
    "colab": {
     "base_uri": "https://localhost:8080/"
    },
    "id": "I9JbqcXb2CDZ",
    "outputId": "d98a9421-c2c3-4a06-d62b-810abaf15f09"
   },
   "outputs": [],
   "source": [
    "# Verificar a quantidade de personalidades\n",
    "df['Personality'].value_counts()"
   ]
  },
  {
   "cell_type": "code",
   "execution_count": null,
   "metadata": {},
   "outputs": [],
   "source": [
    "df['Personality'].value_counts().plot(kind='bar')"
   ]
  },
  {
   "cell_type": "code",
   "execution_count": null,
   "metadata": {},
   "outputs": [],
   "source": [
    "# Verificar a quantidade de valores nulos\n",
    "df.isnull().sum()"
   ]
  },
  {
   "cell_type": "code",
   "execution_count": null,
   "metadata": {
    "id": "YDlEMMps2CDb"
   },
   "outputs": [],
   "source": [
    "# Mapeando as personalidades\n",
    "\n",
    "\n",
    "# Mapenado os nomes das colunas em Portugues \n",
    "mapa_portugues = {'You regularly make new friends.': 'Faz novos amigos',\n",
    "                  'You spend a lot of your free time exploring various random topics that pique your interest': 'Passa muito tempo explorando topicos que te interessam',\n",
    "                  'Seeing other people cry can easily make you feel like you want to cry too': 'Ver outras pessoas chorando faz você querer chorar',\n",
    "                  'You often make a backup plan for a backup plan.':'Você costuma fazer planos de backup', \n",
    "                  'You usually stay calm, even under a lot of pressure': 'Você costuma ficar calmo mesmo sob pressão',\n",
    "                  'At social events, you rarely try to introduce yourself to new people and mostly talk to the ones you already know': 'Em eventos sociais, você raramente tenta se apresentar para novas pessoas e fala principalmente com as que você já conhece',\n",
    "                  'You prefer to completely finish one project before starting another.': 'Você prefere terminar completamente um projeto antes de começar outro',\n",
    "                  'You are very sentimental.': 'Você é muito sentimental',\n",
    "                  'You like to use organizing tools like schedules and lists.': 'Você gosta de usar ferramentas de organização como agendas e listas',\n",
    "                  'Even a small mistake can cause you to doubt your overall abilities and knowledge.': 'Mesmo um pequeno erro pode fazer você duvidar de suas habilidades e conhecimentos',\n",
    "                  'You feel comfortable just walking up to someone you find interesting and striking up a conversation.': 'Você se sente confortável apenas indo até alguém que você acha interessante e começando uma conversa',\n",
    "                  'You are not too interested in discussing various interpretations and analyses of creative works.': 'Você não está muito interessado em discutir várias interpretações e análises de trabalhos criativos',\n",
    "                  'You are more inclined to follow your head than your heart.': 'Você é mais inclinado a seguir sua cabeça do que seu coração',\n",
    "                  'You usually prefer just doing what you feel like at any given moment instead of planning a particular daily routine.': 'Você geralmente prefere fazer o que sente em qualquer momento em vez de planejar uma rotina diária específica',\n",
    "                  'You rarely worry about whether you make a good impression on people you meet.': 'Você raramente se preocupa se causa uma boa impressão nas pessoas que conhece',\n",
    "                  'You enjoy participating in group activities.': 'Você gosta de participar de atividades em grupo',\n",
    "                  'You like books and movies that make you come up with your own interpretation of the ending.': 'Você gosta de livros e filmes que fazem você criar sua própria interpretação do final',\n",
    "                  'Your happiness comes more from helping others accomplish things than your own accomplishments.': 'Sua felicidade vem mais de ajudar os outros a realizar coisas do que de suas próprias realizações',\n",
    "                  'You are interested in so many things that you find it difficult to choose what to try next.': 'Você está interessado em tantas coisas que acha difícil escolher o que tentar a seguir',\n",
    "                  'You are prone to worrying that things will take a turn for the worse.': 'Você tem tendência a se preocupar que as coisas vão piorar',\n",
    "                  'You avoid leadership roles in group settings.': 'Você evita papéis de liderança em configurações de grupo',\n",
    "                  'You are definitely not an artistic type of person.': 'Você definitivamente não é um tipo de pessoa artística',\n",
    "                  'You think the world would be a better place if people relied more on rationality and less on their feelings.': 'Você acha que o mundo seria um lugar melhor se as pessoas confiassem mais na racionalidade e menos em seus sentimentos',\n",
    "                  'You prefer to do your chores before allowing yourself to relax.': 'Você prefere fazer suas tarefas antes de se permitir relaxar',\n",
    "                  'You enjoy watching people argue.': 'Você gosta de assistir as pessoas discutirem',\n",
    "                  'You tend to avoid drawing attention to yourself.': 'Você tende a evitar chamar a atenção para si mesmo',\n",
    "                  'Your mood can change very quickly.': 'Seu humor pode mudar muito rapidamente',\n",
    "                  'You lose patience with people who are not as efficient as you.': 'Você perde a paciência com pessoas que não são tão eficientes quanto você',\n",
    "                  'You often end up doing things at the last possible moment.': 'Você frequentemente acaba fazendo as coisas no último momento possível',\n",
    "                  'You have always been fascinated by the question of what, if anything, happens after death.': 'Você sempre foi fascinado pela pergunta do que, se algo, acontece após a morte',\n",
    "                  'You usually prefer to be around others rather than on your own.': 'Você geralmente prefere estar com os outros em vez de sozinho',\n",
    "                  'You become bored or lose interest when the discussion gets highly theoretical.': 'Você fica entediado ou perde o interesse quando a discussão fica altamente teórica',\n",
    "                  'You find it easy to empathize with a person who has gone through something you never have.': 'Você acha fácil se colocar no lugar de uma pessoa que passou por algo que você nunca passou',\n",
    "                  'You usually postpone finalizing decisions for as long as possible.': 'Você geralmente adia a finalização de decisões o máximo possível',\n",
    "                  'You rarely second-guess the choices that you have made.': 'Você raramente duvida das escolhas que fez',\n",
    "                  'After a long and exhausting week, a lively social event is just what you need.': 'Depois de uma semana longa e exaustiva, um evento social animado é exatamente o que você precisa',\n",
    "                  'You enjoy going to art museums.': 'Você gosta de ir a museus de arte',\n",
    "                  'You often have a hard time understanding other people’s feelings.': 'Você frequentemente tem dificuldade em entender os sentimentos de outras pessoas',\n",
    "                  'You like to have a to-do list for each day.': 'Você gosta de ter uma lista de tarefas para cada dia',\n",
    "                  'You rarely feel insecure.': 'Você raramente se sente inseguro',\n",
    "                  'You avoid making phone calls.': 'Você evita fazer ligações',\n",
    "                  'You often spend a lot of time trying to understand views that are very different from your own.': 'Você frequentemente passa muito tempo tentando entender pontos de vista muito diferentes do seu',\n",
    "                  'In your social circle, you are often the one who contacts your friends and initiates activities.': 'Em seu círculo social, você é frequentemente o que entra em contato com seus amigos e inicia atividades',\n",
    "                  'If your plans are interrupted, your top priority is to get back on track as soon as possible.': 'Se seus planos são interrompidos, sua prioridade é voltar ao normal o mais rápido possível',\n",
    "                  'You are still bothered by mistakes that you made a long time ago.': 'Você ainda está incomodado com erros que cometeu há muito tempo',\n",
    "                  'You rarely contemplate the reasons for human existence or the meaning of life.': 'Você raramente contempla as razões da existência humana ou o significado da vida',\n",
    "                  'Your emotions control you more than you control them.': 'Suas emoções te controlam mais do que você as controla',\n",
    "                  'You take great care not to make people look bad, even when it is completely their fault.': 'Você toma muito cuidado para não fazer as pessoas parecerem más, mesmo quando é completamente culpa delas',\n",
    "                  'Your personal work style is closer to spontaneous bursts of energy than to organized and consistent efforts.': 'Seu estilo de trabalho pessoal é mais próximo de explosões espontâneas de energia do que de esforços organizados e consistentes',\n",
    "                  'When someone thinks highly of you, you wonder how long it will take them to feel disappointed in you.': 'Quando alguém pensa muito em você, você se pergunta quanto tempo levará até que eles fiquem desapontados com você',\n",
    "                  'You would love a job that requires you to work alone most of the time.': 'Você adoraria um trabalho que exige que você trabalhe sozinho na maior parte do tempo',\n",
    "                  'You believe that pondering abstract philosophical questions is a waste of time.': 'Você acredita que ponderar questões filosóficas abstratas é uma perda de tempo',\n",
    "                  'You feel more drawn to places with busy, bustling atmospheres than quiet, intimate places.': 'Você se sente mais atraído por lugares com atmosferas movimentadas e agitadas do que lugares tranquilos e íntimos',\n",
    "                  'You know at first glance how someone is feeling.': 'Você sabe à primeira vista como alguém está se sentindo',\n",
    "                  'You often feel overwhelmed.': 'Você frequentemente se sente sobrecarregado',\n",
    "                  'You complete things methodically without skipping over any steps.': 'Você completa as coisas metodicamente sem pular nenhuma etapa',\n",
    "                  'You are very intrigued by things labeled as controversial.': 'Você é muito intrigado por coisas rotuladas como controversas',\n",
    "                  'You would pass along a good opportunity if you thought someone else needed it more.': 'Você passaria uma boa oportunidade se achasse que outra pessoa precisava mais dela',\n",
    "                  'You struggle with deadlines.': 'Você tem dificuldade com prazos',\n",
    "                  'You feel confident that things will work out for you.': 'Você tem confiança de que as coisas vão dar certo para você'}\n",
    "\n",
    "# Mapeando os nomes das colunas reduzidos em Inglês\n",
    "mapa_reduzido = {'You regularly make new friends.': 'New frineds',\n",
    "                  'You spend a lot of your free time exploring various random topics that pique your interest': 'Spend time exploring topics',\n",
    "                  'Seeing other people cry can easily make you feel like you want to cry too': 'Seeing people cry',\n",
    "                  'You often make a backup plan for a backup plan.':'Backup plan', \n",
    "                  'You usually stay calm, even under a lot of pressure': 'Stay calm',\n",
    "                  'At social events, you rarely try to introduce yourself to new people and mostly talk to the ones you already know': 'Social events',\n",
    "                  'You prefer to completely finish one project before starting another.': 'Finish project',\n",
    "                  'You are very sentimental.': 'Sentimental',\n",
    "                  'You like to use organizing tools like schedules and lists.': 'Organizing tools',\n",
    "                  'Even a small mistake can cause you to doubt your overall abilities and knowledge.': 'Doubt abilities',\n",
    "                  'You feel comfortable just walking up to someone you find interesting and striking up a conversation.': 'Walking up to someone',\n",
    "                  'You are not too interested in discussing various interpretations and analyses of creative works.': 'Discussing creative works',\n",
    "                  'You are more inclined to follow your head than your heart.': 'Follow head',\n",
    "                  'You usually prefer just doing what you feel like at any given moment instead of planning a particular daily routine.': 'Doing what you feel',\n",
    "                  'You rarely worry about whether you make a good impression on people you meet.': 'Good impression',\n",
    "                  'You enjoy participating in group activities.': 'Group activities',\n",
    "                  'You like books and movies that make you come up with your own interpretation of the ending.': 'Interpretation of the ending',\n",
    "                  'Your happiness comes more from helping others accomplish things than your own accomplishments.': 'Helping others',\n",
    "                  'You are interested in so many things that you find it difficult to choose what to try next.': 'Difficult to choose',\n",
    "                  'You are prone to worrying that things will take a turn for the worse.': 'Worrying',\n",
    "                  'You avoid leadership roles in group settings.': 'Avoid leadership',\n",
    "                  'You are definitely not an artistic type of person.': 'Artistic',\n",
    "                  'You think the world would be a better place if people relied more on rationality and less on their feelings.': 'Rationality',\n",
    "                  'You prefer to do your chores before allowing yourself to relax.': 'Chores',\n",
    "                  'You enjoy watching people argue.': 'Watching people argue',\n",
    "                  'You tend to avoid drawing attention to yourself.': 'Avoid attention',\n",
    "                  'Your mood can change very quickly.': 'Mood change',  \n",
    "                  'You lose patience with people who are not as efficient as you.': 'Lose patience',\n",
    "                  'You often end up doing things at the last possible moment.': 'Last possible moment',\n",
    "                  'You have always been fascinated by the question of what, if anything, happens after death.': 'After death',\n",
    "                  'You usually prefer to be around others rather than on your own.': 'Around others',\n",
    "                  'You become bored or lose interest when the discussion gets highly theoretical.': 'Bored',\n",
    "                  'You find it easy to empathize with a person whose experiences are very different from yours.': 'Empathize',\n",
    "                  'You usually postpone finalizing decisions for as long as possible.': 'Postpone decisions',\n",
    "                  'You rarely second-guess the choices that you have made.': 'Second-guess',\n",
    "                  'After a long and exhausting week, a lively social event is just what you need.': 'Social event',\n",
    "                  'You enjoy going to art museums.': 'Art museums',\n",
    "                  'You often have a hard time understanding other people’s feelings.': 'Understanding feelings',\n",
    "                  'You like to have a to-do list for each day.': 'To-do list',\n",
    "                  'You rarely feel insecure.': 'Insecure',\n",
    "                  'You avoid making phone calls.': 'Avoid calls',\n",
    "                  'You often spend a lot of time trying to understand views that are very different from your own.': 'Understand views',\n",
    "                  'In your social circle, you are often the one who contacts your friends and initiates activities.': 'Social circle',\n",
    "                  'If your plans are interrupted, your top priority is to get back on track as soon as possible.': 'Back on track',\n",
    "                  'You are still bothered by mistakes that you made a long time ago.': 'Bothered by mistakes',\n",
    "                  'You rarely contemplate the reasons for human existence or the meaning of life.': 'Meaning of life',\n",
    "                  'Your emotions control you more than you control them.': 'Emotions control',\n",
    "                  'You take great care not to make people look bad, even when it is completely their fault.': 'Make people look bad',\n",
    "                  'Your personal work style is closer to spontaneous bursts of energy than to organized and consistent efforts.': 'Work style',\n",
    "                  'When someone thinks highly of you, you wonder how long it will take them to feel disappointed in you.': 'Disappointed',\n",
    "                  'You would love a job that requires you to work alone most of the time.': 'Work alone',\n",
    "                  'You believe that pondering abstract philosophical questions is a waste of time.': 'Philosophical questions',\n",
    "                  'You feel more drawn to places with busy, bustling atmospheres than quiet, intimate places.': 'Bustling atmosphere',\n",
    "                  'You know at first glance how someone is feeling.': 'First glance',\n",
    "                  'You often feel overwhelmed.': 'Overwhelmed',\n",
    "                  'You complete things methodically without skipping over any steps.': 'Complete things',\n",
    "                  'You are very intrigued by things labeled as controversial.': 'Controversial',\n",
    "                  'You would pass along a good opportunity if you thought someone else needed it more.': 'Pass along',\n",
    "                  'You struggle with deadlines.': 'Deadlines',\n",
    "                  'You feel confident that things will work out for you.': 'Confident'}"
   ]
  },
  {
   "cell_type": "code",
   "execution_count": null,
   "metadata": {
    "colab": {
     "base_uri": "https://localhost:8080/",
     "height": 516
    },
    "id": "1nPqkaFN2CDf",
    "outputId": "d318236b-1f40-4c5a-dc1d-4bbf7d2cc829"
   },
   "outputs": [],
   "source": [
    "# Dropar a coluna 'Response Id'\n",
    "df.drop('Response Id', axis=1, inplace= True)\n",
    "\n",
    "# Substituir as personalidades pelos valores mapeados\n",
    "df['Personality'] = df['Personality'].replace(mapa)\n",
    "\n",
    "# Substituir os nomes das colunas pelos valores mapeados reduzidos\n",
    "dfreduced = df.rename(columns=mapa_reduzido)\n",
    "\n",
    "# Substituir os nomes das colunas pelos valores mapeados em português\n",
    "dfport = df.rename(columns=mapa_portugues)\n",
    "\n"
   ]
  },
  {
   "cell_type": "code",
   "execution_count": null,
   "metadata": {},
   "outputs": [],
   "source": [
    "df.head()"
   ]
  },
  {
   "cell_type": "code",
   "execution_count": null,
   "metadata": {},
   "outputs": [],
   "source": [
    "dfreduced.head()"
   ]
  },
  {
   "cell_type": "code",
   "execution_count": null,
   "metadata": {},
   "outputs": [],
   "source": [
    "dfport.head()"
   ]
  },
  {
   "cell_type": "code",
   "execution_count": null,
   "metadata": {
    "colab": {
     "base_uri": "https://localhost:8080/"
    },
    "id": "qtkhvuKAFlS4",
    "outputId": "1676f81c-e80f-48f2-f83b-7496f031da24"
   },
   "outputs": [],
   "source": [
    "df.describe()"
   ]
  },
  {
   "cell_type": "code",
   "execution_count": null,
   "metadata": {
    "colab": {
     "base_uri": "https://localhost:8080/",
     "height": 236
    },
    "id": "afgbdkbd2CDi",
    "outputId": "09c69942-9166-4aaa-a984-dd50b4a4be6f"
   },
   "outputs": [],
   "source": [
    "#Para trabalhar mais facilmente com as colunas, mudei o nome delas para o índice que elas estão\n",
    "mapping = {col: i for i, col in enumerate(df.columns)}\n",
    "df.rename(columns=mapping, inplace=True)\n",
    "\n",
    "df.head()"
   ]
  },
  {
   "cell_type": "code",
   "execution_count": null,
   "metadata": {
    "colab": {
     "base_uri": "https://localhost:8080/"
    },
    "id": "rnsqDTFLHvOf",
    "outputId": "f6d02e8d-3349-4ccd-879b-e463c0883ad0"
   },
   "outputs": [],
   "source": [
    "colunas_0_1 = df.columns[(df.min() == 0) & (df.max() == 1)]\n",
    "colunas_nao_0_1 = df.columns[(df.min() != 0) | (df.max() != 1)]\n",
    "\n",
    "print(\"Colunas com valores entre 0 e 1:\")\n",
    "print(colunas_0_1)\n",
    "\n",
    "print(\"\\nColunas com valores fora da faixa de 0 a 1:\")\n",
    "print(colunas_nao_0_1)\n",
    "\n",
    "#scaler = MinMaxScaler()\n",
    "#df[colunas_nao_0_1] = scaler.fit_transform(df[colunas_nao_0_1])\n",
    "\n",
    "#df"
   ]
  },
  {
   "cell_type": "code",
   "execution_count": null,
   "metadata": {
    "colab": {
     "base_uri": "https://localhost:8080/",
     "height": 1000
    },
    "id": "r5vK4ZDZ2CDj",
    "outputId": "834156f1-372a-4cbb-afed-1aef3c8b1fa8"
   },
   "outputs": [],
   "source": [
    "# Traçando um gráfico de correlação pra ver quais colunas tem maior correlação com outras.\n",
    "corr_matrix = df.corr()\n",
    "\n",
    "plt.figure(figsize=(20,20))\n",
    "sns.heatmap(df.corr(), cmap='Blues', fmt='.2f', linewidths=2)\n",
    "plt.title('Correlação entre as variáveis do dataset 16P')\n",
    "plt.show()\n",
    "#Eu sei que isso ta horrivel foi só pra testar mesmo"
   ]
  },
  {
   "cell_type": "code",
   "execution_count": null,
   "metadata": {
    "colab": {
     "base_uri": "https://localhost:8080/"
    },
    "id": "h6EFnlfVLlnb",
    "outputId": "0e6bcb1f-5aa4-42ab-b1c1-03c41edf2a33"
   },
   "outputs": [],
   "source": [
    "print(corr_matrix)"
   ]
  },
  {
   "cell_type": "code",
   "execution_count": null,
   "metadata": {
    "colab": {
     "base_uri": "https://localhost:8080/"
    },
    "id": "xtmQBk-XU1UG",
    "outputId": "a0ddd20c-100f-4899-b281-e8a4c08f58d4"
   },
   "outputs": [],
   "source": [
    "# vou ordenar pra facilitar a visualização\n",
    "correlation_values = corr_matrix.unstack().sort_values(ascending=False)\n",
    "\n",
    "pd.set_option('display.max_rows', None)\n",
    "\n",
    "# Filtrar as correlações de uma coluna com ela propria\n",
    "correlation_values = correlation_values[correlation_values.index.get_level_values(0) != correlation_values.index.get_level_values(1)]\n",
    "\n",
    "# print(correlation_values)"
   ]
  },
  {
   "cell_type": "code",
   "execution_count": null,
   "metadata": {
    "id": "l-SFiMsOYFAh"
   },
   "outputs": [],
   "source": [
    "# Resetar o índice\n",
    "correlation_values = correlation_values.reset_index()\n",
    "correlation_values.columns = ['Variable1', 'Variable2', 'Correlation']"
   ]
  },
  {
   "cell_type": "code",
   "execution_count": null,
   "metadata": {
    "colab": {
     "base_uri": "https://localhost:8080/"
    },
    "id": "CsNv_BG3dVSi",
    "outputId": "936044a2-d676-4536-a117-292e4e3d0c79"
   },
   "outputs": [],
   "source": [
    "# Definir as faixas de correlação\n",
    "faixas = {\n",
    "    'correlação baixa': (0.3, 0.5),\n",
    "    'média': (0.5, 0.7),\n",
    "    'alta': (0.7, 0.99),\n",
    "    'correlação baixa inversamente proporcional': (-0.5, -0.3),\n",
    "    'média inversamente proporcional': (-0.7, -0.5),\n",
    "    'alta inversamente proporcional': (-0.99, -0.7)\n",
    "}\n",
    "\n",
    "# Imprimir as correlações dentro de cada faixa\n",
    "for faixa, (min_val, max_val) in faixas.items():\n",
    "    correlacoes = corr_matrix[(corr_matrix >= min_val) & (corr_matrix < max_val)]\n",
    "    if not correlacoes.empty:\n",
    "        print(f'Faixa de correlação: {faixa}')\n",
    "        for col1 in correlacoes.columns:\n",
    "            for col2 in correlacoes.index:\n",
    "                valor_correlacao = correlacoes.loc[col2, col1]\n",
    "                if not pd.isna(valor_correlacao):\n",
    "                    print(f'Variável {col1} e Variável {col2}: {valor_correlacao}')\n",
    "        print('\\n')"
   ]
  },
  {
   "cell_type": "code",
   "execution_count": null,
   "metadata": {
    "colab": {
     "base_uri": "https://localhost:8080/",
     "height": 1000
    },
    "id": "NZgwv07SZlF6",
    "outputId": "5ec1a01e-d746-4b0e-c9cd-a1e06d10afa3"
   },
   "outputs": [],
   "source": [
    "correlation_matrix_2 = df.corr()\n",
    "correlation_with_target = correlation_matrix_2.iloc[:-1, -1]\n",
    "plt.figure(figsize=(60, 20))\n",
    "sns.heatmap(correlation_with_target.to_frame(), cmap='coolwarm', annot=True, fmt=\".2f\", cbar=True, square=True)\n",
    "plt.title('Correlação entre Features e Target')\n",
    "plt.xlabel('Features')\n",
    "plt.ylabel('Target')\n",
    "plt.show()"
   ]
  },
  {
   "cell_type": "code",
   "execution_count": null,
   "metadata": {
    "colab": {
     "base_uri": "https://localhost:8080/"
    },
    "id": "YqpOnnuiZ4Pi",
    "outputId": "c117692f-ba98-4998-d32a-5d04d4525bb6"
   },
   "outputs": [],
   "source": [
    "print(correlation_with_target)"
   ]
  },
  {
   "cell_type": "code",
   "execution_count": null,
   "metadata": {
    "colab": {
     "base_uri": "https://localhost:8080/"
    },
    "id": "pArJ-U-XaEWe",
    "outputId": "c9ea9b9c-7c42-40c4-f3c8-c010638ada47"
   },
   "outputs": [],
   "source": [
    "# Criar dicionário para armazenar as features em cada faixa\n",
    "features_por_faixa = {faixa: [] for faixa in faixas}\n",
    "\n",
    "# Iterar sobre a série de correlação\n",
    "for feature, correlacao in correlation_with_target.items():\n",
    "    for faixa, (minimo, maximo) in faixas.items():\n",
    "        if minimo <= correlacao < maximo:\n",
    "            features_por_faixa[faixa].append(feature)\n",
    "\n",
    "# Exibir as features em cada faixa\n",
    "for faixa, features in features_por_faixa.items():\n",
    "    print(f'Faixa de correlação: {faixa}')\n",
    "    print(f'Features: {features}')\n",
    "    print('\\n')\n"
   ]
  },
  {
   "cell_type": "code",
   "execution_count": null,
   "metadata": {
    "colab": {
     "base_uri": "https://localhost:8080/",
     "height": 1000
    },
    "id": "7ZWZGO5K2CDk",
    "outputId": "43155d98-cde0-4a12-946a-5b9707060785"
   },
   "outputs": [],
   "source": [
    "# Plotando histogramas para cada personalidade\n",
    "for i in range(20):\n",
    "    fig, axs = plt.subplots(1, 3, figsize=(15, 5))\n",
    "    fig.suptitle('Opção escolhida pelo usuário para a pergunta: ')\n",
    "    for j in range(3):\n",
    "        axs[j].hist(df.iloc[:, i*3 + j].dropna())\n",
    "        axs[j].set_title(j + i*3) #Como os títulos sao muito grandes, decidi mudar para o numero da coluna\n",
    "\n",
    "plt.show()"
   ]
  },
  {
   "cell_type": "code",
   "execution_count": null,
   "metadata": {},
   "outputs": [],
   "source": [
    "# Após fazer a análise da correlação e observar os histogramas, podemos ver que algumas variáveis não possuem uma correlação \n",
    "# muito alta com a variável target.\n",
    "# Para isso, será interessante remover as variáveis que possuem uma correlação menor que 0.01 e maior que -0.01 com o target.\n",
    "\n",
    "dfcorrelation = df.drop(correlation_with_target[(correlation_with_target < 0.01) & (correlation_with_target > -0.01)].index, axis=1)"
   ]
  },
  {
   "cell_type": "code",
   "execution_count": null,
   "metadata": {},
   "outputs": [],
   "source": [
    "dfcorrelation.head()"
   ]
  },
  {
   "cell_type": "markdown",
   "metadata": {},
   "source": [
    "# Regressão Logística"
   ]
  },
  {
   "cell_type": "markdown",
   "metadata": {},
   "source": [
    "### Definindo o target"
   ]
  },
  {
   "cell_type": "code",
   "execution_count": null,
   "metadata": {},
   "outputs": [],
   "source": [
    "# Analisando o dataframe\n",
    "df.head()"
   ]
  },
  {
   "cell_type": "code",
   "execution_count": null,
   "metadata": {},
   "outputs": [],
   "source": [
    "# Separando as colunas entre X e y\n",
    "X = df.iloc[:, 0:60]\n",
    "y = df[60]"
   ]
  },
  {
   "cell_type": "markdown",
   "metadata": {},
   "source": [
    "### Criando o Modelo"
   ]
  },
  {
   "cell_type": "code",
   "execution_count": null,
   "metadata": {},
   "outputs": [],
   "source": [
    "# Define the multinomial logistic regression model\n",
    "model = LogisticRegression(multi_class='multinomial', solver='lbfgs')"
   ]
  },
  {
   "cell_type": "markdown",
   "metadata": {},
   "source": [
    "### Treinando e Avaliando o Modelo"
   ]
  },
  {
   "cell_type": "markdown",
   "metadata": {},
   "source": [
    "#### 1. Validação Cruzada"
   ]
  },
  {
   "cell_type": "code",
   "execution_count": null,
   "metadata": {},
   "outputs": [],
   "source": [
    "# Define the model evaluation procedure\n",
    "cv = RepeatedStratifiedKFold(n_splits=10, n_repeats=3, random_state=42)\n",
    "\n",
    "# Acurácia em cada fold\n",
    "accuracies = cross_val_score(model, X, y, scoring='accuracy', cv=cv, n_jobs=-1)\n",
    "\n",
    "# Plotar o gráfico\n",
    "plt.figure(figsize=(10,5))\n",
    "plt.plot(accuracies, label='Acurácia')\n",
    "plt.xlabel('Fold', fontweight=\"bold\")\n",
    "plt.ylabel('Accuracy', fontweight=\"bold\")\n",
    "plt.title('Histórico de Acurácia Durante a Validação Cruzada', fontweight=\"bold\")\n",
    "plt.legend()\n",
    "plt.show()\n",
    "\n",
    "# Variação da acurácia ao longo das iterações da validação cruzada para visualizar a estabilidade e a confiabilidade do modelo"
   ]
  },
  {
   "cell_type": "code",
   "execution_count": null,
   "metadata": {},
   "outputs": [],
   "source": [
    "# Acurácia média do treinamento com validação cruzada\n",
    "print('Acurácia média: %.3f (%.3f)' % (mean(accuracies), std(accuracies)))"
   ]
  },
  {
   "cell_type": "markdown",
   "metadata": {},
   "source": [
    "#### 2. Matriz de confusão"
   ]
  },
  {
   "cell_type": "code",
   "execution_count": null,
   "metadata": {},
   "outputs": [],
   "source": [
    "# Dividir os dados em conjuntos de treino e teste\n",
    "X_train, X_test, y_train, y_test = train_test_split(X, y, test_size=0.25, random_state=42)\n",
    "\n",
    "# Treinar o modelo\n",
    "model.fit(X_train, y_train)\n",
    "\n",
    "# Fazer previsões\n",
    "y_pred = model.predict(X_test)\n",
    "\n",
    "# Criar a matriz de confusão\n",
    "cm = confusion_matrix(y_test, y_pred)\n",
    "\n",
    "# Plotar a matriz de confusão\n",
    "plt.figure(figsize=(10,7))\n",
    "sns.heatmap(cm, annot=True, fmt='g', cmap='Blues')\n",
    "plt.xlabel('Predicted', fontsize=12, fontweight=\"bold\")\n",
    "plt.ylabel('True', fontsize=12, fontweight=\"bold\")\n",
    "plt.title('Matriz de Confusão', fontweight=\"bold\", fontsize=14)\n",
    "plt.show()"
   ]
  },
  {
   "cell_type": "markdown",
   "metadata": {},
   "source": [
    "#### 3. Curva ROC"
   ]
  },
  {
   "cell_type": "code",
   "execution_count": null,
   "metadata": {},
   "outputs": [],
   "source": [
    "# Binarizar as labels\n",
    "y_bin = label_binarize(y, classes=np.unique(y))\n",
    "\n",
    "# Dividir os dados\n",
    "X_train, X_test, y_train, y_test = train_test_split(X, y_bin, test_size=0.25, random_state=42)\n",
    "\n",
    "# Treinar o modelo com estratégia One-vs-Rest\n",
    "ovr_model = OneVsRestClassifier(model)\n",
    "ovr_model.fit(X_train, y_train)\n",
    "\n",
    "# Calcular as probabilidades de cada classe\n",
    "y_prob = ovr_model.predict_proba(X_test)\n",
    "\n",
    "# Plotar a curva ROC para cada classe\n",
    "plt.figure(figsize=(10,8))\n",
    "for i in range(y_prob.shape[1]):\n",
    "    fpr, tpr, _ = roc_curve(y_test[:, i], y_prob[:, i])\n",
    "    roc_auc = auc(fpr, tpr)\n",
    "    plt.plot(fpr, tpr, label='Class %d (area = %0.2f)' % (i, roc_auc))\n",
    "\n",
    "plt.plot([0, 1], [0, 1], 'k--')\n",
    "plt.xlabel('False Positive Rate', fontweight=\"bold\")\n",
    "plt.ylabel('True Positive Rate', fontweight=\"bold\")\n",
    "plt.title('Curva ROC para cada classe', fontweight=\"bold\")\n",
    "plt.legend(loc=\"lower right\")\n",
    "plt.show()\n",
    "\n",
    "# È uma representação gráfica da capacidade do modelo de discriminar entre classes"
   ]
  },
  {
   "cell_type": "markdown",
   "metadata": {},
   "source": [
    "# Random Forest"
   ]
  },
  {
   "cell_type": "markdown",
   "metadata": {},
   "source": [
    "Random Forest"
   ]
  },
  {
   "cell_type": "code",
   "execution_count": null,
   "metadata": {},
   "outputs": [],
   "source": [
    "from sklearn.ensemble import RandomForestClassifier\n",
    "classifier = RandomForestClassifier(n_estimators = 10, criterion = 'entropy', random_state = 42)\n",
    "classifier.fit(X_train, y_train)"
   ]
  },
  {
   "cell_type": "code",
   "execution_count": null,
   "metadata": {},
   "outputs": [],
   "source": [
    "y_pred2 = classifier.predict(X_test)"
   ]
  },
  {
   "cell_type": "code",
   "execution_count": null,
   "metadata": {},
   "outputs": [],
   "source": [
    "cm = confusion_matrix(y_test, y_pred2)\n",
    "print(cm)\n",
    "accuracy_score(y_test, y_pred2)"
   ]
  },
  {
   "cell_type": "code",
   "execution_count": null,
   "metadata": {},
   "outputs": [],
   "source": [
    "importances = classifier.feature_importances_\n",
    "indices = np.argsort(importances)[::-1]\n",
    "plt.figure(figsize=(10, 6))\n",
    "plt.title(\"Importâncias das Características\")\n",
    "plt.bar(range(X.shape[1]), importances[indices], align=\"center\")\n",
    "plt.xticks(range(X.shape[1]), X.columns[indices], rotation=90)\n",
    "plt.tight_layout()\n",
    "plt.show()"
   ]
  },
  {
   "cell_type": "code",
   "execution_count": null,
   "metadata": {},
   "outputs": [],
   "source": [
    "report = classification_report(y_test, y_pred2)\n",
    "print(\"Classification Report:\\n\", report)"
   ]
  },
  {
   "cell_type": "code",
   "execution_count": null,
   "metadata": {},
   "outputs": [],
   "source": [
    "\"\"\"\n",
    "    Aqui, eu antes tinha utilizado uma documentação do github para aplicar a Random-Forest, mas a accuracy usando o scikit-learn diretamente foi maior,\n",
    "então optei por manter o resultado final assim.\n",
    "==================================================================\n",
    "Dados anteriores:\n",
    "    train_preds = rf_model.predict(X_set=X_train)\n",
    "    print(\"TRAIN PERFORMANCE\")\n",
    "    print(\"Train size\", len(Y_train))\n",
    "    print(\"True preds\", sum(train_preds == Y_train))\n",
    "    print(\"Accuracy\", sum(train_preds == Y_train) / len(Y_train))\n",
    "\n",
    "    test_preds = rf_model.predict(X_set=X_test)\n",
    "    print(\"TEST PERFORMANCE\")\n",
    "    print(\"Test size\", len(Y_test))\n",
    "    print(\"True preds\", sum(test_preds == Y_test))\n",
    "    print(\"Accuracy\", sum(test_preds == Y_test) / len(Y_test))\n",
    "    ============================================================\n",
    "TRAIN PERFORMANCE:\n",
    "    Train size 44999\n",
    "    True preds 36516\n",
    "    Accuracy 0.8114846996599925\n",
    "    TEST PERFORMANCE\n",
    "    Test size 15000\n",
    "    True preds 12027\n",
    "    Accuracy 0.8018\n",
    "\n",
    "\"\"\""
   ]
  },
  {
   "cell_type": "markdown",
   "metadata": {},
   "source": [
    "Neural-Network\n"
   ]
  },
  {
   "cell_type": "code",
   "execution_count": null,
   "metadata": {},
   "outputs": [],
   "source": [
    "df = pd.read_csv(\"data/16P.csv\", encoding='ISO-8859-1')\n",
    "dfx = pd.read_csv(\"data/16P.csv\", encoding='ISO-8859-1')"
   ]
  },
  {
   "cell_type": "code",
   "execution_count": null,
   "metadata": {},
   "outputs": [],
   "source": [
    "df.drop('Response Id', axis=1, inplace= True)\n",
    "df"
   ]
  },
  {
   "cell_type": "code",
   "execution_count": null,
   "metadata": {},
   "outputs": [],
   "source": [
    "#Para trabalhar mais facilmente com as colunas, mudei o nome delas para o índice que elas estão\n",
    "# mapping = {col: i for i, col in enumerate(df.columns)}\n",
    "# df.rename(columns=mapping, inplace=True)"
   ]
  },
  {
   "cell_type": "code",
   "execution_count": null,
   "metadata": {},
   "outputs": [],
   "source": [
    "mapa = {'ESFJ': 0, 'ESFP': 1, 'ESTJ': 2, 'ESTP': 3, 'ENFJ': 4, 'ENFP': 5,\n",
    "         'ENTJ': 6, 'ENTP': 7, 'ISFJ': 8, 'ISFP': 9, 'ISTJ': 10, 'ISTP': 11,\n",
    "           'INFJ': 12, 'INFP': 13, 'INTJ': 14, 'INTP': 15}\n",
    "\n",
    "# Substituir as personalidades pelos valores mapeados\n",
    "df['Personality'] = df['Personality'].replace(mapa)"
   ]
  },
  {
   "cell_type": "code",
   "execution_count": null,
   "metadata": {},
   "outputs": [],
   "source": [
    "df"
   ]
  },
  {
   "cell_type": "code",
   "execution_count": null,
   "metadata": {},
   "outputs": [],
   "source": [
    "dfx.drop(columns=['Response Id','Personality'], axis=1, inplace= True)"
   ]
  },
  {
   "cell_type": "code",
   "execution_count": null,
   "metadata": {},
   "outputs": [],
   "source": [
    "dfx"
   ]
  },
  {
   "cell_type": "code",
   "execution_count": null,
   "metadata": {},
   "outputs": [],
   "source": [
    "# le = LabelEncoder()\n",
    "# dff = le.fit_transform(dff)\n",
    "# dff"
   ]
  },
  {
   "cell_type": "code",
   "execution_count": null,
   "metadata": {},
   "outputs": [],
   "source": [
    "X = torch.tensor(dfx.values, dtype=torch.int64)\n",
    "y = torch.tensor(df['Personality'].values, dtype=torch.long)"
   ]
  },
  {
   "cell_type": "code",
   "execution_count": null,
   "metadata": {},
   "outputs": [],
   "source": [
    "X_train, X_test, y_train, y_test = train_test_split(X, y, test_size=0.25, random_state=42)"
   ]
  },
  {
   "cell_type": "code",
   "execution_count": null,
   "metadata": {},
   "outputs": [],
   "source": [
    "loaders = {\n",
    "    'train': DataLoader(\n",
    "        list(zip(X_train, y_train)),\n",
    "        batch_size=32,\n",
    "        shuffle=True\n",
    "    ),\n",
    "    'test': DataLoader(\n",
    "        list(zip(X_test, y_test)),\n",
    "        batch_size=32,\n",
    "        shuffle=True\n",
    "    )\n",
    "}"
   ]
  },
  {
   "cell_type": "code",
   "execution_count": null,
   "metadata": {},
   "outputs": [],
   "source": [
    "class NeuralNet_a(nn.Module):\n",
    "    def __init__(self, input_size, hidden_size, output_size):\n",
    "        super(NeuralNet_a, self).__init__()\n",
    "        self.linear_stack = nn.Sequential(\n",
    "            nn.Linear(input_size, hidden_size),\n",
    "            nn.ReLU(),\n",
    "            nn.Linear(hidden_size, output_size),\n",
    "            nn.Softmax()\n",
    "        )\n",
    "\n",
    "    def forward(self, x):\n",
    "        return self.linear_stack(x)"
   ]
  },
  {
   "cell_type": "code",
   "execution_count": null,
   "metadata": {},
   "outputs": [],
   "source": [
    "model = NeuralNet_a(16, 32, 1)\n",
    "optimizer = optim.Adam(model.parameters(), lr=1e-2)\n",
    "loss_fn = nn.CrossEntropyLoss()"
   ]
  },
  {
   "cell_type": "code",
   "execution_count": null,
   "metadata": {},
   "outputs": [],
   "source": [
    "train_loss_hist = []\n",
    "train_acc_hist = []\n",
    "test_loss_hist = []\n",
    "test_acc_hist = []\n",
    "\n",
    "epochs = 200\n",
    "\n",
    "progress = tqdm(range(epochs*len(loaders['train'])))\n",
    "\n",
    "for epoch in range(1, epochs+1):\n",
    "    epoch_loss = []\n",
    "    epoch_acc = []\n",
    "\n",
    "    model.train()\n",
    "    for data, target in loaders['train']:\n",
    "        optimizer.zero_grad()\n",
    "        output = model(data)\n",
    "        target = target.unsqueeze(1)\n",
    "        target = target.float()\n",
    "        loss = loss_fn(output, target)\n",
    "        loss.backward()\n",
    "        optimizer.step()\n",
    "        acc = (output.round() == target).float().mean()\n",
    "        epoch_loss.append(loss.item())\n",
    "        epoch_acc.append(acc)\n",
    "        progress.set_description(f\"Epoch [{epoch}/{epochs}]\")\n",
    "        progress.set_postfix(loss=f\"{loss.item():.6f}\")\n",
    "        progress.update(1)\n",
    "\n",
    "\n",
    "    model.eval()\n",
    "    test_loss = 0\n",
    "    correct = 0\n",
    "    with torch.no_grad():\n",
    "        for data, target in loaders['test']:\n",
    "            output = model(data)\n",
    "            target = target.unsqueeze(1)\n",
    "            target = target.int()\n",
    "            test_loss += loss_fn(output, target).item()\n",
    "            pred = output.round()\n",
    "            correct += pred.eq(target.view_as(pred)).sum()\n",
    "\n",
    "    test_loss /= len(loaders['test'].dataset)\n",
    "\n",
    "    train_loss_hist.append(np.mean(epoch_loss))\n",
    "    train_acc_hist.append(np.mean(epoch_acc))\n",
    "    test_loss_hist.append(test_loss)\n",
    "    test_acc_hist.append(correct / len(loaders['test'].dataset))\n",
    "\n",
    "    if (correct / len(loaders['test'].dataset) >= 0.99) and (epoch % 10 == 0):\n",
    "        print(f\"\\nAccuracy on epoch {epoch} = 100%. Finishing training...\")\n",
    "        break\n",
    "\n",
    "    if epoch > 120:\n",
    "        if (np.mean(test_acc_hist[-60:]) <= np.mean(test_acc_hist[-120:-60])) or (len(set(test_acc_hist[-50:])) == 1):\n",
    "            print(f\"\\nAccuraccy of test set is not improving. Finishing training...\")\n",
    "            break\n",
    "\n",
    "    print(f\" Test set: Average loss: {test_loss:.4f}, Accuracy: {correct}/{len(loaders['test'].dataset)} ({100. * correct / len(loaders['test'].dataset):.0f}%)\\n\") if epoch % 5 == 0 else None\n",
    "\n",
    "print(f\"\\nAccuracy: {correct}/{len(loaders['test'].dataset)} ({100. * correct / len(loaders['test'].dataset):.0f}%)\\n\")"
   ]
  },
  {
   "cell_type": "code",
   "execution_count": null,
   "metadata": {},
   "outputs": [],
   "source": []
  }
 ],
 "metadata": {
  "colab": {
   "provenance": []
  },
  "kernelspec": {
   "display_name": "Python 3 (ipykernel)",
   "language": "python",
   "name": "python3"
  },
  "language_info": {
   "codemirror_mode": {
    "name": "ipython",
    "version": 3
   },
   "file_extension": ".py",
   "mimetype": "text/x-python",
   "name": "python",
   "nbconvert_exporter": "python",
   "pygments_lexer": "ipython3",
   "version": "3.10.11"
  }
 },
 "nbformat": 4,
 "nbformat_minor": 4
}
