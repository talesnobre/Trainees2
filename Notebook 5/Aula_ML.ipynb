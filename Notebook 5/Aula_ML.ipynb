{
  "cells": [
    {
      "cell_type": "markdown",
      "metadata": {
        "id": "bhRj3mZjtrKe"
      },
      "source": [
        ",<a href=\"TAIL\"><img src=\"https://i.imgur.com/GRTE0OG.png\" width=\"150\" title=\"Tail Logo\" /></a>\n",
        "\n",
        "# <font color =\"#00b8ff\">Exercícios de Aprendizagem de Máquina</font>"
      ]
    },
    {
      "cell_type": "markdown",
      "metadata": {
        "id": "Inzl1VqG2oqC"
      },
      "source": [
        " Essa lista de exercícios foi criada para que vocês possam aplicar os conhecimentos que vocês adquiriram na aula que assistiram.\n",
        "\n",
        "Podem tirar dúvidas com **Tales Nobre** e **Felipe Duarte** quando quiserem!\n",
        "**O prazo de envio do notebook é até a reunião da próxima semana, até 1 hora antes da reunião, podem enviar colocar o conteúdo na branch de vocês do repositório**\n"
      ]
    },
    {
      "cell_type": "markdown",
      "metadata": {
        "id": "ahOuHhFSAQpx"
      },
      "source": [
        "\n",
        "🌍 [Link do drive com o Dataset](https://drive.google.com/drive/folders/1xi7m5gzJflujzoDvkPMkRO28SlR4139n?usp=sharing)\n"
      ]
    },
    {
      "cell_type": "markdown",
      "metadata": {
        "id": "togcZ5SJRnTC"
      },
      "source": [
        "\n",
        "####**Grupo 1**:\n",
        "*    *João Paulo*\n",
        "*    *Daniel*\n",
        "*    *Pamela*\n",
        "\n",
        "\n",
        "####**Grupo 2**:\n",
        "*    *Luigi*\n",
        "*    *Isabela*\n",
        "*    *Ian*"
      ]
    },
    {
      "cell_type": "markdown",
      "metadata": {
        "id": "l2Cd0nSn60g-"
      },
      "source": [
        "###**Objetivos**"
      ]
    },
    {
      "cell_type": "markdown",
      "metadata": {
        "id": "C5BveViG63G6"
      },
      "source": [
        "\n",
        "*   Entender o nível de conhecimento individual de vocês\n",
        "*   Estimular vocês a praticarem as formas básicas de aplicar ML\n"
      ]
    },
    {
      "cell_type": "markdown",
      "metadata": {
        "id": "N3EBzvz672i1"
      },
      "source": [
        "##**Observações**"
      ]
    },
    {
      "cell_type": "markdown",
      "metadata": {
        "id": "cTGz2NpI75IP"
      },
      "source": [
        "\n",
        "\n",
        "*   Façam uma cópia desse notebook e realizem as questões.\n",
        "*   Foquem no espaço de *Conclusões*, que aparece no final de cada questão, para explicar as conclusões que vocês chegaram a partir da análise de dados.\n",
        "*   É recomendável que vocês acessem os materiais de apoio que serão disponibilizados em seguida.\n",
        "*   Prezem pela organização, é muito importante explicar cada etapa de execução, principalmente no contexto de análise de dados.\n",
        "*   Claro que vocês não vão precisam importar várias vezes as bibliotecas dentro de um mesmo notebook, mas por fins educativos é recomendado que vocês façam isso nessa lista de exercícios!\n",
        "*   As questões são progressivas, ou seja, a quantidade de instruções e o nível de dificuldade mudarão ao longo da lista. **Lembre-se de manter o mesmo padrão em todas as questões.**\n",
        "*  Divida em quantas células e caixas de texto quiser, afim de deixar a legibilidade do código a melhor possível.\n",
        "\n"
      ]
    },
    {
      "cell_type": "markdown",
      "metadata": {
        "id": "VS8cCdvE8i7I"
      },
      "source": [
        "🐼 Material de apoio:\n",
        "\n",
        "Repositório de apoio:\n",
        "*   [Repositório do Github](https://github.com/talesnobre/miniproject_ML/blob/main/models.py)\n",
        "\n",
        "\n",
        "Regressão Linear\n",
        "*   [Documentação](https://scikit-learn.org/stable/modules/generated/sklearn.linear_model.LinearRegression.html)\n",
        "*   [O que é uma Regressão Linear](https://www.ibm.com/topics/linear-regression)\n",
        "*   [Vídeo sobre Regressão Linear](https://www.google.com/search?q=what+is+linear+regression&oq=what+is+linear+&gs_lcrp=EgZjaHJvbWUqBwgAEAAYgAQyBwgAEAAYgAQyBwgBEAAYgAQyBggCEEUYOTIICAMQABgWGB4yCAgEEAAYFhgeMgoIBRAAGAoYFhgeMggIBhAAGBYYHjIGCAcQRRg80gEIMjAwNWowajmoAgCwAgE&sourceid=chrome&ie=UTF-8#fpstate=ive&vld=cid:bbd09812,vid:nk2CQITm_eo,st:0)\n",
        "\n",
        "\n",
        "Regressão Logística\n",
        "*   [Documentação](https://scikit-learn.org/stable/modules/generated/sklearn.linear_model.LogisticRegression.html)\n",
        "*   [O que é uma Regressão Logística](https://www.ibm.com/topics/logistic-regression)\n",
        "*   [Vídeo sobre Regressão Logística](https://www.youtube.com/watch?v=yIYKR4sgzI8)\n",
        "\n",
        "\n",
        "\n",
        "\n",
        "Perceptron\n",
        "\n",
        "*   [Documentação](https://scikit-learn.org/stable/modules/generated/sklearn.neural_network.MLPClassifier.html)\n",
        "*   [O que é um Perceptron](https://towardsdatascience.com/what-the-hell-is-perceptron-626217814f53)\n",
        "*   [Vídeo sobre Perceptron](https://www.youtube.com/watch?v=RNYT9bECfOo)\n",
        "\n"
      ]
    },
    {
      "cell_type": "markdown",
      "metadata": {
        "id": "x5k_FwID9qCs"
      },
      "source": [
        "📚Documentação das bibliotecas:\n",
        "*   [Regressão Linear](https://scikit-learn.org/stable/modules/generated/sklearn.linear_model.LinearRegression.html)\n",
        "*   [Regressão Logística](https://scikit-learn.org/stable/modules/generated/sklearn.linear_model.LogisticRegression.html)\n",
        "*   [Perceptron](https://scikit-learn.org/stable/modules/generated/sklearn.neural_network.MLPClassifier.html)\n"
      ]
    },
    {
      "cell_type": "markdown",
      "metadata": {
        "id": "5vyNVu3k7O8F"
      },
      "source": [
        "Lembrem-se, a prática leva à perfeição!🧠"
      ]
    },
    {
      "cell_type": "markdown",
      "metadata": {
        "id": "eXtn9fhbmPtu"
      },
      "source": [
        "##**Questão 0:** *Pré-processamento*"
      ]
    },
    {
      "cell_type": "markdown",
      "metadata": {
        "id": "6h2MPtrFnSSl"
      },
      "source": [
        "Faça um pré-processamento da base de dados do drive para que você possa aplicar cada um dos modelos"
      ]
    },
    {
      "cell_type": "markdown",
      "metadata": {
        "id": "mQvv_hAsnCsF"
      },
      "source": [
        "###*1.1 Imports*"
      ]
    },
    {
      "cell_type": "code",
      "execution_count": 13,
      "metadata": {
        "id": "iKQ6PmKbnAoU"
      },
      "outputs": [],
      "source": [
        "import time\n",
        "import pandas as pd\n",
        "import numpy as np\n",
        "import scipy as sp\n",
        "import scipy.stats as stats\n",
        "import matplotlib.pyplot as plt\n",
        "import seaborn as sns\n",
        "import sklearn\n",
        "import sklearn.model_selection\n",
        "from sklearn.preprocessing import LabelEncoder\n",
        "from sklearn.manifold import TSNE\n",
        "from sklearn.preprocessing import MinMaxScaler\n",
        "\n",
        "\n",
        "# evalue measures\n",
        "from sklearn.metrics import f1_score\n",
        "from sklearn.metrics import accuracy_score\n",
        "from sklearn.metrics import precision_score\n",
        "from sklearn.metrics import recall_score\n",
        "from sklearn.metrics import confusion_matrix\n",
        "from sklearn.metrics import classification_report\n",
        "from sklearn.model_selection import train_test_split\n",
        "from sklearn.model_selection import learning_curve\n",
        "\n",
        "from sklearn.neighbors import KNeighborsClassifier\n",
        "from sklearn.tree import DecisionTreeClassifier\n",
        "from sklearn.ensemble import RandomForestClassifier\n",
        "from sklearn.svm import SVC\n",
        "from sklearn.ensemble import GradientBoostingClassifier\n",
        "import xgboost as xgb\n",
        "import lightgbm as lgbm\n",
        "from sklearn.ensemble import RandomForestClassifier\n",
        "from sklearn.ensemble import ExtraTreesClassifier\n",
        "from sklearn.ensemble import AdaBoostClassifier\n",
        "from sklearn.discriminant_analysis import LinearDiscriminantAnalysis\n",
        "from sklearn.discriminant_analysis import QuadraticDiscriminantAnalysis\n",
        "from sklearn.naive_bayes import GaussianNB\n",
        "from sklearn.linear_model import SGDClassifier\n",
        "\n",
        "import seaborn as sns\n",
        "sns.set_style(\"darkgrid\")\n",
        "\n",
        "import warnings\n",
        "warnings.filterwarnings(\"ignore\")"
      ]
    },
    {
      "cell_type": "markdown",
      "metadata": {
        "id": "gM2TqRadnHTL"
      },
      "source": [
        "###*1.2 Pré-processamento*"
      ]
    },
    {
      "cell_type": "code",
      "execution_count": 14,
      "metadata": {
        "id": "Uf4ZMG1_Ni2T"
      },
      "outputs": [],
      "source": [
        "df = pd.read_csv(\"C:/Users/Meu Computador/Trainees2/notebook 5/heart.csv\")"
      ]
    },
    {
      "cell_type": "code",
      "execution_count": 15,
      "metadata": {
        "colab": {
          "base_uri": "https://localhost:8080/",
          "height": 423
        },
        "id": "ql2gDft8PIn8",
        "outputId": "6a4a35d5-9ee8-41c1-a06a-80c67d1b9aa4"
      },
      "outputs": [
        {
          "data": {
            "text/html": [
              "<div>\n",
              "<style scoped>\n",
              "    .dataframe tbody tr th:only-of-type {\n",
              "        vertical-align: middle;\n",
              "    }\n",
              "\n",
              "    .dataframe tbody tr th {\n",
              "        vertical-align: top;\n",
              "    }\n",
              "\n",
              "    .dataframe thead th {\n",
              "        text-align: right;\n",
              "    }\n",
              "</style>\n",
              "<table border=\"1\" class=\"dataframe\">\n",
              "  <thead>\n",
              "    <tr style=\"text-align: right;\">\n",
              "      <th></th>\n",
              "      <th>age</th>\n",
              "      <th>sex</th>\n",
              "      <th>cp</th>\n",
              "      <th>trestbps</th>\n",
              "      <th>chol</th>\n",
              "      <th>fbs</th>\n",
              "      <th>restecg</th>\n",
              "      <th>thalach</th>\n",
              "      <th>exang</th>\n",
              "      <th>oldpeak</th>\n",
              "      <th>slope</th>\n",
              "      <th>ca</th>\n",
              "      <th>thal</th>\n",
              "      <th>target</th>\n",
              "    </tr>\n",
              "  </thead>\n",
              "  <tbody>\n",
              "    <tr>\n",
              "      <th>0</th>\n",
              "      <td>63</td>\n",
              "      <td>1</td>\n",
              "      <td>3</td>\n",
              "      <td>145</td>\n",
              "      <td>233</td>\n",
              "      <td>1</td>\n",
              "      <td>0</td>\n",
              "      <td>150</td>\n",
              "      <td>0</td>\n",
              "      <td>2.3</td>\n",
              "      <td>0</td>\n",
              "      <td>0</td>\n",
              "      <td>1</td>\n",
              "      <td>1</td>\n",
              "    </tr>\n",
              "    <tr>\n",
              "      <th>1</th>\n",
              "      <td>37</td>\n",
              "      <td>1</td>\n",
              "      <td>2</td>\n",
              "      <td>130</td>\n",
              "      <td>250</td>\n",
              "      <td>0</td>\n",
              "      <td>1</td>\n",
              "      <td>187</td>\n",
              "      <td>0</td>\n",
              "      <td>3.5</td>\n",
              "      <td>0</td>\n",
              "      <td>0</td>\n",
              "      <td>2</td>\n",
              "      <td>1</td>\n",
              "    </tr>\n",
              "    <tr>\n",
              "      <th>2</th>\n",
              "      <td>41</td>\n",
              "      <td>0</td>\n",
              "      <td>1</td>\n",
              "      <td>130</td>\n",
              "      <td>204</td>\n",
              "      <td>0</td>\n",
              "      <td>0</td>\n",
              "      <td>172</td>\n",
              "      <td>0</td>\n",
              "      <td>1.4</td>\n",
              "      <td>2</td>\n",
              "      <td>0</td>\n",
              "      <td>2</td>\n",
              "      <td>1</td>\n",
              "    </tr>\n",
              "    <tr>\n",
              "      <th>3</th>\n",
              "      <td>56</td>\n",
              "      <td>1</td>\n",
              "      <td>1</td>\n",
              "      <td>120</td>\n",
              "      <td>236</td>\n",
              "      <td>0</td>\n",
              "      <td>1</td>\n",
              "      <td>178</td>\n",
              "      <td>0</td>\n",
              "      <td>0.8</td>\n",
              "      <td>2</td>\n",
              "      <td>0</td>\n",
              "      <td>2</td>\n",
              "      <td>1</td>\n",
              "    </tr>\n",
              "    <tr>\n",
              "      <th>4</th>\n",
              "      <td>57</td>\n",
              "      <td>0</td>\n",
              "      <td>0</td>\n",
              "      <td>120</td>\n",
              "      <td>354</td>\n",
              "      <td>0</td>\n",
              "      <td>1</td>\n",
              "      <td>163</td>\n",
              "      <td>1</td>\n",
              "      <td>0.6</td>\n",
              "      <td>2</td>\n",
              "      <td>0</td>\n",
              "      <td>2</td>\n",
              "      <td>1</td>\n",
              "    </tr>\n",
              "    <tr>\n",
              "      <th>...</th>\n",
              "      <td>...</td>\n",
              "      <td>...</td>\n",
              "      <td>...</td>\n",
              "      <td>...</td>\n",
              "      <td>...</td>\n",
              "      <td>...</td>\n",
              "      <td>...</td>\n",
              "      <td>...</td>\n",
              "      <td>...</td>\n",
              "      <td>...</td>\n",
              "      <td>...</td>\n",
              "      <td>...</td>\n",
              "      <td>...</td>\n",
              "      <td>...</td>\n",
              "    </tr>\n",
              "    <tr>\n",
              "      <th>298</th>\n",
              "      <td>57</td>\n",
              "      <td>0</td>\n",
              "      <td>0</td>\n",
              "      <td>140</td>\n",
              "      <td>241</td>\n",
              "      <td>0</td>\n",
              "      <td>1</td>\n",
              "      <td>123</td>\n",
              "      <td>1</td>\n",
              "      <td>0.2</td>\n",
              "      <td>1</td>\n",
              "      <td>0</td>\n",
              "      <td>3</td>\n",
              "      <td>0</td>\n",
              "    </tr>\n",
              "    <tr>\n",
              "      <th>299</th>\n",
              "      <td>45</td>\n",
              "      <td>1</td>\n",
              "      <td>3</td>\n",
              "      <td>110</td>\n",
              "      <td>264</td>\n",
              "      <td>0</td>\n",
              "      <td>1</td>\n",
              "      <td>132</td>\n",
              "      <td>0</td>\n",
              "      <td>1.2</td>\n",
              "      <td>1</td>\n",
              "      <td>0</td>\n",
              "      <td>3</td>\n",
              "      <td>0</td>\n",
              "    </tr>\n",
              "    <tr>\n",
              "      <th>300</th>\n",
              "      <td>68</td>\n",
              "      <td>1</td>\n",
              "      <td>0</td>\n",
              "      <td>144</td>\n",
              "      <td>193</td>\n",
              "      <td>1</td>\n",
              "      <td>1</td>\n",
              "      <td>141</td>\n",
              "      <td>0</td>\n",
              "      <td>3.4</td>\n",
              "      <td>1</td>\n",
              "      <td>2</td>\n",
              "      <td>3</td>\n",
              "      <td>0</td>\n",
              "    </tr>\n",
              "    <tr>\n",
              "      <th>301</th>\n",
              "      <td>57</td>\n",
              "      <td>1</td>\n",
              "      <td>0</td>\n",
              "      <td>130</td>\n",
              "      <td>131</td>\n",
              "      <td>0</td>\n",
              "      <td>1</td>\n",
              "      <td>115</td>\n",
              "      <td>1</td>\n",
              "      <td>1.2</td>\n",
              "      <td>1</td>\n",
              "      <td>1</td>\n",
              "      <td>3</td>\n",
              "      <td>0</td>\n",
              "    </tr>\n",
              "    <tr>\n",
              "      <th>302</th>\n",
              "      <td>57</td>\n",
              "      <td>0</td>\n",
              "      <td>1</td>\n",
              "      <td>130</td>\n",
              "      <td>236</td>\n",
              "      <td>0</td>\n",
              "      <td>0</td>\n",
              "      <td>174</td>\n",
              "      <td>0</td>\n",
              "      <td>0.0</td>\n",
              "      <td>1</td>\n",
              "      <td>1</td>\n",
              "      <td>2</td>\n",
              "      <td>0</td>\n",
              "    </tr>\n",
              "  </tbody>\n",
              "</table>\n",
              "<p>303 rows × 14 columns</p>\n",
              "</div>"
            ],
            "text/plain": [
              "     age  sex  cp  trestbps  chol  fbs  restecg  thalach  exang  oldpeak  \\\n",
              "0     63    1   3       145   233    1        0      150      0      2.3   \n",
              "1     37    1   2       130   250    0        1      187      0      3.5   \n",
              "2     41    0   1       130   204    0        0      172      0      1.4   \n",
              "3     56    1   1       120   236    0        1      178      0      0.8   \n",
              "4     57    0   0       120   354    0        1      163      1      0.6   \n",
              "..   ...  ...  ..       ...   ...  ...      ...      ...    ...      ...   \n",
              "298   57    0   0       140   241    0        1      123      1      0.2   \n",
              "299   45    1   3       110   264    0        1      132      0      1.2   \n",
              "300   68    1   0       144   193    1        1      141      0      3.4   \n",
              "301   57    1   0       130   131    0        1      115      1      1.2   \n",
              "302   57    0   1       130   236    0        0      174      0      0.0   \n",
              "\n",
              "     slope  ca  thal  target  \n",
              "0        0   0     1       1  \n",
              "1        0   0     2       1  \n",
              "2        2   0     2       1  \n",
              "3        2   0     2       1  \n",
              "4        2   0     2       1  \n",
              "..     ...  ..   ...     ...  \n",
              "298      1   0     3       0  \n",
              "299      1   0     3       0  \n",
              "300      1   2     3       0  \n",
              "301      1   1     3       0  \n",
              "302      1   1     2       0  \n",
              "\n",
              "[303 rows x 14 columns]"
            ]
          },
          "execution_count": 15,
          "metadata": {},
          "output_type": "execute_result"
        }
      ],
      "source": [
        "df"
      ]
    },
    {
      "cell_type": "code",
      "execution_count": 16,
      "metadata": {
        "colab": {
          "base_uri": "https://localhost:8080/"
        },
        "id": "9uYdhFGsVZe1",
        "outputId": "7451845e-227a-49fe-b60a-c9ef614376c8"
      },
      "outputs": [
        {
          "name": "stdout",
          "output_type": "stream",
          "text": [
            "              age         sex          cp    trestbps        chol         fbs  \\\n",
            "count  303.000000  303.000000  303.000000  303.000000  303.000000  303.000000   \n",
            "mean    54.366337    0.683168    0.966997  131.623762  246.264026    0.148515   \n",
            "std      9.082101    0.466011    1.032052   17.538143   51.830751    0.356198   \n",
            "min     29.000000    0.000000    0.000000   94.000000  126.000000    0.000000   \n",
            "25%     47.500000    0.000000    0.000000  120.000000  211.000000    0.000000   \n",
            "50%     55.000000    1.000000    1.000000  130.000000  240.000000    0.000000   \n",
            "75%     61.000000    1.000000    2.000000  140.000000  274.500000    0.000000   \n",
            "max     77.000000    1.000000    3.000000  200.000000  564.000000    1.000000   \n",
            "\n",
            "          restecg     thalach       exang     oldpeak       slope          ca  \\\n",
            "count  303.000000  303.000000  303.000000  303.000000  303.000000  303.000000   \n",
            "mean     0.528053  149.646865    0.326733    1.039604    1.399340    0.729373   \n",
            "std      0.525860   22.905161    0.469794    1.161075    0.616226    1.022606   \n",
            "min      0.000000   71.000000    0.000000    0.000000    0.000000    0.000000   \n",
            "25%      0.000000  133.500000    0.000000    0.000000    1.000000    0.000000   \n",
            "50%      1.000000  153.000000    0.000000    0.800000    1.000000    0.000000   \n",
            "75%      1.000000  166.000000    1.000000    1.600000    2.000000    1.000000   \n",
            "max      2.000000  202.000000    1.000000    6.200000    2.000000    4.000000   \n",
            "\n",
            "             thal      target  \n",
            "count  303.000000  303.000000  \n",
            "mean     2.313531    0.544554  \n",
            "std      0.612277    0.498835  \n",
            "min      0.000000    0.000000  \n",
            "25%      2.000000    0.000000  \n",
            "50%      2.000000    1.000000  \n",
            "75%      3.000000    1.000000  \n",
            "max      3.000000    1.000000  \n"
          ]
        }
      ],
      "source": [
        "descricao_dados = df.describe()\n",
        "\n",
        "print(descricao_dados)"
      ]
    },
    {
      "cell_type": "code",
      "execution_count": 17,
      "metadata": {
        "colab": {
          "base_uri": "https://localhost:8080/"
        },
        "id": "ic7f5AUPVc4q",
        "outputId": "f5b65772-1bd6-4d78-d252-a53ce2a0befc"
      },
      "outputs": [
        {
          "name": "stdout",
          "output_type": "stream",
          "text": [
            "<class 'pandas.core.frame.DataFrame'>\n",
            "RangeIndex: 303 entries, 0 to 302\n",
            "Data columns (total 14 columns):\n",
            " #   Column    Non-Null Count  Dtype  \n",
            "---  ------    --------------  -----  \n",
            " 0   age       303 non-null    int64  \n",
            " 1   sex       303 non-null    int64  \n",
            " 2   cp        303 non-null    int64  \n",
            " 3   trestbps  303 non-null    int64  \n",
            " 4   chol      303 non-null    int64  \n",
            " 5   fbs       303 non-null    int64  \n",
            " 6   restecg   303 non-null    int64  \n",
            " 7   thalach   303 non-null    int64  \n",
            " 8   exang     303 non-null    int64  \n",
            " 9   oldpeak   303 non-null    float64\n",
            " 10  slope     303 non-null    int64  \n",
            " 11  ca        303 non-null    int64  \n",
            " 12  thal      303 non-null    int64  \n",
            " 13  target    303 non-null    int64  \n",
            "dtypes: float64(1), int64(13)\n",
            "memory usage: 33.3 KB\n"
          ]
        }
      ],
      "source": [
        "df.info()"
      ]
    },
    {
      "cell_type": "code",
      "execution_count": 18,
      "metadata": {
        "colab": {
          "base_uri": "https://localhost:8080/"
        },
        "id": "O2dNVr-SVf1D",
        "outputId": "42a88729-b767-4edd-a6a4-e501eb5a0035"
      },
      "outputs": [
        {
          "name": "stdout",
          "output_type": "stream",
          "text": [
            "Colunas com valores entre 0 e 1:\n",
            "Index(['sex', 'fbs', 'exang', 'target'], dtype='object')\n",
            "\n",
            "Colunas com valores fora da faixa de 0 a 1:\n",
            "Index(['age', 'cp', 'trestbps', 'chol', 'restecg', 'thalach', 'oldpeak',\n",
            "       'slope', 'ca', 'thal'],\n",
            "      dtype='object')\n"
          ]
        }
      ],
      "source": [
        "# Sem valores nulos\n",
        "# Necessário fazer a normalização de dados pra checar correlação porque no describe dá pra ver as diferenças gritantes de médias entre as colunas\n",
        "# Só é necessário normalizar colunas que não estão entre 0 e 1, então:\n",
        "\n",
        "colunas_0_1 = descricao_dados.columns[(descricao_dados.loc['min'] == 0) & (descricao_dados.loc['max'] == 1)]\n",
        "colunas_nao_0_1 = descricao_dados.columns[(descricao_dados.loc['min'] != 0) | (descricao_dados.loc['max'] != 1)]\n",
        "\n",
        "print(\"Colunas com valores entre 0 e 1:\")\n",
        "print(colunas_0_1)\n",
        "\n",
        "print(\"\\nColunas com valores fora da faixa de 0 a 1:\")\n",
        "print(colunas_nao_0_1)\n"
      ]
    },
    {
      "cell_type": "code",
      "execution_count": 19,
      "metadata": {
        "colab": {
          "base_uri": "https://localhost:8080/",
          "height": 423
        },
        "id": "OxuE1XMyWC5j",
        "outputId": "cb41e226-4c9a-48f3-c72f-8fa9381e9644"
      },
      "outputs": [
        {
          "data": {
            "text/html": [
              "<div>\n",
              "<style scoped>\n",
              "    .dataframe tbody tr th:only-of-type {\n",
              "        vertical-align: middle;\n",
              "    }\n",
              "\n",
              "    .dataframe tbody tr th {\n",
              "        vertical-align: top;\n",
              "    }\n",
              "\n",
              "    .dataframe thead th {\n",
              "        text-align: right;\n",
              "    }\n",
              "</style>\n",
              "<table border=\"1\" class=\"dataframe\">\n",
              "  <thead>\n",
              "    <tr style=\"text-align: right;\">\n",
              "      <th></th>\n",
              "      <th>age</th>\n",
              "      <th>sex</th>\n",
              "      <th>cp</th>\n",
              "      <th>trestbps</th>\n",
              "      <th>chol</th>\n",
              "      <th>fbs</th>\n",
              "      <th>restecg</th>\n",
              "      <th>thalach</th>\n",
              "      <th>exang</th>\n",
              "      <th>oldpeak</th>\n",
              "      <th>slope</th>\n",
              "      <th>ca</th>\n",
              "      <th>thal</th>\n",
              "      <th>target</th>\n",
              "    </tr>\n",
              "  </thead>\n",
              "  <tbody>\n",
              "    <tr>\n",
              "      <th>0</th>\n",
              "      <td>0.708333</td>\n",
              "      <td>1</td>\n",
              "      <td>1.000000</td>\n",
              "      <td>0.481132</td>\n",
              "      <td>0.244292</td>\n",
              "      <td>1</td>\n",
              "      <td>0.0</td>\n",
              "      <td>0.603053</td>\n",
              "      <td>0</td>\n",
              "      <td>0.370968</td>\n",
              "      <td>0.0</td>\n",
              "      <td>0.00</td>\n",
              "      <td>0.333333</td>\n",
              "      <td>1</td>\n",
              "    </tr>\n",
              "    <tr>\n",
              "      <th>1</th>\n",
              "      <td>0.166667</td>\n",
              "      <td>1</td>\n",
              "      <td>0.666667</td>\n",
              "      <td>0.339623</td>\n",
              "      <td>0.283105</td>\n",
              "      <td>0</td>\n",
              "      <td>0.5</td>\n",
              "      <td>0.885496</td>\n",
              "      <td>0</td>\n",
              "      <td>0.564516</td>\n",
              "      <td>0.0</td>\n",
              "      <td>0.00</td>\n",
              "      <td>0.666667</td>\n",
              "      <td>1</td>\n",
              "    </tr>\n",
              "    <tr>\n",
              "      <th>2</th>\n",
              "      <td>0.250000</td>\n",
              "      <td>0</td>\n",
              "      <td>0.333333</td>\n",
              "      <td>0.339623</td>\n",
              "      <td>0.178082</td>\n",
              "      <td>0</td>\n",
              "      <td>0.0</td>\n",
              "      <td>0.770992</td>\n",
              "      <td>0</td>\n",
              "      <td>0.225806</td>\n",
              "      <td>1.0</td>\n",
              "      <td>0.00</td>\n",
              "      <td>0.666667</td>\n",
              "      <td>1</td>\n",
              "    </tr>\n",
              "    <tr>\n",
              "      <th>3</th>\n",
              "      <td>0.562500</td>\n",
              "      <td>1</td>\n",
              "      <td>0.333333</td>\n",
              "      <td>0.245283</td>\n",
              "      <td>0.251142</td>\n",
              "      <td>0</td>\n",
              "      <td>0.5</td>\n",
              "      <td>0.816794</td>\n",
              "      <td>0</td>\n",
              "      <td>0.129032</td>\n",
              "      <td>1.0</td>\n",
              "      <td>0.00</td>\n",
              "      <td>0.666667</td>\n",
              "      <td>1</td>\n",
              "    </tr>\n",
              "    <tr>\n",
              "      <th>4</th>\n",
              "      <td>0.583333</td>\n",
              "      <td>0</td>\n",
              "      <td>0.000000</td>\n",
              "      <td>0.245283</td>\n",
              "      <td>0.520548</td>\n",
              "      <td>0</td>\n",
              "      <td>0.5</td>\n",
              "      <td>0.702290</td>\n",
              "      <td>1</td>\n",
              "      <td>0.096774</td>\n",
              "      <td>1.0</td>\n",
              "      <td>0.00</td>\n",
              "      <td>0.666667</td>\n",
              "      <td>1</td>\n",
              "    </tr>\n",
              "    <tr>\n",
              "      <th>...</th>\n",
              "      <td>...</td>\n",
              "      <td>...</td>\n",
              "      <td>...</td>\n",
              "      <td>...</td>\n",
              "      <td>...</td>\n",
              "      <td>...</td>\n",
              "      <td>...</td>\n",
              "      <td>...</td>\n",
              "      <td>...</td>\n",
              "      <td>...</td>\n",
              "      <td>...</td>\n",
              "      <td>...</td>\n",
              "      <td>...</td>\n",
              "      <td>...</td>\n",
              "    </tr>\n",
              "    <tr>\n",
              "      <th>298</th>\n",
              "      <td>0.583333</td>\n",
              "      <td>0</td>\n",
              "      <td>0.000000</td>\n",
              "      <td>0.433962</td>\n",
              "      <td>0.262557</td>\n",
              "      <td>0</td>\n",
              "      <td>0.5</td>\n",
              "      <td>0.396947</td>\n",
              "      <td>1</td>\n",
              "      <td>0.032258</td>\n",
              "      <td>0.5</td>\n",
              "      <td>0.00</td>\n",
              "      <td>1.000000</td>\n",
              "      <td>0</td>\n",
              "    </tr>\n",
              "    <tr>\n",
              "      <th>299</th>\n",
              "      <td>0.333333</td>\n",
              "      <td>1</td>\n",
              "      <td>1.000000</td>\n",
              "      <td>0.150943</td>\n",
              "      <td>0.315068</td>\n",
              "      <td>0</td>\n",
              "      <td>0.5</td>\n",
              "      <td>0.465649</td>\n",
              "      <td>0</td>\n",
              "      <td>0.193548</td>\n",
              "      <td>0.5</td>\n",
              "      <td>0.00</td>\n",
              "      <td>1.000000</td>\n",
              "      <td>0</td>\n",
              "    </tr>\n",
              "    <tr>\n",
              "      <th>300</th>\n",
              "      <td>0.812500</td>\n",
              "      <td>1</td>\n",
              "      <td>0.000000</td>\n",
              "      <td>0.471698</td>\n",
              "      <td>0.152968</td>\n",
              "      <td>1</td>\n",
              "      <td>0.5</td>\n",
              "      <td>0.534351</td>\n",
              "      <td>0</td>\n",
              "      <td>0.548387</td>\n",
              "      <td>0.5</td>\n",
              "      <td>0.50</td>\n",
              "      <td>1.000000</td>\n",
              "      <td>0</td>\n",
              "    </tr>\n",
              "    <tr>\n",
              "      <th>301</th>\n",
              "      <td>0.583333</td>\n",
              "      <td>1</td>\n",
              "      <td>0.000000</td>\n",
              "      <td>0.339623</td>\n",
              "      <td>0.011416</td>\n",
              "      <td>0</td>\n",
              "      <td>0.5</td>\n",
              "      <td>0.335878</td>\n",
              "      <td>1</td>\n",
              "      <td>0.193548</td>\n",
              "      <td>0.5</td>\n",
              "      <td>0.25</td>\n",
              "      <td>1.000000</td>\n",
              "      <td>0</td>\n",
              "    </tr>\n",
              "    <tr>\n",
              "      <th>302</th>\n",
              "      <td>0.583333</td>\n",
              "      <td>0</td>\n",
              "      <td>0.333333</td>\n",
              "      <td>0.339623</td>\n",
              "      <td>0.251142</td>\n",
              "      <td>0</td>\n",
              "      <td>0.0</td>\n",
              "      <td>0.786260</td>\n",
              "      <td>0</td>\n",
              "      <td>0.000000</td>\n",
              "      <td>0.5</td>\n",
              "      <td>0.25</td>\n",
              "      <td>0.666667</td>\n",
              "      <td>0</td>\n",
              "    </tr>\n",
              "  </tbody>\n",
              "</table>\n",
              "<p>303 rows × 14 columns</p>\n",
              "</div>"
            ],
            "text/plain": [
              "          age  sex        cp  trestbps      chol  fbs  restecg   thalach  \\\n",
              "0    0.708333    1  1.000000  0.481132  0.244292    1      0.0  0.603053   \n",
              "1    0.166667    1  0.666667  0.339623  0.283105    0      0.5  0.885496   \n",
              "2    0.250000    0  0.333333  0.339623  0.178082    0      0.0  0.770992   \n",
              "3    0.562500    1  0.333333  0.245283  0.251142    0      0.5  0.816794   \n",
              "4    0.583333    0  0.000000  0.245283  0.520548    0      0.5  0.702290   \n",
              "..        ...  ...       ...       ...       ...  ...      ...       ...   \n",
              "298  0.583333    0  0.000000  0.433962  0.262557    0      0.5  0.396947   \n",
              "299  0.333333    1  1.000000  0.150943  0.315068    0      0.5  0.465649   \n",
              "300  0.812500    1  0.000000  0.471698  0.152968    1      0.5  0.534351   \n",
              "301  0.583333    1  0.000000  0.339623  0.011416    0      0.5  0.335878   \n",
              "302  0.583333    0  0.333333  0.339623  0.251142    0      0.0  0.786260   \n",
              "\n",
              "     exang   oldpeak  slope    ca      thal  target  \n",
              "0        0  0.370968    0.0  0.00  0.333333       1  \n",
              "1        0  0.564516    0.0  0.00  0.666667       1  \n",
              "2        0  0.225806    1.0  0.00  0.666667       1  \n",
              "3        0  0.129032    1.0  0.00  0.666667       1  \n",
              "4        1  0.096774    1.0  0.00  0.666667       1  \n",
              "..     ...       ...    ...   ...       ...     ...  \n",
              "298      1  0.032258    0.5  0.00  1.000000       0  \n",
              "299      0  0.193548    0.5  0.00  1.000000       0  \n",
              "300      0  0.548387    0.5  0.50  1.000000       0  \n",
              "301      1  0.193548    0.5  0.25  1.000000       0  \n",
              "302      0  0.000000    0.5  0.25  0.666667       0  \n",
              "\n",
              "[303 rows x 14 columns]"
            ]
          },
          "execution_count": 19,
          "metadata": {},
          "output_type": "execute_result"
        }
      ],
      "source": [
        "\n",
        "scaler = MinMaxScaler()\n",
        "df[colunas_nao_0_1] = scaler.fit_transform(df[colunas_nao_0_1])\n",
        "\n",
        "df"
      ]
    },
    {
      "cell_type": "code",
      "execution_count": 20,
      "metadata": {
        "colab": {
          "base_uri": "https://localhost:8080/",
          "height": 718
        },
        "id": "E_F2iWXWZnan",
        "outputId": "f81fcd31-928f-48f8-c727-dacbb29ba2f9"
      },
      "outputs": [
        {
          "data": {
            "image/png": "[encoded data removed]",
            "text/plain": [
              "<Figure size 1000x800 with 2 Axes>"
            ]
          },
          "metadata": {},
          "output_type": "display_data"
        }
      ],
      "source": [
        "correlation_matrix = df.corr()\n",
        "correlation_with_target = correlation_matrix.iloc[:-1, -1]\n",
        "plt.figure(figsize=(10, 8))\n",
        "sns.heatmap(correlation_with_target.to_frame(), cmap='coolwarm', annot=True, fmt=\".2f\", cbar=True, square=True)\n",
        "plt.title('Correlação entre Features e Target')\n",
        "plt.xlabel('Features')\n",
        "plt.ylabel('Target')\n",
        "plt.show()"
      ]
    },
    {
      "cell_type": "code",
      "execution_count": 21,
      "metadata": {
        "colab": {
          "base_uri": "https://localhost:8080/"
        },
        "id": "MkDcQnAXdWc5",
        "outputId": "2b647e38-ea53-4317-b56a-bc95f7e7c760"
      },
      "outputs": [
        {
          "name": "stdout",
          "output_type": "stream",
          "text": [
            "age        -0.225439\n",
            "sex        -0.280937\n",
            "cp          0.433798\n",
            "trestbps   -0.144931\n",
            "chol       -0.085239\n",
            "fbs        -0.028046\n",
            "restecg     0.137230\n",
            "thalach     0.421741\n",
            "exang      -0.436757\n",
            "oldpeak    -0.430696\n",
            "slope       0.345877\n",
            "ca         -0.391724\n",
            "thal       -0.344029\n",
            "Name: target, dtype: float64\n"
          ]
        }
      ],
      "source": [
        "print(correlation_with_target)\n",
        "# Plotar uma matriz de confusão também, para olhar as relações entre as próprias variáveis\n"
      ]
    },
    {
      "cell_type": "code",
      "execution_count": 22,
      "metadata": {
        "colab": {
          "base_uri": "https://localhost:8080/"
        },
        "id": "MYhLl6ardfmu",
        "outputId": "83d3b539-c4a1-4216-fb85-f858701a8bda"
      },
      "outputs": [
        {
          "name": "stdout",
          "output_type": "stream",
          "text": [
            "Faixa de correlação: correlação baixa\n",
            "Features: ['cp', 'thalach', 'slope']\n",
            "\n",
            "\n",
            "Faixa de correlação: média\n",
            "Features: []\n",
            "\n",
            "\n",
            "Faixa de correlação: alta\n",
            "Features: []\n",
            "\n",
            "\n",
            "Faixa de correlação: correlação baixa inversamente proporcional\n",
            "Features: ['exang', 'oldpeak', 'ca', 'thal']\n",
            "\n",
            "\n",
            "Faixa de correlação: média inversamente proporcional\n",
            "Features: []\n",
            "\n",
            "\n",
            "Faixa de correlação: alta inversamente proporcional\n",
            "Features: []\n",
            "\n",
            "\n"
          ]
        }
      ],
      "source": [
        "# Definir faixas de correlação\n",
        "faixas = {\n",
        "    'correlação baixa': (0.3, 0.5),\n",
        "    'média': (0.5, 0.7),\n",
        "    'alta': (0.7, 0.99),\n",
        "    'correlação baixa inversamente proporcional': (-0.5, -0.3),\n",
        "    'média inversamente proporcional': (-0.7, -0.5),\n",
        "    'alta inversamente proporcional': (-0.99, -0.7)\n",
        "}\n",
        "\n",
        "# Criar dicionário para armazenar as features em cada faixa\n",
        "features_por_faixa = {faixa: [] for faixa in faixas}\n",
        "\n",
        "# Iterar sobre a série de correlação\n",
        "for feature, correlacao in correlation_with_target.items():\n",
        "    for faixa, (minimo, maximo) in faixas.items():\n",
        "        if minimo <= correlacao < maximo:\n",
        "            features_por_faixa[faixa].append(feature)\n",
        "\n",
        "# Exibir as features em cada faixa\n",
        "for faixa, features in features_por_faixa.items():\n",
        "    print(f'Faixa de correlação: {faixa}')\n",
        "    print(f'Features: {features}')\n",
        "    print('\\n')\n"
      ]
    },
    {
      "cell_type": "code",
      "execution_count": 23,
      "metadata": {
        "colab": {
          "base_uri": "https://localhost:8080/"
        },
        "id": "cxhxOHIOevjq",
        "outputId": "b2e50865-5440-4308-e511-04d7485590be"
      },
      "outputs": [
        {
          "name": "stdout",
          "output_type": "stream",
          "text": [
            "Features fora das faixas de correlação:\n",
            "['age', 'sex', 'trestbps', 'chol', 'fbs', 'restecg']\n"
          ]
        }
      ],
      "source": [
        "# Eu droparia todas as demais colunas que não possuem correlação nem baixa\n",
        "\n",
        "\n",
        "# Criar uma lista com todas as features\n",
        "todas_features = list(correlation_with_target.index)\n",
        "\n",
        "# Criar uma lista vazia para armazenar as features fora das faixas de correlação\n",
        "fora_faixas_correlacao = []\n",
        "\n",
        "# Iterar sobre todas as features\n",
        "for feature in todas_features:\n",
        "    # Verificar se a feature não está em nenhuma das faixas de correlação\n",
        "    if all(feature not in features for features in features_por_faixa.values()):\n",
        "        fora_faixas_correlacao.append(feature)\n",
        "\n",
        "# Exibir as features fora das faixas de correlação\n",
        "print(\"Features fora das faixas de correlação:\")\n",
        "print(fora_faixas_correlacao)\n"
      ]
    },
    {
      "cell_type": "code",
      "execution_count": 24,
      "metadata": {
        "id": "Qv2i-GMif45e"
      },
      "outputs": [],
      "source": [
        "################ PRECISAMOS DEFINIR ##########################\n",
        "\n",
        "colunas_para_dropar = fora_faixas_correlacao\n",
        "df.drop(columns=colunas_para_dropar, inplace=True)"
      ]
    },
    {
      "cell_type": "code",
      "execution_count": 25,
      "metadata": {
        "colab": {
          "base_uri": "https://localhost:8080/"
        },
        "id": "VVbCvppHhRIQ",
        "outputId": "efa84ed6-40f4-407c-d3b1-286af1cf53db"
      },
      "outputs": [
        {
          "data": {
            "text/plain": [
              "array([1, 1, 1, 1, 1, 1, 1, 1, 1, 1, 1, 1, 1, 1, 1, 1, 1, 1, 1, 1, 1, 1,\n",
              "       1, 1, 1, 1, 1, 1, 1, 1, 1, 1, 1, 1, 1, 1, 1, 1, 1, 1, 1, 1, 1, 1,\n",
              "       1, 1, 1, 1, 1, 1, 1, 1, 1, 1, 1, 1, 1, 1, 1, 1, 1, 1, 1, 1, 1, 1,\n",
              "       1, 1, 1, 1, 1, 1, 1, 1, 1, 1, 1, 1, 1, 1, 1, 1, 1, 1, 1, 1, 1, 1,\n",
              "       1, 1, 1, 1, 1, 1, 1, 1, 1, 1, 1, 1, 1, 1, 1, 1, 1, 1, 1, 1, 1, 1,\n",
              "       1, 1, 1, 1, 1, 1, 1, 1, 1, 1, 1, 1, 1, 1, 1, 1, 1, 1, 1, 1, 1, 1,\n",
              "       1, 1, 1, 1, 1, 1, 1, 1, 1, 1, 1, 1, 1, 1, 1, 1, 1, 1, 1, 1, 1, 1,\n",
              "       1, 1, 1, 1, 1, 1, 1, 1, 1, 1, 1, 0, 0, 0, 0, 0, 0, 0, 0, 0, 0, 0,\n",
              "       0, 0, 0, 0, 0, 0, 0, 0, 0, 0, 0, 0, 0, 0, 0, 0, 0, 0, 0, 0, 0, 0,\n",
              "       0, 0, 0, 0, 0, 0, 0, 0, 0, 0, 0, 0, 0, 0, 0, 0, 0, 0, 0, 0, 0, 0,\n",
              "       0, 0, 0, 0, 0, 0, 0, 0, 0, 0, 0, 0, 0, 0, 0, 0, 0, 0, 0, 0, 0, 0,\n",
              "       0, 0, 0, 0, 0, 0, 0, 0, 0, 0, 0, 0, 0, 0, 0, 0, 0, 0, 0, 0, 0, 0,\n",
              "       0, 0, 0, 0, 0, 0, 0, 0, 0, 0, 0, 0, 0, 0, 0, 0, 0, 0, 0, 0, 0, 0,\n",
              "       0, 0, 0, 0, 0, 0, 0, 0, 0, 0, 0, 0, 0, 0, 0, 0, 0], dtype=int64)"
            ]
          },
          "execution_count": 25,
          "metadata": {},
          "output_type": "execute_result"
        }
      ],
      "source": [
        "X = df.iloc[:, :-1].values\n",
        "y = df.iloc[:, -1].values\n",
        "\n",
        "label_encoder = LabelEncoder()\n",
        "y = label_encoder.fit_transform(y) # convert each label in the original dataset to the unique integer\n",
        "y"
      ]
    },
    {
      "cell_type": "markdown",
      "metadata": {
        "id": "TcKhozZC3MY0"
      },
      "source": [
        "##**Questão 1:** *Regressão Linear*"
      ]
    },
    {
      "cell_type": "markdown",
      "metadata": {
        "id": "DwHNOIXu-uRF"
      },
      "source": [
        "###*1.1 Imports*"
      ]
    },
    {
      "cell_type": "code",
      "execution_count": 79,
      "metadata": {
        "id": "D52GuHoC-6QZ"
      },
      "outputs": [],
      "source": [
        "#Coloque nesse bloco de texto todos os imports que você vai usar na questão.\n",
        "from sklearn.linear_model import LinearRegression\n",
        "# Testar uma métrica R2 score\n"
      ]
    },
    {
      "cell_type": "markdown",
      "metadata": {
        "id": "Q_rZeqiEBBIl"
      },
      "source": [
        "###*1.2 Divisão treino e teste*"
      ]
    },
    {
      "cell_type": "code",
      "execution_count": 27,
      "metadata": {
        "id": "MpRdJM5uBLpQ"
      },
      "outputs": [
        {
          "name": "stdout",
          "output_type": "stream",
          "text": [
            "X_train:  (227, 7)\n",
            "y_train:  (227,)\n",
            "---\n",
            "X_test:  (76, 7)\n",
            "y_test:  (76,)\n"
          ]
        }
      ],
      "source": [
        "X_train, X_test, y_train, y_test = train_test_split(X, y, test_size=0.25, random_state=110)\n",
        "\n",
        "print('X_train: ', X_train.shape)\n",
        "print('y_train: ', y_train.shape)\n",
        "print('---')\n",
        "print('X_test: ', X_test.shape)\n",
        "print('y_test: ', y_test.shape)"
      ]
    },
    {
      "cell_type": "markdown",
      "metadata": {
        "id": "PFGsjVcKCCSE"
      },
      "source": [
        "### *1.3 Modelo*"
      ]
    },
    {
      "cell_type": "code",
      "execution_count": 28,
      "metadata": {
        "id": "I5I--DuVCEV8"
      },
      "outputs": [
        {
          "name": "stdout",
          "output_type": "stream",
          "text": [
            "[1 1 1 0 1 1 1 1 1 0 0 1 1 1 1 1 1 0 0 0 1 0 1 0 0 1 1 0 1 1 0 1 1 1 1 1 1\n",
            " 1 1 0 0 0 0 1 1 1 1 0 0 1 1 0 1 1 0 1 1 1 0 1 0 1 0 1 1 0 1 1 0 1 0 1 1 1\n",
            " 0 0]\n"
          ]
        }
      ],
      "source": [
        "#Crie Gráficos para que você possa observar a relação entre as variáveis e o comportamento delas de forma mais clara.\n",
        "model = LinearRegression()\n",
        "model.fit(X_train, y_train)\n",
        "y_pred = model.predict(X_test)\n",
        "y_pred = np.where(y_pred >= 0.5, 1, 0)\n",
        "print(y_pred)\n"
      ]
    },
    {
      "cell_type": "markdown",
      "metadata": {
        "id": "xmYdf88JLZN1"
      },
      "source": [
        "### *1.4 Avaliação do modelo*"
      ]
    },
    {
      "cell_type": "code",
      "execution_count": 29,
      "metadata": {},
      "outputs": [
        {
          "data": {
            "text/plain": [
              "83.6734693877551"
            ]
          },
          "execution_count": 29,
          "metadata": {},
          "output_type": "execute_result"
        }
      ],
      "source": [
        "precision_score(y_test, y_pred) * 100\n",
        "# de todos os dados classificados como positivos, quantos são realmente positivos\n",
        "# Pc = TP / (TP + FP)"
      ]
    },
    {
      "cell_type": "code",
      "execution_count": 30,
      "metadata": {
        "id": "bB6GMvs6LYy9"
      },
      "outputs": [
        {
          "data": {
            "text/plain": [
              "88.1578947368421"
            ]
          },
          "execution_count": 30,
          "metadata": {},
          "output_type": "execute_result"
        }
      ],
      "source": [
        "#Acurácia simples\n",
        "accuracy_score(y_test, y_pred) * 100\n",
        "# Acc = (Verdadeiros Positivos(TP) + Verdadeiros Negativos(TN)) / (TP + TN + FP + FN) == \"Total\"\n",
        "# T = True; F = False"
      ]
    },
    {
      "cell_type": "code",
      "execution_count": 31,
      "metadata": {},
      "outputs": [
        {
          "data": {
            "text/plain": [
              "90.10989010989012"
            ]
          },
          "execution_count": 31,
          "metadata": {},
          "output_type": "execute_result"
        }
      ],
      "source": [
        "#F1-Score\n",
        "f1_score(y_test, y_pred) * 100\n",
        "# F1 = 2 * precisão * recall / precisão + recall \n",
        "# essa métrica une precisão e recall afim de trazer um número único que determine a qualidade geral do nosso modelo."
      ]
    },
    {
      "cell_type": "code",
      "execution_count": 32,
      "metadata": {},
      "outputs": [
        {
          "data": {
            "text/plain": [
              "97.61904761904762"
            ]
          },
          "execution_count": 32,
          "metadata": {},
          "output_type": "execute_result"
        }
      ],
      "source": [
        "recall_score(y_test, y_pred) * 100\n",
        "# qual a porcentagem de dados classificados como positivos comparado com a quantidade real de positivos que existem na amostra.\n",
        "# Recall = TP / (TP + FN)"
      ]
    },
    {
      "cell_type": "code",
      "execution_count": 33,
      "metadata": {},
      "outputs": [
        {
          "data": {
            "text/plain": [
              "4.268327375027031"
            ]
          },
          "execution_count": 33,
          "metadata": {},
          "output_type": "execute_result"
        }
      ],
      "source": [
        "#Loss Function\n",
        "sklearn.metrics.log_loss(y_test, y_pred)"
      ]
    },
    {
      "cell_type": "code",
      "execution_count": 34,
      "metadata": {},
      "outputs": [
        {
          "name": "stdout",
          "output_type": "stream",
          "text": [
            "[[26  8]\n",
            " [ 1 41]]\n"
          ]
        }
      ],
      "source": [
        "#Matriz de confusão\n",
        "cm = confusion_matrix(y_test, y_pred)\n",
        "print(cm)"
      ]
    },
    {
      "cell_type": "code",
      "execution_count": 35,
      "metadata": {},
      "outputs": [
        {
          "data": {
            "image/png": "[encoded data removed]",
            "text/plain": [
              "<Figure size 1000x700 with 2 Axes>"
            ]
          },
          "metadata": {},
          "output_type": "display_data"
        }
      ],
      "source": [
        "plt.figure(figsize=(10,7))\n",
        "sns.heatmap(cm, annot=True, fmt='g', cmap='Blues')\n",
        "plt.xlabel('Predicted labels')\n",
        "plt.ylabel('True labels')\n",
        "plt.title('Confusion Matrix Heatmap')\n",
        "plt.show()"
      ]
    },
    {
      "cell_type": "code",
      "execution_count": 36,
      "metadata": {},
      "outputs": [
        {
          "data": {
            "image/png": "[encoded data removed]",
            "text/plain": [
              "<Figure size 640x480 with 1 Axes>"
            ]
          },
          "metadata": {},
          "output_type": "display_data"
        }
      ],
      "source": [
        "train_sizes, train_scores, validation_scores = learning_curve(\n",
        "    estimator = LinearRegression(),\n",
        "    X = X_train,\n",
        "    y = y_train,\n",
        "    train_sizes = np.linspace(0.1, 1.0, 10),\n",
        "    cv = 5,\n",
        "    scoring = 'neg_mean_squared_error'\n",
        ")\n",
        "\n",
        "train_scores_mean = -train_scores.mean(axis=1)\n",
        "validation_scores_mean = -validation_scores.mean(axis=1)\n",
        "\n",
        "plt.plot(train_sizes, train_scores_mean, label = 'Training error')\n",
        "plt.plot(train_sizes, validation_scores_mean, label = 'Validation error')\n",
        "plt.ylabel('MSE')\n",
        "plt.xlabel('Training set size')\n",
        "plt.title('Learning curves')\n",
        "plt.legend()\n",
        "plt.show()"
      ]
    },
    {
      "cell_type": "markdown",
      "metadata": {
        "id": "vr00cjbUC5ph"
      },
      "source": [
        "### *1.5 Conclusões*"
      ]
    },
    {
      "cell_type": "code",
      "execution_count": 37,
      "metadata": {
        "id": "h7tI2_-TCOPp"
      },
      "outputs": [
        {
          "name": "stdout",
          "output_type": "stream",
          "text": [
            "\n",
            "    Nesse modelo, de Regressão Linear, foi interessante aplicá-lo pela questão de ser uma regressão, por se tratar de um jeito de aprendizado mais\n",
            "diferente, do que a maioria por classificação. Analisando as métricas do modelo, temos que a accuracy e o f1 score estão muito parecidos, então os dados\n",
            "estão bem equilibrados (obrigado pamela!) e com isso, conseguimos ter uma alta accuracy e saber que o modelo não está enviesado, assim, não \"anula\" a\n",
            "accuracy alta.\n",
            "    Por conseguinte, analisando o gráfico de aprendizado por erro, podemos perceber a ótima relação, em que quando o teste vai começando a aprender mais,\n",
            "a validação vai errando menos, e as 2 curvas vão tentando encontar um equilíbrio. Essa análise mostra que o modelo não está overfitado, pois nada é muito\n",
            "contínuo ou estático.\n",
            "    Além disso, apesar da boa relação das métricas, o log loss ainda contém um valor elevado, o que indica que falta alguma coisa para o modelo ficar\n",
            "\"perfeito\". Necessitando, provavelmente, de uma análise maior dos dados do dataset.\n",
            "\n"
          ]
        }
      ],
      "source": [
        "#Insira aqui as conclusões que você conseguiu absorver a partir desse modelo.\n",
        "Conclusoes = \"\"\"\n",
        "    Nesse modelo, de Regressão Linear, foi interessante aplicá-lo pela questão de ser uma regressão, por se tratar de um jeito de aprendizado mais\n",
        "diferente, do que a maioria por classificação. Analisando as métricas do modelo, temos que a accuracy e o f1 score estão muito parecidos, então os dados\n",
        "estão bem equilibrados (obrigado pamela!) e com isso, conseguimos ter uma alta accuracy e saber que o modelo não está enviesado, assim, não \"anula\" a\n",
        "accuracy alta.\n",
        "    Por conseguinte, analisando o gráfico de aprendizado por erro, podemos perceber a ótima relação, em que quando o teste vai começando a aprender mais,\n",
        "a validação vai errando menos, e as 2 curvas vão tentando encontar um equilíbrio. Essa análise mostra que o modelo não está overfitado, pois nada é muito\n",
        "contínuo ou estático.\n",
        "    Além disso, apesar da boa relação das métricas, o log loss ainda contém um valor elevado, o que indica que falta alguma coisa para o modelo ficar\n",
        "\"perfeito\". Necessitando, provavelmente, de uma análise maior dos dados do dataset.\n",
        "\"\"\"\n",
        "\n",
        "\n",
        "\n",
        "\n",
        "\n",
        "\n",
        "print(Conclusoes)"
      ]
    },
    {
      "cell_type": "markdown",
      "metadata": {
        "id": "1f-X95LL4xZ-"
      },
      "source": [
        "##**Questão 2:** *Regressão Logística*\n"
      ]
    },
    {
      "cell_type": "markdown",
      "metadata": {
        "id": "doEXHvxLChjP"
      },
      "source": [
        "###*2.1 Imports*"
      ]
    },
    {
      "cell_type": "code",
      "execution_count": 38,
      "metadata": {
        "id": "debd52UrDMhZ"
      },
      "outputs": [],
      "source": [
        "from sklearn.linear_model import LogisticRegression\n"
      ]
    },
    {
      "cell_type": "markdown",
      "metadata": {
        "id": "gqUfDU3cChjP"
      },
      "source": [
        "###*2.2 Divisão entre treino e teste*"
      ]
    },
    {
      "cell_type": "code",
      "execution_count": 39,
      "metadata": {
        "id": "OYa4uJvxDNF_"
      },
      "outputs": [
        {
          "name": "stdout",
          "output_type": "stream",
          "text": [
            "X_train:  (227, 7)\n",
            "y_train:  (227,)\n",
            "---\n",
            "X_test:  (76, 7)\n",
            "y_test:  (76,)\n"
          ]
        }
      ],
      "source": [
        "X_train, X_test, y_train, y_test = train_test_split(X, y, test_size=0.25, random_state=110)\n",
        "\n",
        "print('X_train: ', X_train.shape)\n",
        "print('y_train: ', y_train.shape)\n",
        "print('---')\n",
        "print('X_test: ', X_test.shape)\n",
        "print('y_test: ', y_test.shape)"
      ]
    },
    {
      "cell_type": "markdown",
      "metadata": {
        "id": "7X_13EwcChjQ"
      },
      "source": [
        "### *2.3 Modelo*"
      ]
    },
    {
      "cell_type": "code",
      "execution_count": 40,
      "metadata": {
        "id": "4f8KkXRAChjQ"
      },
      "outputs": [
        {
          "name": "stdout",
          "output_type": "stream",
          "text": [
            "[1 1 1 0 1 1 1 1 1 0 0 1 1 1 1 1 1 0 0 0 1 0 1 0 0 1 1 0 1 1 0 1 0 1 1 1 1\n",
            " 0 1 0 0 0 0 1 1 1 1 0 0 1 1 0 1 1 0 1 1 1 0 1 0 1 0 1 1 0 1 1 0 1 0 1 1 1\n",
            " 0 0]\n"
          ]
        }
      ],
      "source": [
        "model2 = LogisticRegression()\n",
        "model2.fit(X_train, y_train)\n",
        "y_pred = model2.predict(X_test)\n",
        "y_pred = np.where(y_pred > 0.5, 1, 0)\n",
        "print(y_pred)"
      ]
    },
    {
      "cell_type": "markdown",
      "metadata": {
        "id": "p8nSRsZxXDQZ"
      },
      "source": [
        "### *2.4 Avaliação do Modelo*"
      ]
    },
    {
      "cell_type": "code",
      "execution_count": 41,
      "metadata": {},
      "outputs": [
        {
          "data": {
            "text/plain": [
              "85.1063829787234"
            ]
          },
          "execution_count": 41,
          "metadata": {},
          "output_type": "execute_result"
        }
      ],
      "source": [
        "precision_score(y_test, y_pred) * 100\n",
        "# de todos os dados classificados como positivos, quantos são realmente positivos\n",
        "# Pc = TP / (TP + FP)"
      ]
    },
    {
      "cell_type": "code",
      "execution_count": 42,
      "metadata": {},
      "outputs": [
        {
          "data": {
            "text/plain": [
              "88.1578947368421"
            ]
          },
          "execution_count": 42,
          "metadata": {},
          "output_type": "execute_result"
        }
      ],
      "source": [
        "#Acurácia simples\n",
        "accuracy_score(y_test, y_pred) * 100\n",
        "# Acc = (Verdadeiros Positivos(TP) + Verdadeiros Negativos(TN)) / (TP + TN + FP + FN) == \"Total\"\n",
        "# T = True; F = False"
      ]
    },
    {
      "cell_type": "code",
      "execution_count": 43,
      "metadata": {},
      "outputs": [
        {
          "data": {
            "text/plain": [
              "89.8876404494382"
            ]
          },
          "execution_count": 43,
          "metadata": {},
          "output_type": "execute_result"
        }
      ],
      "source": [
        "#F1-Score\n",
        "f1_score(y_test, y_pred) * 100\n",
        "# F1 = 2 * precisão * recall / precisão + recall \n",
        "# essa métrica une precisão e recall afim de trazer um número único que determine a qualidade geral do nosso modelo."
      ]
    },
    {
      "cell_type": "code",
      "execution_count": 44,
      "metadata": {},
      "outputs": [
        {
          "data": {
            "text/plain": [
              "95.23809523809523"
            ]
          },
          "execution_count": 44,
          "metadata": {},
          "output_type": "execute_result"
        }
      ],
      "source": [
        "recall_score(y_test, y_pred) * 100\n",
        "# qual a porcentagem de dados classificados como positivos comparado com a quantidade real de positivos que existem na amostra.\n",
        "# Recall = TP / (TP + FN)"
      ]
    },
    {
      "cell_type": "code",
      "execution_count": 45,
      "metadata": {},
      "outputs": [
        {
          "data": {
            "text/plain": [
              "4.268327375027031"
            ]
          },
          "execution_count": 45,
          "metadata": {},
          "output_type": "execute_result"
        }
      ],
      "source": [
        "#Loss Function\n",
        "sklearn.metrics.log_loss(y_test, y_pred)"
      ]
    },
    {
      "cell_type": "code",
      "execution_count": 46,
      "metadata": {
        "id": "Tz3xoAnyXEDO"
      },
      "outputs": [
        {
          "name": "stdout",
          "output_type": "stream",
          "text": [
            "[[27  7]\n",
            " [ 2 40]]\n"
          ]
        }
      ],
      "source": [
        "#Matriz de confusão\n",
        "cm = confusion_matrix(y_test, y_pred)\n",
        "print(cm)"
      ]
    },
    {
      "cell_type": "code",
      "execution_count": 47,
      "metadata": {},
      "outputs": [
        {
          "data": {
            "image/png": "[encoded data removed]",
            "text/plain": [
              "<Figure size 1000x700 with 2 Axes>"
            ]
          },
          "metadata": {},
          "output_type": "display_data"
        }
      ],
      "source": [
        "plt.figure(figsize=(10,7))\n",
        "sns.heatmap(cm, annot=True, fmt='g', cmap='Blues')\n",
        "plt.xlabel('Predicted labels')\n",
        "plt.ylabel('True labels')\n",
        "plt.title('Confusion Matrix Heatmap')\n",
        "plt.show()"
      ]
    },
    {
      "cell_type": "code",
      "execution_count": 48,
      "metadata": {},
      "outputs": [
        {
          "data": {
            "image/png": "[encoded data removed]",
            "text/plain": [
              "<Figure size 640x480 with 1 Axes>"
            ]
          },
          "metadata": {},
          "output_type": "display_data"
        }
      ],
      "source": [
        "train_sizes, train_scores, validation_scores = learning_curve(\n",
        "    estimator = LogisticRegression(),\n",
        "    X = X_train,\n",
        "    y = y_train,\n",
        "    train_sizes = np.linspace(0.1, 1.0, 10),\n",
        "    cv = 5,\n",
        "    scoring = 'neg_mean_squared_error'\n",
        ")\n",
        "\n",
        "train_scores_mean = -train_scores.mean(axis=1)\n",
        "validation_scores_mean = -validation_scores.mean(axis=1)\n",
        "\n",
        "plt.plot(train_sizes, train_scores_mean, label = 'Training error')\n",
        "plt.plot(train_sizes, validation_scores_mean, label = 'Validation error')\n",
        "plt.ylabel('MSE')\n",
        "plt.xlabel('Training set size')\n",
        "plt.title('Learning curves')\n",
        "plt.legend()\n",
        "plt.show()"
      ]
    },
    {
      "cell_type": "markdown",
      "metadata": {
        "id": "is4FAzGUC78O"
      },
      "source": [
        "###*2.5 Conclusões*"
      ]
    },
    {
      "cell_type": "code",
      "execution_count": 49,
      "metadata": {
        "id": "8kFm7P9hChjQ"
      },
      "outputs": [
        {
          "name": "stdout",
          "output_type": "stream",
          "text": [
            "\n",
            "    Aqui, nesse modelo de Regressão Logística, as métricas também são muito boas, e bem parecidas com as métricas do modelo anterior, e assim, podemos\n",
            "concluir que ambos os modelos são bons para o tipo de dado do dataset.\n",
            "    Já em relação ao gráfico de curva de aprendizado, aqui observamos uma relação mais \"conflitante\" que a do gráfico anterior, pois as curvas ficam\n",
            "se entrelaçando, para tentar encontrar um \"ponto ótimo\". Contudo, apesar de mostrar que a IA realmente está tentando aprender e diminuir ao longo do tempo,\n",
            "pelo tamanho pequeno do dataset e quantidade de dados, não conseguimos encontrar no gráfico se houve um \"ponto ótimo\", como no modelo anterior, pois não\n",
            "sabemos se em algum momento as curvas se estabilizaram.\n",
            "    Logo, é importante ressaltar que apesar das análise numérica das métricas serem boas, seria necessário uma quantidade maior de dados para confirmar\n",
            "categoricamente que a IA conseguiu fazer um bom aprendizado e consegue acertar bem.\n",
            "\n"
          ]
        }
      ],
      "source": [
        "#Insira aqui as conclusões que você conseguiu absorver a partir desse modelo.\n",
        "Conclusoes = \"\"\"\n",
        "    Aqui, nesse modelo de Regressão Logística, as métricas também são muito boas, e bem parecidas com as métricas do modelo anterior, e assim, podemos\n",
        "concluir que ambos os modelos são bons para o tipo de dado do dataset.\n",
        "    Já em relação ao gráfico de curva de aprendizado, aqui observamos uma relação mais \"conflitante\" que a do gráfico anterior, pois as curvas ficam\n",
        "se entrelaçando, para tentar encontrar um \"ponto ótimo\". Contudo, apesar de mostrar que a IA realmente está tentando aprender e diminuir ao longo do tempo,\n",
        "pelo tamanho pequeno do dataset e quantidade de dados, não conseguimos encontrar no gráfico se houve um \"ponto ótimo\", como no modelo anterior, pois não\n",
        "sabemos se em algum momento as curvas se estabilizaram.\n",
        "    Logo, é importante ressaltar que apesar das análise numérica das métricas serem boas, seria necessário uma quantidade maior de dados para confirmar\n",
        "categoricamente que a IA conseguiu fazer um bom aprendizado e consegue acertar bem.\n",
        "\"\"\"\n",
        "\n",
        "\n",
        "\n",
        "\n",
        "\n",
        "\n",
        "print(Conclusoes)"
      ]
    },
    {
      "cell_type": "markdown",
      "metadata": {
        "id": "72VUlIEb8jFD"
      },
      "source": [
        "##**Questão 3:** *Perceptron*\n"
      ]
    },
    {
      "cell_type": "markdown",
      "metadata": {
        "id": "9_p_Ubna8jFE"
      },
      "source": [
        "###*3.1 Imports*"
      ]
    },
    {
      "cell_type": "code",
      "execution_count": 50,
      "metadata": {
        "id": "Hcwbv5XG8jFE"
      },
      "outputs": [],
      "source": [
        "from sklearn.neural_network import MLPClassifier\n"
      ]
    },
    {
      "cell_type": "markdown",
      "metadata": {
        "id": "d192e2WM8jFF"
      },
      "source": [
        "###*3.2 Divisão de treino e teste*"
      ]
    },
    {
      "cell_type": "code",
      "execution_count": 51,
      "metadata": {
        "id": "dmwefsYJ8jFF"
      },
      "outputs": [
        {
          "name": "stdout",
          "output_type": "stream",
          "text": [
            "X_train:  (227, 7)\n",
            "y_train:  (227,)\n",
            "---\n",
            "X_test:  (76, 7)\n",
            "y_test:  (76,)\n"
          ]
        }
      ],
      "source": [
        "X_train, X_test, y_train, y_test = train_test_split(X, y, test_size=0.25, random_state=110)\n",
        "\n",
        "print('X_train: ', X_train.shape)\n",
        "print('y_train: ', y_train.shape)\n",
        "print('---')\n",
        "print('X_test: ', X_test.shape)\n",
        "print('y_test: ', y_test.shape)"
      ]
    },
    {
      "cell_type": "markdown",
      "metadata": {
        "id": "eaaazYx88jFF"
      },
      "source": [
        "### *3.3 Modelo*"
      ]
    },
    {
      "cell_type": "code",
      "execution_count": 70,
      "metadata": {
        "id": "6XeEMis68jFF"
      },
      "outputs": [
        {
          "name": "stdout",
          "output_type": "stream",
          "text": [
            "[1 1 0 0 1 1 1 0 1 0 0 1 1 1 1 1 1 0 0 0 1 0 1 0 0 1 1 0 1 1 0 1 1 0 1 1 1\n",
            " 0 1 0 0 0 0 1 1 1 0 0 0 1 1 0 1 1 0 1 1 1 0 1 1 1 0 1 1 0 1 1 0 1 0 1 1 1\n",
            " 0 0]\n"
          ]
        }
      ],
      "source": [
        "model3 = MLPClassifier()\n",
        "model3.fit(X_train, y_train)\n",
        "y_pred = model3.predict(X_test)\n",
        "print(y_pred)"
      ]
    },
    {
      "cell_type": "markdown",
      "metadata": {
        "id": "pDOJO41EXF8n"
      },
      "source": [
        "### *3.4 Avaliação do Modelo*"
      ]
    },
    {
      "cell_type": "code",
      "execution_count": 71,
      "metadata": {
        "id": "zj7sfQX4XH1g"
      },
      "outputs": [
        {
          "data": {
            "text/plain": [
              "86.66666666666667"
            ]
          },
          "execution_count": 71,
          "metadata": {},
          "output_type": "execute_result"
        }
      ],
      "source": [
        "precision_score(y_test, y_pred) * 100\n",
        "# de todos os dados classificados como positivos, quantos são realmente positivos\n",
        "# Pc = TP / (TP + FP)"
      ]
    },
    {
      "cell_type": "code",
      "execution_count": 72,
      "metadata": {},
      "outputs": [
        {
          "data": {
            "text/plain": [
              "88.1578947368421"
            ]
          },
          "execution_count": 72,
          "metadata": {},
          "output_type": "execute_result"
        }
      ],
      "source": [
        "#Acurácia simples\n",
        "accuracy_score(y_test, y_pred) * 100\n",
        "# Acc = (Verdadeiros Positivos(TP) + Verdadeiros Negativos(TN)) / (TP + TN + FP + FN) == \"Total\"\n",
        "# T = True; F = False"
      ]
    },
    {
      "cell_type": "code",
      "execution_count": 73,
      "metadata": {},
      "outputs": [
        {
          "data": {
            "text/plain": [
              "89.65517241379311"
            ]
          },
          "execution_count": 73,
          "metadata": {},
          "output_type": "execute_result"
        }
      ],
      "source": [
        "#F1-Score\n",
        "f1_score(y_test, y_pred) * 100\n",
        "# F1 = 2 * precisão * recall / precisão + recall \n",
        "# essa métrica une precisão e recall afim de trazer um número único que determine a qualidade geral do nosso modelo."
      ]
    },
    {
      "cell_type": "code",
      "execution_count": 74,
      "metadata": {},
      "outputs": [
        {
          "data": {
            "text/plain": [
              "92.85714285714286"
            ]
          },
          "execution_count": 74,
          "metadata": {},
          "output_type": "execute_result"
        }
      ],
      "source": [
        "recall_score(y_test, y_pred) * 100\n",
        "# qual a porcentagem de dados classificados como positivos comparado com a quantidade real de positivos que existem na amostra.\n",
        "# Recall = TP / (TP + FN)"
      ]
    },
    {
      "cell_type": "code",
      "execution_count": 75,
      "metadata": {},
      "outputs": [
        {
          "data": {
            "text/plain": [
              "4.268327375027031"
            ]
          },
          "execution_count": 75,
          "metadata": {},
          "output_type": "execute_result"
        }
      ],
      "source": [
        "#Loss Function\n",
        "sklearn.metrics.log_loss(y_test, y_pred)"
      ]
    },
    {
      "cell_type": "code",
      "execution_count": 76,
      "metadata": {},
      "outputs": [
        {
          "name": "stdout",
          "output_type": "stream",
          "text": [
            "[[28  6]\n",
            " [ 3 39]]\n"
          ]
        }
      ],
      "source": [
        "#Matriz de confusão\n",
        "cm = confusion_matrix(y_test, y_pred)\n",
        "print(cm)"
      ]
    },
    {
      "cell_type": "code",
      "execution_count": 77,
      "metadata": {},
      "outputs": [
        {
          "data": {
            "image/png": "[encoded data removed]",
            "text/plain": [
              "<Figure size 1000x700 with 2 Axes>"
            ]
          },
          "metadata": {},
          "output_type": "display_data"
        }
      ],
      "source": [
        "plt.figure(figsize=(10,7))\n",
        "sns.heatmap(cm, annot=True, fmt='g', cmap='Blues')\n",
        "plt.xlabel('Predicted labels')\n",
        "plt.ylabel('True labels')\n",
        "plt.title('Confusion Matrix Heatmap')\n",
        "plt.show()"
      ]
    },
    {
      "cell_type": "code",
      "execution_count": 78,
      "metadata": {},
      "outputs": [
        {
          "data": {
            "image/png": "[encoded data removed]",
            "text/plain": [
              "<Figure size 640x480 with 1 Axes>"
            ]
          },
          "metadata": {},
          "output_type": "display_data"
        }
      ],
      "source": [
        "train_sizes, train_scores, validation_scores = learning_curve(\n",
        "    estimator = MLPClassifier(),\n",
        "    X = X_train,\n",
        "    y = y_train,\n",
        "    train_sizes = np.linspace(0.1, 1.0, 10),\n",
        "    cv = 5,\n",
        "    scoring = 'neg_mean_squared_error'\n",
        ")\n",
        "\n",
        "train_scores_mean = -train_scores.mean(axis=1)\n",
        "validation_scores_mean = -validation_scores.mean(axis=1)\n",
        "\n",
        "plt.plot(train_sizes, train_scores_mean, label = 'Training error')\n",
        "plt.plot(train_sizes, validation_scores_mean, label = 'Validation error')\n",
        "plt.ylabel('MSE')\n",
        "plt.xlabel('Training set size')\n",
        "plt.title('Learning curves')\n",
        "plt.legend()\n",
        "plt.show()"
      ]
    },
    {
      "cell_type": "markdown",
      "metadata": {
        "id": "IHRNOPSC8jFF"
      },
      "source": [
        "###*3.5 Conclusões*"
      ]
    },
    {
      "cell_type": "code",
      "execution_count": 61,
      "metadata": {
        "id": "K6kMj9yT8jFG"
      },
      "outputs": [
        {
          "name": "stdout",
          "output_type": "stream",
          "text": [
            "\n",
            "    Assim como nos modelos anteriores, as métricas numéricas são muito boas e coerentes, com uma alta taxa de acerto acompanhado de um número muito\n",
            "próximo de f1-score, dando a entender que o modelo foi bem aplicado e os dados estão normalizados.\n",
            "    Analisando o gráfico, achei esse o mais interessante, pois enquanto a curva \"Validation erro\" vai mostrando alterações mais \"lineares\", a curva\n",
            "do \"Training Error\" em certo ponto vira uma parábola, mas as 2 consegem fazer uma relação de proximidade ao final dos dados, e assim, podemos declarar\n",
            "que a IA conseguiu aprender bem ao longo do caminho e diminuir a quantidade de erros.\n",
            "\n"
          ]
        }
      ],
      "source": [
        "#Insira aqui as conclusões que você conseguiu absorver a partir desse modelo.\n",
        "Conclusoes = \"\"\"\n",
        "    Assim como nos modelos anteriores, as métricas numéricas são muito boas e coerentes, com uma alta taxa de acerto acompanhado de um número muito\n",
        "próximo de f1-score, dando a entender que o modelo foi bem aplicado e os dados estão normalizados.\n",
        "    Analisando o gráfico, achei esse o mais interessante, pois enquanto a curva \"Validation erro\" vai mostrando alterações mais \"lineares\", a curva\n",
        "do \"Training Error\" em certo ponto vira uma parábola, mas as 2 consegem fazer uma relação de proximidade ao final dos dados, e assim, podemos declarar\n",
        "que a IA conseguiu aprender bem ao longo do caminho e diminuir a quantidade de erros.\n",
        "\"\"\"\n",
        "\n",
        "\n",
        "\n",
        "\n",
        "\n",
        "\n",
        "print(Conclusoes)"
      ]
    }
  ],
  "metadata": {
    "colab": {
      "provenance": []
    },
    "kernelspec": {
      "display_name": "Python 3",
      "name": "python3"
    },
    "language_info": {
      "codemirror_mode": {
        "name": "ipython",
        "version": 3
      },
      "file_extension": ".py",
      "mimetype": "text/x-python",
      "name": "python",
      "nbconvert_exporter": "python",
      "pygments_lexer": "ipython3",
      "version": "3.11.9"
    }
  },
  "nbformat": 4,
  "nbformat_minor": 0
}
