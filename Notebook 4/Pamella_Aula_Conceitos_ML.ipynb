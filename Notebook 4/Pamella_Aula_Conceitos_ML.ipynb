{
 "cells": [
  {
   "cell_type": "markdown",
   "metadata": {
    "id": "bhRj3mZjtrKe"
   },
   "source": [
    "<a href=\"TAIL\"><img src=\"https://i.imgur.com/GRTE0OG.png\" width=\"150\" title=\"Tail Logo\" /></a>\n",
    "\n",
    "# <font color =\"#00b8ff\">Exercícios de Aprendizagem de Máquina</font>"
   ]
  },
  {
   "cell_type": "markdown",
   "metadata": {
    "id": "Inzl1VqG2oqC"
   },
   "source": [
    " Essa lista de exercícios foi criada para que vocês possam aplicar os conhecimentos que vocês adquiriram na aula que assistiram.\n",
    "\n",
    "Podem tirar dúvidas com **Tales Nobre** e **Felipe Duarte** quando quiserem!\n",
    "**O prazo de envio do notebook é até a reunião da próxima semana, até 1 hora antes da reunião, podem enviar colocar o conteúdo na branch de vocês do repositório**\n"
   ]
  },
  {
   "cell_type": "markdown",
   "metadata": {
    "id": "ahOuHhFSAQpx"
   },
   "source": [
    "\n",
    "🌍 [Link do drive com o Dataset](https://drive.google.com/drive/folders/1xi7m5gzJflujzoDvkPMkRO28SlR4139n?usp=sharing)\n"
   ]
  },
  {
   "cell_type": "markdown",
   "metadata": {
    "id": "l2Cd0nSn60g-"
   },
   "source": [
    "###**Objetivos**"
   ]
  },
  {
   "cell_type": "markdown",
   "metadata": {
    "id": "C5BveViG63G6"
   },
   "source": [
    "\n",
    "*   Entender o nível de conhecimento individual de vocês\n",
    "*   Estimular vocês a praticarem as formas básicas de avaliar um modelo\n"
   ]
  },
  {
   "cell_type": "markdown",
   "metadata": {
    "id": "N3EBzvz672i1"
   },
   "source": [
    "##**Observações**"
   ]
  },
  {
   "cell_type": "markdown",
   "metadata": {
    "id": "cTGz2NpI75IP"
   },
   "source": [
    "\n",
    "\n",
    "*   Façam uma cópia desse notebook e realizem as questões.\n",
    "*   Foquem no espaço de *Conclusões*, que aparece no final de cada questão, para explicar as conclusões que vocês chegaram a partir da análise de dados.\n",
    "*   É recomendável que vocês acessem os materiais de apoio que serão disponibilizados em seguida.\n",
    "*   Prezem pela organização, é muito importante explicar cada etapa de execução, principalmente no contexto de análise de dados.\n",
    "*   Claro que vocês não vão precisam importar várias vezes as bibliotecas dentro de um mesmo notebook, mas por fins educativos é recomendado que vocês façam isso nessa lista de exercícios!\n",
    "*   As questões são progressivas, ou seja, a quantidade de instruções e o nível de dificuldade mudarão ao longo da lista. **Lembre-se de manter o mesmo padrão em todas as questões.**\n",
    "*  Divida em quantas células e caixas de texto quiser, afim de deixar a legibilidade do código a melhor possível.\n",
    "\n"
   ]
  },
  {
   "cell_type": "markdown",
   "metadata": {
    "id": "VS8cCdvE8i7I"
   },
   "source": [
    "🐼 Material de apoio:\n",
    "\n",
    "Repositório de apoio:\n",
    "*   [Repositório do Github](https://github.com/talesnobre/miniproject_ML/blob/main/models.py)\n",
    "\n",
    "Matriz de Confusão:\n",
    "*   [O que é?](https://towardsdatascience.com/understanding-confusion-matrix-a9ad42dcfd62)\n",
    "*   [SKlearn](https://scikit-learn.org/stable/modules/generated/sklearn.metrics.confusion_matrix.html)\n",
    "\n",
    "\n",
    "F1 Score (Acurácia, Precisão e Recall):\n",
    "*   [O que é?](https://medium.com/@mateuspdua/machine-learning-m%C3%A9tricas-de-avalia%C3%A7%C3%A3o-acur%C3%A1cia-precis%C3%A3o-e-recall-d44c72307959)\n",
    "*   [SKlearn](https://scikit-learn.org/stable/modules/generated/sklearn.metrics.f1_score.html)\n",
    "\n",
    "Loss Function:\n",
    "*   [O que é?](https://www.datarobot.com/blog/introduction-to-loss-functions/#:~:text=At%20its%20core%2C%20a%20loss,ll%20output%20a%20lower%20number.)\n",
    "*   [SKlearn](https://scikit-learn.org/stable/modules/generated/sklearn.metrics.log_loss.html)\n"
   ]
  },
  {
   "cell_type": "markdown",
   "metadata": {
    "id": "5vyNVu3k7O8F"
   },
   "source": [
    "Lembrem-se, a prática leva à perfeição!🧠"
   ]
  },
  {
   "cell_type": "markdown",
   "metadata": {
    "id": "eXtn9fhbmPtu"
   },
   "source": [
    "#**Questão 1: Doenças Cardíacas**\n",
    "\n",
    "\n"
   ]
  },
  {
   "cell_type": "markdown",
   "metadata": {
    "id": "tc6GOexMiYvp"
   },
   "source": [
    "Use Acurácia, F1 Score, Matriz de confusão e Loss function para avaliar o desempenho do modelo."
   ]
  },
  {
   "cell_type": "markdown",
   "metadata": {
    "id": "1gfrxermkED9"
   },
   "source": [
    "## Dataset (Não precisam mexer)"
   ]
  },
  {
   "cell_type": "code",
   "execution_count": 11,
   "metadata": {},
   "outputs": [
    {
     "name": "stdout",
     "output_type": "stream",
     "text": [
      "Requirement already satisfied: xgboost in c:\\users\\pamel\\anaconda3\\lib\\site-packages (2.0.3)\n",
      "Requirement already satisfied: numpy in c:\\users\\pamel\\anaconda3\\lib\\site-packages (from xgboost) (1.26.4)\n",
      "Requirement already satisfied: scipy in c:\\users\\pamel\\anaconda3\\lib\\site-packages (from xgboost) (1.11.4)\n",
      "Note: you may need to restart the kernel to use updated packages.\n"
     ]
    }
   ],
   "source": [
    "pip install xgboost\n"
   ]
  },
  {
   "cell_type": "code",
   "execution_count": 12,
   "metadata": {},
   "outputs": [
    {
     "name": "stdout",
     "output_type": "stream",
     "text": [
      "Collecting lightgbm\n",
      "  Downloading lightgbm-4.3.0-py3-none-win_amd64.whl.metadata (19 kB)\n",
      "Requirement already satisfied: numpy in c:\\users\\pamel\\anaconda3\\lib\\site-packages (from lightgbm) (1.26.4)\n",
      "Requirement already satisfied: scipy in c:\\users\\pamel\\anaconda3\\lib\\site-packages (from lightgbm) (1.11.4)\n",
      "Downloading lightgbm-4.3.0-py3-none-win_amd64.whl (1.3 MB)\n",
      "   ---------------------------------------- 0.0/1.3 MB ? eta -:--:--\n",
      "   ---------------------------------------- 0.0/1.3 MB ? eta -:--:--\n",
      "   -- ------------------------------------- 0.1/1.3 MB 991.0 kB/s eta 0:00:02\n",
      "   ----------------- ---------------------- 0.6/1.3 MB 5.2 MB/s eta 0:00:01\n",
      "   ---------------------------------------  1.3/1.3 MB 10.6 MB/s eta 0:00:01\n",
      "   ---------------------------------------- 1.3/1.3 MB 8.5 MB/s eta 0:00:00\n",
      "Installing collected packages: lightgbm\n",
      "Successfully installed lightgbm-4.3.0\n",
      "Note: you may need to restart the kernel to use updated packages.\n"
     ]
    }
   ],
   "source": [
    "pip install lightgbm\n"
   ]
  },
  {
   "cell_type": "code",
   "execution_count": 14,
   "metadata": {},
   "outputs": [
    {
     "name": "stdout",
     "output_type": "stream",
     "text": [
      "Collecting catboost\n",
      "  Downloading catboost-1.2.5-cp311-cp311-win_amd64.whl.metadata (1.2 kB)\n",
      "Collecting graphviz (from catboost)\n",
      "  Downloading graphviz-0.20.3-py3-none-any.whl.metadata (12 kB)\n",
      "Requirement already satisfied: matplotlib in c:\\users\\pamel\\anaconda3\\lib\\site-packages (from catboost) (3.8.0)\n",
      "Requirement already satisfied: numpy>=1.16.0 in c:\\users\\pamel\\anaconda3\\lib\\site-packages (from catboost) (1.26.4)\n",
      "Requirement already satisfied: pandas>=0.24 in c:\\users\\pamel\\anaconda3\\lib\\site-packages (from catboost) (2.1.4)\n",
      "Requirement already satisfied: scipy in c:\\users\\pamel\\anaconda3\\lib\\site-packages (from catboost) (1.11.4)\n",
      "Requirement already satisfied: plotly in c:\\users\\pamel\\anaconda3\\lib\\site-packages (from catboost) (5.9.0)\n",
      "Requirement already satisfied: six in c:\\users\\pamel\\anaconda3\\lib\\site-packages (from catboost) (1.16.0)\n",
      "Requirement already satisfied: python-dateutil>=2.8.2 in c:\\users\\pamel\\anaconda3\\lib\\site-packages (from pandas>=0.24->catboost) (2.8.2)\n",
      "Requirement already satisfied: pytz>=2020.1 in c:\\users\\pamel\\anaconda3\\lib\\site-packages (from pandas>=0.24->catboost) (2023.3.post1)\n",
      "Requirement already satisfied: tzdata>=2022.1 in c:\\users\\pamel\\anaconda3\\lib\\site-packages (from pandas>=0.24->catboost) (2023.3)\n",
      "Requirement already satisfied: contourpy>=1.0.1 in c:\\users\\pamel\\anaconda3\\lib\\site-packages (from matplotlib->catboost) (1.2.0)\n",
      "Requirement already satisfied: cycler>=0.10 in c:\\users\\pamel\\anaconda3\\lib\\site-packages (from matplotlib->catboost) (0.11.0)\n",
      "Requirement already satisfied: fonttools>=4.22.0 in c:\\users\\pamel\\anaconda3\\lib\\site-packages (from matplotlib->catboost) (4.25.0)\n",
      "Requirement already satisfied: kiwisolver>=1.0.1 in c:\\users\\pamel\\anaconda3\\lib\\site-packages (from matplotlib->catboost) (1.4.4)\n",
      "Requirement already satisfied: packaging>=20.0 in c:\\users\\pamel\\anaconda3\\lib\\site-packages (from matplotlib->catboost) (23.1)\n",
      "Requirement already satisfied: pillow>=6.2.0 in c:\\users\\pamel\\anaconda3\\lib\\site-packages (from matplotlib->catboost) (10.2.0)\n",
      "Requirement already satisfied: pyparsing>=2.3.1 in c:\\users\\pamel\\anaconda3\\lib\\site-packages (from matplotlib->catboost) (3.0.9)\n",
      "Requirement already satisfied: tenacity>=6.2.0 in c:\\users\\pamel\\anaconda3\\lib\\site-packages (from plotly->catboost) (8.2.2)\n",
      "Downloading catboost-1.2.5-cp311-cp311-win_amd64.whl (101.1 MB)\n",
      "   ---------------------------------------- 0.0/101.1 MB ? eta -:--:--\n",
      "   ---------------------------------------- 0.0/101.1 MB ? eta -:--:--\n",
      "   ---------------------------------------- 0.0/101.1 MB 653.6 kB/s eta 0:02:35\n",
      "   ---------------------------------------- 0.3/101.1 MB 3.5 MB/s eta 0:00:29\n",
      "   ---------------------------------------- 1.0/101.1 MB 8.3 MB/s eta 0:00:13\n",
      "   ---------------------------------------- 1.0/101.1 MB 8.3 MB/s eta 0:00:13\n",
      "    --------------------------------------- 1.6/101.1 MB 7.1 MB/s eta 0:00:15\n",
      "    --------------------------------------- 2.2/101.1 MB 7.8 MB/s eta 0:00:13\n",
      "   - -------------------------------------- 3.1/101.1 MB 10.6 MB/s eta 0:00:10\n",
      "   - -------------------------------------- 3.2/101.1 MB 8.6 MB/s eta 0:00:12\n",
      "   - -------------------------------------- 4.2/101.1 MB 10.3 MB/s eta 0:00:10\n",
      "   - -------------------------------------- 4.2/101.1 MB 10.3 MB/s eta 0:00:10\n",
      "   -- ------------------------------------- 5.2/101.1 MB 10.5 MB/s eta 0:00:10\n",
      "   -- ------------------------------------- 5.2/101.1 MB 10.5 MB/s eta 0:00:10\n",
      "   -- ------------------------------------- 5.2/101.1 MB 10.5 MB/s eta 0:00:10\n",
      "   -- ------------------------------------- 5.2/101.1 MB 10.5 MB/s eta 0:00:10\n",
      "   -- ------------------------------------- 5.2/101.1 MB 10.5 MB/s eta 0:00:10\n",
      "   -- ------------------------------------- 5.2/101.1 MB 10.5 MB/s eta 0:00:10\n",
      "   -- ------------------------------------- 5.2/101.1 MB 10.5 MB/s eta 0:00:10\n",
      "   -- ------------------------------------- 5.2/101.1 MB 10.5 MB/s eta 0:00:10\n",
      "   -- ------------------------------------- 5.2/101.1 MB 10.5 MB/s eta 0:00:10\n",
      "   -- ------------------------------------- 5.4/101.1 MB 6.2 MB/s eta 0:00:16\n",
      "   -- ------------------------------------- 6.3/101.1 MB 6.9 MB/s eta 0:00:14\n",
      "   -- ------------------------------------- 6.3/101.1 MB 6.9 MB/s eta 0:00:14\n",
      "   -- ------------------------------------- 7.3/101.1 MB 7.3 MB/s eta 0:00:13\n",
      "   -- ------------------------------------- 7.3/101.1 MB 7.3 MB/s eta 0:00:13\n",
      "   --- ------------------------------------ 8.4/101.1 MB 7.7 MB/s eta 0:00:13\n",
      "   --- ------------------------------------ 8.4/101.1 MB 7.7 MB/s eta 0:00:13\n",
      "   --- ------------------------------------ 8.4/101.1 MB 7.2 MB/s eta 0:00:13\n",
      "   --- ------------------------------------ 9.4/101.1 MB 7.6 MB/s eta 0:00:13\n",
      "   ---- ----------------------------------- 10.2/101.1 MB 7.9 MB/s eta 0:00:12\n",
      "   ---- ----------------------------------- 10.5/101.1 MB 8.5 MB/s eta 0:00:11\n",
      "   ---- ----------------------------------- 11.3/101.1 MB 8.7 MB/s eta 0:00:11\n",
      "   ---- ----------------------------------- 11.5/101.1 MB 8.7 MB/s eta 0:00:11\n",
      "   ---- ----------------------------------- 11.5/101.1 MB 8.1 MB/s eta 0:00:12\n",
      "   ---- ----------------------------------- 12.6/101.1 MB 8.3 MB/s eta 0:00:11\n",
      "   ---- ----------------------------------- 12.6/101.1 MB 8.3 MB/s eta 0:00:11\n",
      "   ---- ----------------------------------- 12.6/101.1 MB 8.3 MB/s eta 0:00:11\n",
      "   ---- ----------------------------------- 12.6/101.1 MB 8.3 MB/s eta 0:00:11\n",
      "   ----- ---------------------------------- 13.6/101.1 MB 7.8 MB/s eta 0:00:12\n",
      "   ----- ---------------------------------- 13.6/101.1 MB 7.8 MB/s eta 0:00:12\n",
      "   ----- ---------------------------------- 14.7/101.1 MB 7.9 MB/s eta 0:00:11\n",
      "   ----- ---------------------------------- 14.7/101.1 MB 7.9 MB/s eta 0:00:11\n",
      "   ------ --------------------------------- 15.7/101.1 MB 10.4 MB/s eta 0:00:09\n",
      "   ------ --------------------------------- 15.7/101.1 MB 10.4 MB/s eta 0:00:09\n",
      "   ------ --------------------------------- 16.7/101.1 MB 10.4 MB/s eta 0:00:09\n",
      "   ------ --------------------------------- 16.8/101.1 MB 10.2 MB/s eta 0:00:09\n",
      "   ------ --------------------------------- 17.4/101.1 MB 9.8 MB/s eta 0:00:09\n",
      "   ------- -------------------------------- 17.8/101.1 MB 10.4 MB/s eta 0:00:09\n",
      "   ------- -------------------------------- 17.9/101.1 MB 9.6 MB/s eta 0:00:09\n",
      "   ------- -------------------------------- 18.9/101.1 MB 10.6 MB/s eta 0:00:08\n",
      "   ------- -------------------------------- 18.9/101.1 MB 10.6 MB/s eta 0:00:08\n",
      "   ------- -------------------------------- 19.6/101.1 MB 9.9 MB/s eta 0:00:09\n",
      "   ------- -------------------------------- 19.9/101.1 MB 10.1 MB/s eta 0:00:09\n",
      "   ------- -------------------------------- 19.9/101.1 MB 10.1 MB/s eta 0:00:09\n",
      "   -------- ------------------------------- 20.8/101.1 MB 9.9 MB/s eta 0:00:09\n",
      "   -------- ------------------------------- 22.0/101.1 MB 11.1 MB/s eta 0:00:08\n",
      "   --------- ------------------------------ 23.1/101.1 MB 12.6 MB/s eta 0:00:07\n",
      "   --------- ------------------------------ 23.1/101.1 MB 12.6 MB/s eta 0:00:07\n",
      "   --------- ------------------------------ 23.4/101.1 MB 11.7 MB/s eta 0:00:07\n",
      "   --------- ------------------------------ 24.1/101.1 MB 12.1 MB/s eta 0:00:07\n",
      "   --------- ------------------------------ 24.1/101.1 MB 12.1 MB/s eta 0:00:07\n",
      "   --------- ------------------------------ 24.1/101.1 MB 12.1 MB/s eta 0:00:07\n",
      "   --------- ------------------------------ 24.1/101.1 MB 12.1 MB/s eta 0:00:07\n",
      "   --------- ------------------------------ 25.1/101.1 MB 11.1 MB/s eta 0:00:07\n",
      "   --------- ------------------------------ 25.2/101.1 MB 10.9 MB/s eta 0:00:07\n",
      "   --------- ------------------------------ 25.2/101.1 MB 10.9 MB/s eta 0:00:07\n",
      "   --------- ------------------------------ 25.2/101.1 MB 10.9 MB/s eta 0:00:07\n",
      "   ---------- ----------------------------- 25.7/101.1 MB 9.4 MB/s eta 0:00:09\n",
      "   ---------- ----------------------------- 26.2/101.1 MB 10.1 MB/s eta 0:00:08\n",
      "   ---------- ----------------------------- 26.2/101.1 MB 10.1 MB/s eta 0:00:08\n",
      "   ---------- ----------------------------- 26.2/101.1 MB 10.1 MB/s eta 0:00:08\n",
      "   ---------- ----------------------------- 26.2/101.1 MB 10.1 MB/s eta 0:00:08\n",
      "   ---------- ----------------------------- 26.2/101.1 MB 10.1 MB/s eta 0:00:08\n",
      "   ---------- ----------------------------- 26.2/101.1 MB 10.1 MB/s eta 0:00:08\n",
      "   ---------- ----------------------------- 26.5/101.1 MB 8.0 MB/s eta 0:00:10\n",
      "   ---------- ----------------------------- 27.3/101.1 MB 8.3 MB/s eta 0:00:09\n",
      "   ---------- ----------------------------- 27.3/101.1 MB 7.9 MB/s eta 0:00:10\n",
      "   ----------- ---------------------------- 28.3/101.1 MB 8.6 MB/s eta 0:00:09\n",
      "   ----------- ---------------------------- 28.3/101.1 MB 8.6 MB/s eta 0:00:09\n",
      "   ----------- ---------------------------- 29.3/101.1 MB 8.5 MB/s eta 0:00:09\n",
      "   ----------- ---------------------------- 29.4/101.1 MB 8.5 MB/s eta 0:00:09\n",
      "   ------------ --------------------------- 30.4/101.1 MB 8.7 MB/s eta 0:00:09\n",
      "   ------------ --------------------------- 30.4/101.1 MB 8.7 MB/s eta 0:00:09\n",
      "   ------------ --------------------------- 30.4/101.1 MB 8.7 MB/s eta 0:00:09\n",
      "   ------------ --------------------------- 30.4/101.1 MB 8.7 MB/s eta 0:00:09\n",
      "   ------------ --------------------------- 30.4/101.1 MB 8.7 MB/s eta 0:00:09\n",
      "   ------------ --------------------------- 30.4/101.1 MB 8.7 MB/s eta 0:00:09\n",
      "   ------------ --------------------------- 30.4/101.1 MB 8.7 MB/s eta 0:00:09\n",
      "   ------------ --------------------------- 30.4/101.1 MB 8.7 MB/s eta 0:00:09\n",
      "   ------------ --------------------------- 31.2/101.1 MB 6.7 MB/s eta 0:00:11\n",
      "   ------------ --------------------------- 31.5/101.1 MB 6.7 MB/s eta 0:00:11\n",
      "   ------------ --------------------------- 32.3/101.1 MB 6.5 MB/s eta 0:00:11\n",
      "   ------------ --------------------------- 32.5/101.1 MB 6.5 MB/s eta 0:00:11\n",
      "   ------------- -------------------------- 33.1/101.1 MB 6.3 MB/s eta 0:00:11\n",
      "   ------------- -------------------------- 33.5/101.1 MB 6.5 MB/s eta 0:00:11\n",
      "   ------------- -------------------------- 34.0/101.1 MB 6.4 MB/s eta 0:00:11\n",
      "   ------------- -------------------------- 34.6/101.1 MB 7.0 MB/s eta 0:00:10\n",
      "   ------------- -------------------------- 35.2/101.1 MB 6.7 MB/s eta 0:00:10\n",
      "   -------------- ------------------------- 35.6/101.1 MB 7.4 MB/s eta 0:00:09\n",
      "   -------------- ------------------------- 36.4/101.1 MB 7.1 MB/s eta 0:00:10\n",
      "   -------------- ------------------------- 36.7/101.1 MB 8.8 MB/s eta 0:00:08\n",
      "   -------------- ------------------------- 36.7/101.1 MB 8.8 MB/s eta 0:00:08\n",
      "   -------------- ------------------------- 36.7/101.1 MB 8.8 MB/s eta 0:00:08\n",
      "   -------------- ------------------------- 36.7/101.1 MB 8.8 MB/s eta 0:00:08\n",
      "   -------------- ------------------------- 36.7/101.1 MB 8.8 MB/s eta 0:00:08\n",
      "   -------------- ------------------------- 36.7/101.1 MB 8.8 MB/s eta 0:00:08\n",
      "   -------------- ------------------------- 36.7/101.1 MB 8.8 MB/s eta 0:00:08\n",
      "   -------------- ------------------------- 36.7/101.1 MB 8.8 MB/s eta 0:00:08\n",
      "   -------------- ------------------------- 37.0/101.1 MB 6.4 MB/s eta 0:00:10\n",
      "   -------------- ------------------------- 37.7/101.1 MB 6.7 MB/s eta 0:00:10\n",
      "   --------------- ------------------------ 38.2/101.1 MB 6.4 MB/s eta 0:00:10\n",
      "   --------------- ------------------------ 38.8/101.1 MB 6.7 MB/s eta 0:00:10\n",
      "   --------------- ------------------------ 39.4/101.1 MB 6.4 MB/s eta 0:00:10\n",
      "   --------------- ------------------------ 39.8/101.1 MB 6.7 MB/s eta 0:00:10\n",
      "   ---------------- ----------------------- 40.8/101.1 MB 8.4 MB/s eta 0:00:08\n",
      "   ---------------- ----------------------- 40.9/101.1 MB 8.4 MB/s eta 0:00:08\n",
      "   ---------------- ----------------------- 40.9/101.1 MB 8.4 MB/s eta 0:00:08\n",
      "   ---------------- ----------------------- 40.9/101.1 MB 8.4 MB/s eta 0:00:08\n",
      "   ---------------- ----------------------- 40.9/101.1 MB 8.4 MB/s eta 0:00:08\n",
      "   ---------------- ----------------------- 40.9/101.1 MB 8.4 MB/s eta 0:00:08\n",
      "   ---------------- ----------------------- 40.9/101.1 MB 8.4 MB/s eta 0:00:08\n",
      "   ---------------- ----------------------- 41.2/101.1 MB 6.5 MB/s eta 0:00:10\n",
      "   ---------------- ----------------------- 41.9/101.1 MB 6.7 MB/s eta 0:00:09\n",
      "   ---------------- ----------------------- 42.8/101.1 MB 6.8 MB/s eta 0:00:09\n",
      "   ----------------- ---------------------- 43.0/101.1 MB 6.8 MB/s eta 0:00:09\n",
      "   ----------------- ---------------------- 43.7/101.1 MB 6.5 MB/s eta 0:00:09\n",
      "   ----------------- ---------------------- 44.0/101.1 MB 6.8 MB/s eta 0:00:09\n",
      "   ----------------- ---------------------- 44.9/101.1 MB 6.8 MB/s eta 0:00:09\n",
      "   ----------------- ---------------------- 45.1/101.1 MB 6.8 MB/s eta 0:00:09\n",
      "   ----------------- ---------------------- 45.3/101.1 MB 6.5 MB/s eta 0:00:09\n",
      "   ------------------ --------------------- 46.1/101.1 MB 6.7 MB/s eta 0:00:09\n",
      "   ------------------ --------------------- 46.1/101.1 MB 6.7 MB/s eta 0:00:09\n",
      "   ------------------ --------------------- 47.2/101.1 MB 9.1 MB/s eta 0:00:06\n",
      "   ------------------ --------------------- 47.2/101.1 MB 9.1 MB/s eta 0:00:06\n",
      "   ------------------ --------------------- 48.0/101.1 MB 8.8 MB/s eta 0:00:07\n",
      "   ------------------- -------------------- 48.2/101.1 MB 8.8 MB/s eta 0:00:06\n",
      "   ------------------- -------------------- 49.0/101.1 MB 8.5 MB/s eta 0:00:07\n",
      "   ------------------- -------------------- 49.3/101.1 MB 8.8 MB/s eta 0:00:06\n",
      "   ------------------- -------------------- 49.3/101.1 MB 8.8 MB/s eta 0:00:06\n",
      "   ------------------- -------------------- 49.3/101.1 MB 8.8 MB/s eta 0:00:06\n",
      "   ------------------- -------------------- 49.3/101.1 MB 7.8 MB/s eta 0:00:07\n",
      "   ------------------- -------------------- 50.3/101.1 MB 8.1 MB/s eta 0:00:07\n",
      "   -------------------- ------------------- 51.3/101.1 MB 10.6 MB/s eta 0:00:05\n",
      "   -------------------- ------------------- 51.4/101.1 MB 10.6 MB/s eta 0:00:05\n",
      "   -------------------- ------------------- 51.4/101.1 MB 10.6 MB/s eta 0:00:05\n",
      "   -------------------- ------------------- 52.4/101.1 MB 10.2 MB/s eta 0:00:05\n",
      "   -------------------- ------------------- 52.4/101.1 MB 10.2 MB/s eta 0:00:05\n",
      "   --------------------- ------------------ 53.5/101.1 MB 10.1 MB/s eta 0:00:05\n",
      "   --------------------- ------------------ 53.5/101.1 MB 9.6 MB/s eta 0:00:05\n",
      "   --------------------- ------------------ 54.5/101.1 MB 10.2 MB/s eta 0:00:05\n",
      "   --------------------- ------------------ 54.5/101.1 MB 10.2 MB/s eta 0:00:05\n",
      "   --------------------- ------------------ 55.6/101.1 MB 10.2 MB/s eta 0:00:05\n",
      "   --------------------- ------------------ 55.6/101.1 MB 10.2 MB/s eta 0:00:05\n",
      "   ---------------------- ----------------- 56.4/101.1 MB 10.2 MB/s eta 0:00:05\n",
      "   ---------------------- ----------------- 56.6/101.1 MB 10.4 MB/s eta 0:00:05\n",
      "   ---------------------- ----------------- 56.6/101.1 MB 10.4 MB/s eta 0:00:05\n",
      "   ---------------------- ----------------- 56.6/101.1 MB 10.4 MB/s eta 0:00:05\n",
      "   ---------------------- ----------------- 57.7/101.1 MB 9.9 MB/s eta 0:00:05\n",
      "   ---------------------- ----------------- 57.7/101.1 MB 9.9 MB/s eta 0:00:05\n",
      "   ---------------------- ----------------- 58.0/101.1 MB 9.1 MB/s eta 0:00:05\n",
      "   ----------------------- ---------------- 58.7/101.1 MB 9.6 MB/s eta 0:00:05\n",
      "   ----------------------- ---------------- 59.8/101.1 MB 11.1 MB/s eta 0:00:04\n",
      "   ----------------------- ---------------- 59.8/101.1 MB 11.1 MB/s eta 0:00:04\n",
      "   ----------------------- ---------------- 59.8/101.1 MB 11.1 MB/s eta 0:00:04\n",
      "   ----------------------- ---------------- 59.8/101.1 MB 11.1 MB/s eta 0:00:04\n",
      "   ----------------------- ---------------- 59.8/101.1 MB 11.1 MB/s eta 0:00:04\n",
      "   ------------------------ --------------- 60.8/101.1 MB 9.4 MB/s eta 0:00:05\n",
      "   ------------------------ --------------- 60.8/101.1 MB 9.4 MB/s eta 0:00:05\n",
      "   ------------------------ --------------- 61.9/101.1 MB 9.8 MB/s eta 0:00:05\n",
      "   ------------------------ --------------- 61.9/101.1 MB 9.8 MB/s eta 0:00:05\n",
      "   ------------------------ --------------- 61.9/101.1 MB 9.8 MB/s eta 0:00:05\n",
      "   ------------------------ --------------- 61.9/101.1 MB 9.8 MB/s eta 0:00:05\n",
      "   ------------------------ --------------- 61.9/101.1 MB 9.8 MB/s eta 0:00:05\n",
      "   ------------------------ --------------- 61.9/101.1 MB 9.8 MB/s eta 0:00:05\n",
      "   ------------------------ --------------- 61.9/101.1 MB 9.8 MB/s eta 0:00:05\n",
      "   ------------------------ --------------- 61.9/101.1 MB 9.8 MB/s eta 0:00:05\n",
      "   ------------------------ --------------- 61.9/101.1 MB 9.8 MB/s eta 0:00:05\n",
      "   ------------------------ --------------- 62.9/101.1 MB 7.7 MB/s eta 0:00:05\n",
      "   ------------------------ --------------- 63.0/101.1 MB 7.4 MB/s eta 0:00:06\n",
      "   ------------------------- -------------- 64.0/101.1 MB 7.5 MB/s eta 0:00:05\n",
      "   ------------------------- -------------- 64.4/101.1 MB 7.2 MB/s eta 0:00:06\n",
      "   ------------------------- -------------- 65.0/101.1 MB 7.5 MB/s eta 0:00:05\n",
      "   ------------------------- -------------- 65.6/101.1 MB 7.2 MB/s eta 0:00:05\n",
      "   -------------------------- ------------- 66.1/101.1 MB 7.5 MB/s eta 0:00:05\n",
      "   -------------------------- ------------- 66.1/101.1 MB 7.5 MB/s eta 0:00:05\n",
      "   -------------------------- ------------- 66.7/101.1 MB 7.1 MB/s eta 0:00:05\n",
      "   -------------------------- ------------- 67.1/101.1 MB 7.7 MB/s eta 0:00:05\n",
      "   -------------------------- ------------- 67.1/101.1 MB 7.7 MB/s eta 0:00:05\n",
      "   -------------------------- ------------- 67.1/101.1 MB 7.7 MB/s eta 0:00:05\n",
      "   -------------------------- ------------- 67.1/101.1 MB 7.7 MB/s eta 0:00:05\n",
      "   -------------------------- ------------- 68.2/101.1 MB 7.1 MB/s eta 0:00:05\n",
      "   -------------------------- ------------- 68.2/101.1 MB 7.1 MB/s eta 0:00:05\n",
      "   --------------------------- ------------ 69.2/101.1 MB 7.1 MB/s eta 0:00:05\n",
      "   --------------------------- ------------ 69.2/101.1 MB 7.1 MB/s eta 0:00:05\n",
      "   --------------------------- ------------ 70.2/101.1 MB 7.7 MB/s eta 0:00:05\n",
      "   --------------------------- ------------ 70.2/101.1 MB 7.7 MB/s eta 0:00:05\n",
      "   ---------------------------- ----------- 70.8/101.1 MB 7.3 MB/s eta 0:00:05\n",
      "   ---------------------------- ----------- 71.3/101.1 MB 7.6 MB/s eta 0:00:04\n",
      "   ---------------------------- ----------- 72.2/101.1 MB 9.9 MB/s eta 0:00:03\n",
      "   ---------------------------- ----------- 72.3/101.1 MB 10.1 MB/s eta 0:00:03\n",
      "   ---------------------------- ----------- 72.9/101.1 MB 9.1 MB/s eta 0:00:04\n",
      "   ----------------------------- ---------- 73.4/101.1 MB 9.9 MB/s eta 0:00:03\n",
      "   ----------------------------- ---------- 74.4/101.1 MB 9.9 MB/s eta 0:00:03\n",
      "   ----------------------------- ---------- 74.4/101.1 MB 9.9 MB/s eta 0:00:03\n",
      "   ----------------------------- ---------- 74.4/101.1 MB 9.9 MB/s eta 0:00:03\n",
      "   ----------------------------- ---------- 74.4/101.1 MB 9.9 MB/s eta 0:00:03\n",
      "   ----------------------------- ---------- 75.3/101.1 MB 9.1 MB/s eta 0:00:03\n",
      "   ----------------------------- ---------- 75.5/101.1 MB 9.1 MB/s eta 0:00:03\n",
      "   ----------------------------- ---------- 75.5/101.1 MB 9.1 MB/s eta 0:00:03\n",
      "   ----------------------------- ---------- 75.6/101.1 MB 7.8 MB/s eta 0:00:04\n",
      "   ------------------------------ --------- 76.5/101.1 MB 8.3 MB/s eta 0:00:03\n",
      "   ------------------------------ --------- 77.3/101.1 MB 8.1 MB/s eta 0:00:03\n",
      "   ------------------------------ --------- 77.6/101.1 MB 9.4 MB/s eta 0:00:03\n",
      "   ------------------------------ --------- 77.6/101.1 MB 9.4 MB/s eta 0:00:03\n",
      "   ------------------------------ --------- 77.6/101.1 MB 9.4 MB/s eta 0:00:03\n",
      "   ------------------------------ --------- 77.6/101.1 MB 9.4 MB/s eta 0:00:03\n",
      "   ------------------------------ --------- 77.6/101.1 MB 9.4 MB/s eta 0:00:03\n",
      "   ------------------------------ --------- 78.0/101.1 MB 7.7 MB/s eta 0:00:04\n",
      "   ------------------------------- -------- 78.6/101.1 MB 8.1 MB/s eta 0:00:03\n",
      "   ------------------------------- -------- 78.6/101.1 MB 8.1 MB/s eta 0:00:03\n",
      "   ------------------------------- -------- 78.6/101.1 MB 8.1 MB/s eta 0:00:03\n",
      "   ------------------------------- -------- 78.6/101.1 MB 8.1 MB/s eta 0:00:03\n",
      "   ------------------------------- -------- 78.6/101.1 MB 8.1 MB/s eta 0:00:03\n",
      "   ------------------------------- -------- 78.6/101.1 MB 8.1 MB/s eta 0:00:03\n",
      "   ------------------------------- -------- 78.6/101.1 MB 8.1 MB/s eta 0:00:03\n",
      "   ------------------------------- -------- 79.7/101.1 MB 6.6 MB/s eta 0:00:04\n",
      "   ------------------------------- -------- 79.7/101.1 MB 6.6 MB/s eta 0:00:04\n",
      "   ------------------------------- -------- 80.7/101.1 MB 6.7 MB/s eta 0:00:04\n",
      "   ------------------------------- -------- 80.7/101.1 MB 6.7 MB/s eta 0:00:04\n",
      "   ------------------------------- -------- 80.7/101.1 MB 6.7 MB/s eta 0:00:04\n",
      "   ------------------------------- -------- 80.7/101.1 MB 6.7 MB/s eta 0:00:04\n",
      "   -------------------------------- ------- 81.3/101.1 MB 6.1 MB/s eta 0:00:04\n",
      "   -------------------------------- ------- 81.8/101.1 MB 6.3 MB/s eta 0:00:04\n",
      "   -------------------------------- ------- 82.5/101.1 MB 6.1 MB/s eta 0:00:04\n",
      "   -------------------------------- ------- 82.8/101.1 MB 6.4 MB/s eta 0:00:03\n",
      "   --------------------------------- ------ 83.7/101.1 MB 6.4 MB/s eta 0:00:03\n",
      "   --------------------------------- ------ 83.9/101.1 MB 6.4 MB/s eta 0:00:03\n",
      "   --------------------------------- ------ 84.7/101.1 MB 6.8 MB/s eta 0:00:03\n",
      "   --------------------------------- ------ 84.9/101.1 MB 6.7 MB/s eta 0:00:03\n",
      "   --------------------------------- ------ 85.1/101.1 MB 6.5 MB/s eta 0:00:03\n",
      "   ---------------------------------- ----- 86.0/101.1 MB 7.5 MB/s eta 0:00:03\n",
      "   ---------------------------------- ----- 86.5/101.1 MB 7.2 MB/s eta 0:00:03\n",
      "   ---------------------------------- ----- 87.0/101.1 MB 7.4 MB/s eta 0:00:02\n",
      "   ---------------------------------- ----- 87.1/101.1 MB 7.0 MB/s eta 0:00:03\n",
      "   ---------------------------------- ----- 88.1/101.1 MB 8.4 MB/s eta 0:00:02\n",
      "   ---------------------------------- ----- 88.1/101.1 MB 8.4 MB/s eta 0:00:02\n",
      "   ----------------------------------- ---- 89.0/101.1 MB 10.7 MB/s eta 0:00:02\n",
      "   ----------------------------------- ---- 89.1/101.1 MB 10.7 MB/s eta 0:00:02\n",
      "   ----------------------------------- ---- 89.1/101.1 MB 10.7 MB/s eta 0:00:02\n",
      "   ----------------------------------- ---- 90.1/101.1 MB 10.2 MB/s eta 0:00:02\n",
      "   ----------------------------------- ---- 90.2/101.1 MB 10.2 MB/s eta 0:00:02\n",
      "   ----------------------------------- ---- 90.2/101.1 MB 10.2 MB/s eta 0:00:02\n",
      "   ----------------------------------- ---- 90.2/101.1 MB 10.2 MB/s eta 0:00:02\n",
      "   ----------------------------------- ---- 90.2/101.1 MB 10.2 MB/s eta 0:00:02\n",
      "   ----------------------------------- ---- 90.2/101.1 MB 10.2 MB/s eta 0:00:02\n",
      "   ----------------------------------- ---- 90.2/101.1 MB 10.2 MB/s eta 0:00:02\n",
      "   ----------------------------------- ---- 90.2/101.1 MB 10.2 MB/s eta 0:00:02\n",
      "   ----------------------------------- ---- 90.2/101.1 MB 10.2 MB/s eta 0:00:02\n",
      "   ----------------------------------- ---- 90.9/101.1 MB 7.3 MB/s eta 0:00:02\n",
      "   ------------------------------------ --- 91.6/101.1 MB 8.0 MB/s eta 0:00:02\n",
      "   ------------------------------------ --- 92.3/101.1 MB 8.3 MB/s eta 0:00:02\n",
      "   ------------------------------------ --- 93.0/101.1 MB 8.0 MB/s eta 0:00:02\n",
      "   ------------------------------------ --- 93.3/101.1 MB 8.4 MB/s eta 0:00:01\n",
      "   ------------------------------------ --- 93.3/101.1 MB 8.4 MB/s eta 0:00:01\n",
      "   ------------------------------------ --- 93.3/101.1 MB 8.4 MB/s eta 0:00:01\n",
      "   ------------------------------------ --- 93.3/101.1 MB 8.4 MB/s eta 0:00:01\n",
      "   ------------------------------------ --- 93.3/101.1 MB 8.4 MB/s eta 0:00:01\n",
      "   ------------------------------------ --- 93.3/101.1 MB 8.4 MB/s eta 0:00:01\n",
      "   ------------------------------------ --- 93.3/101.1 MB 8.4 MB/s eta 0:00:01\n",
      "   ------------------------------------- -- 94.4/101.1 MB 6.8 MB/s eta 0:00:01\n",
      "   ------------------------------------- -- 94.7/101.1 MB 6.5 MB/s eta 0:00:01\n",
      "   ------------------------------------- -- 95.4/101.1 MB 6.8 MB/s eta 0:00:01\n",
      "   ------------------------------------- -- 95.9/101.1 MB 6.7 MB/s eta 0:00:01\n",
      "   -------------------------------------- - 96.5/101.1 MB 6.9 MB/s eta 0:00:01\n",
      "   -------------------------------------- - 96.6/101.1 MB 6.6 MB/s eta 0:00:01\n",
      "   -------------------------------------- - 97.5/101.1 MB 6.9 MB/s eta 0:00:01\n",
      "   -------------------------------------- - 98.2/101.1 MB 6.6 MB/s eta 0:00:01\n",
      "   -------------------------------------- - 98.6/101.1 MB 7.0 MB/s eta 0:00:01\n",
      "   ---------------------------------------  99.2/101.1 MB 6.6 MB/s eta 0:00:01\n",
      "   ---------------------------------------  99.6/101.1 MB 7.2 MB/s eta 0:00:01\n",
      "   ---------------------------------------  99.6/101.1 MB 7.2 MB/s eta 0:00:01\n",
      "   ---------------------------------------  99.6/101.1 MB 7.2 MB/s eta 0:00:01\n",
      "   ---------------------------------------  101.0/101.1 MB 8.8 MB/s eta 0:00:01\n",
      "   ---------------------------------------  101.1/101.1 MB 8.7 MB/s eta 0:00:01\n",
      "   ---------------------------------------  101.1/101.1 MB 8.7 MB/s eta 0:00:01\n",
      "   ---------------------------------------  101.1/101.1 MB 8.7 MB/s eta 0:00:01\n",
      "   ---------------------------------------  101.1/101.1 MB 8.7 MB/s eta 0:00:01\n",
      "   ---------------------------------------  101.1/101.1 MB 8.7 MB/s eta 0:00:01\n",
      "   ---------------------------------------  101.1/101.1 MB 8.7 MB/s eta 0:00:01\n",
      "   ---------------------------------------  101.1/101.1 MB 8.7 MB/s eta 0:00:01\n",
      "   ---------------------------------------  101.1/101.1 MB 8.7 MB/s eta 0:00:01\n",
      "   ---------------------------------------  101.1/101.1 MB 8.7 MB/s eta 0:00:01\n",
      "   ---------------------------------------  101.1/101.1 MB 8.7 MB/s eta 0:00:01\n",
      "   ---------------------------------------  101.1/101.1 MB 8.7 MB/s eta 0:00:01\n",
      "   ---------------------------------------  101.1/101.1 MB 8.7 MB/s eta 0:00:01\n",
      "   ---------------------------------------  101.1/101.1 MB 8.7 MB/s eta 0:00:01\n",
      "   ---------------------------------------  101.1/101.1 MB 8.7 MB/s eta 0:00:01\n",
      "   ---------------------------------------  101.1/101.1 MB 8.7 MB/s eta 0:00:01\n",
      "   ---------------------------------------  101.1/101.1 MB 8.7 MB/s eta 0:00:01\n",
      "   ---------------------------------------  101.1/101.1 MB 8.7 MB/s eta 0:00:01\n",
      "   ---------------------------------------  101.1/101.1 MB 8.7 MB/s eta 0:00:01\n",
      "   ---------------------------------------- 101.1/101.1 MB 5.1 MB/s eta 0:00:00\n",
      "Downloading graphviz-0.20.3-py3-none-any.whl (47 kB)\n",
      "   ---------------------------------------- 0.0/47.1 kB ? eta -:--:--\n",
      "   ---------------------------------------- 47.1/47.1 kB 1.2 MB/s eta 0:00:00\n",
      "Installing collected packages: graphviz, catboost\n",
      "Successfully installed catboost-1.2.5 graphviz-0.20.3\n",
      "Note: you may need to restart the kernel to use updated packages.\n"
     ]
    }
   ],
   "source": [
    "pip install catboost"
   ]
  },
  {
   "cell_type": "code",
   "execution_count": 292,
   "metadata": {
    "colab": {
     "base_uri": "https://localhost:8080/"
    },
    "id": "SgaUXJ10PM1s",
    "outputId": "7117c30c-2c12-4889-a537-8afb0f850b9f"
   },
   "outputs": [
    {
     "name": "stdout",
     "output_type": "stream",
     "text": [
      "Completed.\n"
     ]
    }
   ],
   "source": [
    "import time\n",
    "import pandas as pd\n",
    "import numpy as np\n",
    "import scipy as sp\n",
    "import scipy.stats as stats\n",
    "import matplotlib.pyplot as plt\n",
    "import seaborn as sns\n",
    "import sklearn\n",
    "import sklearn.model_selection\n",
    "from sklearn.preprocessing import LabelEncoder\n",
    "from sklearn.manifold import TSNE\n",
    "\n",
    "\n",
    "# evalue measures\n",
    "from sklearn.metrics import f1_score\n",
    "from sklearn.metrics import accuracy_score\n",
    "from sklearn.metrics import log_loss\n",
    "from sklearn.metrics import mean_squared_error\n",
    "from sklearn.metrics import precision_score\n",
    "from sklearn.metrics import recall_score\n",
    "from sklearn.metrics import confusion_matrix\n",
    "from sklearn.metrics import classification_report\n",
    "from sklearn.model_selection import train_test_split\n",
    "\n",
    "from sklearn.neighbors import KNeighborsClassifier\n",
    "from sklearn.linear_model import LogisticRegression\n",
    "from sklearn.tree import DecisionTreeClassifier\n",
    "from sklearn.ensemble import RandomForestClassifier\n",
    "from sklearn.svm import SVC\n",
    "from sklearn.ensemble import GradientBoostingClassifier\n",
    "import xgboost as xgb\n",
    "import lightgbm as lgbm\n",
    "from sklearn.neural_network import MLPClassifier\n",
    "from sklearn.ensemble import RandomForestClassifier\n",
    "from sklearn.ensemble import ExtraTreesClassifier\n",
    "from sklearn.ensemble import AdaBoostClassifier\n",
    "from sklearn.discriminant_analysis import LinearDiscriminantAnalysis\n",
    "from sklearn.discriminant_analysis import QuadraticDiscriminantAnalysis\n",
    "from sklearn.naive_bayes import GaussianNB\n",
    "from sklearn.linear_model import SGDClassifier\n",
    "from catboost import CatBoostClassifier\n",
    "\n",
    "import seaborn as sns\n",
    "sns.set_style(\"darkgrid\")\n",
    "\n",
    "import warnings\n",
    "warnings.filterwarnings(\"ignore\")\n",
    "\n",
    "print('Completed.')"
   ]
  },
  {
   "cell_type": "code",
   "execution_count": 293,
   "metadata": {
    "id": "iKQ6PmKbnAoU"
   },
   "outputs": [],
   "source": [
    "\n",
    "df = pd.read_csv(\"DataSets/heart.csv\")"
   ]
  },
  {
   "cell_type": "code",
   "execution_count": 294,
   "metadata": {},
   "outputs": [
    {
     "data": {
      "text/html": [
       "<div>\n",
       "<style scoped>\n",
       "    .dataframe tbody tr th:only-of-type {\n",
       "        vertical-align: middle;\n",
       "    }\n",
       "\n",
       "    .dataframe tbody tr th {\n",
       "        vertical-align: top;\n",
       "    }\n",
       "\n",
       "    .dataframe thead th {\n",
       "        text-align: right;\n",
       "    }\n",
       "</style>\n",
       "<table border=\"1\" class=\"dataframe\">\n",
       "  <thead>\n",
       "    <tr style=\"text-align: right;\">\n",
       "      <th></th>\n",
       "      <th>HeartDiseaseorAttack</th>\n",
       "      <th>HighBP</th>\n",
       "      <th>HighChol</th>\n",
       "      <th>CholCheck</th>\n",
       "      <th>BMI</th>\n",
       "      <th>Smoker</th>\n",
       "      <th>Stroke</th>\n",
       "      <th>Diabetes</th>\n",
       "      <th>PhysActivity</th>\n",
       "      <th>Fruits</th>\n",
       "      <th>...</th>\n",
       "      <th>AnyHealthcare</th>\n",
       "      <th>NoDocbcCost</th>\n",
       "      <th>GenHlth</th>\n",
       "      <th>MentHlth</th>\n",
       "      <th>PhysHlth</th>\n",
       "      <th>DiffWalk</th>\n",
       "      <th>Sex</th>\n",
       "      <th>Age</th>\n",
       "      <th>Education</th>\n",
       "      <th>Income</th>\n",
       "    </tr>\n",
       "  </thead>\n",
       "  <tbody>\n",
       "    <tr>\n",
       "      <th>0</th>\n",
       "      <td>0.0</td>\n",
       "      <td>1.0</td>\n",
       "      <td>1.0</td>\n",
       "      <td>1.0</td>\n",
       "      <td>40.0</td>\n",
       "      <td>1.0</td>\n",
       "      <td>0.0</td>\n",
       "      <td>0.0</td>\n",
       "      <td>0.0</td>\n",
       "      <td>0.0</td>\n",
       "      <td>...</td>\n",
       "      <td>1.0</td>\n",
       "      <td>0.0</td>\n",
       "      <td>5.0</td>\n",
       "      <td>18.0</td>\n",
       "      <td>15.0</td>\n",
       "      <td>1.0</td>\n",
       "      <td>0.0</td>\n",
       "      <td>9.0</td>\n",
       "      <td>4.0</td>\n",
       "      <td>3.0</td>\n",
       "    </tr>\n",
       "    <tr>\n",
       "      <th>1</th>\n",
       "      <td>0.0</td>\n",
       "      <td>0.0</td>\n",
       "      <td>0.0</td>\n",
       "      <td>0.0</td>\n",
       "      <td>25.0</td>\n",
       "      <td>1.0</td>\n",
       "      <td>0.0</td>\n",
       "      <td>0.0</td>\n",
       "      <td>1.0</td>\n",
       "      <td>0.0</td>\n",
       "      <td>...</td>\n",
       "      <td>0.0</td>\n",
       "      <td>1.0</td>\n",
       "      <td>3.0</td>\n",
       "      <td>0.0</td>\n",
       "      <td>0.0</td>\n",
       "      <td>0.0</td>\n",
       "      <td>0.0</td>\n",
       "      <td>7.0</td>\n",
       "      <td>6.0</td>\n",
       "      <td>1.0</td>\n",
       "    </tr>\n",
       "    <tr>\n",
       "      <th>2</th>\n",
       "      <td>0.0</td>\n",
       "      <td>1.0</td>\n",
       "      <td>1.0</td>\n",
       "      <td>1.0</td>\n",
       "      <td>28.0</td>\n",
       "      <td>0.0</td>\n",
       "      <td>0.0</td>\n",
       "      <td>0.0</td>\n",
       "      <td>0.0</td>\n",
       "      <td>1.0</td>\n",
       "      <td>...</td>\n",
       "      <td>1.0</td>\n",
       "      <td>1.0</td>\n",
       "      <td>5.0</td>\n",
       "      <td>30.0</td>\n",
       "      <td>30.0</td>\n",
       "      <td>1.0</td>\n",
       "      <td>0.0</td>\n",
       "      <td>9.0</td>\n",
       "      <td>4.0</td>\n",
       "      <td>8.0</td>\n",
       "    </tr>\n",
       "    <tr>\n",
       "      <th>3</th>\n",
       "      <td>0.0</td>\n",
       "      <td>1.0</td>\n",
       "      <td>0.0</td>\n",
       "      <td>1.0</td>\n",
       "      <td>27.0</td>\n",
       "      <td>0.0</td>\n",
       "      <td>0.0</td>\n",
       "      <td>0.0</td>\n",
       "      <td>1.0</td>\n",
       "      <td>1.0</td>\n",
       "      <td>...</td>\n",
       "      <td>1.0</td>\n",
       "      <td>0.0</td>\n",
       "      <td>2.0</td>\n",
       "      <td>0.0</td>\n",
       "      <td>0.0</td>\n",
       "      <td>0.0</td>\n",
       "      <td>0.0</td>\n",
       "      <td>11.0</td>\n",
       "      <td>3.0</td>\n",
       "      <td>6.0</td>\n",
       "    </tr>\n",
       "    <tr>\n",
       "      <th>4</th>\n",
       "      <td>0.0</td>\n",
       "      <td>1.0</td>\n",
       "      <td>1.0</td>\n",
       "      <td>1.0</td>\n",
       "      <td>24.0</td>\n",
       "      <td>0.0</td>\n",
       "      <td>0.0</td>\n",
       "      <td>0.0</td>\n",
       "      <td>1.0</td>\n",
       "      <td>1.0</td>\n",
       "      <td>...</td>\n",
       "      <td>1.0</td>\n",
       "      <td>0.0</td>\n",
       "      <td>2.0</td>\n",
       "      <td>3.0</td>\n",
       "      <td>0.0</td>\n",
       "      <td>0.0</td>\n",
       "      <td>0.0</td>\n",
       "      <td>11.0</td>\n",
       "      <td>5.0</td>\n",
       "      <td>4.0</td>\n",
       "    </tr>\n",
       "  </tbody>\n",
       "</table>\n",
       "<p>5 rows × 22 columns</p>\n",
       "</div>"
      ],
      "text/plain": [
       "   HeartDiseaseorAttack  HighBP  HighChol  CholCheck   BMI  Smoker  Stroke  \\\n",
       "0                   0.0     1.0       1.0        1.0  40.0     1.0     0.0   \n",
       "1                   0.0     0.0       0.0        0.0  25.0     1.0     0.0   \n",
       "2                   0.0     1.0       1.0        1.0  28.0     0.0     0.0   \n",
       "3                   0.0     1.0       0.0        1.0  27.0     0.0     0.0   \n",
       "4                   0.0     1.0       1.0        1.0  24.0     0.0     0.0   \n",
       "\n",
       "   Diabetes  PhysActivity  Fruits  ...  AnyHealthcare  NoDocbcCost  GenHlth  \\\n",
       "0       0.0           0.0     0.0  ...            1.0          0.0      5.0   \n",
       "1       0.0           1.0     0.0  ...            0.0          1.0      3.0   \n",
       "2       0.0           0.0     1.0  ...            1.0          1.0      5.0   \n",
       "3       0.0           1.0     1.0  ...            1.0          0.0      2.0   \n",
       "4       0.0           1.0     1.0  ...            1.0          0.0      2.0   \n",
       "\n",
       "   MentHlth  PhysHlth  DiffWalk  Sex   Age  Education  Income  \n",
       "0      18.0      15.0       1.0  0.0   9.0        4.0     3.0  \n",
       "1       0.0       0.0       0.0  0.0   7.0        6.0     1.0  \n",
       "2      30.0      30.0       1.0  0.0   9.0        4.0     8.0  \n",
       "3       0.0       0.0       0.0  0.0  11.0        3.0     6.0  \n",
       "4       3.0       0.0       0.0  0.0  11.0        5.0     4.0  \n",
       "\n",
       "[5 rows x 22 columns]"
      ]
     },
     "execution_count": 294,
     "metadata": {},
     "output_type": "execute_result"
    }
   ],
   "source": [
    "df.head(5)"
   ]
  },
  {
   "cell_type": "code",
   "execution_count": 295,
   "metadata": {
    "id": "9P4WC2wlQHP3"
   },
   "outputs": [],
   "source": [
    "df.dropna(inplace=True)"
   ]
  },
  {
   "cell_type": "code",
   "execution_count": 296,
   "metadata": {
    "id": "Tvc6Fw37PqZk"
   },
   "outputs": [],
   "source": [
    "\n",
    "X = df.iloc[:, 1:].values\n",
    "y = df.iloc[:, 0].values\n"
   ]
  },
  {
   "cell_type": "code",
   "execution_count": 297,
   "metadata": {
    "colab": {
     "base_uri": "https://localhost:8080/"
    },
    "id": "7rV86weIPyD2",
    "outputId": "2fcb4a11-de52-4079-ada1-74edbe3b2b22"
   },
   "outputs": [
    {
     "data": {
      "text/plain": [
       "array([0, 0, 0, ..., 0, 0, 1], dtype=int64)"
      ]
     },
     "execution_count": 297,
     "metadata": {},
     "output_type": "execute_result"
    }
   ],
   "source": [
    "label_encoder = LabelEncoder()\n",
    "y = label_encoder.fit_transform(y) # convert each label in the original dataset to the unique integer\n",
    "y\n"
   ]
  },
  {
   "cell_type": "code",
   "execution_count": 298,
   "metadata": {
    "colab": {
     "base_uri": "https://localhost:8080/"
    },
    "id": "-gUgryEiP5Ui",
    "outputId": "632fefe1-9dfb-49a6-e271-226f8d067353"
   },
   "outputs": [
    {
     "name": "stdout",
     "output_type": "stream",
     "text": [
      "X_train:  (190260, 21)\n",
      "y_train:  (190260,)\n",
      "---\n",
      "X_test:  (63420, 21)\n",
      "y_test:  (63420,)\n"
     ]
    }
   ],
   "source": [
    "X_train, X_test, y_train, y_test = train_test_split(X, y, test_size=0.25, random_state=110)\n",
    "\n",
    "print('X_train: ', X_train.shape)\n",
    "print('y_train: ', y_train.shape)\n",
    "print('---')\n",
    "print('X_test: ', X_test.shape)\n",
    "print('y_test: ', y_test.shape)"
   ]
  },
  {
   "cell_type": "markdown",
   "metadata": {
    "id": "VZ3EcRHrQdca"
   },
   "source": [
    "## Regresão Logística"
   ]
  },
  {
   "cell_type": "code",
   "execution_count": 278,
   "metadata": {
    "id": "ROcbtYLfQAFX"
   },
   "outputs": [],
   "source": [
    "\n",
    "logistic_model = LogisticRegression()\n",
    "logistic_model.fit(X_train, y_train)\n",
    "\n",
    "y_pred = logistic_model.predict(X_test)\n"
   ]
  },
  {
   "cell_type": "markdown",
   "metadata": {
    "id": "vYoJFNZqkIFc"
   },
   "source": [
    "### Avaliação"
   ]
  },
  {
   "cell_type": "code",
   "execution_count": 279,
   "metadata": {
    "id": "nRPfayr5kK0l"
   },
   "outputs": [
    {
     "name": "stdout",
     "output_type": "stream",
     "text": [
      "A acurácia do modelo é: 91%\n"
     ]
    }
   ],
   "source": [
    "#Acuracia\n",
    "\n",
    "acc_1 = accuracy_score(y_pred, y_test)\n",
    "show = round(acc_1 * 100)\n",
    "print(f\"A acurácia do modelo é: {show}%\")"
   ]
  },
  {
   "cell_type": "code",
   "execution_count": 280,
   "metadata": {
    "id": "7ObG9PepkLGR"
   },
   "outputs": [
    {
     "name": "stdout",
     "output_type": "stream",
     "text": [
      "O F1 Score  do modelo é: 20%\n"
     ]
    }
   ],
   "source": [
    "#F1-Score\n",
    "\n",
    "f1__rl = f1_score(y_test, y_pred)\n",
    "showf1__rl = round(f1__rl * 100)\n",
    "print(f\"O F1 Score  do modelo é: {showf1__rl}%\")"
   ]
  },
  {
   "cell_type": "code",
   "execution_count": 281,
   "metadata": {
    "id": "hD91NZ6B5Lsc"
   },
   "outputs": [
    {
     "name": "stdout",
     "output_type": "stream",
     "text": [
      "Matriz de Confusão Regressão Logística:\n",
      "[[56778   747]\n",
      " [ 5161   734]]\n",
      "Verdadeiro Negativo: 56778\n",
      "Falso Positivo: 747\n",
      "Falso Negativo: 5161\n",
      "Verdadeiro Positivo: 734\n"
     ]
    }
   ],
   "source": [
    "#Matriz de confusão\n",
    "\n",
    "conf_matriz = confusion_matrix(y_test, y_pred)\n",
    "verdadeiro_negativo, falso_positivo, falso_negativo, verdadeiro_positivo = conf_matriz.ravel()\n",
    "\n",
    "print(\"Matriz de Confusão Regressão Logística:\")\n",
    "print(conf_matriz)\n",
    "print(\"Verdadeiro Negativo:\", verdadeiro_negativo)\n",
    "print(\"Falso Positivo:\", falso_positivo)\n",
    "print(\"Falso Negativo:\", falso_negativo)\n",
    "print(\"Verdadeiro Positivo:\", verdadeiro_positivo)"
   ]
  },
  {
   "cell_type": "code",
   "execution_count": 282,
   "metadata": {
    "scrolled": true
   },
   "outputs": [
    {
     "data": {
      "image/png": "[encoded data removed]",
      "text/plain": [
       "<Figure size 800x600 with 2 Axes>"
      ]
     },
     "metadata": {},
     "output_type": "display_data"
    }
   ],
   "source": [
    "plt.figure(figsize=(8, 6))\n",
    "sns.heatmap(conf_matriz, annot=True, fmt=\"d\", cmap=\"Blues\", square=True)\n",
    "plt.xlabel(\"Valores Preditos\")\n",
    "plt.ylabel(\"Valores Reais\")\n",
    "plt.title(\"Matriz de Confusão Regressão Logística\")\n",
    "plt.show()"
   ]
  },
  {
   "cell_type": "code",
   "execution_count": 284,
   "metadata": {},
   "outputs": [
    {
     "name": "stdout",
     "output_type": "stream",
     "text": [
      "O Score Precision do modelo é: 50%\n",
      "O Score Recall do modelo é: 12%\n"
     ]
    }
   ],
   "source": [
    "\n",
    "precision_rl = precision_score(y_test, y_pred)\n",
    "recall_rl = recall_score(y_test, y_pred)\n",
    "\n",
    "show_rl_pr = round(precision_rl * 100)\n",
    "show_rl_rc = round(recall_rl * 100)\n",
    "\n",
    "print(f\"O Score Precision do modelo é: {show_rl_pr}%\")\n",
    "print(f\"O Score Recall do modelo é: {show_rl_rc}%\")"
   ]
  },
  {
   "cell_type": "code",
   "execution_count": 288,
   "metadata": {
    "id": "4wRg8fEM5KuQ"
   },
   "outputs": [
    {
     "name": "stdout",
     "output_type": "stream",
     "text": [
      "O Log Loss do modelo é: 3.35770899121577\n"
     ]
    }
   ],
   "source": [
    "#Loss Function\n",
    "\n",
    "logloss1 = log_loss(y_test, y_pred)\n",
    "print(\"O Log Loss do modelo é:\", logloss1)"
   ]
  },
  {
   "cell_type": "markdown",
   "metadata": {
    "id": "HlK3yVl2QgEg"
   },
   "source": [
    "## Rede Neural"
   ]
  },
  {
   "cell_type": "code",
   "execution_count": 299,
   "metadata": {
    "id": "R7z0H0FoeIDO"
   },
   "outputs": [],
   "source": [
    "neural_network_model = MLPClassifier()\n",
    "neural_network_model.fit(X_train, y_train)\n",
    "\n",
    "y_pred_neural= neural_network_model.predict(X_test)\n"
   ]
  },
  {
   "cell_type": "markdown",
   "metadata": {
    "id": "Zv2mPrFLkNDp"
   },
   "source": [
    "### Avaliação"
   ]
  },
  {
   "cell_type": "code",
   "execution_count": 300,
   "metadata": {},
   "outputs": [
    {
     "name": "stdout",
     "output_type": "stream",
     "text": [
      "A acurácia do modelo é: 91%\n"
     ]
    }
   ],
   "source": [
    "#Acuracia\n",
    "\n",
    "acc_2 = accuracy_score(y_pred_neural, y_test)\n",
    "show2 = round(acc_2 * 100)\n",
    "print(f\"A acurácia do modelo é: {show2}%\")"
   ]
  },
  {
   "cell_type": "code",
   "execution_count": 307,
   "metadata": {
    "id": "gkEUQd_dkND0"
   },
   "outputs": [
    {
     "name": "stdout",
     "output_type": "stream",
     "text": [
      "O F1 Score  do modelo é: 17%\n"
     ]
    }
   ],
   "source": [
    "#F1-Score\n",
    "\n",
    "f1__neural = f1_score(y_test, y_pred_neural)\n",
    "showf1__neural = round(f1__neural * 100)\n",
    "print(f\"O F1 Score  do modelo é: {showf1__neural}%\")"
   ]
  },
  {
   "cell_type": "code",
   "execution_count": 308,
   "metadata": {},
   "outputs": [
    {
     "name": "stdout",
     "output_type": "stream",
     "text": [
      "Matriz de Confusão Rede Neural:\n",
      "[[56992   533]\n",
      " [ 5313   582]]\n",
      "Verdadeiro Negativo: 56992\n",
      "Falso Positivo: 533\n",
      "Falso Negativo: 5313\n",
      "Verdadeiro Positivo: 582\n"
     ]
    }
   ],
   "source": [
    "#Matriz de confusão\n",
    "\n",
    "conf_matriz_neural = confusion_matrix(y_test, y_pred_neural)\n",
    "verdadeiro_negativo_neural, falso_positivo_neural, falso_negativo_neural, verdadeiro_positivo_neural = conf_matriz_neural.ravel()\n",
    "\n",
    "print(\"Matriz de Confusão Rede Neural:\")\n",
    "print(conf_matriz_neural)\n",
    "print(\"Verdadeiro Negativo:\", verdadeiro_negativo_neural)\n",
    "print(\"Falso Positivo:\", falso_positivo_neural)\n",
    "print(\"Falso Negativo:\", falso_negativo_neural)\n",
    "print(\"Verdadeiro Positivo:\", verdadeiro_positivo_neural)"
   ]
  },
  {
   "cell_type": "code",
   "execution_count": 309,
   "metadata": {},
   "outputs": [
    {
     "data": {
      "image/png": "[encoded data removed]",
      "text/plain": [
       "<Figure size 800x600 with 2 Axes>"
      ]
     },
     "metadata": {},
     "output_type": "display_data"
    }
   ],
   "source": [
    "plt.figure(figsize=(8, 6))\n",
    "sns.heatmap(conf_matriz_neural, annot=True, fmt=\"d\", cmap=\"Blues\", square=True)\n",
    "plt.xlabel(\"Valores Preditos\")\n",
    "plt.ylabel(\"Valores Reais\")\n",
    "plt.title(\"Matriz de Confusão Rede Neural\")\n",
    "plt.show()"
   ]
  },
  {
   "cell_type": "code",
   "execution_count": 310,
   "metadata": {
    "id": "xL4ohIBKkND0"
   },
   "outputs": [
    {
     "name": "stdout",
     "output_type": "stream",
     "text": [
      "O Score Precision do modelo é: 52%\n",
      "O Score Recall do modelo é: 10%\n"
     ]
    }
   ],
   "source": [
    "\n",
    "precision_neural = precision_score(y_test, y_pred_neural)\n",
    "recall_neural = recall_score(y_test, y_pred_neural)\n",
    "\n",
    "show_neural_pr = round(precision_neural * 100)\n",
    "show_neural_rc = round(recall_neural * 100)\n",
    "\n",
    "print(f\"O Score Precision do modelo é: {show_neural_pr}%\")\n",
    "print(f\"O Score Recall do modelo é: {show_neural_rc}%\")"
   ]
  },
  {
   "cell_type": "code",
   "execution_count": 311,
   "metadata": {},
   "outputs": [
    {
     "name": "stdout",
     "output_type": "stream",
     "text": [
      "O Log Loss do modelo é: 3.3224723701163494\n"
     ]
    }
   ],
   "source": [
    "#Loss Function\n",
    "\n",
    "logloss_neural = log_loss(y_test, y_pred_neural)\n",
    "print(\"O Log Loss do modelo é:\", logloss_neural)"
   ]
  },
  {
   "cell_type": "markdown",
   "metadata": {
    "id": "s42F68rTirlQ"
   },
   "source": [
    "## Conclusão"
   ]
  },
  {
   "cell_type": "code",
   "execution_count": 312,
   "metadata": {
    "id": "XDzT3uspis6M"
   },
   "outputs": [
    {
     "name": "stdout",
     "output_type": "stream",
     "text": [
      "\n",
      "REGRESSÃO LOGÍSTICA:\n",
      "\n",
      "A acurácia é calculada a partir da divisão entre acertos (Verdadeiros Positivos + Verdadeiros Negativos) e o número total de dados no modelo. \n",
      "A acurácia da Regressão Logística no modelo foi de 91%, o que a princípio parece boa. Porém, esta é um dado global, que pouco me diz sobre os acertos e erros por classe.\n",
      "\n",
      "Para ver a variabilidade de acertos e erros de predição por classe, usa-se métricas como o Recall e o Precision que resultam no f1 score e a matriz de confusão.\n",
      "Iniciei então a avaliação pelo f1 score e caso fosse baixo, avaliaria em que ponto estaria o erro com as demais métricas.\n",
      "O cálculo do f1 score resultou em um valor de 0.20 que é portanto um valor baixo se comparado ao máximo de acertos que resultaria em f1 score de 1.\n",
      "\n",
      "Fiz então a matriz de confusão para avaliar onde está o erro e nela é possível verificar que o modelo está acertando muitos verdadeiros negativos (57.076) o que em relação ao total de dados 63.420 é bastante, justificando a boa acurácia,\n",
      "porém está acertando apenas 734 positivos, enquanto o total de positivos é de 5.895 (True positive + false negative).\n",
      "Neste caso, portanto, o Recall é uma métrica que precisa ser melhorada, pois o modelo está classificando muitos dados como negativos quando são positivos.\n",
      "\n",
      "\n",
      "O cálculo precision diz respeito a divisão do número total de verdadeiros positivos pelo número total de positivos previstos (verdadeiros positivos e falsos positivos).\n",
      "Por outro lado, o cálculo do recall diz respeito a divisão entre o número total de verdadeiros positivos pelo número total de positivos reais (verdadeiros positivos e falsos negativos).\n",
      "Portanto, a precisão diz a respeito a proporção de acertos em dados previstos como positivos (734/734+747 = 49%) e o recall diz respeito a proporção de acertos dentre os positivos reais (734/734+5161=12%).\n",
      "\n",
      "O modelo de Regressão Logística não parece estar underfitado, pois apresenta boa acurácia. Também não parece overfitado pois apresenta ainda muito erro. \n",
      "Porém a acurácia neste caso fala pouco. A métrica de precisão mostra que o modelo está acertando pouco menos da metade dos dados previstos como positivos\n",
      "e o recall mostra que o modelo só está classificando como positivos apenas 12% de todos os casos reais de Doença ou Ataque Cardíaco.\n",
      "----> RESUMO REGRESSÃO LOGÍSTICA:\n",
      "    A acurácia do modelo é: 91%\n",
      "    O F1 Score  do modelo é: 20%\n",
      "    O Score Precision do modelo é: 50%\n",
      "    O Score Recall do modelo é: 12%\n",
      "    O Log Loss do modelo é: 3.35770899121577    \n",
      "\n",
      "\n",
      "REDES NEURAIS:\n",
      "No modelo de Redes Neurais, o padrão é bastante semelhante como pode-se observar em:\n",
      "----> RESUMO REDES NEURAIS:\n",
      "    A acurácia do modelo é: 91%\n",
      "    O F1 Score  do modelo é: 17%\n",
      "    O Score Precision do modelo é: 52%\n",
      "    O Score Recall do modelo é: 10%\n",
      "    O Log Loss do modelo é: 3.3224723701163494 \n",
      "\n",
      "\n",
      "\n"
     ]
    }
   ],
   "source": [
    "conclusao = \"\"\"\n",
    "REGRESSÃO LOGÍSTICA:\n",
    "\n",
    "A acurácia é calculada a partir da divisão entre acertos (Verdadeiros Positivos + Verdadeiros Negativos) e o número total de dados no modelo. \n",
    "A acurácia da Regressão Logística no modelo foi de 91%, o que a princípio parece boa. Porém, esta é um dado global, que pouco me diz sobre os acertos e erros por classe.\n",
    "\n",
    "Para ver a variabilidade de acertos e erros de predição por classe, usa-se métricas como o Recall e o Precision que resultam no f1 score e a matriz de confusão.\n",
    "Iniciei então a avaliação pelo f1 score e caso fosse baixo, avaliaria em que ponto estaria o erro com as demais métricas.\n",
    "O cálculo do f1 score resultou em um valor de 0.20 que é portanto um valor baixo se comparado ao máximo de acertos que resultaria em f1 score de 1.\n",
    "\n",
    "Fiz então a matriz de confusão para avaliar onde está o erro e nela é possível verificar que o modelo está acertando muitos verdadeiros negativos (57.076) o que em relação ao total de dados 63.420 é bastante, justificando a boa acurácia,\n",
    "porém está acertando apenas 734 positivos, enquanto o total de positivos é de 5.895 (True positive + false negative).\n",
    "Neste caso, portanto, o Recall é uma métrica que precisa ser melhorada, pois o modelo está classificando muitos dados como negativos quando são positivos.\n",
    "\n",
    "\n",
    "O cálculo precision diz respeito a divisão do número total de verdadeiros positivos pelo número total de positivos previstos (verdadeiros positivos e falsos positivos).\n",
    "Por outro lado, o cálculo do recall diz respeito a divisão entre o número total de verdadeiros positivos pelo número total de positivos reais (verdadeiros positivos e falsos negativos).\n",
    "Portanto, a precisão diz a respeito a proporção de acertos em dados previstos como positivos (734/734+747 = 49%) e o recall diz respeito a proporção de acertos dentre os positivos reais (734/734+5161=12%).\n",
    "\n",
    "O modelo de Regressão Logística não parece estar underfitado, pois apresenta boa acurácia. Também não parece overfitado pois apresenta ainda muito erro. \n",
    "Porém a acurácia neste caso fala pouco. A métrica de precisão mostra que o modelo está acertando pouco menos da metade dos dados previstos como positivos\n",
    "e o recall mostra que o modelo só está classificando como positivos apenas 12% de todos os casos reais de Doença ou Ataque Cardíaco.\n",
    "----> RESUMO REGRESSÃO LOGÍSTICA:\n",
    "    A acurácia do modelo é: 91%\n",
    "    O F1 Score  do modelo é: 20%\n",
    "    O Score Precision do modelo é: 50%\n",
    "    O Score Recall do modelo é: 12%\n",
    "    O Log Loss do modelo é: 3.35770899121577    \n",
    "\n",
    "\n",
    "REDES NEURAIS:\n",
    "No modelo de Redes Neurais, o padrão é bastante semelhante como pode-se observar em:\n",
    "----> RESUMO REDES NEURAIS:\n",
    "    A acurácia do modelo é: 91%\n",
    "    O F1 Score  do modelo é: 17%\n",
    "    O Score Precision do modelo é: 52%\n",
    "    O Score Recall do modelo é: 10%\n",
    "    O Log Loss do modelo é: 3.3224723701163494 \n",
    "\n",
    "\n",
    "\"\"\"\n",
    "\n",
    "print(conclusao)"
   ]
  },
  {
   "cell_type": "markdown",
   "metadata": {
    "id": "2QsYYUsMkUX2"
   },
   "source": [
    "#**Questão 2: Raças de cachorro**\n",
    "\n",
    "\n"
   ]
  },
  {
   "cell_type": "markdown",
   "metadata": {
    "id": "DRCtt239kUYC"
   },
   "source": [
    "Use Acurácia, F1 Score, Matriz de confusão e Loss function para avaliar o desempenho do modelo."
   ]
  },
  {
   "cell_type": "markdown",
   "metadata": {
    "id": "YgsFOIDwkUYC"
   },
   "source": [
    "### Dataset (Não precisam mexer)"
   ]
  },
  {
   "cell_type": "code",
   "execution_count": 316,
   "metadata": {
    "id": "rvDx-OsckUYC"
   },
   "outputs": [],
   "source": [
    "dfe = pd.read_csv(\"DataSets/dogs.csv\")"
   ]
  },
  {
   "cell_type": "code",
   "execution_count": 335,
   "metadata": {},
   "outputs": [
    {
     "data": {
      "text/html": [
       "<div>\n",
       "<style scoped>\n",
       "    .dataframe tbody tr th:only-of-type {\n",
       "        vertical-align: middle;\n",
       "    }\n",
       "\n",
       "    .dataframe tbody tr th {\n",
       "        vertical-align: top;\n",
       "    }\n",
       "\n",
       "    .dataframe thead th {\n",
       "        text-align: right;\n",
       "    }\n",
       "</style>\n",
       "<table border=\"1\" class=\"dataframe\">\n",
       "  <thead>\n",
       "    <tr style=\"text-align: right;\">\n",
       "      <th></th>\n",
       "      <th>group</th>\n",
       "      <th>popularity</th>\n",
       "      <th>grooming_frequency_value</th>\n",
       "      <th>shedding_value</th>\n",
       "      <th>energy_level_value</th>\n",
       "      <th>trainability_value</th>\n",
       "      <th>demeanor_value</th>\n",
       "      <th>average_height</th>\n",
       "      <th>average_expectancy</th>\n",
       "    </tr>\n",
       "  </thead>\n",
       "  <tbody>\n",
       "    <tr>\n",
       "      <th>0</th>\n",
       "      <td>Toy Group</td>\n",
       "      <td>0.230366</td>\n",
       "      <td>0.50</td>\n",
       "      <td>0.50</td>\n",
       "      <td>0.50</td>\n",
       "      <td>0.75</td>\n",
       "      <td>1.00</td>\n",
       "      <td>0.15</td>\n",
       "      <td>0.794118</td>\n",
       "    </tr>\n",
       "    <tr>\n",
       "      <th>1</th>\n",
       "      <td>Hound Group</td>\n",
       "      <td>0.413613</td>\n",
       "      <td>0.75</td>\n",
       "      <td>0.00</td>\n",
       "      <td>0.75</td>\n",
       "      <td>0.00</td>\n",
       "      <td>0.00</td>\n",
       "      <td>0.78</td>\n",
       "      <td>0.794118</td>\n",
       "    </tr>\n",
       "    <tr>\n",
       "      <th>2</th>\n",
       "      <td>Terrier Group</td>\n",
       "      <td>0.691099</td>\n",
       "      <td>0.50</td>\n",
       "      <td>0.25</td>\n",
       "      <td>0.50</td>\n",
       "      <td>1.00</td>\n",
       "      <td>0.75</td>\n",
       "      <td>0.66</td>\n",
       "      <td>0.735294</td>\n",
       "    </tr>\n",
       "    <tr>\n",
       "      <th>3</th>\n",
       "      <td>Working Group</td>\n",
       "      <td>0.759162</td>\n",
       "      <td>0.75</td>\n",
       "      <td>0.50</td>\n",
       "      <td>0.75</td>\n",
       "      <td>1.00</td>\n",
       "      <td>0.50</td>\n",
       "      <td>0.78</td>\n",
       "      <td>0.676471</td>\n",
       "    </tr>\n",
       "    <tr>\n",
       "      <th>4</th>\n",
       "      <td>Working Group</td>\n",
       "      <td>0.701571</td>\n",
       "      <td>0.50</td>\n",
       "      <td>0.50</td>\n",
       "      <td>0.75</td>\n",
       "      <td>0.25</td>\n",
       "      <td>0.75</td>\n",
       "      <td>0.70</td>\n",
       "      <td>0.705882</td>\n",
       "    </tr>\n",
       "  </tbody>\n",
       "</table>\n",
       "</div>"
      ],
      "text/plain": [
       "           group  popularity  grooming_frequency_value  shedding_value  \\\n",
       "0      Toy Group    0.230366                      0.50            0.50   \n",
       "1    Hound Group    0.413613                      0.75            0.00   \n",
       "2  Terrier Group    0.691099                      0.50            0.25   \n",
       "3  Working Group    0.759162                      0.75            0.50   \n",
       "4  Working Group    0.701571                      0.50            0.50   \n",
       "\n",
       "   energy_level_value  trainability_value  demeanor_value  average_height  \\\n",
       "0                0.50                0.75            1.00            0.15   \n",
       "1                0.75                0.00            0.00            0.78   \n",
       "2                0.50                1.00            0.75            0.66   \n",
       "3                0.75                1.00            0.50            0.78   \n",
       "4                0.75                0.25            0.75            0.70   \n",
       "\n",
       "   average_expectancy  \n",
       "0            0.794118  \n",
       "1            0.794118  \n",
       "2            0.735294  \n",
       "3            0.676471  \n",
       "4            0.705882  "
      ]
     },
     "execution_count": 335,
     "metadata": {},
     "output_type": "execute_result"
    }
   ],
   "source": [
    "dfe.head()"
   ]
  },
  {
   "cell_type": "code",
   "execution_count": 336,
   "metadata": {},
   "outputs": [
    {
     "data": {
      "text/plain": [
       "<bound method NDFrame.describe of                         group  popularity  grooming_frequency_value  \\\n",
       "0                   Toy Group    0.230366                      0.50   \n",
       "1                 Hound Group    0.413613                      0.75   \n",
       "2               Terrier Group    0.691099                      0.50   \n",
       "3               Working Group    0.759162                      0.75   \n",
       "4               Working Group    0.701571                      0.50   \n",
       "..                        ...         ...                       ...   \n",
       "272            Sporting Group    0.130890                      0.00   \n",
       "273  Foundation Stock Service    0.503745                      0.00   \n",
       "274        Non-Sporting Group    0.272251                      0.00   \n",
       "275  Foundation Stock Service    0.503745                      0.25   \n",
       "276                 Toy Group    0.952880                      1.00   \n",
       "\n",
       "     shedding_value  energy_level_value  trainability_value  demeanor_value  \\\n",
       "0              0.50                0.50                0.75            1.00   \n",
       "1              0.00                0.75                0.00            0.00   \n",
       "2              0.25                0.50                1.00            0.75   \n",
       "3              0.50                0.75                1.00            0.50   \n",
       "4              0.50                0.75                0.25            0.75   \n",
       "..              ...                 ...                 ...             ...   \n",
       "272            0.50                0.75                0.50            0.50   \n",
       "273            0.50                0.75                0.25            0.50   \n",
       "274            0.00                0.75                0.50            0.50   \n",
       "275            0.50                0.75                0.00            0.25   \n",
       "276            0.00                0.50                0.00            0.75   \n",
       "\n",
       "     average_height  average_expectancy  \n",
       "0              0.15            0.794118  \n",
       "1              0.78            0.794118  \n",
       "2              0.66            0.735294  \n",
       "3              0.78            0.676471  \n",
       "4              0.70            0.705882  \n",
       "..              ...                 ...  \n",
       "272            0.67            0.764706  \n",
       "273            0.62            0.794118  \n",
       "274            0.40            0.911765  \n",
       "275            0.62            0.647059  \n",
       "276            0.04            0.764706  \n",
       "\n",
       "[277 rows x 9 columns]>"
      ]
     },
     "execution_count": 336,
     "metadata": {},
     "output_type": "execute_result"
    }
   ],
   "source": [
    "dfe.describe"
   ]
  },
  {
   "cell_type": "code",
   "execution_count": 338,
   "metadata": {},
   "outputs": [
    {
     "data": {
      "text/plain": [
       "group\n",
       "Foundation Stock Service    68\n",
       "Hound Group                 32\n",
       "Sporting Group              32\n",
       "Terrier Group               31\n",
       "Working Group               31\n",
       "Herding Group               30\n",
       "Toy Group                   21\n",
       "Non-Sporting Group          21\n",
       "Miscellaneous Class         11\n",
       "Name: count, dtype: int64"
      ]
     },
     "execution_count": 338,
     "metadata": {},
     "output_type": "execute_result"
    }
   ],
   "source": [
    "grupos = df[\"group\"].value_counts()\n",
    "grupos"
   ]
  },
  {
   "cell_type": "code",
   "execution_count": 317,
   "metadata": {
    "id": "8e7_OowrkUYC"
   },
   "outputs": [],
   "source": [
    "\n",
    "X_train_dog, X_test_dog, y_train_dog, y_test_dog = train_test_split(dfe.drop(\"group\", axis=1), dfe[\"group\"], test_size=0.25, random_state=42)\n",
    "\n"
   ]
  },
  {
   "cell_type": "markdown",
   "metadata": {
    "id": "e4r2EmTJkUYD"
   },
   "source": [
    "## Nayve Bayes"
   ]
  },
  {
   "cell_type": "code",
   "execution_count": 318,
   "metadata": {
    "id": "C99ERFDgkUYD"
   },
   "outputs": [],
   "source": [
    "from sklearn.naive_bayes import GaussianNB #nb normal (sem ser gaussiano)\n",
    "from sklearn.metrics import accuracy_score, confusion_matrix, precision_score, recall_score, ConfusionMatrixDisplay\n",
    "\n",
    "model = GaussianNB()\n",
    "\n",
    "model.fit(X_train_dog, y_train_dog)\n",
    "predicted = model.predict(X_test_dog)\n"
   ]
  },
  {
   "cell_type": "markdown",
   "metadata": {
    "id": "BUQ5D0LGkUYD"
   },
   "source": [
    "### Avaliação"
   ]
  },
  {
   "cell_type": "code",
   "execution_count": 319,
   "metadata": {
    "id": "PGtEB2rdkUYD"
   },
   "outputs": [
    {
     "name": "stdout",
     "output_type": "stream",
     "text": [
      "A acurácia do modelo é: 54%\n"
     ]
    }
   ],
   "source": [
    "#Acuracia\n",
    "\n",
    "acc_3 = accuracy_score(predicted, y_test_dog)\n",
    "show3 = round(acc_3 * 100)\n",
    "print(f\"A acurácia do modelo é: {show3}%\")"
   ]
  },
  {
   "cell_type": "code",
   "execution_count": 324,
   "metadata": {
    "id": "9J7H7QnCkUYD"
   },
   "outputs": [
    {
     "name": "stdout",
     "output_type": "stream",
     "text": [
      "O F1 Score  do modelo é: 52%\n"
     ]
    }
   ],
   "source": [
    "\n",
    "#F1-Score\n",
    "\n",
    "# o average especifica como as métricas devem ser calculadas\n",
    "# f1 score sem especificação faz classificações binárias\n",
    "# posso especificar o f1 score como *MICRO* e ele vai calcular recall, precision e f1 dos valores globais de verdadeiros e falsos positivos e falsos negativos\n",
    "# f1 score *MICRO* da mais peso a classes com mais dados\n",
    "# f1 score *MACRO* faz a métrica de cada classe atribuindo pesos iguais. É útil quando todas as classes são igualmente importantes.\n",
    "#f1 score *WEIGHTED* faz a média ponderada\n",
    "f1_3 = f1_score(y_test_dog, predicted, average='weighted')\n",
    "showf1__nb = round(f1_3 * 100)\n",
    "print(f\"O F1 Score  do modelo é: {showf1__nb}%\")\n"
   ]
  },
  {
   "cell_type": "code",
   "execution_count": 325,
   "metadata": {},
   "outputs": [
    {
     "name": "stdout",
     "output_type": "stream",
     "text": [
      "Matriz de Confusão Navye Bayes:\n",
      "[[16  0  0  1  0  0  0  0  0]\n",
      " [ 0  2  0  0  1  4  1  0  2]\n",
      " [ 0  0  6  0  1  1  2  0  1]\n",
      " [ 2  0  0  0  0  0  0  0  0]\n",
      " [ 0  1  0  0  1  0  1  2  0]\n",
      " [ 0  1  2  0  0  2  0  0  1]\n",
      " [ 0  0  1  0  0  0  4  1  0]\n",
      " [ 0  0  1  0  1  0  3  3  0]\n",
      " [ 0  0  1  0  0  0  0  0  4]]\n"
     ]
    }
   ],
   "source": [
    "\n",
    "#Matriz de confusão\n",
    "\n",
    "conf_matriz_3 = confusion_matrix(y_test_dog, predicted)\n",
    "\n",
    "print(\"Matriz de Confusão Navye Bayes:\")\n",
    "print(conf_matriz_3)\n"
   ]
  },
  {
   "cell_type": "code",
   "execution_count": 326,
   "metadata": {},
   "outputs": [
    {
     "data": {
      "image/png": "[encoded data removed]",
      "text/plain": [
       "<Figure size 800x600 with 2 Axes>"
      ]
     },
     "metadata": {},
     "output_type": "display_data"
    }
   ],
   "source": [
    "plt.figure(figsize=(8, 6))\n",
    "sns.heatmap(conf_matriz_3, annot=True, fmt=\"d\", cmap=\"Blues\", square=True)\n",
    "plt.xlabel(\"Valores Preditos\")\n",
    "plt.ylabel(\"Valores Reais\")\n",
    "plt.title(\"Matriz de Confusão Navye Bayes\")\n",
    "plt.show()"
   ]
  },
  {
   "cell_type": "code",
   "execution_count": 330,
   "metadata": {},
   "outputs": [
    {
     "name": "stdout",
     "output_type": "stream",
     "text": [
      "O Score Precision do modelo é: 54%\n",
      "O Score Recall do modelo é: 54%\n"
     ]
    }
   ],
   "source": [
    "\n",
    "precision_navye = precision_score(y_test_dog, predicted, average='weighted')\n",
    "recall_navye = recall_score(y_test_dog, predicted, average='weighted')\n",
    "\n",
    "show_navye_pr = round(precision_navye * 100)\n",
    "show_navye_rc = round(recall_navye * 100)\n",
    "\n",
    "print(f\"O Score Precision do modelo é: {show_navye_pr}%\")\n",
    "print(f\"O Score Recall do modelo é: {show_navye_rc}%\")"
   ]
  },
  {
   "cell_type": "markdown",
   "metadata": {
    "id": "w3KFhDEZkUYD"
   },
   "source": [
    "## Multi-Layer Perceptron"
   ]
  },
  {
   "cell_type": "code",
   "execution_count": 339,
   "metadata": {
    "id": "r-56tfHjkUYD"
   },
   "outputs": [],
   "source": [
    "from sklearn.neural_network import MLPClassifier\n",
    "clf = MLPClassifier(random_state=42, max_iter=1000).fit(X_train_dog, y_train_dog)\n",
    "\n",
    "predicted_clf = clf.predict(X_test_dog)\n"
   ]
  },
  {
   "cell_type": "markdown",
   "metadata": {
    "id": "9CHY2ZwekUYD"
   },
   "source": [
    "### Avaliação"
   ]
  },
  {
   "cell_type": "code",
   "execution_count": 340,
   "metadata": {
    "id": "Sols5QDskUYD"
   },
   "outputs": [
    {
     "name": "stdout",
     "output_type": "stream",
     "text": [
      "A acurácia do modelo é: 36%\n"
     ]
    }
   ],
   "source": [
    "#Acuracia\n",
    "\n",
    "acc_4 = accuracy_score(predicted_clf, y_test_dog)\n",
    "show4 = round(acc_4 * 100)\n",
    "print(f\"A acurácia do modelo é: {show4}%\")"
   ]
  },
  {
   "cell_type": "code",
   "execution_count": 341,
   "metadata": {
    "id": "INVF2rUhkUYD"
   },
   "outputs": [
    {
     "name": "stdout",
     "output_type": "stream",
     "text": [
      "O F1 Score  do modelo é: 31%\n"
     ]
    }
   ],
   "source": [
    "\n",
    "#F1-Score\n",
    "\n",
    "f1_4 = f1_score(y_test_dog, predicted_clf, average='weighted')\n",
    "show_percep = round(f1_4 * 100)\n",
    "print(f\"O F1 Score  do modelo é: {show_percep}%\")\n"
   ]
  },
  {
   "cell_type": "code",
   "execution_count": 342,
   "metadata": {},
   "outputs": [
    {
     "name": "stdout",
     "output_type": "stream",
     "text": [
      "Matriz de Confusão Multi-Layer Perceptrons:\n",
      "[[9 0 2 0 0 3 1 0 2]\n",
      " [1 0 1 0 0 4 1 0 3]\n",
      " [3 0 5 0 0 1 0 1 1]\n",
      " [0 0 0 0 0 2 0 0 0]\n",
      " [0 0 0 0 0 0 4 1 0]\n",
      " [3 0 1 0 0 1 0 0 1]\n",
      " [1 0 0 0 0 0 5 0 0]\n",
      " [1 0 0 0 0 0 5 2 0]\n",
      " [0 0 1 0 0 1 0 0 3]]\n"
     ]
    }
   ],
   "source": [
    "\n",
    "#Matriz de confusão\n",
    "\n",
    "conf_matriz_4 = confusion_matrix(y_test_dog, predicted_clf)\n",
    "\n",
    "print(\"Matriz de Confusão Multi-Layer Perceptrons:\")\n",
    "print(conf_matriz_4)\n"
   ]
  },
  {
   "cell_type": "code",
   "execution_count": 343,
   "metadata": {},
   "outputs": [
    {
     "data": {
      "image/png": "[encoded data removed]",
      "text/plain": [
       "<Figure size 800x600 with 2 Axes>"
      ]
     },
     "metadata": {},
     "output_type": "display_data"
    }
   ],
   "source": [
    "plt.figure(figsize=(8, 6))\n",
    "sns.heatmap(conf_matriz_4, annot=True, fmt=\"d\", cmap=\"Blues\", square=True)\n",
    "plt.xlabel(\"Valores Preditos\")\n",
    "plt.ylabel(\"Valores Reais\")\n",
    "plt.title(\"Matriz de Confusão Multi-Layer Perceptrons\")\n",
    "plt.show()"
   ]
  },
  {
   "cell_type": "code",
   "execution_count": 344,
   "metadata": {},
   "outputs": [
    {
     "name": "stdout",
     "output_type": "stream",
     "text": [
      "O Score Precision do modelo é: 31%\n",
      "O Score Recall do modelo é: 36%\n"
     ]
    }
   ],
   "source": [
    "\n",
    "precision_percep = precision_score(y_test_dog, predicted_clf, average='weighted')\n",
    "recall_percep = recall_score(y_test_dog, predicted_clf, average='weighted')\n",
    "\n",
    "show_percep_pr = round(precision_percep * 100)\n",
    "show_percep_rc = round(recall_percep * 100)\n",
    "\n",
    "print(f\"O Score Precision do modelo é: {show_percep_pr}%\")\n",
    "print(f\"O Score Recall do modelo é: {show_percep_rc}%\")"
   ]
  },
  {
   "cell_type": "markdown",
   "metadata": {
    "id": "GDni4cljkUYD"
   },
   "source": [
    "## Conclusão"
   ]
  },
  {
   "cell_type": "code",
   "execution_count": 345,
   "metadata": {
    "id": "1fD33vkVkUYD"
   },
   "outputs": [
    {
     "name": "stdout",
     "output_type": "stream",
     "text": [
      "\n",
      "Ambos os modelos parecem underfitados e com métricas baixas em que qualquer acerto parece ao acaso, porém o Navye Bayes está um pouco melhor que o Multi-Layer Perceptron.\n",
      "Em ambos os modelos a acurácia está baixa e o f1 score apresenta valores intermediários (especialmente no Navye Bayes) o que mostra algum equilíbrio entre Recall e Precision,\n",
      "conforme certificado no cálculo destas métricas, apesar da baixa acurácia global de ambos os modelos.\n",
      "----> RESUMO NAVYE BAYES:\n",
      "    A acurácia do modelo é: 54%\n",
      "    O F1 Score  do modelo é: 52%\n",
      "    O Score Precision do modelo é: 54%\n",
      "    O Score Recall do modelo é: 54%\n",
      "\n",
      "----> RESUMO MULTI-LAYER PERCEPTRONS:\n",
      "    A acurácia do modelo é: 36%\n",
      "    O F1 Score  do modelo é: 31%\n",
      "    O Score Precision do modelo é: 31%\n",
      "    O Score Recall do modelo é: 36%\n",
      "\n"
     ]
    }
   ],
   "source": [
    "conclusao = \"\"\"\n",
    "Ambos os modelos parecem underfitados e com métricas baixas em que qualquer acerto parece ao acaso, porém o Navye Bayes está um pouco melhor que o Multi-Layer Perceptron.\n",
    "Em ambos os modelos a acurácia está baixa e o f1 score apresenta valores intermediários (especialmente no Navye Bayes) o que mostra algum equilíbrio entre Recall e Precision,\n",
    "conforme certificado no cálculo destas métricas, apesar da baixa acurácia global de ambos os modelos.\n",
    "----> RESUMO NAVYE BAYES:\n",
    "    A acurácia do modelo é: 54%\n",
    "    O F1 Score  do modelo é: 52%\n",
    "    O Score Precision do modelo é: 54%\n",
    "    O Score Recall do modelo é: 54%\n",
    "\n",
    "----> RESUMO MULTI-LAYER PERCEPTRONS:\n",
    "    A acurácia do modelo é: 36%\n",
    "    O F1 Score  do modelo é: 31%\n",
    "    O Score Precision do modelo é: 31%\n",
    "    O Score Recall do modelo é: 36%\n",
    "\"\"\"\n",
    "\n",
    "print(conclusao)"
   ]
  }
 ],
 "metadata": {
  "colab": {
   "provenance": []
  },
  "kernelspec": {
   "display_name": "Python 3 (ipykernel)",
   "language": "python",
   "name": "python3"
  },
  "language_info": {
   "codemirror_mode": {
    "name": "ipython",
    "version": 3
   },
   "file_extension": ".py",
   "mimetype": "text/x-python",
   "name": "python",
   "nbconvert_exporter": "python",
   "pygments_lexer": "ipython3",
   "version": "3.11.7"
  }
 },
 "nbformat": 4,
 "nbformat_minor": 4
}
