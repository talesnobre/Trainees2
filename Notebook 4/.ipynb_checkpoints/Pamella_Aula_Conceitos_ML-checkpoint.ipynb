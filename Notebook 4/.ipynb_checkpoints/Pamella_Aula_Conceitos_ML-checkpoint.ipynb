{
  "nbformat": 4,
  "nbformat_minor": 0,
  "metadata": {
    "colab": {
      "provenance": []
    },
    "kernelspec": {
      "name": "python3",
      "display_name": "Python 3"
    },
    "language_info": {
      "name": "python"
    }
  },
  "cells": [
    {
      "cell_type": "markdown",
      "metadata": {
        "id": "bhRj3mZjtrKe"
      },
      "source": [
        "<a href=\"TAIL\"><img src=\"https://i.imgur.com/GRTE0OG.png\" width=\"150\" title=\"Tail Logo\" /></a>\n",
        "\n",
        "# <font color =\"#00b8ff\">Exercícios de Aprendizagem de Máquina</font>"
      ]
    },
    {
      "cell_type": "markdown",
      "source": [
        " Essa lista de exercícios foi criada para que vocês possam aplicar os conhecimentos que vocês adquiriram na aula que assistiram.\n",
        "\n",
        "Podem tirar dúvidas com **Tales Nobre** e **Felipe Duarte** quando quiserem!\n",
        "**O prazo de envio do notebook é até a reunião da próxima semana, até 1 hora antes da reunião, podem enviar colocar o conteúdo na branch de vocês do repositório**\n"
      ],
      "metadata": {
        "id": "Inzl1VqG2oqC"
      }
    },
    {
      "cell_type": "markdown",
      "source": [
        "\n",
        "🌍 [Link do drive com o Dataset](https://drive.google.com/drive/folders/1xi7m5gzJflujzoDvkPMkRO28SlR4139n?usp=sharing)\n"
      ],
      "metadata": {
        "id": "ahOuHhFSAQpx"
      }
    },
    {
      "cell_type": "markdown",
      "source": [
        "###**Objetivos**"
      ],
      "metadata": {
        "id": "l2Cd0nSn60g-"
      }
    },
    {
      "cell_type": "markdown",
      "source": [
        "\n",
        "*   Entender o nível de conhecimento individual de vocês\n",
        "*   Estimular vocês a praticarem as formas básicas de avaliar um modelo\n"
      ],
      "metadata": {
        "id": "C5BveViG63G6"
      }
    },
    {
      "cell_type": "markdown",
      "source": [
        "##**Observações**"
      ],
      "metadata": {
        "id": "N3EBzvz672i1"
      }
    },
    {
      "cell_type": "markdown",
      "source": [
        "\n",
        "\n",
        "*   Façam uma cópia desse notebook e realizem as questões.\n",
        "*   Foquem no espaço de *Conclusões*, que aparece no final de cada questão, para explicar as conclusões que vocês chegaram a partir da análise de dados.\n",
        "*   É recomendável que vocês acessem os materiais de apoio que serão disponibilizados em seguida.\n",
        "*   Prezem pela organização, é muito importante explicar cada etapa de execução, principalmente no contexto de análise de dados.\n",
        "*   Claro que vocês não vão precisam importar várias vezes as bibliotecas dentro de um mesmo notebook, mas por fins educativos é recomendado que vocês façam isso nessa lista de exercícios!\n",
        "*   As questões são progressivas, ou seja, a quantidade de instruções e o nível de dificuldade mudarão ao longo da lista. **Lembre-se de manter o mesmo padrão em todas as questões.**\n",
        "*  Divida em quantas células e caixas de texto quiser, afim de deixar a legibilidade do código a melhor possível.\n",
        "\n"
      ],
      "metadata": {
        "id": "cTGz2NpI75IP"
      }
    },
    {
      "cell_type": "markdown",
      "source": [
        "🐼 Material de apoio:\n",
        "\n",
        "Repositório de apoio:\n",
        "*   [Repositório do Github](https://github.com/talesnobre/miniproject_ML/blob/main/models.py)\n",
        "\n",
        "Matriz de Confusão:\n",
        "*   [O que é?](https://towardsdatascience.com/understanding-confusion-matrix-a9ad42dcfd62)\n",
        "*   [SKlearn](https://scikit-learn.org/stable/modules/generated/sklearn.metrics.confusion_matrix.html)\n",
        "\n",
        "\n",
        "F1 Score (Acurácia, Precisão e Recall):\n",
        "*   [O que é?](https://medium.com/@mateuspdua/machine-learning-m%C3%A9tricas-de-avalia%C3%A7%C3%A3o-acur%C3%A1cia-precis%C3%A3o-e-recall-d44c72307959)\n",
        "*   [SKlearn](https://scikit-learn.org/stable/modules/generated/sklearn.metrics.f1_score.html)\n",
        "\n",
        "Loss Function:\n",
        "*   [O que é?](https://www.datarobot.com/blog/introduction-to-loss-functions/#:~:text=At%20its%20core%2C%20a%20loss,ll%20output%20a%20lower%20number.)\n",
        "*   [SKlearn](https://scikit-learn.org/stable/modules/generated/sklearn.metrics.log_loss.html)\n"
      ],
      "metadata": {
        "id": "VS8cCdvE8i7I"
      }
    },
    {
      "cell_type": "markdown",
      "source": [
        "Lembrem-se, a prática leva à perfeição!🧠"
      ],
      "metadata": {
        "id": "5vyNVu3k7O8F"
      }
    },
    {
      "cell_type": "markdown",
      "source": [
        "#**Questão 1: Doenças Cardíacas**\n",
        "\n",
        "\n"
      ],
      "metadata": {
        "id": "eXtn9fhbmPtu"
      }
    },
    {
      "cell_type": "markdown",
      "source": [
        "Use Acurácia, F1 Score, Matriz de confusão e Loss function para avaliar o desempenho do modelo."
      ],
      "metadata": {
        "id": "tc6GOexMiYvp"
      }
    },
    {
      "cell_type": "markdown",
      "source": [
        "## Dataset (Não precisam mexer)"
      ],
      "metadata": {
        "id": "1gfrxermkED9"
      }
    },
    {
      "cell_type": "code",
      "source": [
        "import time\n",
        "import pandas as pd\n",
        "import numpy as np\n",
        "import scipy as sp\n",
        "import scipy.stats as stats\n",
        "import matplotlib.pyplot as plt\n",
        "import seaborn as sns\n",
        "import sklearn\n",
        "import sklearn.model_selection\n",
        "from sklearn.preprocessing import LabelEncoder\n",
        "from sklearn.manifold import TSNE\n",
        "\n",
        "\n",
        "# evalue measures\n",
        "from sklearn.metrics import f1_score\n",
        "from sklearn.metrics import accuracy_score\n",
        "from sklearn.metrics import precision_score\n",
        "from sklearn.metrics import recall_score\n",
        "from sklearn.metrics import confusion_matrix\n",
        "from sklearn.metrics import classification_report\n",
        "from sklearn.model_selection import train_test_split\n",
        "\n",
        "from sklearn.neighbors import KNeighborsClassifier\n",
        "from sklearn.linear_model import LogisticRegression\n",
        "from sklearn.tree import DecisionTreeClassifier\n",
        "from sklearn.ensemble import RandomForestClassifier\n",
        "from sklearn.svm import SVC\n",
        "from sklearn.ensemble import GradientBoostingClassifier\n",
        "import xgboost as xgb\n",
        "import lightgbm as lgbm\n",
        "from sklearn.neural_network import MLPClassifier\n",
        "from sklearn.ensemble import RandomForestClassifier\n",
        "from sklearn.ensemble import ExtraTreesClassifier\n",
        "from sklearn.ensemble import AdaBoostClassifier\n",
        "from sklearn.discriminant_analysis import LinearDiscriminantAnalysis\n",
        "from sklearn.discriminant_analysis import QuadraticDiscriminantAnalysis\n",
        "from sklearn.naive_bayes import GaussianNB\n",
        "from sklearn.linear_model import SGDClassifier\n",
        "from catboost import CatBoostClassifier\n",
        "\n",
        "import seaborn as sns\n",
        "sns.set_style(\"darkgrid\")\n",
        "\n",
        "import warnings\n",
        "warnings.filterwarnings(\"ignore\")\n",
        "\n",
        "print('Completed.')"
      ],
      "metadata": {
        "colab": {
          "base_uri": "https://localhost:8080/"
        },
        "id": "SgaUXJ10PM1s",
        "outputId": "7117c30c-2c12-4889-a537-8afb0f850b9f"
      },
      "execution_count": null,
      "outputs": [
        {
          "output_type": "stream",
          "name": "stdout",
          "text": [
            "Completed.\n"
          ]
        }
      ]
    },
    {
      "cell_type": "code",
      "source": [
        "df = pd.read_csv(\"local-do-csv-heart\")"
      ],
      "metadata": {
        "id": "iKQ6PmKbnAoU"
      },
      "execution_count": null,
      "outputs": []
    },
    {
      "cell_type": "code",
      "source": [
        "df.dropna(inplace=True)"
      ],
      "metadata": {
        "id": "9P4WC2wlQHP3"
      },
      "execution_count": null,
      "outputs": []
    },
    {
      "cell_type": "code",
      "source": [
        "X = df.iloc[:, 1:].values\n",
        "y = df.iloc[:, 0].values\n"
      ],
      "metadata": {
        "id": "Tvc6Fw37PqZk"
      },
      "execution_count": null,
      "outputs": []
    },
    {
      "cell_type": "code",
      "source": [
        "label_encoder = LabelEncoder()\n",
        "y = label_encoder.fit_transform(y) # convert each label in the original dataset to the unique integer\n",
        "y"
      ],
      "metadata": {
        "colab": {
          "base_uri": "https://localhost:8080/"
        },
        "id": "7rV86weIPyD2",
        "outputId": "2fcb4a11-de52-4079-ada1-74edbe3b2b22"
      },
      "execution_count": null,
      "outputs": [
        {
          "output_type": "execute_result",
          "data": {
            "text/plain": [
              "array([0, 0, 0, ..., 0, 0, 0])"
            ]
          },
          "metadata": {},
          "execution_count": 6
        }
      ]
    },
    {
      "cell_type": "code",
      "source": [
        "X_train, X_test, y_train, y_test = train_test_split(X, y, test_size=0.25, random_state=110)\n",
        "\n",
        "print('X_train: ', X_train.shape)\n",
        "print('y_train: ', y_train.shape)\n",
        "print('---')\n",
        "print('X_test: ', X_test.shape)\n",
        "print('y_test: ', y_test.shape)"
      ],
      "metadata": {
        "colab": {
          "base_uri": "https://localhost:8080/"
        },
        "id": "-gUgryEiP5Ui",
        "outputId": "632fefe1-9dfb-49a6-e271-226f8d067353"
      },
      "execution_count": null,
      "outputs": [
        {
          "output_type": "stream",
          "name": "stdout",
          "text": [
            "X_train:  (131609, 21)\n",
            "y_train:  (131609,)\n",
            "---\n",
            "X_test:  (43870, 21)\n",
            "y_test:  (43870,)\n"
          ]
        }
      ]
    },
    {
      "cell_type": "markdown",
      "source": [
        "## Regresão Logística"
      ],
      "metadata": {
        "id": "VZ3EcRHrQdca"
      }
    },
    {
      "cell_type": "code",
      "source": [
        "logistic_model = LogisticRegression()\n",
        "logistic_model.fit(X_train, y_train)\n",
        "\n",
        "y_pred = logistic_model.predict(X_test)\n"
      ],
      "metadata": {
        "id": "ROcbtYLfQAFX"
      },
      "execution_count": null,
      "outputs": []
    },
    {
      "cell_type": "markdown",
      "source": [
        "### Avaliação"
      ],
      "metadata": {
        "id": "vYoJFNZqkIFc"
      }
    },
    {
      "cell_type": "code",
      "source": [
        "#Acurácia simples"
      ],
      "metadata": {
        "id": "nRPfayr5kK0l"
      },
      "execution_count": null,
      "outputs": []
    },
    {
      "cell_type": "code",
      "source": [
        "#F1-Score"
      ],
      "metadata": {
        "id": "7ObG9PepkLGR"
      },
      "execution_count": null,
      "outputs": []
    },
    {
      "cell_type": "code",
      "source": [
        "#Loss Function"
      ],
      "metadata": {
        "id": "4wRg8fEM5KuQ"
      },
      "execution_count": null,
      "outputs": []
    },
    {
      "cell_type": "code",
      "source": [
        "#Matriz de confusão"
      ],
      "metadata": {
        "id": "hD91NZ6B5Lsc"
      },
      "execution_count": null,
      "outputs": []
    },
    {
      "cell_type": "markdown",
      "source": [
        "## Rede Neural"
      ],
      "metadata": {
        "id": "HlK3yVl2QgEg"
      }
    },
    {
      "cell_type": "code",
      "source": [
        "neural_network_model = MLPClassifier()\n",
        "neural_network_model.fit(X_train, y_train)\n",
        "\n",
        "y_pred = neural_network_model.predict(X_test)\n"
      ],
      "metadata": {
        "id": "R7z0H0FoeIDO"
      },
      "execution_count": null,
      "outputs": []
    },
    {
      "cell_type": "markdown",
      "source": [
        "### Avaliação"
      ],
      "metadata": {
        "id": "Zv2mPrFLkNDp"
      }
    },
    {
      "cell_type": "code",
      "source": [],
      "metadata": {
        "id": "gkEUQd_dkND0"
      },
      "execution_count": null,
      "outputs": []
    },
    {
      "cell_type": "code",
      "source": [],
      "metadata": {
        "id": "xL4ohIBKkND0"
      },
      "execution_count": null,
      "outputs": []
    },
    {
      "cell_type": "markdown",
      "source": [
        "## Conclusão"
      ],
      "metadata": {
        "id": "s42F68rTirlQ"
      }
    },
    {
      "cell_type": "code",
      "source": [
        "conclusao = \"\"\"\n",
        "escreva sua conclusão aqui\n",
        "\"\"\"\n",
        "\n",
        "print(conclusao)"
      ],
      "metadata": {
        "id": "XDzT3uspis6M"
      },
      "execution_count": null,
      "outputs": []
    },
    {
      "cell_type": "markdown",
      "source": [
        "#**Questão 2: Raças de cachorro**\n",
        "\n",
        "\n"
      ],
      "metadata": {
        "id": "2QsYYUsMkUX2"
      }
    },
    {
      "cell_type": "markdown",
      "source": [
        "Use Acurácia, F1 Score, Matriz de confusão e Loss function para avaliar o desempenho do modelo."
      ],
      "metadata": {
        "id": "DRCtt239kUYC"
      }
    },
    {
      "cell_type": "markdown",
      "source": [
        "### Dataset (Não precisam mexer)"
      ],
      "metadata": {
        "id": "YgsFOIDwkUYC"
      }
    },
    {
      "cell_type": "code",
      "source": [
        "df = pd.read_csv(\"local-do-csv-dogs\")"
      ],
      "metadata": {
        "id": "rvDx-OsckUYC"
      },
      "execution_count": null,
      "outputs": []
    },
    {
      "cell_type": "code",
      "source": [
        "X_train, X_test, y_train, y_test = train_test_split(df.drop(\"group\", axis=1), df[\"group\"], test_size=0.25, random_state=42)\n",
        "\n"
      ],
      "metadata": {
        "id": "8e7_OowrkUYC"
      },
      "execution_count": null,
      "outputs": []
    },
    {
      "cell_type": "markdown",
      "source": [
        "## Nayve Bayes"
      ],
      "metadata": {
        "id": "e4r2EmTJkUYD"
      }
    },
    {
      "cell_type": "code",
      "source": [
        "from sklearn.naive_bayes import GaussianNB #nb normal (sem ser gaussiano)\n",
        "from sklearn.metrics import accuracy_score, confusion_matrix, precision_score, recall_score, ConfusionMatrixDisplay\n",
        "\n",
        "model = GaussianNB()\n",
        "\n",
        "model.fit(X_train, y_train)\n",
        "predicted = model.predict(X_test)\n"
      ],
      "metadata": {
        "id": "C99ERFDgkUYD"
      },
      "execution_count": null,
      "outputs": []
    },
    {
      "cell_type": "markdown",
      "source": [
        "### Avaliação"
      ],
      "metadata": {
        "id": "BUQ5D0LGkUYD"
      }
    },
    {
      "cell_type": "code",
      "source": [],
      "metadata": {
        "id": "PGtEB2rdkUYD"
      },
      "execution_count": null,
      "outputs": []
    },
    {
      "cell_type": "code",
      "source": [],
      "metadata": {
        "id": "9J7H7QnCkUYD"
      },
      "execution_count": null,
      "outputs": []
    },
    {
      "cell_type": "markdown",
      "source": [
        "## Multi-Layer Perceptron"
      ],
      "metadata": {
        "id": "w3KFhDEZkUYD"
      }
    },
    {
      "cell_type": "code",
      "source": [
        "from sklearn.neural_network import MLPClassifier\n",
        "clf = MLPClassifier(random_state=42, max_iter=1000).fit(X_train, y_train)"
      ],
      "metadata": {
        "id": "r-56tfHjkUYD"
      },
      "execution_count": null,
      "outputs": []
    },
    {
      "cell_type": "markdown",
      "source": [
        "### Avaliação"
      ],
      "metadata": {
        "id": "9CHY2ZwekUYD"
      }
    },
    {
      "cell_type": "code",
      "source": [],
      "metadata": {
        "id": "Sols5QDskUYD"
      },
      "execution_count": null,
      "outputs": []
    },
    {
      "cell_type": "code",
      "source": [],
      "metadata": {
        "id": "INVF2rUhkUYD"
      },
      "execution_count": null,
      "outputs": []
    },
    {
      "cell_type": "markdown",
      "source": [
        "## Conclusão"
      ],
      "metadata": {
        "id": "GDni4cljkUYD"
      }
    },
    {
      "cell_type": "code",
      "source": [
        "conclusao = \"\"\"\n",
        "escreva sua conclusão aqui\n",
        "\"\"\"\n",
        "\n",
        "print(conclusao)"
      ],
      "metadata": {
        "id": "1fD33vkVkUYD"
      },
      "execution_count": null,
      "outputs": []
    }
  ]
}