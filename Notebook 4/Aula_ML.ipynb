{
  "cells": [
    {
      "cell_type": "markdown",
      "metadata": {
        "id": "bhRj3mZjtrKe"
      },
      "source": [
        "<a href=\"TAIL\"><img src=\"https://i.imgur.com/GRTE0OG.png\" width=\"150\" title=\"Tail Logo\" /></a>\n",
        "\n",
        "# <font color =\"#00b8ff\">Exercícios de Aprendizagem de Máquina</font>"
      ]
    },
    {
      "cell_type": "markdown",
      "metadata": {
        "id": "Inzl1VqG2oqC"
      },
      "source": [
        " Essa lista de exercícios foi criada para que vocês possam aplicar os conhecimentos que vocês adquiriram na aula que assistiram.\n",
        "\n",
        "Podem tirar dúvidas com **Tales Nobre** e **Felipe Duarte** quando quiserem!\n",
        "**O prazo de envio do notebook é até a reunião da próxima semana, até 1 hora antes da reunião, podem enviar colocar o conteúdo na branch de vocês do repositório**\n"
      ]
    },
    {
      "cell_type": "markdown",
      "metadata": {
        "id": "ahOuHhFSAQpx"
      },
      "source": [
        "\n",
        "🌍 [Link do drive com o Dataset](https://drive.google.com/drive/folders/1xi7m5gzJflujzoDvkPMkRO28SlR4139n?usp=sharing)\n"
      ]
    },
    {
      "cell_type": "markdown",
      "metadata": {
        "id": "togcZ5SJRnTC"
      },
      "source": [
        "\n",
        "####**Grupo 1**:\n",
        "*    *João Paulo*\n",
        "*    *Daniel*\n",
        "*    *Pamela*\n",
        "\n",
        "\n",
        "####**Grupo 2**:\n",
        "*    *Luigi*\n",
        "*    *Isabela*\n",
        "*    *Ian*"
      ]
    },
    {
      "cell_type": "markdown",
      "metadata": {
        "id": "l2Cd0nSn60g-"
      },
      "source": [
        "###**Objetivos**"
      ]
    },
    {
      "cell_type": "markdown",
      "metadata": {
        "id": "C5BveViG63G6"
      },
      "source": [
        "\n",
        "*   Entender o nível de conhecimento individual de vocês\n",
        "*   Estimular vocês a praticarem as formas básicas de aplicar ML\n"
      ]
    },
    {
      "cell_type": "markdown",
      "metadata": {
        "id": "N3EBzvz672i1"
      },
      "source": [
        "##**Observações**"
      ]
    },
    {
      "cell_type": "markdown",
      "metadata": {
        "id": "cTGz2NpI75IP"
      },
      "source": [
        "\n",
        "\n",
        "*   Façam uma cópia desse notebook e realizem as questões.\n",
        "*   Foquem no espaço de *Conclusões*, que aparece no final de cada questão, para explicar as conclusões que vocês chegaram a partir da análise de dados.\n",
        "*   É recomendável que vocês acessem os materiais de apoio que serão disponibilizados em seguida.\n",
        "*   Prezem pela organização, é muito importante explicar cada etapa de execução, principalmente no contexto de análise de dados.\n",
        "*   Claro que vocês não vão precisam importar várias vezes as bibliotecas dentro de um mesmo notebook, mas por fins educativos é recomendado que vocês façam isso nessa lista de exercícios!\n",
        "*   As questões são progressivas, ou seja, a quantidade de instruções e o nível de dificuldade mudarão ao longo da lista. **Lembre-se de manter o mesmo padrão em todas as questões.**\n",
        "*  Divida em quantas células e caixas de texto quiser, afim de deixar a legibilidade do código a melhor possível.\n",
        "\n"
      ]
    },
    {
      "cell_type": "markdown",
      "metadata": {
        "id": "VS8cCdvE8i7I"
      },
      "source": [
        "🐼 Material de apoio:\n",
        "\n",
        "Repositório de apoio:\n",
        "*   [Repositório do Github](https://github.com/talesnobre/miniproject_ML/blob/main/models.py)\n",
        "\n",
        "\n",
        "Regressão Linear\n",
        "*   [Documentação](https://scikit-learn.org/stable/modules/generated/sklearn.linear_model.LinearRegression.html)\n",
        "*   [O que é uma Regressão Linear](https://www.ibm.com/topics/linear-regression)\n",
        "*   [Vídeo sobre Regressão Linear](https://www.google.com/search?q=what+is+linear+regression&oq=what+is+linear+&gs_lcrp=EgZjaHJvbWUqBwgAEAAYgAQyBwgAEAAYgAQyBwgBEAAYgAQyBggCEEUYOTIICAMQABgWGB4yCAgEEAAYFhgeMgoIBRAAGAoYFhgeMggIBhAAGBYYHjIGCAcQRRg80gEIMjAwNWowajmoAgCwAgE&sourceid=chrome&ie=UTF-8#fpstate=ive&vld=cid:bbd09812,vid:nk2CQITm_eo,st:0)\n",
        "\n",
        "\n",
        "Regressão Logística\n",
        "*   [Documentação](https://scikit-learn.org/stable/modules/generated/sklearn.linear_model.LogisticRegression.html)\n",
        "*   [O que é uma Regressão Logística](https://www.ibm.com/topics/logistic-regression)\n",
        "*   [Vídeo sobre Regressão Logística](https://www.youtube.com/watch?v=yIYKR4sgzI8)\n",
        "\n",
        "\n",
        "\n",
        "\n",
        "Perceptron\n",
        "\n",
        "*   [Documentação](https://scikit-learn.org/stable/modules/generated/sklearn.neural_network.MLPClassifier.html)\n",
        "*   [O que é um Perceptron](https://towardsdatascience.com/what-the-hell-is-perceptron-626217814f53)\n",
        "*   [Vídeo sobre Perceptron](https://www.youtube.com/watch?v=RNYT9bECfOo)\n",
        "\n"
      ]
    },
    {
      "cell_type": "markdown",
      "metadata": {
        "id": "x5k_FwID9qCs"
      },
      "source": [
        "📚Documentação das bibliotecas:\n",
        "*   [Regressão Linear](https://scikit-learn.org/stable/modules/generated/sklearn.linear_model.LinearRegression.html)\n",
        "*   [Regressão Logística](https://scikit-learn.org/stable/modules/generated/sklearn.linear_model.LogisticRegression.html)\n",
        "*   [Perceptron](https://scikit-learn.org/stable/modules/generated/sklearn.neural_network.MLPClassifier.html)\n"
      ]
    },
    {
      "cell_type": "markdown",
      "metadata": {
        "id": "5vyNVu3k7O8F"
      },
      "source": [
        "Lembrem-se, a prática leva à perfeição!🧠"
      ]
    },
    {
      "cell_type": "markdown",
      "metadata": {
        "id": "eXtn9fhbmPtu"
      },
      "source": [
        "##**Questão 0:** *Pré-processamento*"
      ]
    },
    {
      "cell_type": "markdown",
      "metadata": {
        "id": "6h2MPtrFnSSl"
      },
      "source": [
        "Faça um pré-processamento da base de dados do drive para que você possa aplicar cada um dos modelos"
      ]
    },
    {
      "cell_type": "markdown",
      "metadata": {
        "id": "mQvv_hAsnCsF"
      },
      "source": [
        "###*1.1 Imports*"
      ]
    },
    {
      "cell_type": "code",
      "execution_count": 31,
      "metadata": {
        "id": "iKQ6PmKbnAoU"
      },
      "outputs": [
        {
          "name": "stdout",
          "output_type": "stream",
          "text": [
            "Completed.\n"
          ]
        }
      ],
      "source": [
        "import time\n",
        "import pandas as pd\n",
        "import numpy as np\n",
        "import scipy as sp\n",
        "import scipy.stats as stats\n",
        "import matplotlib.pyplot as plt\n",
        "import plotly.express as px\n",
        "import seaborn as sns\n",
        "import sklearn\n",
        "import sklearn.model_selection\n",
        "from sklearn.preprocessing import LabelEncoder\n",
        "from sklearn.manifold import TSNE\n",
        "\n",
        "\n",
        "# evalue measures\n",
        "from sklearn.metrics import f1_score\n",
        "from sklearn.metrics import accuracy_score\n",
        "from sklearn.metrics import precision_score\n",
        "from sklearn.metrics import recall_score\n",
        "from sklearn.metrics import confusion_matrix\n",
        "from sklearn.metrics import classification_report\n",
        "from sklearn.model_selection import train_test_split\n",
        "\n",
        "from sklearn.neighbors import KNeighborsClassifier\n",
        "from sklearn.linear_model import LogisticRegression\n",
        "from sklearn.tree import DecisionTreeClassifier\n",
        "from sklearn.ensemble import RandomForestClassifier\n",
        "from sklearn.svm import SVC\n",
        "from sklearn.ensemble import GradientBoostingClassifier\n",
        "import xgboost as xgb\n",
        "import lightgbm as lgbm\n",
        "from sklearn.neural_network import MLPClassifier\n",
        "from sklearn.ensemble import RandomForestClassifier\n",
        "from sklearn.ensemble import ExtraTreesClassifier\n",
        "from sklearn.ensemble import AdaBoostClassifier\n",
        "from sklearn.discriminant_analysis import LinearDiscriminantAnalysis\n",
        "from sklearn.discriminant_analysis import QuadraticDiscriminantAnalysis\n",
        "from sklearn.naive_bayes import GaussianNB\n",
        "from sklearn.linear_model import SGDClassifier\n",
        "from catboost import CatBoostClassifier\n",
        "\n",
        "import seaborn as sns\n",
        "sns.set_style(\"darkgrid\")\n",
        "\n",
        "import warnings\n",
        "warnings.filterwarnings(\"ignore\")\n",
        "\n",
        "print('Completed.')"
      ]
    },
    {
      "cell_type": "markdown",
      "metadata": {
        "id": "gM2TqRadnHTL"
      },
      "source": [
        "###*1.2 Pré-processamento*"
      ]
    },
    {
      "cell_type": "code",
      "execution_count": null,
      "metadata": {
        "id": "lItj6c0RnGh1"
      },
      "outputs": [],
      "source": []
    },
    {
      "cell_type": "markdown",
      "metadata": {
        "id": "TcKhozZC3MY0"
      },
      "source": [
        "##**Questão 1:** *Regressão Linear*"
      ]
    },
    {
      "cell_type": "markdown",
      "metadata": {
        "id": "DwHNOIXu-uRF"
      },
      "source": [
        "###*1.1 Imports*"
      ]
    },
    {
      "cell_type": "code",
      "execution_count": null,
      "metadata": {
        "id": "D52GuHoC-6QZ"
      },
      "outputs": [],
      "source": [
        "#Coloque nesse bloco de texto todos os imports que você vai usar na questão.\n"
      ]
    },
    {
      "cell_type": "markdown",
      "metadata": {
        "id": "Q_rZeqiEBBIl"
      },
      "source": [
        "###*1.2 Divisão treino e teste*"
      ]
    },
    {
      "cell_type": "code",
      "execution_count": null,
      "metadata": {
        "id": "MpRdJM5uBLpQ"
      },
      "outputs": [],
      "source": [
        "#Armazene o Dataset em uma variável para que você consiga utilizá-lo."
      ]
    },
    {
      "cell_type": "code",
      "execution_count": null,
      "metadata": {
        "id": "ODW1spdMBVwX"
      },
      "outputs": [],
      "source": [
        "#Tire suas impressões iniciais vizualizando o head e tail desse dataset."
      ]
    },
    {
      "cell_type": "code",
      "execution_count": null,
      "metadata": {
        "id": "_IndwL24BfDd"
      },
      "outputs": [],
      "source": [
        "#Realize a limpeza dos dados, focando em tratar valores vazios e/ou incorretos."
      ]
    },
    {
      "cell_type": "markdown",
      "metadata": {
        "id": "PFGsjVcKCCSE"
      },
      "source": [
        "### *1.3 Modelo*"
      ]
    },
    {
      "cell_type": "code",
      "execution_count": null,
      "metadata": {
        "id": "I5I--DuVCEV8"
      },
      "outputs": [],
      "source": [
        "#Crie Gráficos para que você possa observar a relação entre as variáveis e o comportamento delas de forma mais clara."
      ]
    },
    {
      "cell_type": "markdown",
      "metadata": {
        "id": "xmYdf88JLZN1"
      },
      "source": [
        "### *1.4 Avaliação do modelo*"
      ]
    },
    {
      "cell_type": "code",
      "execution_count": null,
      "metadata": {
        "id": "bB6GMvs6LYy9"
      },
      "outputs": [],
      "source": [
        "#Use métricas de avaliação para o seu modelo"
      ]
    },
    {
      "cell_type": "markdown",
      "metadata": {
        "id": "vr00cjbUC5ph"
      },
      "source": [
        "### *1.5 Conclusões*"
      ]
    },
    {
      "cell_type": "code",
      "execution_count": null,
      "metadata": {
        "id": "h7tI2_-TCOPp"
      },
      "outputs": [],
      "source": [
        "#Insira aqui as conclusões que você conseguiu absorver a partir desse modelo.\n",
        "Conclusoes = \"\"\n",
        "\n",
        "\n",
        "\n",
        "\n",
        "\n",
        "\n",
        "print(Conclusoes)"
      ]
    },
    {
      "cell_type": "markdown",
      "metadata": {
        "id": "1f-X95LL4xZ-"
      },
      "source": [
        "##**Questão 2:** *Regressão Logística*\n"
      ]
    },
    {
      "cell_type": "markdown",
      "metadata": {
        "id": "doEXHvxLChjP"
      },
      "source": [
        "###*2.1 Imports*"
      ]
    },
    {
      "cell_type": "code",
      "execution_count": null,
      "metadata": {
        "id": "debd52UrDMhZ"
      },
      "outputs": [],
      "source": [
        "#Imports feitos no início do notebook"
      ]
    },
    {
      "cell_type": "markdown",
      "metadata": {
        "id": "gqUfDU3cChjP"
      },
      "source": [
        "###*2.2 Divisão entre treino e teste*"
      ]
    },
    {
      "cell_type": "code",
      "execution_count": 47,
      "metadata": {
        "id": "OYa4uJvxDNF_"
      },
      "outputs": [],
      "source": [
        "df = pd.read_csv('data/heart.csv')"
      ]
    },
    {
      "cell_type": "code",
      "execution_count": 48,
      "metadata": {},
      "outputs": [
        {
          "name": "stdout",
          "output_type": "stream",
          "text": [
            "<class 'pandas.core.frame.DataFrame'>\n",
            "RangeIndex: 303 entries, 0 to 302\n",
            "Data columns (total 14 columns):\n",
            " #   Column    Non-Null Count  Dtype  \n",
            "---  ------    --------------  -----  \n",
            " 0   age       303 non-null    int64  \n",
            " 1   sex       303 non-null    int64  \n",
            " 2   cp        303 non-null    int64  \n",
            " 3   trestbps  303 non-null    int64  \n",
            " 4   chol      303 non-null    int64  \n",
            " 5   fbs       303 non-null    int64  \n",
            " 6   restecg   303 non-null    int64  \n",
            " 7   thalach   303 non-null    int64  \n",
            " 8   exang     303 non-null    int64  \n",
            " 9   oldpeak   303 non-null    float64\n",
            " 10  slope     303 non-null    int64  \n",
            " 11  ca        303 non-null    int64  \n",
            " 12  thal      303 non-null    int64  \n",
            " 13  target    303 non-null    int64  \n",
            "dtypes: float64(1), int64(13)\n",
            "memory usage: 33.3 KB\n"
          ]
        },
        {
          "data": {
            "text/html": [
              "<div>\n",
              "<style scoped>\n",
              "    .dataframe tbody tr th:only-of-type {\n",
              "        vertical-align: middle;\n",
              "    }\n",
              "\n",
              "    .dataframe tbody tr th {\n",
              "        vertical-align: top;\n",
              "    }\n",
              "\n",
              "    .dataframe thead th {\n",
              "        text-align: right;\n",
              "    }\n",
              "</style>\n",
              "<table border=\"1\" class=\"dataframe\">\n",
              "  <thead>\n",
              "    <tr style=\"text-align: right;\">\n",
              "      <th></th>\n",
              "      <th>age</th>\n",
              "      <th>sex</th>\n",
              "      <th>cp</th>\n",
              "      <th>trestbps</th>\n",
              "      <th>chol</th>\n",
              "      <th>fbs</th>\n",
              "      <th>restecg</th>\n",
              "      <th>thalach</th>\n",
              "      <th>exang</th>\n",
              "      <th>oldpeak</th>\n",
              "      <th>slope</th>\n",
              "      <th>ca</th>\n",
              "      <th>thal</th>\n",
              "      <th>target</th>\n",
              "    </tr>\n",
              "  </thead>\n",
              "  <tbody>\n",
              "    <tr>\n",
              "      <th>0</th>\n",
              "      <td>63</td>\n",
              "      <td>1</td>\n",
              "      <td>3</td>\n",
              "      <td>145</td>\n",
              "      <td>233</td>\n",
              "      <td>1</td>\n",
              "      <td>0</td>\n",
              "      <td>150</td>\n",
              "      <td>0</td>\n",
              "      <td>2.3</td>\n",
              "      <td>0</td>\n",
              "      <td>0</td>\n",
              "      <td>1</td>\n",
              "      <td>1</td>\n",
              "    </tr>\n",
              "    <tr>\n",
              "      <th>1</th>\n",
              "      <td>37</td>\n",
              "      <td>1</td>\n",
              "      <td>2</td>\n",
              "      <td>130</td>\n",
              "      <td>250</td>\n",
              "      <td>0</td>\n",
              "      <td>1</td>\n",
              "      <td>187</td>\n",
              "      <td>0</td>\n",
              "      <td>3.5</td>\n",
              "      <td>0</td>\n",
              "      <td>0</td>\n",
              "      <td>2</td>\n",
              "      <td>1</td>\n",
              "    </tr>\n",
              "    <tr>\n",
              "      <th>2</th>\n",
              "      <td>41</td>\n",
              "      <td>0</td>\n",
              "      <td>1</td>\n",
              "      <td>130</td>\n",
              "      <td>204</td>\n",
              "      <td>0</td>\n",
              "      <td>0</td>\n",
              "      <td>172</td>\n",
              "      <td>0</td>\n",
              "      <td>1.4</td>\n",
              "      <td>2</td>\n",
              "      <td>0</td>\n",
              "      <td>2</td>\n",
              "      <td>1</td>\n",
              "    </tr>\n",
              "    <tr>\n",
              "      <th>3</th>\n",
              "      <td>56</td>\n",
              "      <td>1</td>\n",
              "      <td>1</td>\n",
              "      <td>120</td>\n",
              "      <td>236</td>\n",
              "      <td>0</td>\n",
              "      <td>1</td>\n",
              "      <td>178</td>\n",
              "      <td>0</td>\n",
              "      <td>0.8</td>\n",
              "      <td>2</td>\n",
              "      <td>0</td>\n",
              "      <td>2</td>\n",
              "      <td>1</td>\n",
              "    </tr>\n",
              "    <tr>\n",
              "      <th>4</th>\n",
              "      <td>57</td>\n",
              "      <td>0</td>\n",
              "      <td>0</td>\n",
              "      <td>120</td>\n",
              "      <td>354</td>\n",
              "      <td>0</td>\n",
              "      <td>1</td>\n",
              "      <td>163</td>\n",
              "      <td>1</td>\n",
              "      <td>0.6</td>\n",
              "      <td>2</td>\n",
              "      <td>0</td>\n",
              "      <td>2</td>\n",
              "      <td>1</td>\n",
              "    </tr>\n",
              "  </tbody>\n",
              "</table>\n",
              "</div>"
            ],
            "text/plain": [
              "   age  sex  cp  trestbps  chol  fbs  restecg  thalach  exang  oldpeak  slope  \\\n",
              "0   63    1   3       145   233    1        0      150      0      2.3      0   \n",
              "1   37    1   2       130   250    0        1      187      0      3.5      0   \n",
              "2   41    0   1       130   204    0        0      172      0      1.4      2   \n",
              "3   56    1   1       120   236    0        1      178      0      0.8      2   \n",
              "4   57    0   0       120   354    0        1      163      1      0.6      2   \n",
              "\n",
              "   ca  thal  target  \n",
              "0   0     1       1  \n",
              "1   0     2       1  \n",
              "2   0     2       1  \n",
              "3   0     2       1  \n",
              "4   0     2       1  "
            ]
          },
          "execution_count": 48,
          "metadata": {},
          "output_type": "execute_result"
        }
      ],
      "source": [
        "df.info()\n",
        "df.head()"
      ]
    },
    {
      "cell_type": "code",
      "execution_count": 49,
      "metadata": {},
      "outputs": [
        {
          "data": {
            "text/html": [
              "<div>\n",
              "<style scoped>\n",
              "    .dataframe tbody tr th:only-of-type {\n",
              "        vertical-align: middle;\n",
              "    }\n",
              "\n",
              "    .dataframe tbody tr th {\n",
              "        vertical-align: top;\n",
              "    }\n",
              "\n",
              "    .dataframe thead th {\n",
              "        text-align: right;\n",
              "    }\n",
              "</style>\n",
              "<table border=\"1\" class=\"dataframe\">\n",
              "  <thead>\n",
              "    <tr style=\"text-align: right;\">\n",
              "      <th></th>\n",
              "      <th>age</th>\n",
              "      <th>trestbps</th>\n",
              "      <th>chol</th>\n",
              "      <th>thalach</th>\n",
              "      <th>oldpeak</th>\n",
              "      <th>ca</th>\n",
              "      <th>target</th>\n",
              "      <th>sex_0</th>\n",
              "      <th>sex_1</th>\n",
              "      <th>fbs_0</th>\n",
              "      <th>...</th>\n",
              "      <th>restecg_2</th>\n",
              "      <th>exang_0</th>\n",
              "      <th>exang_1</th>\n",
              "      <th>slope_0</th>\n",
              "      <th>slope_1</th>\n",
              "      <th>slope_2</th>\n",
              "      <th>thal_0</th>\n",
              "      <th>thal_1</th>\n",
              "      <th>thal_2</th>\n",
              "      <th>thal_3</th>\n",
              "    </tr>\n",
              "  </thead>\n",
              "  <tbody>\n",
              "    <tr>\n",
              "      <th>0</th>\n",
              "      <td>63</td>\n",
              "      <td>145</td>\n",
              "      <td>233</td>\n",
              "      <td>150</td>\n",
              "      <td>2.3</td>\n",
              "      <td>0</td>\n",
              "      <td>1</td>\n",
              "      <td>0</td>\n",
              "      <td>1</td>\n",
              "      <td>0</td>\n",
              "      <td>...</td>\n",
              "      <td>0</td>\n",
              "      <td>1</td>\n",
              "      <td>0</td>\n",
              "      <td>1</td>\n",
              "      <td>0</td>\n",
              "      <td>0</td>\n",
              "      <td>0</td>\n",
              "      <td>1</td>\n",
              "      <td>0</td>\n",
              "      <td>0</td>\n",
              "    </tr>\n",
              "    <tr>\n",
              "      <th>1</th>\n",
              "      <td>37</td>\n",
              "      <td>130</td>\n",
              "      <td>250</td>\n",
              "      <td>187</td>\n",
              "      <td>3.5</td>\n",
              "      <td>0</td>\n",
              "      <td>1</td>\n",
              "      <td>0</td>\n",
              "      <td>1</td>\n",
              "      <td>1</td>\n",
              "      <td>...</td>\n",
              "      <td>0</td>\n",
              "      <td>1</td>\n",
              "      <td>0</td>\n",
              "      <td>1</td>\n",
              "      <td>0</td>\n",
              "      <td>0</td>\n",
              "      <td>0</td>\n",
              "      <td>0</td>\n",
              "      <td>1</td>\n",
              "      <td>0</td>\n",
              "    </tr>\n",
              "    <tr>\n",
              "      <th>2</th>\n",
              "      <td>41</td>\n",
              "      <td>130</td>\n",
              "      <td>204</td>\n",
              "      <td>172</td>\n",
              "      <td>1.4</td>\n",
              "      <td>0</td>\n",
              "      <td>1</td>\n",
              "      <td>1</td>\n",
              "      <td>0</td>\n",
              "      <td>1</td>\n",
              "      <td>...</td>\n",
              "      <td>0</td>\n",
              "      <td>1</td>\n",
              "      <td>0</td>\n",
              "      <td>0</td>\n",
              "      <td>0</td>\n",
              "      <td>1</td>\n",
              "      <td>0</td>\n",
              "      <td>0</td>\n",
              "      <td>1</td>\n",
              "      <td>0</td>\n",
              "    </tr>\n",
              "    <tr>\n",
              "      <th>3</th>\n",
              "      <td>56</td>\n",
              "      <td>120</td>\n",
              "      <td>236</td>\n",
              "      <td>178</td>\n",
              "      <td>0.8</td>\n",
              "      <td>0</td>\n",
              "      <td>1</td>\n",
              "      <td>0</td>\n",
              "      <td>1</td>\n",
              "      <td>1</td>\n",
              "      <td>...</td>\n",
              "      <td>0</td>\n",
              "      <td>1</td>\n",
              "      <td>0</td>\n",
              "      <td>0</td>\n",
              "      <td>0</td>\n",
              "      <td>1</td>\n",
              "      <td>0</td>\n",
              "      <td>0</td>\n",
              "      <td>1</td>\n",
              "      <td>0</td>\n",
              "    </tr>\n",
              "    <tr>\n",
              "      <th>4</th>\n",
              "      <td>57</td>\n",
              "      <td>120</td>\n",
              "      <td>354</td>\n",
              "      <td>163</td>\n",
              "      <td>0.6</td>\n",
              "      <td>0</td>\n",
              "      <td>1</td>\n",
              "      <td>1</td>\n",
              "      <td>0</td>\n",
              "      <td>1</td>\n",
              "      <td>...</td>\n",
              "      <td>0</td>\n",
              "      <td>0</td>\n",
              "      <td>1</td>\n",
              "      <td>0</td>\n",
              "      <td>0</td>\n",
              "      <td>1</td>\n",
              "      <td>0</td>\n",
              "      <td>0</td>\n",
              "      <td>1</td>\n",
              "      <td>0</td>\n",
              "    </tr>\n",
              "  </tbody>\n",
              "</table>\n",
              "<p>5 rows × 27 columns</p>\n",
              "</div>"
            ],
            "text/plain": [
              "   age  trestbps  chol  thalach  oldpeak  ca  target  sex_0  sex_1  fbs_0  \\\n",
              "0   63       145   233      150      2.3   0       1      0      1      0   \n",
              "1   37       130   250      187      3.5   0       1      0      1      1   \n",
              "2   41       130   204      172      1.4   0       1      1      0      1   \n",
              "3   56       120   236      178      0.8   0       1      0      1      1   \n",
              "4   57       120   354      163      0.6   0       1      1      0      1   \n",
              "\n",
              "   ...  restecg_2  exang_0  exang_1  slope_0  slope_1  slope_2  thal_0  \\\n",
              "0  ...          0        1        0        1        0        0       0   \n",
              "1  ...          0        1        0        1        0        0       0   \n",
              "2  ...          0        1        0        0        0        1       0   \n",
              "3  ...          0        1        0        0        0        1       0   \n",
              "4  ...          0        0        1        0        0        1       0   \n",
              "\n",
              "   thal_1  thal_2  thal_3  \n",
              "0       1       0       0  \n",
              "1       0       1       0  \n",
              "2       0       1       0  \n",
              "3       0       1       0  \n",
              "4       0       1       0  \n",
              "\n",
              "[5 rows x 27 columns]"
            ]
          },
          "execution_count": 49,
          "metadata": {},
          "output_type": "execute_result"
        }
      ],
      "source": [
        "#Como existem dados que estão sendo representados de forma ordinal, é necessário fazer um tratamento para que o modelo consiga interpretar esses dados de forma correta.\n",
        "#Para isso, usarei a função get_dummies do pandas para transformar esses dados em colunas binárias.\n",
        "X = df.drop('target', axis=1)\n",
        "y = df['target']\n",
        "\n",
        "dfdummies = pd.get_dummies(df, columns=['sex', 'fbs' ,'cp', 'restecg', 'exang', 'slope', 'thal'])\n",
        "dfdummies.replace(True, 1, inplace=True)\n",
        "dfdummies.replace(False, 0, inplace=True)\n",
        "dfdummies.head()\n"
      ]
    },
    {
      "cell_type": "markdown",
      "metadata": {
        "id": "7X_13EwcChjQ"
      },
      "source": [
        "### *2.3 Modelo*"
      ]
    },
    {
      "cell_type": "code",
      "execution_count": null,
      "metadata": {
        "id": "4f8KkXRAChjQ"
      },
      "outputs": [],
      "source": [
        "#Crie Gráficos para que você possa observar a relação entre as variáveis e o comportamento delas de forma mais clara."
      ]
    },
    {
      "cell_type": "code",
      "execution_count": 50,
      "metadata": {},
      "outputs": [
        {
          "data": {
            "image/png": "[encoded data removed]",
            "text/plain": [
              "<Figure size 640x480 with 1 Axes>"
            ]
          },
          "metadata": {},
          "output_type": "display_data"
        }
      ],
      "source": [
        "df['target'].value_counts().plot(kind='bar', color=['salmon', 'lightblue'])\n",
        "plt.title('Distribuição de doenças cardíacas')\n",
        "plt.xlabel('0 = Sem Doença, 1 = Com Doença')\n",
        "plt.ylabel('Quantidade')\n",
        "plt.show()\n"
      ]
    },
    {
      "cell_type": "code",
      "execution_count": 59,
      "metadata": {},
      "outputs": [
        {
          "data": {
            "text/plain": [
              "Text(0, 0.5, 'Quantidade')"
            ]
          },
          "execution_count": 59,
          "metadata": {},
          "output_type": "execute_result"
        },
        {
          "data": {
            "image/png": "[encoded data removed]",
            "text/plain": [
              "<Figure size 640x480 with 1 Axes>"
            ]
          },
          "metadata": {},
          "output_type": "display_data"
        }
      ],
      "source": [
        "dfheart = df[df['target'] == 1]\n",
        "dfheartg = dfheart['sex'].value_counts()\n",
        "dfheartg.plot(kind='bar', color=['salmon', 'lightblue'])\n",
        "plt.title('Distribuição de doenças cardíacas por gênero')\n",
        "plt.xlabel('0 = Mulher, 1 = Homem')\n",
        "plt.ylabel('Quantidade')"
      ]
    },
    {
      "cell_type": "code",
      "execution_count": 54,
      "metadata": {},
      "outputs": [
        {
          "data": {
            "application/vnd.plotly.v1+json": {
              "config": {
                "plotlyServerURL": "https://plot.ly"
              },
              "data": [
                {
                  "coloraxis": "coloraxis",
                  "hovertemplate": "x: %{x}<br>y: %{y}<br>color: %{z}<extra></extra>",
                  "name": "0",
                  "type": "heatmap",
                  "x": [
                    "age",
                    "trestbps",
                    "chol",
                    "thalach",
                    "oldpeak",
                    "ca",
                    "target",
                    "sex_0",
                    "sex_1",
                    "fbs_0",
                    "fbs_1",
                    "cp_0",
                    "cp_1",
                    "cp_2",
                    "cp_3",
                    "restecg_0",
                    "restecg_1",
                    "restecg_2",
                    "exang_0",
                    "exang_1",
                    "slope_0",
                    "slope_1",
                    "slope_2",
                    "thal_0",
                    "thal_1",
                    "thal_2",
                    "thal_3"
                  ],
                  "xaxis": "x",
                  "y": [
                    "age",
                    "trestbps",
                    "chol",
                    "thalach",
                    "oldpeak",
                    "ca",
                    "target",
                    "sex_0",
                    "sex_1",
                    "fbs_0",
                    "fbs_1",
                    "cp_0",
                    "cp_1",
                    "cp_2",
                    "cp_3",
                    "restecg_0",
                    "restecg_1",
                    "restecg_2",
                    "exang_0",
                    "exang_1",
                    "slope_0",
                    "slope_1",
                    "slope_2",
                    "thal_0",
                    "thal_1",
                    "thal_2",
                    "thal_3"
                  ],
                  "yaxis": "y",
                  "z": [
                    [
                      1,
                      0.27935090656128797,
                      0.2136779565595619,
                      -0.3985219381210681,
                      0.21001256735867396,
                      0.27632624401913936,
                      -0.22543871587483838,
                      0.09844660247479375,
                      -0.09844660247479375,
                      -0.12130764809337455,
                      0.1213076480933747,
                      0.13825268943546867,
                      -0.14739877239280383,
                      -0.05943204583797498,
                      0.04751617176103534,
                      0.14139844133342022,
                      -0.1606535988619073,
                      0.08462123248001076,
                      -0.09680082645526811,
                      0.09680082645526811,
                      0.03053642614270504,
                      0.17720113688991776,
                      -0.19257987778589175,
                      -0.01677850442446399,
                      0.0637581178478102,
                      -0.1358909918757614,
                      0.11075169704259168
                    ],
                    [
                      0.27935090656128797,
                      1,
                      0.12317420653239047,
                      -0.04669772814795376,
                      0.19321647240953582,
                      0.10138898530055088,
                      -0.14493112849775,
                      0.0567688239696438,
                      -0.05676882396964379,
                      -0.17753054193445988,
                      0.1775305419344599,
                      0.021447155795777398,
                      -0.08185062586476745,
                      -0.045107125516158336,
                      0.15134349923259058,
                      0.13324945177963818,
                      -0.14657621418616154,
                      0.05863508541897965,
                      -0.06761611953876331,
                      0.06761611953876327,
                      0.12238362201898906,
                      0.025207406140592574,
                      -0.08747166845543969,
                      -0.01687041251944211,
                      0.07636869545832065,
                      -0.14071189550995408,
                      0.10957252263933176
                    ],
                    [
                      0.2136779565595619,
                      0.12317420653239047,
                      1,
                      -0.009939838642698075,
                      0.05395191998699381,
                      0.07051092522607601,
                      -0.08523910513756904,
                      0.1979121741411068,
                      -0.1979121741411069,
                      -0.013293602251671432,
                      0.013293602251671545,
                      0.0706836910641561,
                      -0.012749604429445652,
                      -0.03791823920644914,
                      -0.050589086022781254,
                      0.16656451572619396,
                      -0.17439359348744154,
                      0.034614914025772874,
                      -0.06702278257394258,
                      0.06702278257394262,
                      -0.04533989746366946,
                      0.05117665862490036,
                      -0.028053782822087012,
                      -0.057126565355257744,
                      -0.09356021877160633,
                      -0.004591379806890563,
                      0.059620591070008014
                    ],
                    [
                      -0.3985219381210681,
                      -0.04669772814795376,
                      -0.009939838642698075,
                      1,
                      -0.34418694796671606,
                      -0.21317692811538935,
                      0.4217409338106742,
                      0.04401990776957457,
                      -0.0440199077695746,
                      0.008567107343486586,
                      -0.008567107343486924,
                      -0.37656050172652605,
                      0.2483171678672549,
                      0.16547534840832492,
                      0.07908154563554243,
                      -0.07395280210073653,
                      0.10151206355467293,
                      -0.12087036059734266,
                      0.37881209385148623,
                      -0.3788120938514863,
                      -0.05659011126119459,
                      -0.4196267684443724,
                      0.44804280901443977,
                      -0.05042854542369675,
                      -0.15974816056575217,
                      0.2948010397646414,
                      -0.21541710737203468
                    ],
                    [
                      0.21001256735867396,
                      0.19321647240953582,
                      0.05395191998699381,
                      -0.34418694796671606,
                      1,
                      0.22268232182782355,
                      -0.4306960016873686,
                      -0.09609287706773896,
                      0.09609287706773902,
                      -0.005747223459644022,
                      0.005747223459644361,
                      0.28024311405011526,
                      -0.2775129392391542,
                      -0.13244367601403423,
                      0.08695915471694204,
                      0.10014088742526894,
                      -0.1384864642635669,
                      0.1681720936938018,
                      -0.2882228077827656,
                      0.28822280778276554,
                      0.3942529415207495,
                      0.3109861559633351,
                      -0.5113563128066387,
                      -0.03794586340304505,
                      0.10463455562087295,
                      -0.33908560617714695,
                      0.30214528872114566
                    ],
                    [
                      0.27632624401913936,
                      0.10138898530055088,
                      0.07051092522607601,
                      -0.21317692811538935,
                      0.22268232182782355,
                      1,
                      -0.39172399235125244,
                      -0.11826141332036011,
                      0.11826141332036011,
                      -0.13797932702785096,
                      0.13797932702785132,
                      0.21822624951251565,
                      -0.13471514207715982,
                      -0.08899838311808657,
                      -0.07049557183284057,
                      0.08267862647192858,
                      -0.08964150444088227,
                      0.03066019951387447,
                      -0.115739378070506,
                      0.11573937807050606,
                      -0.04221809015131631,
                      0.14192320829983845,
                      -0.12030578954736762,
                      -0.05823589394114124,
                      0.06661843064501305,
                      -0.22133110662585925,
                      0.20360094049265967
                    ],
                    [
                      -0.22543871587483838,
                      -0.14493112849775,
                      -0.08523910513756904,
                      0.4217409338106742,
                      -0.4306960016873686,
                      -0.39172399235125244,
                      1,
                      0.2809365755017666,
                      -0.28093657550176676,
                      0.028045760272712182,
                      -0.028045760272712966,
                      -0.5160146415680592,
                      0.24587909539147892,
                      0.31674215819553986,
                      0.086956874646376,
                      -0.15977519309753474,
                      0.17532180367281433,
                      -0.06841023951783205,
                      0.43675708335330315,
                      -0.4367570833533031,
                      -0.06355367152221429,
                      -0.36205329955882015,
                      0.3940663689190677,
                      -0.007292627036773161,
                      -0.10658897385508212,
                      0.5273335503160473,
                      -0.48611215300093835
                    ],
                    [
                      0.09844660247479375,
                      0.0567688239696438,
                      0.1979121741411068,
                      0.04401990776957457,
                      -0.09609287706773896,
                      -0.11826141332036011,
                      0.2809365755017666,
                      1,
                      -1,
                      0.04503178919355999,
                      -0.045031789193560344,
                      -0.0896214338195292,
                      0.041248835867763164,
                      0.11658801296577492,
                      -0.08804315875513938,
                      -0.036538679407431614,
                      0.01194013187777641,
                      0.10768939183440453,
                      0.14166381099150555,
                      -0.14166381099150555,
                      -0.04618306319527962,
                      0.00915705878213677,
                      0.014356333120340807,
                      0.03209252911742659,
                      -0.1411352160932396,
                      0.3763649342002981,
                      -0.3215593417526503
                    ],
                    [
                      -0.09844660247479375,
                      -0.05676882396964379,
                      -0.1979121741411069,
                      -0.0440199077695746,
                      0.09609287706773902,
                      0.11826141332036011,
                      -0.28093657550176676,
                      -1,
                      1,
                      -0.04503178919356005,
                      0.04503178919356035,
                      0.08962143381952921,
                      -0.041248835867763234,
                      -0.11658801296577492,
                      0.0880431587551394,
                      0.03653867940743163,
                      -0.011940131877776388,
                      -0.10768939183440454,
                      -0.14166381099150552,
                      0.14166381099150557,
                      0.04618306319527963,
                      -0.009157058782136714,
                      -0.014356333120340847,
                      -0.03209252911742659,
                      0.1411352160932396,
                      -0.3763649342002982,
                      0.32155934175265033
                    ],
                    [
                      -0.12130764809337455,
                      -0.17753054193445988,
                      -0.013293602251671432,
                      0.008567107343486586,
                      -0.005747223459644022,
                      -0.13797932702785096,
                      0.028045760272712182,
                      0.04503178919355999,
                      -0.04503178919356005,
                      1,
                      -1,
                      0.060190075411796745,
                      0.060649324264578704,
                      -0.0836788800484177,
                      -0.055511401716629834,
                      -0.07740451149704564,
                      0.06634406519347144,
                      0.04830485751502982,
                      0.025665147202125867,
                      -0.025665147202125836,
                      -0.10528437716678948,
                      0.03335998907031603,
                      0.02025539514141561,
                      -0.08056849439458821,
                      -0.09135121428178332,
                      0.08677381172588113,
                      -0.03095277493866811
                    ],
                    [
                      0.1213076480933747,
                      0.1775305419344599,
                      0.013293602251671545,
                      -0.008567107343486924,
                      0.005747223459644361,
                      0.13797932702785132,
                      -0.028045760272712966,
                      -0.045031789193560344,
                      0.04503178919356035,
                      -1,
                      1,
                      -0.06019007541179642,
                      -0.06064932426457904,
                      0.0836788800484175,
                      0.055511401716629806,
                      0.07740451149704568,
                      -0.06634406519347161,
                      -0.04830485751502976,
                      -0.025665147202126207,
                      0.025665147202126176,
                      0.10528437716678957,
                      -0.03335998907031575,
                      -0.0202553951414159,
                      0.08056849439458823,
                      0.09135121428178339,
                      -0.08677381172588149,
                      0.030952774938668458
                    ],
                    [
                      0.13825268943546867,
                      0.021447155795777398,
                      0.0706836910641561,
                      -0.37656050172652605,
                      0.28024311405011526,
                      0.21822624951251565,
                      -0.5160146415680592,
                      -0.0896214338195292,
                      0.08962143381952921,
                      0.060190075411796745,
                      -0.06019007541179642,
                      1,
                      -0.4202742375908961,
                      -0.5999855322329777,
                      -0.27095235479956353,
                      0.11407498835616903,
                      -0.12873117647746973,
                      0.06442231113661118,
                      -0.4690607310801364,
                      0.46906073108013624,
                      0.028349912857656326,
                      0.2377244937271778,
                      -0.2519347840552011,
                      0.004580603131869504,
                      0.09802521965234798,
                      -0.3499204996242363,
                      0.3093573653109632
                    ],
                    [
                      -0.14739877239280383,
                      -0.08185062586476745,
                      -0.012749604429445652,
                      0.2483171678672549,
                      -0.2775129392391542,
                      -0.13471514207715982,
                      0.24587909539147892,
                      0.041248835867763164,
                      -0.041248835867763234,
                      0.060649324264578704,
                      -0.06064932426457904,
                      -0.4202742375908961,
                      1,
                      -0.2821353422375187,
                      -0.12741179785940648,
                      -0.09352970111168436,
                      0.10522641128950037,
                      -0.05141846921644201,
                      0.23386291209388793,
                      -0.2338629120938879,
                      -0.05129836293175091,
                      -0.19799439877695368,
                      0.22392086686664478,
                      -0.03623735508617256,
                      -0.03649584177626145,
                      0.20735417204704712,
                      -0.18822500549536417
                    ],
                    [
                      -0.05943204583797498,
                      -0.045107125516158336,
                      -0.03791823920644914,
                      0.16547534840832492,
                      -0.13244367601403423,
                      -0.08899838311808657,
                      0.31674215819553986,
                      0.11658801296577492,
                      -0.11658801296577492,
                      -0.0836788800484177,
                      0.0836788800484175,
                      -0.5999855322329777,
                      -0.2821353422375187,
                      1,
                      -0.18189369824245535,
                      -0.09061108423357672,
                      0.0927383817360744,
                      -0.009492058848250004,
                      0.2710283615375012,
                      -0.27102836153750115,
                      -0.02957562224760012,
                      -0.10532011960970122,
                      0.12027591414855283,
                      0.03835349651764002,
                      -0.0977746001549083,
                      0.2101304483188475,
                      -0.17371696968193548
                    ],
                    [
                      0.04751617176103534,
                      0.15134349923259058,
                      -0.050589086022781254,
                      0.07908154563554243,
                      0.08695915471694204,
                      -0.07049557183284057,
                      0.086956874646376,
                      -0.08804315875513938,
                      0.0880431587551394,
                      -0.055511401716629834,
                      0.055511401716629806,
                      -0.27095235479956353,
                      -0.12741179785940648,
                      -0.18189369824245535,
                      1,
                      0.07084990156886063,
                      -0.0632518363323037,
                      -0.033149677206589824,
                      0.09338432696006016,
                      -0.09338432696006016,
                      0.06898147300518621,
                      0.009321325843231197,
                      -0.04442103991025996,
                      -0.023362356799666677,
                      0.033404087488107775,
                      0.009998344786434804,
                      -0.022553758442712336
                    ],
                    [
                      0.14139844133342022,
                      0.13324945177963818,
                      0.16656451572619396,
                      -0.07395280210073653,
                      0.10014088742526894,
                      0.08267862647192858,
                      -0.15977519309753474,
                      -0.036538679407431614,
                      0.03653867940743163,
                      -0.07740451149704564,
                      0.07740451149704568,
                      0.11407498835616903,
                      -0.09352970111168436,
                      -0.09061108423357672,
                      0.07084990156886063,
                      1,
                      -0.9739343615465682,
                      -0.1122769921845787,
                      -0.08405913551433444,
                      0.08405913551433437,
                      0.04711044172591487,
                      0.10701203597592678,
                      -0.130890662591487,
                      0.0024222741653751718,
                      0.035403938303863965,
                      -0.03362992709935813,
                      0.01678652873412922
                    ],
                    [
                      -0.1606535988619073,
                      -0.14657621418616154,
                      -0.17439359348744154,
                      0.10151206355467293,
                      -0.1384864642635669,
                      -0.08964150444088227,
                      0.17532180367281433,
                      0.01194013187777641,
                      -0.011940131877776388,
                      0.06634406519347144,
                      -0.06634406519347161,
                      -0.12873117647746973,
                      0.10522641128950037,
                      0.0927383817360744,
                      -0.0632518363323037,
                      -0.9739343615465682,
                      1,
                      -0.11604534441596209,
                      0.09377635979490444,
                      -0.09377635979490458,
                      -0.06587441187766832,
                      -0.12221496246169859,
                      0.1556295839222187,
                      -0.00026902428557616355,
                      -0.05667691012035807,
                      0.03615392494536881,
                      -0.009396359496116278
                    ],
                    [
                      0.08462123248001076,
                      0.05863508541897965,
                      0.034614914025772874,
                      -0.12087036059734266,
                      0.1681720936938018,
                      0.03066019951387447,
                      -0.06841023951783205,
                      0.10768939183440453,
                      -0.10768939183440454,
                      0.04830485751502982,
                      -0.04830485751502976,
                      0.06442231113661118,
                      -0.05141846921644201,
                      -0.009492058848250004,
                      -0.033149677206589824,
                      -0.1122769921845787,
                      -0.11604534441596209,
                      1,
                      -0.04272883223919752,
                      0.042728832239197476,
                      0.08228948104756556,
                      0.06680393073977783,
                      -0.1086239610687142,
                      -0.009428142794537209,
                      0.09325834574883973,
                      -0.01112110845634911,
                      -0.03234215479617477
                    ],
                    [
                      -0.09680082645526811,
                      -0.06761611953876331,
                      -0.06702278257394258,
                      0.37881209385148623,
                      -0.2882228077827656,
                      -0.115739378070506,
                      0.43675708335330315,
                      0.14166381099150555,
                      -0.14166381099150552,
                      0.025665147202125867,
                      -0.025665147202126207,
                      -0.4690607310801364,
                      0.23386291209388793,
                      0.2710283615375012,
                      0.09338432696006016,
                      -0.08405913551433444,
                      0.09377635979490444,
                      -0.04272883223919752,
                      1,
                      -1,
                      -0.059252697062073985,
                      -0.25768650213343186,
                      0.2876064912928914,
                      -0.030113301501674725,
                      -0.06307302559879242,
                      0.3285393062249432,
                      -0.30022347990908976
                    ],
                    [
                      0.09680082645526811,
                      0.06761611953876327,
                      0.06702278257394262,
                      -0.3788120938514863,
                      0.28822280778276554,
                      0.11573937807050606,
                      -0.4367570833533031,
                      -0.14166381099150555,
                      0.14166381099150557,
                      -0.025665147202125836,
                      0.025665147202126176,
                      0.46906073108013624,
                      -0.2338629120938879,
                      -0.27102836153750115,
                      -0.09338432696006016,
                      0.08405913551433437,
                      -0.09377635979490458,
                      0.042728832239197476,
                      -1,
                      1,
                      0.05925269706207399,
                      0.2576865021334319,
                      -0.2876064912928914,
                      0.0301133015016747,
                      0.06307302559879238,
                      -0.32853930622494326,
                      0.30022347990909
                    ],
                    [
                      0.03053642614270504,
                      0.12238362201898906,
                      -0.04533989746366946,
                      -0.05659011126119459,
                      0.3942529415207495,
                      -0.04221809015131631,
                      -0.06355367152221429,
                      -0.04618306319527962,
                      0.04618306319527963,
                      -0.10528437716678948,
                      0.10528437716678957,
                      0.028349912857656326,
                      -0.05129836293175091,
                      -0.02957562224760012,
                      0.06898147300518621,
                      0.04711044172591487,
                      -0.06587441187766832,
                      0.08228948104756556,
                      -0.059252697062073985,
                      0.05925269706207399,
                      1,
                      -0.25290377319502333,
                      -0.2562809512906672,
                      -0.022244202665006468,
                      0.09633888974655173,
                      -0.09151156606371183,
                      0.0504743828414924
                    ],
                    [
                      0.17720113688991776,
                      0.025207406140592574,
                      0.05117665862490036,
                      -0.4196267684443724,
                      0.3109861559633351,
                      0.14192320829983845,
                      -0.36205329955882015,
                      0.00915705878213677,
                      -0.009157058782136714,
                      0.03335998907031603,
                      -0.03335998907031575,
                      0.2377244937271778,
                      -0.19799439877695368,
                      -0.10532011960970122,
                      0.009321325843231197,
                      0.10701203597592678,
                      -0.12221496246169859,
                      0.06680393073977783,
                      -0.25768650213343186,
                      0.2576865021334319,
                      -0.25290377319502333,
                      1,
                      -0.8703650629236378,
                      0.006205428419730877,
                      0.13114927461645198,
                      -0.27531755370507527,
                      0.21674041856227538
                    ],
                    [
                      -0.19257987778589175,
                      -0.08747166845543969,
                      -0.028053782822087012,
                      0.44804280901443977,
                      -0.5113563128066387,
                      -0.12030578954736762,
                      0.3940663689190677,
                      0.014356333120340807,
                      -0.014356333120340847,
                      0.02025539514141561,
                      -0.0202553951414159,
                      -0.2519347840552011,
                      0.22392086686664478,
                      0.12027591414855283,
                      -0.04442103991025996,
                      -0.130890662591487,
                      0.1556295839222187,
                      -0.1086239610687142,
                      0.2876064912928914,
                      -0.2876064912928914,
                      -0.2562809512906672,
                      -0.8703650629236378,
                      1,
                      0.005121512595355572,
                      -0.1800606520856491,
                      0.32163956628427615,
                      -0.24223029291794815
                    ],
                    [
                      -0.01677850442446399,
                      -0.01687041251944211,
                      -0.057126565355257744,
                      -0.05042854542369675,
                      -0.03794586340304505,
                      -0.05823589394114124,
                      -0.007292627036773161,
                      0.03209252911742659,
                      -0.03209252911742659,
                      -0.08056849439458821,
                      0.08056849439458823,
                      0.004580603131869504,
                      -0.03623735508617256,
                      0.03835349651764002,
                      -0.023362356799666677,
                      0.0024222741653751718,
                      -0.00026902428557616355,
                      -0.009428142794537209,
                      -0.030113301501674725,
                      0.0301133015016747,
                      -0.022244202665006468,
                      0.006205428419730877,
                      0.005121512595355572,
                      1,
                      -0.02048545302469188,
                      -0.08972748820908173,
                      -0.06464995230202879
                    ],
                    [
                      0.0637581178478102,
                      0.07636869545832065,
                      -0.09356021877160633,
                      -0.15974816056575217,
                      0.10463455562087295,
                      0.06661843064501305,
                      -0.10658897385508212,
                      -0.1411352160932396,
                      0.1411352160932396,
                      -0.09135121428178332,
                      0.09135121428178339,
                      0.09802521965234798,
                      -0.03649584177626145,
                      -0.0977746001549083,
                      0.033404087488107775,
                      0.035403938303863965,
                      -0.05667691012035807,
                      0.09325834574883973,
                      -0.06307302559879242,
                      0.06307302559879238,
                      0.09633888974655173,
                      0.13114927461645198,
                      -0.1800606520856491,
                      -0.02048545302469188,
                      1,
                      -0.27663529083197597,
                      -0.19931972592023298
                    ],
                    [
                      -0.1358909918757614,
                      -0.14071189550995408,
                      -0.004591379806890563,
                      0.2948010397646414,
                      -0.33908560617714695,
                      -0.22133110662585925,
                      0.5273335503160473,
                      0.3763649342002981,
                      -0.3763649342002982,
                      0.08677381172588113,
                      -0.08677381172588149,
                      -0.3499204996242363,
                      0.20735417204704712,
                      0.2101304483188475,
                      0.009998344786434804,
                      -0.03362992709935813,
                      0.03615392494536881,
                      -0.01112110845634911,
                      0.3285393062249432,
                      -0.32853930622494326,
                      -0.09151156606371183,
                      -0.27531755370507527,
                      0.32163956628427615,
                      -0.08972748820908173,
                      -0.27663529083197597,
                      1,
                      -0.8730321138511452
                    ],
                    [
                      0.11075169704259168,
                      0.10957252263933176,
                      0.059620591070008014,
                      -0.21541710737203468,
                      0.30214528872114566,
                      0.20360094049265967,
                      -0.48611215300093835,
                      -0.3215593417526503,
                      0.32155934175265033,
                      -0.03095277493866811,
                      0.030952774938668458,
                      0.3093573653109632,
                      -0.18822500549536417,
                      -0.17371696968193548,
                      -0.022553758442712336,
                      0.01678652873412922,
                      -0.009396359496116278,
                      -0.03234215479617477,
                      -0.30022347990908976,
                      0.30022347990909,
                      0.0504743828414924,
                      0.21674041856227538,
                      -0.24223029291794815,
                      -0.06464995230202879,
                      -0.19931972592023298,
                      -0.8730321138511452,
                      1
                    ]
                  ]
                }
              ],
              "layout": {
                "coloraxis": {
                  "colorscale": [
                    [
                      0,
                      "#0d0887"
                    ],
                    [
                      0.1111111111111111,
                      "#46039f"
                    ],
                    [
                      0.2222222222222222,
                      "#7201a8"
                    ],
                    [
                      0.3333333333333333,
                      "#9c179e"
                    ],
                    [
                      0.4444444444444444,
                      "#bd3786"
                    ],
                    [
                      0.5555555555555556,
                      "#d8576b"
                    ],
                    [
                      0.6666666666666666,
                      "#ed7953"
                    ],
                    [
                      0.7777777777777778,
                      "#fb9f3a"
                    ],
                    [
                      0.8888888888888888,
                      "#fdca26"
                    ],
                    [
                      1,
                      "#f0f921"
                    ]
                  ]
                },
                "margin": {
                  "t": 60
                },
                "template": {
                  "data": {
                    "bar": [
                      {
                        "error_x": {
                          "color": "#2a3f5f"
                        },
                        "error_y": {
                          "color": "#2a3f5f"
                        },
                        "marker": {
                          "line": {
                            "color": "#E5ECF6",
                            "width": 0.5
                          },
                          "pattern": {
                            "fillmode": "overlay",
                            "size": 10,
                            "solidity": 0.2
                          }
                        },
                        "type": "bar"
                      }
                    ],
                    "barpolar": [
                      {
                        "marker": {
                          "line": {
                            "color": "#E5ECF6",
                            "width": 0.5
                          },
                          "pattern": {
                            "fillmode": "overlay",
                            "size": 10,
                            "solidity": 0.2
                          }
                        },
                        "type": "barpolar"
                      }
                    ],
                    "carpet": [
                      {
                        "aaxis": {
                          "endlinecolor": "#2a3f5f",
                          "gridcolor": "white",
                          "linecolor": "white",
                          "minorgridcolor": "white",
                          "startlinecolor": "#2a3f5f"
                        },
                        "baxis": {
                          "endlinecolor": "#2a3f5f",
                          "gridcolor": "white",
                          "linecolor": "white",
                          "minorgridcolor": "white",
                          "startlinecolor": "#2a3f5f"
                        },
                        "type": "carpet"
                      }
                    ],
                    "choropleth": [
                      {
                        "colorbar": {
                          "outlinewidth": 0,
                          "ticks": ""
                        },
                        "type": "choropleth"
                      }
                    ],
                    "contour": [
                      {
                        "colorbar": {
                          "outlinewidth": 0,
                          "ticks": ""
                        },
                        "colorscale": [
                          [
                            0,
                            "#0d0887"
                          ],
                          [
                            0.1111111111111111,
                            "#46039f"
                          ],
                          [
                            0.2222222222222222,
                            "#7201a8"
                          ],
                          [
                            0.3333333333333333,
                            "#9c179e"
                          ],
                          [
                            0.4444444444444444,
                            "#bd3786"
                          ],
                          [
                            0.5555555555555556,
                            "#d8576b"
                          ],
                          [
                            0.6666666666666666,
                            "#ed7953"
                          ],
                          [
                            0.7777777777777778,
                            "#fb9f3a"
                          ],
                          [
                            0.8888888888888888,
                            "#fdca26"
                          ],
                          [
                            1,
                            "#f0f921"
                          ]
                        ],
                        "type": "contour"
                      }
                    ],
                    "contourcarpet": [
                      {
                        "colorbar": {
                          "outlinewidth": 0,
                          "ticks": ""
                        },
                        "type": "contourcarpet"
                      }
                    ],
                    "heatmap": [
                      {
                        "colorbar": {
                          "outlinewidth": 0,
                          "ticks": ""
                        },
                        "colorscale": [
                          [
                            0,
                            "#0d0887"
                          ],
                          [
                            0.1111111111111111,
                            "#46039f"
                          ],
                          [
                            0.2222222222222222,
                            "#7201a8"
                          ],
                          [
                            0.3333333333333333,
                            "#9c179e"
                          ],
                          [
                            0.4444444444444444,
                            "#bd3786"
                          ],
                          [
                            0.5555555555555556,
                            "#d8576b"
                          ],
                          [
                            0.6666666666666666,
                            "#ed7953"
                          ],
                          [
                            0.7777777777777778,
                            "#fb9f3a"
                          ],
                          [
                            0.8888888888888888,
                            "#fdca26"
                          ],
                          [
                            1,
                            "#f0f921"
                          ]
                        ],
                        "type": "heatmap"
                      }
                    ],
                    "heatmapgl": [
                      {
                        "colorbar": {
                          "outlinewidth": 0,
                          "ticks": ""
                        },
                        "colorscale": [
                          [
                            0,
                            "#0d0887"
                          ],
                          [
                            0.1111111111111111,
                            "#46039f"
                          ],
                          [
                            0.2222222222222222,
                            "#7201a8"
                          ],
                          [
                            0.3333333333333333,
                            "#9c179e"
                          ],
                          [
                            0.4444444444444444,
                            "#bd3786"
                          ],
                          [
                            0.5555555555555556,
                            "#d8576b"
                          ],
                          [
                            0.6666666666666666,
                            "#ed7953"
                          ],
                          [
                            0.7777777777777778,
                            "#fb9f3a"
                          ],
                          [
                            0.8888888888888888,
                            "#fdca26"
                          ],
                          [
                            1,
                            "#f0f921"
                          ]
                        ],
                        "type": "heatmapgl"
                      }
                    ],
                    "histogram": [
                      {
                        "marker": {
                          "pattern": {
                            "fillmode": "overlay",
                            "size": 10,
                            "solidity": 0.2
                          }
                        },
                        "type": "histogram"
                      }
                    ],
                    "histogram2d": [
                      {
                        "colorbar": {
                          "outlinewidth": 0,
                          "ticks": ""
                        },
                        "colorscale": [
                          [
                            0,
                            "#0d0887"
                          ],
                          [
                            0.1111111111111111,
                            "#46039f"
                          ],
                          [
                            0.2222222222222222,
                            "#7201a8"
                          ],
                          [
                            0.3333333333333333,
                            "#9c179e"
                          ],
                          [
                            0.4444444444444444,
                            "#bd3786"
                          ],
                          [
                            0.5555555555555556,
                            "#d8576b"
                          ],
                          [
                            0.6666666666666666,
                            "#ed7953"
                          ],
                          [
                            0.7777777777777778,
                            "#fb9f3a"
                          ],
                          [
                            0.8888888888888888,
                            "#fdca26"
                          ],
                          [
                            1,
                            "#f0f921"
                          ]
                        ],
                        "type": "histogram2d"
                      }
                    ],
                    "histogram2dcontour": [
                      {
                        "colorbar": {
                          "outlinewidth": 0,
                          "ticks": ""
                        },
                        "colorscale": [
                          [
                            0,
                            "#0d0887"
                          ],
                          [
                            0.1111111111111111,
                            "#46039f"
                          ],
                          [
                            0.2222222222222222,
                            "#7201a8"
                          ],
                          [
                            0.3333333333333333,
                            "#9c179e"
                          ],
                          [
                            0.4444444444444444,
                            "#bd3786"
                          ],
                          [
                            0.5555555555555556,
                            "#d8576b"
                          ],
                          [
                            0.6666666666666666,
                            "#ed7953"
                          ],
                          [
                            0.7777777777777778,
                            "#fb9f3a"
                          ],
                          [
                            0.8888888888888888,
                            "#fdca26"
                          ],
                          [
                            1,
                            "#f0f921"
                          ]
                        ],
                        "type": "histogram2dcontour"
                      }
                    ],
                    "mesh3d": [
                      {
                        "colorbar": {
                          "outlinewidth": 0,
                          "ticks": ""
                        },
                        "type": "mesh3d"
                      }
                    ],
                    "parcoords": [
                      {
                        "line": {
                          "colorbar": {
                            "outlinewidth": 0,
                            "ticks": ""
                          }
                        },
                        "type": "parcoords"
                      }
                    ],
                    "pie": [
                      {
                        "automargin": true,
                        "type": "pie"
                      }
                    ],
                    "scatter": [
                      {
                        "fillpattern": {
                          "fillmode": "overlay",
                          "size": 10,
                          "solidity": 0.2
                        },
                        "type": "scatter"
                      }
                    ],
                    "scatter3d": [
                      {
                        "line": {
                          "colorbar": {
                            "outlinewidth": 0,
                            "ticks": ""
                          }
                        },
                        "marker": {
                          "colorbar": {
                            "outlinewidth": 0,
                            "ticks": ""
                          }
                        },
                        "type": "scatter3d"
                      }
                    ],
                    "scattercarpet": [
                      {
                        "marker": {
                          "colorbar": {
                            "outlinewidth": 0,
                            "ticks": ""
                          }
                        },
                        "type": "scattercarpet"
                      }
                    ],
                    "scattergeo": [
                      {
                        "marker": {
                          "colorbar": {
                            "outlinewidth": 0,
                            "ticks": ""
                          }
                        },
                        "type": "scattergeo"
                      }
                    ],
                    "scattergl": [
                      {
                        "marker": {
                          "colorbar": {
                            "outlinewidth": 0,
                            "ticks": ""
                          }
                        },
                        "type": "scattergl"
                      }
                    ],
                    "scattermapbox": [
                      {
                        "marker": {
                          "colorbar": {
                            "outlinewidth": 0,
                            "ticks": ""
                          }
                        },
                        "type": "scattermapbox"
                      }
                    ],
                    "scatterpolar": [
                      {
                        "marker": {
                          "colorbar": {
                            "outlinewidth": 0,
                            "ticks": ""
                          }
                        },
                        "type": "scatterpolar"
                      }
                    ],
                    "scatterpolargl": [
                      {
                        "marker": {
                          "colorbar": {
                            "outlinewidth": 0,
                            "ticks": ""
                          }
                        },
                        "type": "scatterpolargl"
                      }
                    ],
                    "scatterternary": [
                      {
                        "marker": {
                          "colorbar": {
                            "outlinewidth": 0,
                            "ticks": ""
                          }
                        },
                        "type": "scatterternary"
                      }
                    ],
                    "surface": [
                      {
                        "colorbar": {
                          "outlinewidth": 0,
                          "ticks": ""
                        },
                        "colorscale": [
                          [
                            0,
                            "#0d0887"
                          ],
                          [
                            0.1111111111111111,
                            "#46039f"
                          ],
                          [
                            0.2222222222222222,
                            "#7201a8"
                          ],
                          [
                            0.3333333333333333,
                            "#9c179e"
                          ],
                          [
                            0.4444444444444444,
                            "#bd3786"
                          ],
                          [
                            0.5555555555555556,
                            "#d8576b"
                          ],
                          [
                            0.6666666666666666,
                            "#ed7953"
                          ],
                          [
                            0.7777777777777778,
                            "#fb9f3a"
                          ],
                          [
                            0.8888888888888888,
                            "#fdca26"
                          ],
                          [
                            1,
                            "#f0f921"
                          ]
                        ],
                        "type": "surface"
                      }
                    ],
                    "table": [
                      {
                        "cells": {
                          "fill": {
                            "color": "#EBF0F8"
                          },
                          "line": {
                            "color": "white"
                          }
                        },
                        "header": {
                          "fill": {
                            "color": "#C8D4E3"
                          },
                          "line": {
                            "color": "white"
                          }
                        },
                        "type": "table"
                      }
                    ]
                  },
                  "layout": {
                    "annotationdefaults": {
                      "arrowcolor": "#2a3f5f",
                      "arrowhead": 0,
                      "arrowwidth": 1
                    },
                    "autotypenumbers": "strict",
                    "coloraxis": {
                      "colorbar": {
                        "outlinewidth": 0,
                        "ticks": ""
                      }
                    },
                    "colorscale": {
                      "diverging": [
                        [
                          0,
                          "#8e0152"
                        ],
                        [
                          0.1,
                          "#c51b7d"
                        ],
                        [
                          0.2,
                          "#de77ae"
                        ],
                        [
                          0.3,
                          "#f1b6da"
                        ],
                        [
                          0.4,
                          "#fde0ef"
                        ],
                        [
                          0.5,
                          "#f7f7f7"
                        ],
                        [
                          0.6,
                          "#e6f5d0"
                        ],
                        [
                          0.7,
                          "#b8e186"
                        ],
                        [
                          0.8,
                          "#7fbc41"
                        ],
                        [
                          0.9,
                          "#4d9221"
                        ],
                        [
                          1,
                          "#276419"
                        ]
                      ],
                      "sequential": [
                        [
                          0,
                          "#0d0887"
                        ],
                        [
                          0.1111111111111111,
                          "#46039f"
                        ],
                        [
                          0.2222222222222222,
                          "#7201a8"
                        ],
                        [
                          0.3333333333333333,
                          "#9c179e"
                        ],
                        [
                          0.4444444444444444,
                          "#bd3786"
                        ],
                        [
                          0.5555555555555556,
                          "#d8576b"
                        ],
                        [
                          0.6666666666666666,
                          "#ed7953"
                        ],
                        [
                          0.7777777777777778,
                          "#fb9f3a"
                        ],
                        [
                          0.8888888888888888,
                          "#fdca26"
                        ],
                        [
                          1,
                          "#f0f921"
                        ]
                      ],
                      "sequentialminus": [
                        [
                          0,
                          "#0d0887"
                        ],
                        [
                          0.1111111111111111,
                          "#46039f"
                        ],
                        [
                          0.2222222222222222,
                          "#7201a8"
                        ],
                        [
                          0.3333333333333333,
                          "#9c179e"
                        ],
                        [
                          0.4444444444444444,
                          "#bd3786"
                        ],
                        [
                          0.5555555555555556,
                          "#d8576b"
                        ],
                        [
                          0.6666666666666666,
                          "#ed7953"
                        ],
                        [
                          0.7777777777777778,
                          "#fb9f3a"
                        ],
                        [
                          0.8888888888888888,
                          "#fdca26"
                        ],
                        [
                          1,
                          "#f0f921"
                        ]
                      ]
                    },
                    "colorway": [
                      "#636efa",
                      "#EF553B",
                      "#00cc96",
                      "#ab63fa",
                      "#FFA15A",
                      "#19d3f3",
                      "#FF6692",
                      "#B6E880",
                      "#FF97FF",
                      "#FECB52"
                    ],
                    "font": {
                      "color": "#2a3f5f"
                    },
                    "geo": {
                      "bgcolor": "white",
                      "lakecolor": "white",
                      "landcolor": "#E5ECF6",
                      "showlakes": true,
                      "showland": true,
                      "subunitcolor": "white"
                    },
                    "hoverlabel": {
                      "align": "left"
                    },
                    "hovermode": "closest",
                    "mapbox": {
                      "style": "light"
                    },
                    "paper_bgcolor": "white",
                    "plot_bgcolor": "#E5ECF6",
                    "polar": {
                      "angularaxis": {
                        "gridcolor": "white",
                        "linecolor": "white",
                        "ticks": ""
                      },
                      "bgcolor": "#E5ECF6",
                      "radialaxis": {
                        "gridcolor": "white",
                        "linecolor": "white",
                        "ticks": ""
                      }
                    },
                    "scene": {
                      "xaxis": {
                        "backgroundcolor": "#E5ECF6",
                        "gridcolor": "white",
                        "gridwidth": 2,
                        "linecolor": "white",
                        "showbackground": true,
                        "ticks": "",
                        "zerolinecolor": "white"
                      },
                      "yaxis": {
                        "backgroundcolor": "#E5ECF6",
                        "gridcolor": "white",
                        "gridwidth": 2,
                        "linecolor": "white",
                        "showbackground": true,
                        "ticks": "",
                        "zerolinecolor": "white"
                      },
                      "zaxis": {
                        "backgroundcolor": "#E5ECF6",
                        "gridcolor": "white",
                        "gridwidth": 2,
                        "linecolor": "white",
                        "showbackground": true,
                        "ticks": "",
                        "zerolinecolor": "white"
                      }
                    },
                    "shapedefaults": {
                      "line": {
                        "color": "#2a3f5f"
                      }
                    },
                    "ternary": {
                      "aaxis": {
                        "gridcolor": "white",
                        "linecolor": "white",
                        "ticks": ""
                      },
                      "baxis": {
                        "gridcolor": "white",
                        "linecolor": "white",
                        "ticks": ""
                      },
                      "bgcolor": "#E5ECF6",
                      "caxis": {
                        "gridcolor": "white",
                        "linecolor": "white",
                        "ticks": ""
                      }
                    },
                    "title": {
                      "x": 0.05
                    },
                    "xaxis": {
                      "automargin": true,
                      "gridcolor": "white",
                      "linecolor": "white",
                      "ticks": "",
                      "title": {
                        "standoff": 15
                      },
                      "zerolinecolor": "white",
                      "zerolinewidth": 2
                    },
                    "yaxis": {
                      "automargin": true,
                      "gridcolor": "white",
                      "linecolor": "white",
                      "ticks": "",
                      "title": {
                        "standoff": 15
                      },
                      "zerolinecolor": "white",
                      "zerolinewidth": 2
                    }
                  }
                },
                "title": {
                  "text": "Heatmap de Doenças Cardíacas"
                },
                "xaxis": {
                  "anchor": "y",
                  "constrain": "domain",
                  "domain": [
                    0,
                    1
                  ],
                  "scaleanchor": "y",
                  "tickangle": -45
                },
                "yaxis": {
                  "anchor": "x",
                  "autorange": "reversed",
                  "constrain": "domain",
                  "domain": [
                    0,
                    1
                  ]
                }
              }
            }
          },
          "metadata": {},
          "output_type": "display_data"
        }
      ],
      "source": [
        "#Fazendo um heatmap para ver quais categorias tem uma maior relação com a variável target (Sinalizando a o diagnóstico de doenças cardíacas)\n",
        "fig = px.imshow(dfdummies.corr())\n",
        "\n",
        "#Mudar o layout do heatmap \n",
        "fig.update_layout(title=\"Heatmap de Doenças Cardíacas\",\n",
        "                    xaxis=dict(\n",
        "                        tickangle=-45,\n",
        "                    ))\n",
        "\n",
        "fig.show()\n"
      ]
    },
    {
      "cell_type": "code",
      "execution_count": 21,
      "metadata": {},
      "outputs": [
        {
          "name": "stdout",
          "output_type": "stream",
          "text": [
            "X_train:  (227, 27)\n",
            "y_train:  (227,)\n",
            "---\n",
            "X_test:  (76, 27)\n",
            "y_test:  (76,)\n"
          ]
        }
      ],
      "source": [
        "X_train, X_test, y_train, y_test = train_test_split(dfdummies, y, test_size=0.25, random_state=110)\n",
        "\n",
        "print('X_train: ', X_train.shape)\n",
        "print('y_train: ', y_train.shape)\n",
        "print('---')\n",
        "print('X_test: ', X_test.shape)\n",
        "print('y_test: ', y_test.shape)"
      ]
    },
    {
      "cell_type": "code",
      "execution_count": 22,
      "metadata": {},
      "outputs": [],
      "source": [
        "logistic_model = LogisticRegression()\n",
        "logistic_model.fit(X_train, y_train)\n",
        "\n",
        "y_pred = logistic_model.predict(X_test)"
      ]
    },
    {
      "cell_type": "markdown",
      "metadata": {
        "id": "p8nSRsZxXDQZ"
      },
      "source": [
        "### *2.4 Avaliação do Modelo*"
      ]
    },
    {
      "cell_type": "code",
      "execution_count": null,
      "metadata": {
        "id": "Tz3xoAnyXEDO"
      },
      "outputs": [],
      "source": [
        "#Use métricas de avaliação para o seu modelo"
      ]
    },
    {
      "cell_type": "code",
      "execution_count": 30,
      "metadata": {},
      "outputs": [
        {
          "data": {
            "text/html": [
              "<div>\n",
              "<style scoped>\n",
              "    .dataframe tbody tr th:only-of-type {\n",
              "        vertical-align: middle;\n",
              "    }\n",
              "\n",
              "    .dataframe tbody tr th {\n",
              "        vertical-align: top;\n",
              "    }\n",
              "\n",
              "    .dataframe thead th {\n",
              "        text-align: right;\n",
              "    }\n",
              "</style>\n",
              "<table border=\"1\" class=\"dataframe\">\n",
              "  <thead>\n",
              "    <tr style=\"text-align: right;\">\n",
              "      <th></th>\n",
              "      <th>Real</th>\n",
              "      <th>Modelo</th>\n",
              "    </tr>\n",
              "  </thead>\n",
              "  <tbody>\n",
              "    <tr>\n",
              "      <th>16</th>\n",
              "      <td>1</td>\n",
              "      <td>1</td>\n",
              "    </tr>\n",
              "    <tr>\n",
              "      <th>286</th>\n",
              "      <td>0</td>\n",
              "      <td>0</td>\n",
              "    </tr>\n",
              "    <tr>\n",
              "      <th>92</th>\n",
              "      <td>1</td>\n",
              "      <td>1</td>\n",
              "    </tr>\n",
              "    <tr>\n",
              "      <th>260</th>\n",
              "      <td>0</td>\n",
              "      <td>0</td>\n",
              "    </tr>\n",
              "    <tr>\n",
              "      <th>185</th>\n",
              "      <td>0</td>\n",
              "      <td>0</td>\n",
              "    </tr>\n",
              "  </tbody>\n",
              "</table>\n",
              "</div>"
            ],
            "text/plain": [
              "     Real  Modelo\n",
              "16      1       1\n",
              "286     0       0\n",
              "92      1       1\n",
              "260     0       0\n",
              "185     0       0"
            ]
          },
          "execution_count": 30,
          "metadata": {},
          "output_type": "execute_result"
        }
      ],
      "source": [
        "#Fazer um dataframe comparativo dos valores reais e os valores previstos\n",
        "df_compare = pd.DataFrame({'Real': y_test, 'Modelo': y_pred})\n",
        "df_compare.head()"
      ]
    },
    {
      "cell_type": "code",
      "execution_count": 23,
      "metadata": {},
      "outputs": [
        {
          "data": {
            "text/plain": [
              "1.0"
            ]
          },
          "execution_count": 23,
          "metadata": {},
          "output_type": "execute_result"
        }
      ],
      "source": [
        "#Acurácia\n",
        "accuracy_score(y_test, y_pred)"
      ]
    },
    {
      "cell_type": "code",
      "execution_count": 24,
      "metadata": {},
      "outputs": [
        {
          "data": {
            "text/plain": [
              "1.0"
            ]
          },
          "execution_count": 24,
          "metadata": {},
          "output_type": "execute_result"
        }
      ],
      "source": [
        "#F1 Score\n",
        "f1_score(y_test, y_pred)"
      ]
    },
    {
      "cell_type": "code",
      "execution_count": 25,
      "metadata": {},
      "outputs": [
        {
          "data": {
            "text/plain": [
              "array([[34,  0],\n",
              "       [ 0, 42]], dtype=int64)"
            ]
          },
          "execution_count": 25,
          "metadata": {},
          "output_type": "execute_result"
        }
      ],
      "source": [
        "confusion_matrix = confusion_matrix(y_test, y_pred)\n",
        "confusion_matrix"
      ]
    },
    {
      "cell_type": "code",
      "execution_count": 29,
      "metadata": {},
      "outputs": [
        {
          "data": {
            "text/plain": [
              "<Axes: >"
            ]
          },
          "execution_count": 29,
          "metadata": {},
          "output_type": "execute_result"
        },
        {
          "data": {
            "image/png": "[encoded data removed]",
            "text/plain": [
              "<Figure size 640x480 with 2 Axes>"
            ]
          },
          "metadata": {},
          "output_type": "display_data"
        }
      ],
      "source": [
        "sns.heatmap(confusion_matrix, cmap= \"Blues\", annot=True)"
      ]
    },
    {
      "cell_type": "markdown",
      "metadata": {
        "id": "is4FAzGUC78O"
      },
      "source": [
        "###*2.5 Conclusões*"
      ]
    },
    {
      "cell_type": "code",
      "execution_count": null,
      "metadata": {
        "id": "8kFm7P9hChjQ"
      },
      "outputs": [],
      "source": [
        "#Insira aqui as conclusões que você conseguiu absorver a partir desse modelo.\n",
        "Conclusoes = \"\"\"Primeiramente, havia sido feito um heatmap para análise de quais características poderiam impactar mais na presença de doenças cardíacas. Entretanto,\n",
        "não foi possível identificar uma relação clara entre algumas variáveis que eu julgava ser de certa importância e a variável target. Porém depois do ser feito com o dataframe\n",
        "pós tratamento usando a função get_dummies, foi possível ver de forma mais clara as relações entre tais variáveis (como \"sex\" ou \"thal\")\"\"\"\n",
        "\n",
        "\n",
        "\n",
        "\n",
        "\n",
        "\n",
        "print(Conclusoes)"
      ]
    },
    {
      "cell_type": "markdown",
      "metadata": {
        "id": "72VUlIEb8jFD"
      },
      "source": [
        "##**Questão 3:** *Perceptron*\n"
      ]
    },
    {
      "cell_type": "markdown",
      "metadata": {
        "id": "9_p_Ubna8jFE"
      },
      "source": [
        "###*3.1 Imports*"
      ]
    },
    {
      "cell_type": "code",
      "execution_count": null,
      "metadata": {
        "id": "Hcwbv5XG8jFE"
      },
      "outputs": [],
      "source": [
        "#Insira seu código aqui"
      ]
    },
    {
      "cell_type": "markdown",
      "metadata": {
        "id": "d192e2WM8jFF"
      },
      "source": [
        "###*3.2 Divisão de treino e teste*"
      ]
    },
    {
      "cell_type": "code",
      "execution_count": null,
      "metadata": {
        "id": "dmwefsYJ8jFF"
      },
      "outputs": [],
      "source": [
        "#Insira seu código aqui"
      ]
    },
    {
      "cell_type": "markdown",
      "metadata": {
        "id": "eaaazYx88jFF"
      },
      "source": [
        "### *3.3 Modelo*"
      ]
    },
    {
      "cell_type": "code",
      "execution_count": null,
      "metadata": {
        "id": "6XeEMis68jFF"
      },
      "outputs": [],
      "source": [
        "#Insira seu código aqui"
      ]
    },
    {
      "cell_type": "markdown",
      "metadata": {
        "id": "pDOJO41EXF8n"
      },
      "source": [
        "### *3.4 Avaliação do Modelo*"
      ]
    },
    {
      "cell_type": "code",
      "execution_count": null,
      "metadata": {
        "id": "zj7sfQX4XH1g"
      },
      "outputs": [],
      "source": [
        "#Use métricas de avaliação para o seu modelo"
      ]
    },
    {
      "cell_type": "markdown",
      "metadata": {
        "id": "IHRNOPSC8jFF"
      },
      "source": [
        "###*3.5 Conclusões*"
      ]
    },
    {
      "cell_type": "code",
      "execution_count": null,
      "metadata": {
        "id": "K6kMj9yT8jFG"
      },
      "outputs": [],
      "source": [
        "#Insira aqui as conclusões que você conseguiu absorver a partir desse modelo.\n",
        "Conclusoes = \"\"\n",
        "\n",
        "\n",
        "\n",
        "\n",
        "\n",
        "\n",
        "print(Conclusoes)"
      ]
    }
  ],
  "metadata": {
    "colab": {
      "provenance": []
    },
    "kernelspec": {
      "display_name": "Python 3",
      "name": "python3"
    },
    "language_info": {
      "codemirror_mode": {
        "name": "ipython",
        "version": 3
      },
      "file_extension": ".py",
      "mimetype": "text/x-python",
      "name": "python",
      "nbconvert_exporter": "python",
      "pygments_lexer": "ipython3",
      "version": "3.11.7"
    }
  },
  "nbformat": 4,
  "nbformat_minor": 0
}
