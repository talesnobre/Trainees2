{
  "cells": [
    {
      "cell_type": "markdown",
      "metadata": {
        "id": "bhRj3mZjtrKe"
      },
      "source": [
        "<a href=\"TAIL\"><img src=\"https://i.imgur.com/GRTE0OG.png\" width=\"150\" title=\"Tail Logo\" /></a>\n",
        "\n",
        "# <font color =\"#00b8ff\">Exercícios de Aprendizagem de Máquina</font>"
      ]
    },
    {
      "cell_type": "markdown",
      "metadata": {
        "id": "Inzl1VqG2oqC"
      },
      "source": [
        " Essa lista de exercícios foi criada para que vocês possam aplicar os conhecimentos que vocês adquiriram na aula que assistiram.\n",
        "\n",
        "Podem tirar dúvidas com **Tales Nobre** e **Felipe Duarte** quando quiserem!\n",
        "**O prazo de envio do notebook é até a reunião da próxima semana, até 1 hora antes da reunião, podem enviar colocar o conteúdo na branch de vocês do repositório**\n"
      ]
    },
    {
      "cell_type": "markdown",
      "metadata": {
        "id": "ahOuHhFSAQpx"
      },
      "source": [
        "\n",
        "🌍 [Link do drive com o Dataset](https://drive.google.com/drive/folders/1xi7m5gzJflujzoDvkPMkRO28SlR4139n?usp=sharing)\n"
      ]
    },
    {
      "cell_type": "markdown",
      "metadata": {
        "id": "l2Cd0nSn60g-"
      },
      "source": [
        "###**Objetivos**"
      ]
    },
    {
      "cell_type": "markdown",
      "metadata": {
        "id": "C5BveViG63G6"
      },
      "source": [
        "\n",
        "*   Entender o nível de conhecimento individual de vocês\n",
        "*   Estimular vocês a praticarem as formas básicas de avaliar um modelo\n"
      ]
    },
    {
      "cell_type": "markdown",
      "metadata": {
        "id": "N3EBzvz672i1"
      },
      "source": [
        "##**Observações**"
      ]
    },
    {
      "cell_type": "markdown",
      "metadata": {
        "id": "cTGz2NpI75IP"
      },
      "source": [
        "\n",
        "\n",
        "*   Façam uma cópia desse notebook e realizem as questões.\n",
        "*   Foquem no espaço de *Conclusões*, que aparece no final de cada questão, para explicar as conclusões que vocês chegaram a partir da análise de dados.\n",
        "*   É recomendável que vocês acessem os materiais de apoio que serão disponibilizados em seguida.\n",
        "*   Prezem pela organização, é muito importante explicar cada etapa de execução, principalmente no contexto de análise de dados.\n",
        "*   Claro que vocês não vão precisam importar várias vezes as bibliotecas dentro de um mesmo notebook, mas por fins educativos é recomendado que vocês façam isso nessa lista de exercícios!\n",
        "*   As questões são progressivas, ou seja, a quantidade de instruções e o nível de dificuldade mudarão ao longo da lista. **Lembre-se de manter o mesmo padrão em todas as questões.**\n",
        "*  Divida em quantas células e caixas de texto quiser, afim de deixar a legibilidade do código a melhor possível.\n",
        "\n"
      ]
    },
    {
      "cell_type": "markdown",
      "metadata": {
        "id": "VS8cCdvE8i7I"
      },
      "source": [
        "🐼 Material de apoio:\n",
        "\n",
        "Repositório de apoio:\n",
        "*   [Repositório do Github](https://github.com/talesnobre/miniproject_ML/blob/main/models.py)\n",
        "\n",
        "Matriz de Confusão:\n",
        "*   [O que é?](https://towardsdatascience.com/understanding-confusion-matrix-a9ad42dcfd62)\n",
        "*   [SKlearn](https://scikit-learn.org/stable/modules/generated/sklearn.metrics.confusion_matrix.html)\n",
        "\n",
        "\n",
        "F1 Score (Acurácia, Precisão e Recall):\n",
        "*   [O que é?](https://medium.com/@mateuspdua/machine-learning-m%C3%A9tricas-de-avalia%C3%A7%C3%A3o-acur%C3%A1cia-precis%C3%A3o-e-recall-d44c72307959)\n",
        "*   [SKlearn](https://scikit-learn.org/stable/modules/generated/sklearn.metrics.f1_score.html)\n",
        "\n",
        "Loss Function:\n",
        "*   [O que é?](https://www.datarobot.com/blog/introduction-to-loss-functions/#:~:text=At%20its%20core%2C%20a%20loss,ll%20output%20a%20lower%20number.)\n",
        "*   [SKlearn](https://scikit-learn.org/stable/modules/generated/sklearn.metrics.log_loss.html)\n"
      ]
    },
    {
      "cell_type": "markdown",
      "metadata": {
        "id": "5vyNVu3k7O8F"
      },
      "source": [
        "Lembrem-se, a prática leva à perfeição!🧠"
      ]
    },
    {
      "cell_type": "markdown",
      "metadata": {
        "id": "eXtn9fhbmPtu"
      },
      "source": [
        "#**Questão 1: Doenças Cardíacas**\n",
        "\n",
        "\n"
      ]
    },
    {
      "cell_type": "markdown",
      "metadata": {
        "id": "tc6GOexMiYvp"
      },
      "source": [
        "Use Acurácia, F1 Score, Matriz de confusão e Loss function para avaliar o desempenho do modelo."
      ]
    },
    {
      "cell_type": "markdown",
      "metadata": {
        "id": "1gfrxermkED9"
      },
      "source": [
        "## Dataset (Não precisam mexer)"
      ]
    },
    {
      "cell_type": "code",
      "execution_count": 1,
      "metadata": {},
      "outputs": [
        {
          "name": "stdout",
          "output_type": "stream",
          "text": [
            "Requirement already satisfied: xgboost in c:\\users\\ian_b\\anaconda3\\lib\\site-packages (2.0.3)\n",
            "Requirement already satisfied: numpy in c:\\users\\ian_b\\anaconda3\\lib\\site-packages (from xgboost) (1.26.4)\n",
            "Requirement already satisfied: scipy in c:\\users\\ian_b\\anaconda3\\lib\\site-packages (from xgboost) (1.11.4)\n",
            "Requirement already satisfied: lightgbm in c:\\users\\ian_b\\anaconda3\\lib\\site-packages (4.3.0)\n",
            "Requirement already satisfied: numpy in c:\\users\\ian_b\\anaconda3\\lib\\site-packages (from lightgbm) (1.26.4)\n",
            "Requirement already satisfied: scipy in c:\\users\\ian_b\\anaconda3\\lib\\site-packages (from lightgbm) (1.11.4)\n",
            "Requirement already satisfied: catboost in c:\\users\\ian_b\\anaconda3\\lib\\site-packages (1.2.5)\n",
            "Requirement already satisfied: graphviz in c:\\users\\ian_b\\anaconda3\\lib\\site-packages (from catboost) (0.20.3)\n",
            "Requirement already satisfied: matplotlib in c:\\users\\ian_b\\anaconda3\\lib\\site-packages (from catboost) (3.8.0)\n",
            "Requirement already satisfied: numpy>=1.16.0 in c:\\users\\ian_b\\anaconda3\\lib\\site-packages (from catboost) (1.26.4)\n",
            "Requirement already satisfied: pandas>=0.24 in c:\\users\\ian_b\\anaconda3\\lib\\site-packages (from catboost) (2.1.4)\n",
            "Requirement already satisfied: scipy in c:\\users\\ian_b\\anaconda3\\lib\\site-packages (from catboost) (1.11.4)\n",
            "Requirement already satisfied: plotly in c:\\users\\ian_b\\anaconda3\\lib\\site-packages (from catboost) (5.9.0)\n",
            "Requirement already satisfied: six in c:\\users\\ian_b\\anaconda3\\lib\\site-packages (from catboost) (1.16.0)\n",
            "Requirement already satisfied: python-dateutil>=2.8.2 in c:\\users\\ian_b\\anaconda3\\lib\\site-packages (from pandas>=0.24->catboost) (2.8.2)\n",
            "Requirement already satisfied: pytz>=2020.1 in c:\\users\\ian_b\\anaconda3\\lib\\site-packages (from pandas>=0.24->catboost) (2023.3.post1)\n",
            "Requirement already satisfied: tzdata>=2022.1 in c:\\users\\ian_b\\anaconda3\\lib\\site-packages (from pandas>=0.24->catboost) (2023.3)\n",
            "Requirement already satisfied: contourpy>=1.0.1 in c:\\users\\ian_b\\anaconda3\\lib\\site-packages (from matplotlib->catboost) (1.2.0)\n",
            "Requirement already satisfied: cycler>=0.10 in c:\\users\\ian_b\\anaconda3\\lib\\site-packages (from matplotlib->catboost) (0.11.0)\n",
            "Requirement already satisfied: fonttools>=4.22.0 in c:\\users\\ian_b\\anaconda3\\lib\\site-packages (from matplotlib->catboost) (4.25.0)\n",
            "Requirement already satisfied: kiwisolver>=1.0.1 in c:\\users\\ian_b\\anaconda3\\lib\\site-packages (from matplotlib->catboost) (1.4.4)\n",
            "Requirement already satisfied: packaging>=20.0 in c:\\users\\ian_b\\anaconda3\\lib\\site-packages (from matplotlib->catboost) (23.1)\n",
            "Requirement already satisfied: pillow>=6.2.0 in c:\\users\\ian_b\\anaconda3\\lib\\site-packages (from matplotlib->catboost) (10.2.0)\n",
            "Requirement already satisfied: pyparsing>=2.3.1 in c:\\users\\ian_b\\anaconda3\\lib\\site-packages (from matplotlib->catboost) (3.0.9)\n",
            "Requirement already satisfied: tenacity>=6.2.0 in c:\\users\\ian_b\\anaconda3\\lib\\site-packages (from plotly->catboost) (8.2.2)\n"
          ]
        }
      ],
      "source": [
        "! pip install xgboost\n",
        "! pip install lightgbm\n",
        "! pip install catboost"
      ]
    },
    {
      "cell_type": "code",
      "execution_count": 2,
      "metadata": {
        "colab": {
          "base_uri": "https://localhost:8080/"
        },
        "id": "SgaUXJ10PM1s",
        "outputId": "7117c30c-2c12-4889-a537-8afb0f850b9f"
      },
      "outputs": [
        {
          "name": "stdout",
          "output_type": "stream",
          "text": [
            "Completed.\n"
          ]
        }
      ],
      "source": [
        "import time\n",
        "import pandas as pd\n",
        "import numpy as np\n",
        "import scipy as sp\n",
        "import scipy.stats as stats\n",
        "import matplotlib.pyplot as plt\n",
        "import seaborn as sns\n",
        "import sklearn\n",
        "import sklearn.model_selection\n",
        "from sklearn.preprocessing import LabelEncoder\n",
        "from sklearn.manifold import TSNE\n",
        "\n",
        "\n",
        "# evalue measures\n",
        "from sklearn.metrics import f1_score\n",
        "from sklearn.metrics import accuracy_score\n",
        "from sklearn.metrics import precision_score\n",
        "from sklearn.metrics import recall_score\n",
        "from sklearn.metrics import confusion_matrix\n",
        "from sklearn.metrics import classification_report\n",
        "from sklearn.model_selection import train_test_split\n",
        "\n",
        "from sklearn.neighbors import KNeighborsClassifier\n",
        "from sklearn.linear_model import LogisticRegression\n",
        "from sklearn.tree import DecisionTreeClassifier\n",
        "from sklearn.ensemble import RandomForestClassifier\n",
        "from sklearn.svm import SVC\n",
        "from sklearn.ensemble import GradientBoostingClassifier\n",
        "import xgboost as xgb\n",
        "import lightgbm as lgbm\n",
        "from sklearn.neural_network import MLPClassifier\n",
        "from sklearn.ensemble import RandomForestClassifier\n",
        "from sklearn.ensemble import ExtraTreesClassifier\n",
        "from sklearn.ensemble import AdaBoostClassifier\n",
        "from sklearn.discriminant_analysis import LinearDiscriminantAnalysis\n",
        "from sklearn.discriminant_analysis import QuadraticDiscriminantAnalysis\n",
        "from sklearn.naive_bayes import GaussianNB\n",
        "from sklearn.linear_model import SGDClassifier\n",
        "from catboost import CatBoostClassifier\n",
        "\n",
        "import seaborn as sns\n",
        "sns.set_style(\"darkgrid\")\n",
        "\n",
        "import warnings\n",
        "warnings.filterwarnings(\"ignore\")\n",
        "\n",
        "print('Completed.')"
      ]
    },
    {
      "cell_type": "code",
      "execution_count": 3,
      "metadata": {
        "id": "iKQ6PmKbnAoU"
      },
      "outputs": [],
      "source": [
        "df = pd.read_csv(\"data\\heart.csv\")"
      ]
    },
    {
      "cell_type": "code",
      "execution_count": 4,
      "metadata": {
        "id": "9P4WC2wlQHP3"
      },
      "outputs": [],
      "source": [
        "df.dropna(inplace=True)"
      ]
    },
    {
      "cell_type": "code",
      "execution_count": 5,
      "metadata": {
        "id": "Tvc6Fw37PqZk"
      },
      "outputs": [],
      "source": [
        "X = df.iloc[:, 1:].values\n",
        "y = df.iloc[:, 0].values\n"
      ]
    },
    {
      "cell_type": "code",
      "execution_count": 6,
      "metadata": {
        "colab": {
          "base_uri": "https://localhost:8080/"
        },
        "id": "7rV86weIPyD2",
        "outputId": "2fcb4a11-de52-4079-ada1-74edbe3b2b22"
      },
      "outputs": [
        {
          "data": {
            "text/plain": [
              "array([0, 0, 0, ..., 0, 0, 1], dtype=int64)"
            ]
          },
          "execution_count": 6,
          "metadata": {},
          "output_type": "execute_result"
        }
      ],
      "source": [
        "label_encoder = LabelEncoder()\n",
        "y = label_encoder.fit_transform(y) # convert each label in the original dataset to the unique integer\n",
        "y"
      ]
    },
    {
      "cell_type": "code",
      "execution_count": 7,
      "metadata": {
        "colab": {
          "base_uri": "https://localhost:8080/"
        },
        "id": "-gUgryEiP5Ui",
        "outputId": "632fefe1-9dfb-49a6-e271-226f8d067353"
      },
      "outputs": [
        {
          "name": "stdout",
          "output_type": "stream",
          "text": [
            "X_train:  (190260, 21)\n",
            "y_train:  (190260,)\n",
            "---\n",
            "X_test:  (63420, 21)\n",
            "y_test:  (63420,)\n"
          ]
        }
      ],
      "source": [
        "X_train, X_test, y_train, y_test = train_test_split(X, y, test_size=0.25, random_state=110)\n",
        "\n",
        "print('X_train: ', X_train.shape)\n",
        "print('y_train: ', y_train.shape)\n",
        "print('---')\n",
        "print('X_test: ', X_test.shape)\n",
        "print('y_test: ', y_test.shape)"
      ]
    },
    {
      "cell_type": "markdown",
      "metadata": {
        "id": "VZ3EcRHrQdca"
      },
      "source": [
        "## Regresão Logística"
      ]
    },
    {
      "cell_type": "code",
      "execution_count": 8,
      "metadata": {
        "id": "ROcbtYLfQAFX"
      },
      "outputs": [],
      "source": [
        "logistic_model = LogisticRegression()\n",
        "logistic_model.fit(X_train, y_train)\n",
        "\n",
        "y_pred = logistic_model.predict(X_test)\n"
      ]
    },
    {
      "cell_type": "markdown",
      "metadata": {
        "id": "vYoJFNZqkIFc"
      },
      "source": [
        "### Avaliação"
      ]
    },
    {
      "cell_type": "code",
      "execution_count": 11,
      "metadata": {},
      "outputs": [
        {
          "data": {
            "text/plain": [
              "array([0, 0, 0, ..., 0, 0, 0], dtype=int64)"
            ]
          },
          "execution_count": 11,
          "metadata": {},
          "output_type": "execute_result"
        }
      ],
      "source": [
        "y_pred"
      ]
    },
    {
      "cell_type": "code",
      "execution_count": 12,
      "metadata": {},
      "outputs": [
        {
          "data": {
            "text/plain": [
              "array([1, 0, 0, ..., 0, 0, 0], dtype=int64)"
            ]
          },
          "execution_count": 12,
          "metadata": {},
          "output_type": "execute_result"
        }
      ],
      "source": [
        "y_test"
      ]
    },
    {
      "cell_type": "code",
      "execution_count": null,
      "metadata": {
        "id": "nRPfayr5kK0l"
      },
      "outputs": [],
      "source": [
        "#Acurácia simples"
      ]
    },
    {
      "cell_type": "code",
      "execution_count": null,
      "metadata": {
        "id": "7ObG9PepkLGR"
      },
      "outputs": [],
      "source": [
        "#F1-Score"
      ]
    },
    {
      "cell_type": "code",
      "execution_count": null,
      "metadata": {
        "id": "4wRg8fEM5KuQ"
      },
      "outputs": [],
      "source": [
        "#Loss Function"
      ]
    },
    {
      "cell_type": "code",
      "execution_count": null,
      "metadata": {
        "id": "hD91NZ6B5Lsc"
      },
      "outputs": [],
      "source": [
        "#Matriz de confusão"
      ]
    },
    {
      "cell_type": "markdown",
      "metadata": {
        "id": "HlK3yVl2QgEg"
      },
      "source": [
        "## Rede Neural"
      ]
    },
    {
      "cell_type": "code",
      "execution_count": null,
      "metadata": {
        "id": "R7z0H0FoeIDO"
      },
      "outputs": [],
      "source": [
        "neural_network_model = MLPClassifier()\n",
        "neural_network_model.fit(X_train, y_train)\n",
        "\n",
        "y_pred = neural_network_model.predict(X_test)\n"
      ]
    },
    {
      "cell_type": "markdown",
      "metadata": {
        "id": "Zv2mPrFLkNDp"
      },
      "source": [
        "### Avaliação"
      ]
    },
    {
      "cell_type": "code",
      "execution_count": null,
      "metadata": {
        "id": "gkEUQd_dkND0"
      },
      "outputs": [],
      "source": []
    },
    {
      "cell_type": "code",
      "execution_count": null,
      "metadata": {
        "id": "xL4ohIBKkND0"
      },
      "outputs": [],
      "source": []
    },
    {
      "cell_type": "markdown",
      "metadata": {
        "id": "s42F68rTirlQ"
      },
      "source": [
        "## Conclusão"
      ]
    },
    {
      "cell_type": "code",
      "execution_count": null,
      "metadata": {
        "id": "XDzT3uspis6M"
      },
      "outputs": [],
      "source": [
        "conclusao = \"\"\"\n",
        "escreva sua conclusão aqui\n",
        "\"\"\"\n",
        "\n",
        "print(conclusao)"
      ]
    },
    {
      "cell_type": "markdown",
      "metadata": {
        "id": "2QsYYUsMkUX2"
      },
      "source": [
        "#**Questão 2: Raças de cachorro**\n",
        "\n",
        "\n"
      ]
    },
    {
      "cell_type": "markdown",
      "metadata": {
        "id": "DRCtt239kUYC"
      },
      "source": [
        "Use Acurácia, F1 Score, Matriz de confusão e Loss function para avaliar o desempenho do modelo."
      ]
    },
    {
      "cell_type": "markdown",
      "metadata": {
        "id": "YgsFOIDwkUYC"
      },
      "source": [
        "### Dataset (Não precisam mexer)"
      ]
    },
    {
      "cell_type": "code",
      "execution_count": null,
      "metadata": {
        "id": "rvDx-OsckUYC"
      },
      "outputs": [],
      "source": [
        "df = pd.read_csv(\"local-do-csv-dogs\")"
      ]
    },
    {
      "cell_type": "code",
      "execution_count": null,
      "metadata": {
        "id": "8e7_OowrkUYC"
      },
      "outputs": [],
      "source": [
        "X_train, X_test, y_train, y_test = train_test_split(df.drop(\"group\", axis=1), df[\"group\"], test_size=0.25, random_state=42)\n",
        "\n"
      ]
    },
    {
      "cell_type": "markdown",
      "metadata": {
        "id": "e4r2EmTJkUYD"
      },
      "source": [
        "## Nayve Bayes"
      ]
    },
    {
      "cell_type": "code",
      "execution_count": null,
      "metadata": {
        "id": "C99ERFDgkUYD"
      },
      "outputs": [],
      "source": [
        "from sklearn.naive_bayes import GaussianNB #nb normal (sem ser gaussiano)\n",
        "from sklearn.metrics import accuracy_score, confusion_matrix, precision_score, recall_score, ConfusionMatrixDisplay\n",
        "\n",
        "model = GaussianNB()\n",
        "\n",
        "model.fit(X_train, y_train)\n",
        "predicted = model.predict(X_test)\n"
      ]
    },
    {
      "cell_type": "markdown",
      "metadata": {
        "id": "BUQ5D0LGkUYD"
      },
      "source": [
        "### Avaliação"
      ]
    },
    {
      "cell_type": "code",
      "execution_count": null,
      "metadata": {
        "id": "PGtEB2rdkUYD"
      },
      "outputs": [],
      "source": []
    },
    {
      "cell_type": "code",
      "execution_count": null,
      "metadata": {
        "id": "9J7H7QnCkUYD"
      },
      "outputs": [],
      "source": []
    },
    {
      "cell_type": "markdown",
      "metadata": {
        "id": "w3KFhDEZkUYD"
      },
      "source": [
        "## Multi-Layer Perceptron"
      ]
    },
    {
      "cell_type": "code",
      "execution_count": null,
      "metadata": {
        "id": "r-56tfHjkUYD"
      },
      "outputs": [],
      "source": [
        "from sklearn.neural_network import MLPClassifier\n",
        "clf = MLPClassifier(random_state=42, max_iter=1000).fit(X_train, y_train)"
      ]
    },
    {
      "cell_type": "markdown",
      "metadata": {
        "id": "9CHY2ZwekUYD"
      },
      "source": [
        "### Avaliação"
      ]
    },
    {
      "cell_type": "code",
      "execution_count": null,
      "metadata": {
        "id": "Sols5QDskUYD"
      },
      "outputs": [],
      "source": []
    },
    {
      "cell_type": "code",
      "execution_count": null,
      "metadata": {
        "id": "INVF2rUhkUYD"
      },
      "outputs": [],
      "source": []
    },
    {
      "cell_type": "markdown",
      "metadata": {
        "id": "GDni4cljkUYD"
      },
      "source": [
        "## Conclusão"
      ]
    },
    {
      "cell_type": "code",
      "execution_count": null,
      "metadata": {
        "id": "1fD33vkVkUYD"
      },
      "outputs": [],
      "source": [
        "conclusao = \"\"\"\n",
        "escreva sua conclusão aqui\n",
        "\"\"\"\n",
        "\n",
        "print(conclusao)"
      ]
    }
  ],
  "metadata": {
    "colab": {
      "provenance": []
    },
    "kernelspec": {
      "display_name": "Python 3",
      "name": "python3"
    },
    "language_info": {
      "codemirror_mode": {
        "name": "ipython",
        "version": 3
      },
      "file_extension": ".py",
      "mimetype": "text/x-python",
      "name": "python",
      "nbconvert_exporter": "python",
      "pygments_lexer": "ipython3",
      "version": "3.11.7"
    }
  },
  "nbformat": 4,
  "nbformat_minor": 0
}
