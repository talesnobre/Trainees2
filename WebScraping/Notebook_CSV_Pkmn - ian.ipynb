{
 "cells": [
  {
   "cell_type": "code",
   "execution_count": 1,
   "metadata": {},
   "outputs": [],
   "source": [
    "import pandas as pd\n",
    "import numpy as np\n",
    "import matplotlib.pyplot as plt\n",
    "import plotly.express as px"
   ]
  },
  {
   "cell_type": "code",
   "execution_count": 5,
   "metadata": {},
   "outputs": [
    {
     "name": "stdout",
     "output_type": "stream",
     "text": [
      "<class 'pandas.core.frame.DataFrame'>\n",
      "RangeIndex: 755 entries, 0 to 754\n",
      "Data columns (total 3 columns):\n",
      " #   Column    Non-Null Count  Dtype \n",
      "---  ------    --------------  ----- \n",
      " 0   product   755 non-null    object\n",
      " 1   price     755 non-null    object\n",
      " 2   img_link  755 non-null    object\n",
      "dtypes: object(3)\n",
      "memory usage: 17.8+ KB\n"
     ]
    },
    {
     "data": {
      "text/html": [
       "<div>\n",
       "<style scoped>\n",
       "    .dataframe tbody tr th:only-of-type {\n",
       "        vertical-align: middle;\n",
       "    }\n",
       "\n",
       "    .dataframe tbody tr th {\n",
       "        vertical-align: top;\n",
       "    }\n",
       "\n",
       "    .dataframe thead th {\n",
       "        text-align: right;\n",
       "    }\n",
       "</style>\n",
       "<table border=\"1\" class=\"dataframe\">\n",
       "  <thead>\n",
       "    <tr style=\"text-align: right;\">\n",
       "      <th></th>\n",
       "      <th>product</th>\n",
       "      <th>price</th>\n",
       "      <th>img_link</th>\n",
       "    </tr>\n",
       "  </thead>\n",
       "  <tbody>\n",
       "    <tr>\n",
       "      <th>0</th>\n",
       "      <td>Bulbasaur</td>\n",
       "      <td>£63.00</td>\n",
       "      <td>https://scrapeme.live/wp-content/uploads/2018/...</td>\n",
       "    </tr>\n",
       "    <tr>\n",
       "      <th>1</th>\n",
       "      <td>Ivysaur</td>\n",
       "      <td>£87.00</td>\n",
       "      <td>https://scrapeme.live/wp-content/uploads/2018/...</td>\n",
       "    </tr>\n",
       "    <tr>\n",
       "      <th>2</th>\n",
       "      <td>Venusaur</td>\n",
       "      <td>£105.00</td>\n",
       "      <td>https://scrapeme.live/wp-content/uploads/2018/...</td>\n",
       "    </tr>\n",
       "    <tr>\n",
       "      <th>3</th>\n",
       "      <td>Charmander</td>\n",
       "      <td>£48.00</td>\n",
       "      <td>https://scrapeme.live/wp-content/uploads/2018/...</td>\n",
       "    </tr>\n",
       "    <tr>\n",
       "      <th>4</th>\n",
       "      <td>Charmeleon</td>\n",
       "      <td>£165.00</td>\n",
       "      <td>https://scrapeme.live/wp-content/uploads/2018/...</td>\n",
       "    </tr>\n",
       "    <tr>\n",
       "      <th>...</th>\n",
       "      <td>...</td>\n",
       "      <td>...</td>\n",
       "      <td>...</td>\n",
       "    </tr>\n",
       "    <tr>\n",
       "      <th>750</th>\n",
       "      <td>Marshadow</td>\n",
       "      <td>£107.00</td>\n",
       "      <td>https://scrapeme.live/wp-content/uploads/2018/...</td>\n",
       "    </tr>\n",
       "    <tr>\n",
       "      <th>751</th>\n",
       "      <td>Poipole</td>\n",
       "      <td>£130.00</td>\n",
       "      <td>https://scrapeme.live/wp-content/uploads/2018/...</td>\n",
       "    </tr>\n",
       "    <tr>\n",
       "      <th>752</th>\n",
       "      <td>Naganadel</td>\n",
       "      <td>£30.00</td>\n",
       "      <td>https://scrapeme.live/wp-content/uploads/2018/...</td>\n",
       "    </tr>\n",
       "    <tr>\n",
       "      <th>753</th>\n",
       "      <td>Stakataka</td>\n",
       "      <td>£190.00</td>\n",
       "      <td>https://scrapeme.live/wp-content/uploads/2018/...</td>\n",
       "    </tr>\n",
       "    <tr>\n",
       "      <th>754</th>\n",
       "      <td>Blacephalon</td>\n",
       "      <td>£149.00</td>\n",
       "      <td>https://scrapeme.live/wp-content/uploads/2018/...</td>\n",
       "    </tr>\n",
       "  </tbody>\n",
       "</table>\n",
       "<p>755 rows × 3 columns</p>\n",
       "</div>"
      ],
      "text/plain": [
       "         product    price                                           img_link\n",
       "0      Bulbasaur   £63.00  https://scrapeme.live/wp-content/uploads/2018/...\n",
       "1        Ivysaur   £87.00  https://scrapeme.live/wp-content/uploads/2018/...\n",
       "2       Venusaur  £105.00  https://scrapeme.live/wp-content/uploads/2018/...\n",
       "3     Charmander   £48.00  https://scrapeme.live/wp-content/uploads/2018/...\n",
       "4     Charmeleon  £165.00  https://scrapeme.live/wp-content/uploads/2018/...\n",
       "..           ...      ...                                                ...\n",
       "750    Marshadow  £107.00  https://scrapeme.live/wp-content/uploads/2018/...\n",
       "751      Poipole  £130.00  https://scrapeme.live/wp-content/uploads/2018/...\n",
       "752    Naganadel   £30.00  https://scrapeme.live/wp-content/uploads/2018/...\n",
       "753    Stakataka  £190.00  https://scrapeme.live/wp-content/uploads/2018/...\n",
       "754  Blacephalon  £149.00  https://scrapeme.live/wp-content/uploads/2018/...\n",
       "\n",
       "[755 rows x 3 columns]"
      ]
     },
     "execution_count": 5,
     "metadata": {},
     "output_type": "execute_result"
    }
   ],
   "source": [
    "df = pd.read_csv('data/scraped_data.csv', encoding='ISO-8859-1')\n",
    "df.info()\n",
    "df"
   ]
  },
  {
   "cell_type": "code",
   "execution_count": 9,
   "metadata": {},
   "outputs": [
    {
     "data": {
      "text/html": [
       "<div>\n",
       "<style scoped>\n",
       "    .dataframe tbody tr th:only-of-type {\n",
       "        vertical-align: middle;\n",
       "    }\n",
       "\n",
       "    .dataframe tbody tr th {\n",
       "        vertical-align: top;\n",
       "    }\n",
       "\n",
       "    .dataframe thead th {\n",
       "        text-align: right;\n",
       "    }\n",
       "</style>\n",
       "<table border=\"1\" class=\"dataframe\">\n",
       "  <thead>\n",
       "    <tr style=\"text-align: right;\">\n",
       "      <th></th>\n",
       "      <th>Pokemon</th>\n",
       "      <th>Price(£)</th>\n",
       "      <th>Image Link</th>\n",
       "    </tr>\n",
       "  </thead>\n",
       "  <tbody>\n",
       "    <tr>\n",
       "      <th>0</th>\n",
       "      <td>Bulbasaur</td>\n",
       "      <td>63.0</td>\n",
       "      <td>https://scrapeme.live/wp-content/uploads/2018/...</td>\n",
       "    </tr>\n",
       "    <tr>\n",
       "      <th>1</th>\n",
       "      <td>Ivysaur</td>\n",
       "      <td>87.0</td>\n",
       "      <td>https://scrapeme.live/wp-content/uploads/2018/...</td>\n",
       "    </tr>\n",
       "    <tr>\n",
       "      <th>2</th>\n",
       "      <td>Venusaur</td>\n",
       "      <td>105.0</td>\n",
       "      <td>https://scrapeme.live/wp-content/uploads/2018/...</td>\n",
       "    </tr>\n",
       "    <tr>\n",
       "      <th>3</th>\n",
       "      <td>Charmander</td>\n",
       "      <td>48.0</td>\n",
       "      <td>https://scrapeme.live/wp-content/uploads/2018/...</td>\n",
       "    </tr>\n",
       "    <tr>\n",
       "      <th>4</th>\n",
       "      <td>Charmeleon</td>\n",
       "      <td>165.0</td>\n",
       "      <td>https://scrapeme.live/wp-content/uploads/2018/...</td>\n",
       "    </tr>\n",
       "    <tr>\n",
       "      <th>...</th>\n",
       "      <td>...</td>\n",
       "      <td>...</td>\n",
       "      <td>...</td>\n",
       "    </tr>\n",
       "    <tr>\n",
       "      <th>750</th>\n",
       "      <td>Marshadow</td>\n",
       "      <td>107.0</td>\n",
       "      <td>https://scrapeme.live/wp-content/uploads/2018/...</td>\n",
       "    </tr>\n",
       "    <tr>\n",
       "      <th>751</th>\n",
       "      <td>Poipole</td>\n",
       "      <td>130.0</td>\n",
       "      <td>https://scrapeme.live/wp-content/uploads/2018/...</td>\n",
       "    </tr>\n",
       "    <tr>\n",
       "      <th>752</th>\n",
       "      <td>Naganadel</td>\n",
       "      <td>30.0</td>\n",
       "      <td>https://scrapeme.live/wp-content/uploads/2018/...</td>\n",
       "    </tr>\n",
       "    <tr>\n",
       "      <th>753</th>\n",
       "      <td>Stakataka</td>\n",
       "      <td>190.0</td>\n",
       "      <td>https://scrapeme.live/wp-content/uploads/2018/...</td>\n",
       "    </tr>\n",
       "    <tr>\n",
       "      <th>754</th>\n",
       "      <td>Blacephalon</td>\n",
       "      <td>149.0</td>\n",
       "      <td>https://scrapeme.live/wp-content/uploads/2018/...</td>\n",
       "    </tr>\n",
       "  </tbody>\n",
       "</table>\n",
       "<p>755 rows × 3 columns</p>\n",
       "</div>"
      ],
      "text/plain": [
       "         Pokemon  Price(£)                                         Image Link\n",
       "0      Bulbasaur      63.0  https://scrapeme.live/wp-content/uploads/2018/...\n",
       "1        Ivysaur      87.0  https://scrapeme.live/wp-content/uploads/2018/...\n",
       "2       Venusaur     105.0  https://scrapeme.live/wp-content/uploads/2018/...\n",
       "3     Charmander      48.0  https://scrapeme.live/wp-content/uploads/2018/...\n",
       "4     Charmeleon     165.0  https://scrapeme.live/wp-content/uploads/2018/...\n",
       "..           ...       ...                                                ...\n",
       "750    Marshadow     107.0  https://scrapeme.live/wp-content/uploads/2018/...\n",
       "751      Poipole     130.0  https://scrapeme.live/wp-content/uploads/2018/...\n",
       "752    Naganadel      30.0  https://scrapeme.live/wp-content/uploads/2018/...\n",
       "753    Stakataka     190.0  https://scrapeme.live/wp-content/uploads/2018/...\n",
       "754  Blacephalon     149.0  https://scrapeme.live/wp-content/uploads/2018/...\n",
       "\n",
       "[755 rows x 3 columns]"
      ]
     },
     "execution_count": 9,
     "metadata": {},
     "output_type": "execute_result"
    }
   ],
   "source": [
    "#Removendo o 'símbolo de £ e convertendo a coluna para float.\n",
    "#Também, renomeando as colunas.\n",
    "\n",
    "df['price'] = df['price'].str.replace('£', '')\n",
    "novas_colunas = {'price': 'Price(£)', 'product': 'Pokemon', 'img_link': 'Image Link'}\n",
    "df.rename(columns=novas_colunas, inplace=True)\n",
    "\n",
    "df['Price(£)'] = df['Price(£)'].astype(float)\n",
    "df"
   ]
  },
  {
   "cell_type": "code",
   "execution_count": 16,
   "metadata": {},
   "outputs": [
    {
     "data": {
      "application/vnd.plotly.v1+json": {
       "config": {
        "plotlyServerURL": "https://plot.ly"
       },
       "data": [
        {
         "alignmentgroup": "True",
         "boxpoints": "all",
         "hovertemplate": "Price(£)=%{y}<extra></extra>",
         "legendgroup": "",
         "marker": {
          "color": "#636efa"
         },
         "name": "",
         "notched": false,
         "offsetgroup": "",
         "orientation": "v",
         "showlegend": false,
         "type": "box",
         "x0": " ",
         "xaxis": "x",
         "y": [
          25,
          25,
          25,
          25,
          25,
          26,
          26,
          26,
          26,
          26,
          26,
          26,
          27,
          27,
          27,
          27,
          27,
          27,
          27,
          27,
          27,
          27,
          28,
          28,
          28,
          28,
          28,
          28,
          28,
          29,
          30,
          30,
          30,
          30,
          31,
          31,
          31,
          31,
          31,
          31,
          31,
          32,
          32,
          32,
          32,
          33,
          33,
          33,
          34,
          34,
          34,
          34,
          34,
          34,
          35,
          36,
          36,
          36,
          36,
          36,
          36,
          36,
          37,
          37,
          37,
          37,
          37,
          37,
          37,
          38,
          38,
          38,
          38,
          38,
          38,
          39,
          39,
          39,
          40,
          40,
          40,
          40,
          40,
          40,
          40,
          41,
          41,
          41,
          41,
          42,
          42,
          42,
          42,
          42,
          42,
          42,
          43,
          43,
          43,
          43,
          43,
          44,
          44,
          44,
          45,
          45,
          45,
          46,
          47,
          47,
          47,
          47,
          48,
          48,
          48,
          48,
          48,
          48,
          48,
          49,
          50,
          51,
          51,
          51,
          51,
          52,
          52,
          52,
          53,
          53,
          53,
          53,
          53,
          54,
          55,
          55,
          56,
          56,
          56,
          57,
          57,
          57,
          57,
          57,
          57,
          58,
          58,
          58,
          58,
          59,
          59,
          59,
          59,
          59,
          59,
          59,
          59,
          59,
          60,
          60,
          60,
          60,
          61,
          61,
          61,
          61,
          61,
          62,
          62,
          62,
          62,
          62,
          62,
          62,
          63,
          63,
          63,
          63,
          63,
          63,
          64,
          64,
          64,
          64,
          65,
          65,
          65,
          66,
          66,
          66,
          66,
          67,
          67,
          67,
          67,
          68,
          68,
          68,
          68,
          68,
          68,
          68,
          68,
          69,
          69,
          69,
          69,
          69,
          70,
          70,
          70,
          70,
          70,
          70,
          71,
          71,
          72,
          72,
          72,
          72,
          72,
          73,
          73,
          73,
          73,
          74,
          74,
          74,
          75,
          75,
          75,
          75,
          75,
          76,
          76,
          76,
          76,
          76,
          76,
          77,
          77,
          77,
          77,
          77,
          77,
          77,
          78,
          78,
          78,
          78,
          79,
          79,
          79,
          79,
          79,
          79,
          79,
          80,
          81,
          81,
          81,
          81,
          81,
          82,
          82,
          82,
          83,
          83,
          83,
          83,
          84,
          84,
          84,
          84,
          84,
          85,
          85,
          85,
          85,
          85,
          86,
          86,
          86,
          86,
          87,
          87,
          87,
          87,
          87,
          87,
          88,
          88,
          88,
          89,
          89,
          89,
          89,
          90,
          90,
          90,
          90,
          91,
          91,
          91,
          91,
          91,
          93,
          93,
          93,
          94,
          94,
          94,
          94,
          95,
          95,
          96,
          96,
          96,
          97,
          97,
          97,
          97,
          98,
          98,
          98,
          98,
          98,
          99,
          99,
          100,
          100,
          100,
          100,
          101,
          101,
          101,
          101,
          102,
          102,
          102,
          103,
          104,
          104,
          104,
          104,
          104,
          104,
          104,
          104,
          105,
          105,
          105,
          106,
          106,
          106,
          106,
          106,
          106,
          107,
          107,
          107,
          107,
          107,
          107,
          107,
          107,
          107,
          108,
          108,
          108,
          109,
          109,
          109,
          110,
          110,
          110,
          111,
          111,
          111,
          111,
          111,
          111,
          112,
          112,
          112,
          112,
          112,
          113,
          114,
          114,
          114,
          114,
          116,
          116,
          116,
          117,
          117,
          117,
          118,
          118,
          118,
          119,
          119,
          119,
          119,
          121,
          121,
          121,
          121,
          121,
          121,
          122,
          122,
          122,
          123,
          123,
          123,
          123,
          123,
          123,
          123,
          123,
          123,
          124,
          124,
          124,
          124,
          125,
          125,
          125,
          125,
          125,
          126,
          126,
          126,
          126,
          127,
          127,
          127,
          128,
          128,
          128,
          128,
          129,
          129,
          129,
          129,
          129,
          129,
          129,
          129,
          129,
          130,
          130,
          130,
          130,
          130,
          130,
          130,
          130,
          131,
          131,
          131,
          132,
          132,
          132,
          133,
          133,
          133,
          133,
          134,
          134,
          134,
          135,
          135,
          135,
          135,
          136,
          136,
          136,
          136,
          136,
          137,
          137,
          137,
          137,
          138,
          138,
          138,
          138,
          139,
          139,
          140,
          140,
          140,
          140,
          140,
          141,
          141,
          141,
          141,
          142,
          142,
          142,
          143,
          143,
          143,
          144,
          144,
          144,
          145,
          145,
          145,
          145,
          145,
          145,
          147,
          147,
          147,
          147,
          148,
          148,
          148,
          149,
          149,
          149,
          149,
          149,
          149,
          149,
          149,
          149,
          149,
          149,
          150,
          150,
          150,
          151,
          151,
          151,
          151,
          151,
          151,
          151,
          152,
          152,
          152,
          153,
          153,
          154,
          154,
          154,
          154,
          154,
          154,
          154,
          154,
          155,
          155,
          155,
          155,
          155,
          156,
          156,
          156,
          157,
          157,
          157,
          158,
          158,
          158,
          158,
          158,
          158,
          158,
          158,
          158,
          159,
          159,
          159,
          159,
          159,
          160,
          160,
          160,
          161,
          161,
          161,
          161,
          161,
          162,
          162,
          162,
          163,
          163,
          163,
          163,
          164,
          164,
          164,
          164,
          164,
          165,
          165,
          165,
          165,
          165,
          165,
          165,
          166,
          166,
          166,
          166,
          166,
          166,
          167,
          167,
          167,
          168,
          168,
          168,
          168,
          168,
          169,
          169,
          170,
          170,
          170,
          170,
          170,
          170,
          170,
          170,
          170,
          171,
          171,
          171,
          172,
          172,
          172,
          172,
          172,
          172,
          172,
          173,
          173,
          173,
          174,
          174,
          174,
          174,
          174,
          175,
          175,
          175,
          176,
          176,
          176,
          177,
          177,
          177,
          177,
          177,
          177,
          178,
          178,
          178,
          178,
          178,
          178,
          178,
          178,
          179,
          179,
          179,
          179,
          179,
          179,
          179,
          180,
          181,
          181,
          182,
          182,
          182,
          182,
          182,
          182,
          182,
          183,
          184,
          185,
          185,
          185,
          185,
          185,
          186,
          186,
          186,
          187,
          187,
          188,
          189,
          189,
          189,
          189,
          189,
          189,
          189,
          189,
          190,
          190,
          190,
          190,
          190,
          190,
          190,
          191,
          191,
          191,
          192,
          193,
          193,
          193,
          193,
          193,
          194,
          194,
          194,
          194,
          194,
          194,
          194,
          195,
          195,
          195,
          196,
          196,
          196,
          197,
          197,
          197,
          197,
          198,
          198,
          198,
          199,
          199,
          199,
          199,
          199,
          200,
          200,
          200,
          200
         ],
         "y0": " ",
         "yaxis": "y"
        }
       ],
       "layout": {
        "boxmode": "group",
        "legend": {
         "tracegroupgap": 0
        },
        "margin": {
         "t": 60
        },
        "template": {
         "data": {
          "bar": [
           {
            "error_x": {
             "color": "#2a3f5f"
            },
            "error_y": {
             "color": "#2a3f5f"
            },
            "marker": {
             "line": {
              "color": "#E5ECF6",
              "width": 0.5
             },
             "pattern": {
              "fillmode": "overlay",
              "size": 10,
              "solidity": 0.2
             }
            },
            "type": "bar"
           }
          ],
          "barpolar": [
           {
            "marker": {
             "line": {
              "color": "#E5ECF6",
              "width": 0.5
             },
             "pattern": {
              "fillmode": "overlay",
              "size": 10,
              "solidity": 0.2
             }
            },
            "type": "barpolar"
           }
          ],
          "carpet": [
           {
            "aaxis": {
             "endlinecolor": "#2a3f5f",
             "gridcolor": "white",
             "linecolor": "white",
             "minorgridcolor": "white",
             "startlinecolor": "#2a3f5f"
            },
            "baxis": {
             "endlinecolor": "#2a3f5f",
             "gridcolor": "white",
             "linecolor": "white",
             "minorgridcolor": "white",
             "startlinecolor": "#2a3f5f"
            },
            "type": "carpet"
           }
          ],
          "choropleth": [
           {
            "colorbar": {
             "outlinewidth": 0,
             "ticks": ""
            },
            "type": "choropleth"
           }
          ],
          "contour": [
           {
            "colorbar": {
             "outlinewidth": 0,
             "ticks": ""
            },
            "colorscale": [
             [
              0,
              "#0d0887"
             ],
             [
              0.1111111111111111,
              "#46039f"
             ],
             [
              0.2222222222222222,
              "#7201a8"
             ],
             [
              0.3333333333333333,
              "#9c179e"
             ],
             [
              0.4444444444444444,
              "#bd3786"
             ],
             [
              0.5555555555555556,
              "#d8576b"
             ],
             [
              0.6666666666666666,
              "#ed7953"
             ],
             [
              0.7777777777777778,
              "#fb9f3a"
             ],
             [
              0.8888888888888888,
              "#fdca26"
             ],
             [
              1,
              "#f0f921"
             ]
            ],
            "type": "contour"
           }
          ],
          "contourcarpet": [
           {
            "colorbar": {
             "outlinewidth": 0,
             "ticks": ""
            },
            "type": "contourcarpet"
           }
          ],
          "heatmap": [
           {
            "colorbar": {
             "outlinewidth": 0,
             "ticks": ""
            },
            "colorscale": [
             [
              0,
              "#0d0887"
             ],
             [
              0.1111111111111111,
              "#46039f"
             ],
             [
              0.2222222222222222,
              "#7201a8"
             ],
             [
              0.3333333333333333,
              "#9c179e"
             ],
             [
              0.4444444444444444,
              "#bd3786"
             ],
             [
              0.5555555555555556,
              "#d8576b"
             ],
             [
              0.6666666666666666,
              "#ed7953"
             ],
             [
              0.7777777777777778,
              "#fb9f3a"
             ],
             [
              0.8888888888888888,
              "#fdca26"
             ],
             [
              1,
              "#f0f921"
             ]
            ],
            "type": "heatmap"
           }
          ],
          "heatmapgl": [
           {
            "colorbar": {
             "outlinewidth": 0,
             "ticks": ""
            },
            "colorscale": [
             [
              0,
              "#0d0887"
             ],
             [
              0.1111111111111111,
              "#46039f"
             ],
             [
              0.2222222222222222,
              "#7201a8"
             ],
             [
              0.3333333333333333,
              "#9c179e"
             ],
             [
              0.4444444444444444,
              "#bd3786"
             ],
             [
              0.5555555555555556,
              "#d8576b"
             ],
             [
              0.6666666666666666,
              "#ed7953"
             ],
             [
              0.7777777777777778,
              "#fb9f3a"
             ],
             [
              0.8888888888888888,
              "#fdca26"
             ],
             [
              1,
              "#f0f921"
             ]
            ],
            "type": "heatmapgl"
           }
          ],
          "histogram": [
           {
            "marker": {
             "pattern": {
              "fillmode": "overlay",
              "size": 10,
              "solidity": 0.2
             }
            },
            "type": "histogram"
           }
          ],
          "histogram2d": [
           {
            "colorbar": {
             "outlinewidth": 0,
             "ticks": ""
            },
            "colorscale": [
             [
              0,
              "#0d0887"
             ],
             [
              0.1111111111111111,
              "#46039f"
             ],
             [
              0.2222222222222222,
              "#7201a8"
             ],
             [
              0.3333333333333333,
              "#9c179e"
             ],
             [
              0.4444444444444444,
              "#bd3786"
             ],
             [
              0.5555555555555556,
              "#d8576b"
             ],
             [
              0.6666666666666666,
              "#ed7953"
             ],
             [
              0.7777777777777778,
              "#fb9f3a"
             ],
             [
              0.8888888888888888,
              "#fdca26"
             ],
             [
              1,
              "#f0f921"
             ]
            ],
            "type": "histogram2d"
           }
          ],
          "histogram2dcontour": [
           {
            "colorbar": {
             "outlinewidth": 0,
             "ticks": ""
            },
            "colorscale": [
             [
              0,
              "#0d0887"
             ],
             [
              0.1111111111111111,
              "#46039f"
             ],
             [
              0.2222222222222222,
              "#7201a8"
             ],
             [
              0.3333333333333333,
              "#9c179e"
             ],
             [
              0.4444444444444444,
              "#bd3786"
             ],
             [
              0.5555555555555556,
              "#d8576b"
             ],
             [
              0.6666666666666666,
              "#ed7953"
             ],
             [
              0.7777777777777778,
              "#fb9f3a"
             ],
             [
              0.8888888888888888,
              "#fdca26"
             ],
             [
              1,
              "#f0f921"
             ]
            ],
            "type": "histogram2dcontour"
           }
          ],
          "mesh3d": [
           {
            "colorbar": {
             "outlinewidth": 0,
             "ticks": ""
            },
            "type": "mesh3d"
           }
          ],
          "parcoords": [
           {
            "line": {
             "colorbar": {
              "outlinewidth": 0,
              "ticks": ""
             }
            },
            "type": "parcoords"
           }
          ],
          "pie": [
           {
            "automargin": true,
            "type": "pie"
           }
          ],
          "scatter": [
           {
            "fillpattern": {
             "fillmode": "overlay",
             "size": 10,
             "solidity": 0.2
            },
            "type": "scatter"
           }
          ],
          "scatter3d": [
           {
            "line": {
             "colorbar": {
              "outlinewidth": 0,
              "ticks": ""
             }
            },
            "marker": {
             "colorbar": {
              "outlinewidth": 0,
              "ticks": ""
             }
            },
            "type": "scatter3d"
           }
          ],
          "scattercarpet": [
           {
            "marker": {
             "colorbar": {
              "outlinewidth": 0,
              "ticks": ""
             }
            },
            "type": "scattercarpet"
           }
          ],
          "scattergeo": [
           {
            "marker": {
             "colorbar": {
              "outlinewidth": 0,
              "ticks": ""
             }
            },
            "type": "scattergeo"
           }
          ],
          "scattergl": [
           {
            "marker": {
             "colorbar": {
              "outlinewidth": 0,
              "ticks": ""
             }
            },
            "type": "scattergl"
           }
          ],
          "scattermapbox": [
           {
            "marker": {
             "colorbar": {
              "outlinewidth": 0,
              "ticks": ""
             }
            },
            "type": "scattermapbox"
           }
          ],
          "scatterpolar": [
           {
            "marker": {
             "colorbar": {
              "outlinewidth": 0,
              "ticks": ""
             }
            },
            "type": "scatterpolar"
           }
          ],
          "scatterpolargl": [
           {
            "marker": {
             "colorbar": {
              "outlinewidth": 0,
              "ticks": ""
             }
            },
            "type": "scatterpolargl"
           }
          ],
          "scatterternary": [
           {
            "marker": {
             "colorbar": {
              "outlinewidth": 0,
              "ticks": ""
             }
            },
            "type": "scatterternary"
           }
          ],
          "surface": [
           {
            "colorbar": {
             "outlinewidth": 0,
             "ticks": ""
            },
            "colorscale": [
             [
              0,
              "#0d0887"
             ],
             [
              0.1111111111111111,
              "#46039f"
             ],
             [
              0.2222222222222222,
              "#7201a8"
             ],
             [
              0.3333333333333333,
              "#9c179e"
             ],
             [
              0.4444444444444444,
              "#bd3786"
             ],
             [
              0.5555555555555556,
              "#d8576b"
             ],
             [
              0.6666666666666666,
              "#ed7953"
             ],
             [
              0.7777777777777778,
              "#fb9f3a"
             ],
             [
              0.8888888888888888,
              "#fdca26"
             ],
             [
              1,
              "#f0f921"
             ]
            ],
            "type": "surface"
           }
          ],
          "table": [
           {
            "cells": {
             "fill": {
              "color": "#EBF0F8"
             },
             "line": {
              "color": "white"
             }
            },
            "header": {
             "fill": {
              "color": "#C8D4E3"
             },
             "line": {
              "color": "white"
             }
            },
            "type": "table"
           }
          ]
         },
         "layout": {
          "annotationdefaults": {
           "arrowcolor": "#2a3f5f",
           "arrowhead": 0,
           "arrowwidth": 1
          },
          "autotypenumbers": "strict",
          "coloraxis": {
           "colorbar": {
            "outlinewidth": 0,
            "ticks": ""
           }
          },
          "colorscale": {
           "diverging": [
            [
             0,
             "#8e0152"
            ],
            [
             0.1,
             "#c51b7d"
            ],
            [
             0.2,
             "#de77ae"
            ],
            [
             0.3,
             "#f1b6da"
            ],
            [
             0.4,
             "#fde0ef"
            ],
            [
             0.5,
             "#f7f7f7"
            ],
            [
             0.6,
             "#e6f5d0"
            ],
            [
             0.7,
             "#b8e186"
            ],
            [
             0.8,
             "#7fbc41"
            ],
            [
             0.9,
             "#4d9221"
            ],
            [
             1,
             "#276419"
            ]
           ],
           "sequential": [
            [
             0,
             "#0d0887"
            ],
            [
             0.1111111111111111,
             "#46039f"
            ],
            [
             0.2222222222222222,
             "#7201a8"
            ],
            [
             0.3333333333333333,
             "#9c179e"
            ],
            [
             0.4444444444444444,
             "#bd3786"
            ],
            [
             0.5555555555555556,
             "#d8576b"
            ],
            [
             0.6666666666666666,
             "#ed7953"
            ],
            [
             0.7777777777777778,
             "#fb9f3a"
            ],
            [
             0.8888888888888888,
             "#fdca26"
            ],
            [
             1,
             "#f0f921"
            ]
           ],
           "sequentialminus": [
            [
             0,
             "#0d0887"
            ],
            [
             0.1111111111111111,
             "#46039f"
            ],
            [
             0.2222222222222222,
             "#7201a8"
            ],
            [
             0.3333333333333333,
             "#9c179e"
            ],
            [
             0.4444444444444444,
             "#bd3786"
            ],
            [
             0.5555555555555556,
             "#d8576b"
            ],
            [
             0.6666666666666666,
             "#ed7953"
            ],
            [
             0.7777777777777778,
             "#fb9f3a"
            ],
            [
             0.8888888888888888,
             "#fdca26"
            ],
            [
             1,
             "#f0f921"
            ]
           ]
          },
          "colorway": [
           "#636efa",
           "#EF553B",
           "#00cc96",
           "#ab63fa",
           "#FFA15A",
           "#19d3f3",
           "#FF6692",
           "#B6E880",
           "#FF97FF",
           "#FECB52"
          ],
          "font": {
           "color": "#2a3f5f"
          },
          "geo": {
           "bgcolor": "white",
           "lakecolor": "white",
           "landcolor": "#E5ECF6",
           "showlakes": true,
           "showland": true,
           "subunitcolor": "white"
          },
          "hoverlabel": {
           "align": "left"
          },
          "hovermode": "closest",
          "mapbox": {
           "style": "light"
          },
          "paper_bgcolor": "white",
          "plot_bgcolor": "#E5ECF6",
          "polar": {
           "angularaxis": {
            "gridcolor": "white",
            "linecolor": "white",
            "ticks": ""
           },
           "bgcolor": "#E5ECF6",
           "radialaxis": {
            "gridcolor": "white",
            "linecolor": "white",
            "ticks": ""
           }
          },
          "scene": {
           "xaxis": {
            "backgroundcolor": "#E5ECF6",
            "gridcolor": "white",
            "gridwidth": 2,
            "linecolor": "white",
            "showbackground": true,
            "ticks": "",
            "zerolinecolor": "white"
           },
           "yaxis": {
            "backgroundcolor": "#E5ECF6",
            "gridcolor": "white",
            "gridwidth": 2,
            "linecolor": "white",
            "showbackground": true,
            "ticks": "",
            "zerolinecolor": "white"
           },
           "zaxis": {
            "backgroundcolor": "#E5ECF6",
            "gridcolor": "white",
            "gridwidth": 2,
            "linecolor": "white",
            "showbackground": true,
            "ticks": "",
            "zerolinecolor": "white"
           }
          },
          "shapedefaults": {
           "line": {
            "color": "#2a3f5f"
           }
          },
          "ternary": {
           "aaxis": {
            "gridcolor": "white",
            "linecolor": "white",
            "ticks": ""
           },
           "baxis": {
            "gridcolor": "white",
            "linecolor": "white",
            "ticks": ""
           },
           "bgcolor": "#E5ECF6",
           "caxis": {
            "gridcolor": "white",
            "linecolor": "white",
            "ticks": ""
           }
          },
          "title": {
           "x": 0.05
          },
          "xaxis": {
           "automargin": true,
           "gridcolor": "white",
           "linecolor": "white",
           "ticks": "",
           "title": {
            "standoff": 15
           },
           "zerolinecolor": "white",
           "zerolinewidth": 2
          },
          "yaxis": {
           "automargin": true,
           "gridcolor": "white",
           "linecolor": "white",
           "ticks": "",
           "title": {
            "standoff": 15
           },
           "zerolinecolor": "white",
           "zerolinewidth": 2
          }
         }
        },
        "xaxis": {
         "anchor": "y",
         "domain": [
          0,
          1
         ]
        },
        "yaxis": {
         "anchor": "x",
         "domain": [
          0,
          1
         ],
         "title": {
          "text": "Price(£)"
         }
        }
       }
      }
     },
     "metadata": {},
     "output_type": "display_data"
    }
   ],
   "source": [
    "#Verificando a existência de valores outliers\n",
    "fig = px.box(df['Price(£)'].sort_values(), y='Price(£)', points='all')\n",
    "fig.show()"
   ]
  },
  {
   "cell_type": "code",
   "execution_count": 20,
   "metadata": {},
   "outputs": [
    {
     "name": "stdout",
     "output_type": "stream",
     "text": [
      "A média dos valores dos Pokémons é: 110.95\n"
     ]
    }
   ],
   "source": [
    "media = df['Price(£)'].mean()\n",
    "print(f'A média dos valores dos Pokémons é: {media.round(2)}')"
   ]
  },
  {
   "cell_type": "code",
   "execution_count": 25,
   "metadata": {},
   "outputs": [
    {
     "name": "stdout",
     "output_type": "stream",
     "text": [
      "       Pokemon  Price(£)                                         Image Link\n",
      "50     Persian     200.0  https://scrapeme.live/wp-content/uploads/2018/...\n",
      "322    Vibrava     200.0  https://scrapeme.live/wp-content/uploads/2018/...\n",
      "452  Magmortar     200.0  https://scrapeme.live/wp-content/uploads/2018/...\n",
      "464       Uxie     200.0  https://scrapeme.live/wp-content/uploads/2018/...\n",
      "88    Cloyster     199.0  https://scrapeme.live/wp-content/uploads/2018/...\n",
      "164   Spinarak     199.0  https://scrapeme.live/wp-content/uploads/2018/...\n",
      "220   Skarmory     199.0  https://scrapeme.live/wp-content/uploads/2018/...\n",
      "502  Tranquill     199.0  https://scrapeme.live/wp-content/uploads/2018/...\n",
      "608   Zweilous     199.0  https://scrapeme.live/wp-content/uploads/2018/...\n",
      "94       Hypno     198.0  https://scrapeme.live/wp-content/uploads/2018/...\n",
      "        Pokemon  Price(£)                                         Image Link\n",
      "67   Weepinbell      26.0  https://scrapeme.live/wp-content/uploads/2018/...\n",
      "234     Miltank      26.0  https://scrapeme.live/wp-content/uploads/2018/...\n",
      "239    Larvitar      26.0  https://scrapeme.live/wp-content/uploads/2018/...\n",
      "266      Seedot      26.0  https://scrapeme.live/wp-content/uploads/2018/...\n",
      "267     Nuzleaf      26.0  https://scrapeme.live/wp-content/uploads/2018/...\n",
      "12       Weedle      25.0  https://scrapeme.live/wp-content/uploads/2018/...\n",
      "179   Bellossom      25.0  https://scrapeme.live/wp-content/uploads/2018/...\n",
      "281    Vigoroth      25.0  https://scrapeme.live/wp-content/uploads/2018/...\n",
      "311    Carvanha      25.0  https://scrapeme.live/wp-content/uploads/2018/...\n",
      "465     Mesprit      25.0  https://scrapeme.live/wp-content/uploads/2018/...\n"
     ]
    }
   ],
   "source": [
    "#Localizando os pokemons mais caros\n",
    "caros = df.nlargest(10, 'Price(£)')\n",
    "baratos = df.nsmallest(10, 'Price(£)').sort_values('Price(£)', ascending=False)\n",
    "print(caros)\n",
    "print(baratos)\n"
   ]
  },
  {
   "cell_type": "code",
   "execution_count": null,
   "metadata": {},
   "outputs": [],
   "source": [
    "#Ainda vou terminar mais algumas coisas mas tive que sair agora. Vou dar push pra vocês poderem ver"
   ]
  }
 ],
 "metadata": {
  "kernelspec": {
   "display_name": "base",
   "language": "python",
   "name": "python3"
  },
  "language_info": {
   "codemirror_mode": {
    "name": "ipython",
    "version": 3
   },
   "file_extension": ".py",
   "mimetype": "text/x-python",
   "name": "python",
   "nbconvert_exporter": "python",
   "pygments_lexer": "ipython3",
   "version": "3.11.7"
  }
 },
 "nbformat": 4,
 "nbformat_minor": 2
}
